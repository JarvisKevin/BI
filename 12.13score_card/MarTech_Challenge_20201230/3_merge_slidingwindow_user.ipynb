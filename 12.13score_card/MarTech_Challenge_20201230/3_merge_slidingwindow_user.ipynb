{
 "cells": [
  {
   "cell_type": "code",
   "execution_count": 1,
   "metadata": {},
   "outputs": [],
   "source": [
    "import pickle"
   ]
  },
  {
   "cell_type": "code",
   "execution_count": 2,
   "metadata": {},
   "outputs": [],
   "source": [
    "# 查看fea.pkl 和。。。\n",
    "with open('../data/product_fea.pkl', 'rb') as f:\n",
    "    product = pickle.load(f)\n",
    "with open('../data/user_fea.pkl', 'rb') as f:\n",
    "    user = pickle.load(f)"
   ]
  },
  {
   "cell_type": "code",
   "execution_count": 3,
   "metadata": {},
   "outputs": [
    {
     "data": {
      "text/plain": [
       "Index(['product_id', 'product_count', 'product_order_nunqiue',\n",
       "       'product_user_nunqiue', 'product_add_to_cart_order_mean',\n",
       "       'product_add_to_cart_order_std', 'product_dow_mode',\n",
       "       'product_dow_mode_1', 'product_hour_of_day_mode',\n",
       "       'product_hour_of_day_mode_1', 'product_days_since_prior_order_mode',\n",
       "       'product_days_since_prior_order_mode_1', 'product_dow_hour_mode',\n",
       "       'product_dow_hour_mode_1', 'product_days_since_prior_order_mean',\n",
       "       'product_days_since_prior_order_std', 'product_reordered_mean',\n",
       "       'product_reordered_std', 'product_reordered_sum'],\n",
       "      dtype='object')"
      ]
     },
     "execution_count": 3,
     "metadata": {},
     "output_type": "execute_result"
    }
   ],
   "source": [
    "product.columns"
   ]
  },
  {
   "cell_type": "code",
   "execution_count": 4,
   "metadata": {},
   "outputs": [
    {
     "data": {
      "text/plain": [
       "Index(['customer_id', 'user_orderid_count', 'user_days_since_prior_order_mean',\n",
       "       'user_days_since_prior_order_max', 'user_days_since_prior_order_std',\n",
       "       'user_order_dow_mode', 'user_order_hour_of_day_mode',\n",
       "       'user_dow_hour_mode', 'user_product_nunique', 'user_product_mode',\n",
       "       'user_product_mode_1', 'user_product_mode_2', 'user_product_count',\n",
       "       'user_product_orderid_ratio', 'user_add_to_cart_order_max',\n",
       "       'user_add_to_cart_order_mean', 'user_add_to_cart_order_quantile_25',\n",
       "       'user_add_to_cart_order_quantile_75', 'user_reordered_sum',\n",
       "       'user_reordered_mean'],\n",
       "      dtype='object')"
      ]
     },
     "execution_count": 4,
     "metadata": {},
     "output_type": "execute_result"
    }
   ],
   "source": [
    "user.columns"
   ]
  },
  {
   "cell_type": "code",
   "execution_count": 5,
   "metadata": {},
   "outputs": [],
   "source": [
    "PATH = '../data/'\n",
    "with open(PATH + 'sliding_windows/X_train.pkl', 'rb') as f:\n",
    "    x_train = pickle.load(f)\n",
    "with open(PATH + 'sliding_windows/X_val.pkl', 'rb') as f:\n",
    "    x_val = pickle.load(f)\n",
    "with open(PATH + 'sliding_windows/X_test.pkl', 'rb') as f:\n",
    "    x_test = pickle.load(f)"
   ]
  },
  {
   "cell_type": "code",
   "execution_count": 6,
   "metadata": {},
   "outputs": [],
   "source": [
    "import numpy as np\n",
    "y_val = np.load('./work/y_val.npy')\n",
    "y_train = np.load('./work/y_train.npy')"
   ]
  },
  {
   "cell_type": "code",
   "execution_count": 7,
   "metadata": {},
   "outputs": [
    {
     "data": {
      "text/plain": [
       "((2475774, 187), (404693, 187))"
      ]
     },
     "execution_count": 7,
     "metadata": {},
     "output_type": "execute_result"
    }
   ],
   "source": [
    "x_train.shape, x_val.shape"
   ]
  },
  {
   "cell_type": "code",
   "execution_count": 8,
   "metadata": {},
   "outputs": [
    {
     "data": {
      "text/plain": [
       "((2475774,), (404693,))"
      ]
     },
     "execution_count": 8,
     "metadata": {},
     "output_type": "execute_result"
    }
   ],
   "source": [
    "y_train.shape, y_val.shape"
   ]
  },
  {
   "cell_type": "code",
   "execution_count": 9,
   "metadata": {},
   "outputs": [],
   "source": [
    "x_train['label'] = y_train\n",
    "x_val['label'] = y_val"
   ]
  },
  {
   "cell_type": "code",
   "execution_count": 10,
   "metadata": {},
   "outputs": [],
   "source": [
    "# 融合用户统计特征\n",
    "x_train_user = x_train.merge(user, on='customer_id')\n",
    "x_val_user = x_val.merge(user, on='customer_id')\n",
    "x_test_user = x_test.merge(user, on='customer_id')\n",
    "\n",
    "y_train_user = x_train_user.label\n",
    "y_val_user = x_val_user.label"
   ]
  },
  {
   "cell_type": "code",
   "execution_count": 12,
   "metadata": {},
   "outputs": [
    {
     "data": {
      "text/plain": [
       "((1640731, 207), (404693, 207))"
      ]
     },
     "execution_count": 12,
     "metadata": {},
     "output_type": "execute_result"
    }
   ],
   "source": [
    "x_train_user.shape, x_val_user.shape"
   ]
  },
  {
   "cell_type": "code",
   "execution_count": 14,
   "metadata": {},
   "outputs": [
    {
     "data": {
      "text/plain": [
       "((1640731,), (404693,))"
      ]
     },
     "execution_count": 14,
     "metadata": {},
     "output_type": "execute_result"
    }
   ],
   "source": [
    "y_train_user.shape, y_val_user.shape"
   ]
  },
  {
   "cell_type": "markdown",
   "metadata": {},
   "source": [
    "##### 保存"
   ]
  },
  {
   "cell_type": "code",
   "execution_count": 15,
   "metadata": {},
   "outputs": [],
   "source": [
    "np.save(\"work/y_train_user.npy\", y_train_user)\n",
    "np.save(\"work/y_val_user.npy\", y_val_user)"
   ]
  },
  {
   "cell_type": "code",
   "execution_count": 17,
   "metadata": {},
   "outputs": [],
   "source": [
    "y_train_user.drop(columns='label', inplace=True)\n",
    "y_val_user.drop(columns='label', inplace=True)\n",
    "\n",
    "x_train_user.to_pickle(PATH + 'sliding_windows/x_train_user.pkl')\n",
    "x_val_user.to_pickle(PATH + 'sliding_windows/x_val_user.pkl')\n",
    "x_test_user.to_pickle(PATH + 'sliding_windows/x_test_user.pkl')"
   ]
  }
 ],
 "metadata": {
  "kernelspec": {
   "display_name": "Python 3",
   "language": "python",
   "name": "python3"
  },
  "language_info": {
   "codemirror_mode": {
    "name": "ipython",
    "version": 3
   },
   "file_extension": ".py",
   "mimetype": "text/x-python",
   "name": "python",
   "nbconvert_exporter": "python",
   "pygments_lexer": "ipython3",
   "version": "3.6.8rc1"
  }
 },
 "nbformat": 4,
 "nbformat_minor": 4
}
