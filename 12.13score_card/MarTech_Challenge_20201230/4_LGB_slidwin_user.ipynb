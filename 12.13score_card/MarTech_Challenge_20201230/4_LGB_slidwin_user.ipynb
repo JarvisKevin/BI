{
 "cells": [
  {
   "cell_type": "code",
   "execution_count": 1,
   "metadata": {},
   "outputs": [
    {
     "name": "stdout",
     "output_type": "stream",
     "text": [
      "Populating the interactive namespace from numpy and matplotlib\n"
     ]
    }
   ],
   "source": [
    "import pandas as pd\n",
    "import numpy as np\n",
    "import warnings\n",
    "warnings.filterwarnings(\"ignore\")\n",
    "pd.set_option('max.columns', 100)\n",
    "\n",
    "import gc\n",
    "import lightgbm as lgb\n",
    "from sklearn.metrics import classification_report, f1_score\n",
    "from sklearn.metrics import f1_score,precision_recall_fscore_support,roc_curve,auc,roc_auc_score\n",
    "from sklearn.model_selection import GridSearchCV"
   ]
  },
  {
   "cell_type": "code",
   "execution_count": 2,
   "metadata": {},
   "outputs": [],
   "source": [
    "# 读取数据\n",
    "import pickle\n",
    "\n",
    "PATH = '../data/'\n",
    "with open(PATH + 'sliding_windows/x_train_user.pkl', 'rb') as f:\n",
    "    x_train = pickle.load(f)\n",
    "with open(PATH + 'sliding_windows/x_val_user.pkl', 'rb') as f:\n",
    "    x_val = pickle.load(f)\n",
    "  \n",
    "y_train = np.load('./work/y_train_user.npy')\n",
    "y_val = np.load('./work/y_val_user.npy')"
   ]
  },
  {
   "cell_type": "code",
   "execution_count": 4,
   "metadata": {},
   "outputs": [
    {
     "data": {
      "text/plain": [
       "((1640731, 206), (404693, 206))"
      ]
     },
     "execution_count": 4,
     "metadata": {},
     "output_type": "execute_result"
    }
   ],
   "source": [
    "x_train.shape, x_val.shape"
   ]
  },
  {
   "cell_type": "code",
   "execution_count": 5,
   "metadata": {},
   "outputs": [
    {
     "data": {
      "text/plain": [
       "((1640731,), (404693,))"
      ]
     },
     "execution_count": 5,
     "metadata": {},
     "output_type": "execute_result"
    }
   ],
   "source": [
    "y_train.shape, y_val.shape"
   ]
  },
  {
   "cell_type": "code",
   "execution_count": 6,
   "metadata": {},
   "outputs": [
    {
     "data": {
      "text/plain": [
       "13"
      ]
     },
     "execution_count": 6,
     "metadata": {},
     "output_type": "execute_result"
    }
   ],
   "source": [
    "# 利用PredefinedSplit设置验证集\n",
    "from sklearn.model_selection import PredefinedSplit\n",
    "train_val_features = np.concatenate((x_train, x_val),axis=0)\n",
    "train_val_labels = np.concatenate((y_train, y_val),axis=0)\n",
    "test_fold = np.zeros(train_val_features.shape[0])   # 将所有index初始化为0,0表示第一轮的验证集\n",
    "test_fold[:x_train.shape[0]] = -1            # 将训练集对应的index设为-1，表示永远不划分到验证集中\n",
    "ps = PredefinedSplit(test_fold=test_fold)\n",
    "\n",
    "del x_train, y_train, x_val, y_val\n",
    "gc.collect()"
   ]
  },
  {
   "cell_type": "code",
   "execution_count": 7,
   "metadata": {},
   "outputs": [
    {
     "data": {
      "text/plain": [
       "((2045424, 206), (2045424,))"
      ]
     },
     "execution_count": 7,
     "metadata": {},
     "output_type": "execute_result"
    }
   ],
   "source": [
    "train_val_features.shape, train_val_labels.shape"
   ]
  },
  {
   "cell_type": "code",
   "execution_count": 10,
   "metadata": {},
   "outputs": [],
   "source": [
    "# GridSearchCV\n",
    "# lg = lgb.LGBMClassifier(silent=False, class_weight='balanced')         #\n",
    "# param_dist = {\"max_depth\": [2,3,4],\n",
    "#               \"learning_rate\" : [0.01,0.03,0.05,0.08],\n",
    "#               \"num_leaves\": [2, 4, 6, 8, 10],\n",
    "#               \"n_estimators\": [50, 100, 150, 200]\n",
    "#              }\n",
    "\n",
    "# grid_search = GridSearchCV(lg, n_jobs=-1, param_grid=param_dist, cv = ps, scoring='roc_auc', verbose=5)\n",
    "\n",
    "# grid_search.fit(train_val_features, train_val_labels)\n",
    "# grid_search.best_estimator_, grid_search.best_score_\n",
    "\n",
    "# _____________________________________________________________________\n"
   ]
  },
  {
   "cell_type": "markdown",
   "metadata": {},
   "source": [
    "#### gridsearch后复现"
   ]
  },
  {
   "cell_type": "code",
   "execution_count": 10,
   "metadata": {},
   "outputs": [
    {
     "name": "stdout",
     "output_type": "stream",
     "text": [
      "[LightGBM] [Info] Number of positive: 45917, number of negative: 1999507\n",
      "[LightGBM] [Warning] Auto-choosing row-wise multi-threading, the overhead of testing was 0.716361 seconds.\n",
      "You can set `force_row_wise=true` to remove the overhead.\n",
      "And if memory is not enough, you can set `force_col_wise=true`.\n",
      "[LightGBM] [Info] Total Bins 21519\n",
      "[LightGBM] [Info] Number of data points in the train set: 2045424, number of used features: 184\n",
      "[LightGBM] [Info] [binary:BoostFromScore]: pavg=0.500000 -> initscore=0.000000\n",
      "[LightGBM] [Info] Start training from score 0.000000\n"
     ]
    },
    {
     "data": {
      "text/plain": [
       "LGBMClassifier(boosting_type='gbdt', class_weight='balanced',\n",
       "        colsample_bytree=1.0, importance_type='split', learning_rate=0.05,\n",
       "        max_depth=4, min_child_samples=20, min_child_weight=0.001,\n",
       "        min_split_gain=0.0, n_estimators=150, n_jobs=-1, num_leaves=9,\n",
       "        objective=None, random_state=None, reg_alpha=0.0, reg_lambda=0.0,\n",
       "        silent=False, subsample=1.0, subsample_for_bin=200000,\n",
       "        subsample_freq=0)"
      ]
     },
     "execution_count": 10,
     "metadata": {},
     "output_type": "execute_result"
    }
   ],
   "source": [
    "# 线上 0.57376\n",
    "# model = lgb.LGBMClassifier(boosting_type='gbdt', class_weight='balanced',\n",
    "#          colsample_bytree=1.0, importance_type='split', learning_rate=0.01,\n",
    "#          max_depth=2, min_child_samples=20, min_child_weight=0.001,\n",
    "#          min_split_gain=0.0, n_estimators=25, n_jobs=-1, num_leaves=2,\n",
    "#          objective=None, random_state=None, reg_alpha=0.0, reg_lambda=0.0,\n",
    "#          silent=False, subsample=1.0, subsample_for_bin=200000,\n",
    "#          subsample_freq=0)\n",
    "\n",
    "# model.fit(train_val_features, train_val_labels)\n",
    "\n",
    "# 线上 0.54755\n",
    "# model = lgb.LGBMClassifier(boosting_type='gbdt', class_weight='balanced',\n",
    "#          colsample_bytree=1.0, importance_type='split', learning_rate=0.05,\n",
    "#          max_depth=4, min_child_samples=20, min_child_weight=0.001,\n",
    "#          min_split_gain=0.0, n_estimators=150, n_jobs=-1, num_leaves=9,\n",
    "#          objective=None, random_state=None, reg_alpha=0.0, reg_lambda=0.0,\n",
    "#          silent=False, subsample=1.0, subsample_for_bin=200000,\n",
    "#          subsample_freq=0)\n",
    "# model.fit(train_val_features, train_val_labels)"
   ]
  },
  {
   "cell_type": "code",
   "execution_count": 11,
   "metadata": {},
   "outputs": [
    {
     "data": {
      "text/plain": [
       "951"
      ]
     },
     "execution_count": 11,
     "metadata": {},
     "output_type": "execute_result"
    }
   ],
   "source": [
    "del train_val_features, train_val_labels\n",
    "gc.collect()"
   ]
  },
  {
   "cell_type": "code",
   "execution_count": 12,
   "metadata": {},
   "outputs": [],
   "source": [
    "# 加载验证集，进行线下验证\n",
    "with open(PATH + 'sliding_windows/x_val_user.pkl', 'rb') as f:\n",
    "    x_val = pickle.load(f)\n",
    "y_val = np.load('./work/y_val_user.npy')  \n",
    "\n",
    "val_pred = model.predict(x_val)"
   ]
  },
  {
   "cell_type": "code",
   "execution_count": 17,
   "metadata": {},
   "outputs": [
    {
     "data": {
      "text/plain": [
       "0.9796080208359657"
      ]
     },
     "execution_count": 17,
     "metadata": {},
     "output_type": "execute_result"
    }
   ],
   "source": [
    "val_prediction = pd.DataFrame([val_pred, y_val]).T\n",
    "val_prediction.columns = ['Prediction', 'Truth']\n",
    "val_prediction['Prediction'] = val_prediction.Prediction \n",
    "\n",
    "# 求ROC\n",
    "roc_auc_score(y_val, val_prediction.Prediction)"
   ]
  },
  {
   "cell_type": "markdown",
   "metadata": {},
   "source": [
    "#### 线上预测"
   ]
  },
  {
   "cell_type": "code",
   "execution_count": 18,
   "metadata": {},
   "outputs": [],
   "source": [
    "with open(PATH + 'sliding_windows/x_test_user.pkl', 'rb') as f:\n",
    "    x_test = pickle.load(f)"
   ]
  },
  {
   "cell_type": "code",
   "execution_count": 20,
   "metadata": {},
   "outputs": [],
   "source": [
    "sub_pred = model.predict(x_test.loc[:,x_test.columns != 'label'])\n",
    "\n",
    "sub_prediction = pd.DataFrame(sub_pred)\n",
    "sub_prediction.columns = ['result']\n",
    "sub_prediction['customer_id'] = x_test.customer_id.values"
   ]
  },
  {
   "cell_type": "code",
   "execution_count": 22,
   "metadata": {},
   "outputs": [],
   "source": [
    "# 将结果聚合到submission\n",
    "submission= pd.read_csv('../data/submission.csv')"
   ]
  },
  {
   "cell_type": "code",
   "execution_count": 23,
   "metadata": {},
   "outputs": [],
   "source": [
    "submission = submission.merge(sub_prediction, on='customer_id', how='outer').fillna(0)\n",
    "submission.drop(columns='result_x', inplace=True)\n",
    "submission.columns = ['customer_id', 'result']\n",
    "submission['result'] = submission.result.apply(lambda x: 1 if x>=0.5 else 0)"
   ]
  },
  {
   "cell_type": "code",
   "execution_count": 24,
   "metadata": {},
   "outputs": [
    {
     "data": {
      "text/plain": [
       "30127"
      ]
     },
     "execution_count": 24,
     "metadata": {},
     "output_type": "execute_result"
    }
   ],
   "source": [
    "# 预测出30127个购买记录\n",
    "submission.result.sum()"
   ]
  },
  {
   "cell_type": "code",
   "execution_count": 26,
   "metadata": {},
   "outputs": [],
   "source": [
    "submission.to_csv('sub_clf_user_gs.csv', index=False)"
   ]
  },
  {
   "attachments": {
    "0aa2e000-9a65-4e58-a170-b89842903560.png": {
     "image/png": "[encoded data removed]"
    },
    "64cd12e3-3aa0-433e-8ce6-ffcff6795290.png": {
     "image/png": "[encoded data removed]"
    }
   },
   "cell_type": "markdown",
   "metadata": {},
   "source": [
    "![image.png](attachment:0aa2e000-9a65-4e58-a170-b89842903560.png)\n",
    "![image.png](attachment:64cd12e3-3aa0-433e-8ce6-ffcff6795290.png)"
   ]
  },
  {
   "cell_type": "markdown",
   "metadata": {},
   "source": [
    "### 小结：\n",
    "- 本次实验参考了百度官方提供的baseline中的数据处理(时间滑窗，统计用户特征等)，并以LightGBM为主要模型对八月份的用户购买行为进行预测。\n",
    "- 需要特别注意时间滑窗这部分的学习，防止数据穿越，以未来信息预测未来。\n",
    "- 下一步，可以再考虑商品的统计特征，商品与用户的组合特征等。\n"
   ]
  },
  {
   "cell_type": "code",
   "execution_count": null,
   "metadata": {},
   "outputs": [],
   "source": []
  }
 ],
 "metadata": {
  "kernelspec": {
   "display_name": "Python 3",
   "language": "python",
   "name": "python3"
  },
  "language_info": {
   "codemirror_mode": {
    "name": "ipython",
    "version": 3
   },
   "file_extension": ".py",
   "mimetype": "text/x-python",
   "name": "python",
   "nbconvert_exporter": "python",
   "pygments_lexer": "ipython3",
   "version": "3.6.8rc1"
  }
 },
 "nbformat": 4,
 "nbformat_minor": 4
}
