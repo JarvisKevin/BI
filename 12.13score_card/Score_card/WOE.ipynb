{
 "cells": [
  {
   "cell_type": "markdown",
   "metadata": {},
   "source": [
    "### 步骤：\n",
    "* 1. 数据可视化，查看违约率，各数据分布，以及有无缺失值\n",
    "* 2. 分桶，qcut, cut\n",
    "* 3. 计算WOE,IV，筛选变量\n",
    "* 4. 利用LR模型进行预测\n",
    "* 5. 构造评分卡模型进行预测，两个假设一个类比\n",
    "* 6. 对比总结"
   ]
  },
  {
   "cell_type": "code",
   "execution_count": 1,
   "metadata": {},
   "outputs": [],
   "source": [
    "# Thinking\n",
    "# 分桶是不是要train test一起分才可以？\n",
    "# Yes,不然pcut的时候，test和train的桶就不统一了"
   ]
  },
  {
   "cell_type": "code",
   "execution_count": 2,
   "metadata": {},
   "outputs": [],
   "source": [
    "import pandas as pd\n",
    "import numpy as np\n",
    "import warnings"
   ]
  },
  {
   "cell_type": "code",
   "execution_count": 3,
   "metadata": {},
   "outputs": [],
   "source": [
    "warnings.filterwarnings('ignore')"
   ]
  },
  {
   "cell_type": "code",
   "execution_count": 4,
   "metadata": {},
   "outputs": [
    {
     "data": {
      "text/html": [
       "<div>\n",
       "<style scoped>\n",
       "    .dataframe tbody tr th:only-of-type {\n",
       "        vertical-align: middle;\n",
       "    }\n",
       "\n",
       "    .dataframe tbody tr th {\n",
       "        vertical-align: top;\n",
       "    }\n",
       "\n",
       "    .dataframe thead th {\n",
       "        text-align: right;\n",
       "    }\n",
       "</style>\n",
       "<table border=\"1\" class=\"dataframe\">\n",
       "  <thead>\n",
       "    <tr style=\"text-align: right;\">\n",
       "      <th></th>\n",
       "      <th>Unnamed: 0</th>\n",
       "      <th>SeriousDlqin2yrs</th>\n",
       "      <th>RevolvingUtilizationOfUnsecuredLines</th>\n",
       "      <th>age</th>\n",
       "      <th>NumberOfTime30-59DaysPastDueNotWorse</th>\n",
       "      <th>DebtRatio</th>\n",
       "      <th>MonthlyIncome</th>\n",
       "      <th>NumberOfOpenCreditLinesAndLoans</th>\n",
       "      <th>NumberOfTimes90DaysLate</th>\n",
       "      <th>NumberRealEstateLoansOrLines</th>\n",
       "      <th>NumberOfTime60-89DaysPastDueNotWorse</th>\n",
       "      <th>NumberOfDependents</th>\n",
       "    </tr>\n",
       "  </thead>\n",
       "  <tbody>\n",
       "    <tr>\n",
       "      <th>0</th>\n",
       "      <td>1</td>\n",
       "      <td>1</td>\n",
       "      <td>0.766127</td>\n",
       "      <td>45</td>\n",
       "      <td>2</td>\n",
       "      <td>0.802982</td>\n",
       "      <td>9120.0</td>\n",
       "      <td>13</td>\n",
       "      <td>0</td>\n",
       "      <td>6</td>\n",
       "      <td>0</td>\n",
       "      <td>2.0</td>\n",
       "    </tr>\n",
       "    <tr>\n",
       "      <th>1</th>\n",
       "      <td>2</td>\n",
       "      <td>0</td>\n",
       "      <td>0.957151</td>\n",
       "      <td>40</td>\n",
       "      <td>0</td>\n",
       "      <td>0.121876</td>\n",
       "      <td>2600.0</td>\n",
       "      <td>4</td>\n",
       "      <td>0</td>\n",
       "      <td>0</td>\n",
       "      <td>0</td>\n",
       "      <td>1.0</td>\n",
       "    </tr>\n",
       "    <tr>\n",
       "      <th>2</th>\n",
       "      <td>3</td>\n",
       "      <td>0</td>\n",
       "      <td>0.658180</td>\n",
       "      <td>38</td>\n",
       "      <td>1</td>\n",
       "      <td>0.085113</td>\n",
       "      <td>3042.0</td>\n",
       "      <td>2</td>\n",
       "      <td>1</td>\n",
       "      <td>0</td>\n",
       "      <td>0</td>\n",
       "      <td>0.0</td>\n",
       "    </tr>\n",
       "    <tr>\n",
       "      <th>3</th>\n",
       "      <td>4</td>\n",
       "      <td>0</td>\n",
       "      <td>0.233810</td>\n",
       "      <td>30</td>\n",
       "      <td>0</td>\n",
       "      <td>0.036050</td>\n",
       "      <td>3300.0</td>\n",
       "      <td>5</td>\n",
       "      <td>0</td>\n",
       "      <td>0</td>\n",
       "      <td>0</td>\n",
       "      <td>0.0</td>\n",
       "    </tr>\n",
       "    <tr>\n",
       "      <th>4</th>\n",
       "      <td>5</td>\n",
       "      <td>0</td>\n",
       "      <td>0.907239</td>\n",
       "      <td>49</td>\n",
       "      <td>1</td>\n",
       "      <td>0.024926</td>\n",
       "      <td>63588.0</td>\n",
       "      <td>7</td>\n",
       "      <td>0</td>\n",
       "      <td>1</td>\n",
       "      <td>0</td>\n",
       "      <td>0.0</td>\n",
       "    </tr>\n",
       "  </tbody>\n",
       "</table>\n",
       "</div>"
      ],
      "text/plain": [
       "   Unnamed: 0  SeriousDlqin2yrs  RevolvingUtilizationOfUnsecuredLines  age  \\\n",
       "0           1                 1                              0.766127   45   \n",
       "1           2                 0                              0.957151   40   \n",
       "2           3                 0                              0.658180   38   \n",
       "3           4                 0                              0.233810   30   \n",
       "4           5                 0                              0.907239   49   \n",
       "\n",
       "   NumberOfTime30-59DaysPastDueNotWorse  DebtRatio  MonthlyIncome  \\\n",
       "0                                     2   0.802982         9120.0   \n",
       "1                                     0   0.121876         2600.0   \n",
       "2                                     1   0.085113         3042.0   \n",
       "3                                     0   0.036050         3300.0   \n",
       "4                                     1   0.024926        63588.0   \n",
       "\n",
       "   NumberOfOpenCreditLinesAndLoans  NumberOfTimes90DaysLate  \\\n",
       "0                               13                        0   \n",
       "1                                4                        0   \n",
       "2                                2                        1   \n",
       "3                                5                        0   \n",
       "4                                7                        0   \n",
       "\n",
       "   NumberRealEstateLoansOrLines  NumberOfTime60-89DaysPastDueNotWorse  \\\n",
       "0                             6                                     0   \n",
       "1                             0                                     0   \n",
       "2                             0                                     0   \n",
       "3                             0                                     0   \n",
       "4                             1                                     0   \n",
       "\n",
       "   NumberOfDependents  \n",
       "0                 2.0  \n",
       "1                 1.0  \n",
       "2                 0.0  \n",
       "3                 0.0  \n",
       "4                 0.0  "
      ]
     },
     "execution_count": 4,
     "metadata": {},
     "output_type": "execute_result"
    }
   ],
   "source": [
    "train = pd.read_csv('./cs-training.csv')\n",
    "train.head()"
   ]
  },
  {
   "cell_type": "code",
   "execution_count": 5,
   "metadata": {},
   "outputs": [],
   "source": [
    "test = pd.read_csv('./cs-test.csv')"
   ]
  },
  {
   "cell_type": "code",
   "execution_count": 6,
   "metadata": {},
   "outputs": [],
   "source": [
    "#test.head()"
   ]
  },
  {
   "cell_type": "code",
   "execution_count": 7,
   "metadata": {},
   "outputs": [],
   "source": [
    "# 去除没用的Unnamed\n",
    "train.drop(columns=train.columns[0], inplace=True)\n",
    "test.drop(columns=test.columns[0], inplace=True)"
   ]
  },
  {
   "cell_type": "markdown",
   "metadata": {},
   "source": [
    "#### 标签"
   ]
  },
  {
   "cell_type": "code",
   "execution_count": 8,
   "metadata": {},
   "outputs": [
    {
     "data": {
      "text/plain": [
       "<matplotlib.axes._subplots.AxesSubplot at 0x2619007fda0>"
      ]
     },
     "execution_count": 8,
     "metadata": {},
     "output_type": "execute_result"
    }
   ],
   "source": [
    "# 查看SeriousDlqin2yrs，违约率\n",
    "train.SeriousDlqin2yrs.value_counts().plot(kind='bar')"
   ]
  },
  {
   "cell_type": "code",
   "execution_count": 9,
   "metadata": {},
   "outputs": [
    {
     "data": {
      "text/plain": [
       "0.06684"
      ]
     },
     "execution_count": 9,
     "metadata": {},
     "output_type": "execute_result"
    }
   ],
   "source": [
    "# 违约率\n",
    "train.SeriousDlqin2yrs.value_counts()[1]/train.SeriousDlqin2yrs.value_counts().sum()"
   ]
  },
  {
   "cell_type": "code",
   "execution_count": 10,
   "metadata": {},
   "outputs": [
    {
     "data": {
      "text/plain": [
       "0.07162758798062498"
      ]
     },
     "execution_count": 10,
     "metadata": {},
     "output_type": "execute_result"
    }
   ],
   "source": [
    "odds = train.SeriousDlqin2yrs.value_counts()[1]/train.SeriousDlqin2yrs.value_counts()[0]\n",
    "odds"
   ]
  },
  {
   "cell_type": "markdown",
   "metadata": {},
   "source": [
    "#### 缺失值"
   ]
  },
  {
   "cell_type": "code",
   "execution_count": 11,
   "metadata": {},
   "outputs": [
    {
     "name": "stdout",
     "output_type": "stream",
     "text": [
      "<class 'pandas.core.frame.DataFrame'>\n",
      "RangeIndex: 150000 entries, 0 to 149999\n",
      "Data columns (total 11 columns):\n",
      " #   Column                                Non-Null Count   Dtype  \n",
      "---  ------                                --------------   -----  \n",
      " 0   SeriousDlqin2yrs                      150000 non-null  int64  \n",
      " 1   RevolvingUtilizationOfUnsecuredLines  150000 non-null  float64\n",
      " 2   age                                   150000 non-null  int64  \n",
      " 3   NumberOfTime30-59DaysPastDueNotWorse  150000 non-null  int64  \n",
      " 4   DebtRatio                             150000 non-null  float64\n",
      " 5   MonthlyIncome                         120269 non-null  float64\n",
      " 6   NumberOfOpenCreditLinesAndLoans       150000 non-null  int64  \n",
      " 7   NumberOfTimes90DaysLate               150000 non-null  int64  \n",
      " 8   NumberRealEstateLoansOrLines          150000 non-null  int64  \n",
      " 9   NumberOfTime60-89DaysPastDueNotWorse  150000 non-null  int64  \n",
      " 10  NumberOfDependents                    146076 non-null  float64\n",
      "dtypes: float64(4), int64(7)\n",
      "memory usage: 12.6 MB\n"
     ]
    }
   ],
   "source": [
    "# MonthlyIncome, NumberOfDependents存在缺失值\n",
    "train.info()"
   ]
  },
  {
   "cell_type": "code",
   "execution_count": 12,
   "metadata": {},
   "outputs": [
    {
     "name": "stdout",
     "output_type": "stream",
     "text": [
      "<class 'pandas.core.frame.DataFrame'>\n",
      "RangeIndex: 101503 entries, 0 to 101502\n",
      "Data columns (total 11 columns):\n",
      " #   Column                                Non-Null Count   Dtype  \n",
      "---  ------                                --------------   -----  \n",
      " 0   SeriousDlqin2yrs                      0 non-null       float64\n",
      " 1   RevolvingUtilizationOfUnsecuredLines  101503 non-null  float64\n",
      " 2   age                                   101503 non-null  int64  \n",
      " 3   NumberOfTime30-59DaysPastDueNotWorse  101503 non-null  int64  \n",
      " 4   DebtRatio                             101503 non-null  float64\n",
      " 5   MonthlyIncome                         81400 non-null   float64\n",
      " 6   NumberOfOpenCreditLinesAndLoans       101503 non-null  int64  \n",
      " 7   NumberOfTimes90DaysLate               101503 non-null  int64  \n",
      " 8   NumberRealEstateLoansOrLines          101503 non-null  int64  \n",
      " 9   NumberOfTime60-89DaysPastDueNotWorse  101503 non-null  int64  \n",
      " 10  NumberOfDependents                    98877 non-null   float64\n",
      "dtypes: float64(5), int64(6)\n",
      "memory usage: 8.5 MB\n"
     ]
    }
   ],
   "source": [
    "# test中也一样\n",
    "test.info()"
   ]
  },
  {
   "cell_type": "code",
   "execution_count": 13,
   "metadata": {},
   "outputs": [
    {
     "data": {
      "text/plain": [
       "5000.0     2757\n",
       "4000.0     2106\n",
       "6000.0     1934\n",
       "3000.0     1758\n",
       "0.0        1634\n",
       "           ... \n",
       "3847.0        1\n",
       "10113.0       1\n",
       "14210.0       1\n",
       "13023.0       1\n",
       "1037.0        1\n",
       "Name: MonthlyIncome, Length: 13594, dtype: int64"
      ]
     },
     "execution_count": 13,
     "metadata": {},
     "output_type": "execute_result"
    }
   ],
   "source": [
    "# 查看这两列的情况\n",
    "train.MonthlyIncome.value_counts()"
   ]
  },
  {
   "cell_type": "code",
   "execution_count": 14,
   "metadata": {},
   "outputs": [
    {
     "data": {
      "text/plain": [
       "<matplotlib.axes._subplots.AxesSubplot at 0x261902fce10>"
      ]
     },
     "execution_count": 14,
     "metadata": {},
     "output_type": "execute_result"
    },
    {
     "data": {
      "image/png": "[encoded data removed]",
      "text/plain": [
       "<Figure size 432x288 with 1 Axes>"
      ]
     },
     "metadata": {
      "needs_background": "light"
     },
     "output_type": "display_data"
    }
   ],
   "source": [
    "# 大部分人还是低收入，只有极少数高收入人群\n",
    "train.MonthlyIncome.plot(kind='hist')"
   ]
  },
  {
   "cell_type": "code",
   "execution_count": 15,
   "metadata": {},
   "outputs": [
    {
     "name": "stdout",
     "output_type": "stream",
     "text": [
      "均值： 6670.221237392844\n",
      "中位数： 5400.0\n"
     ]
    }
   ],
   "source": [
    "# 由于数据分布呈左偏，均值被少部分的高收入人群给拉高，大于中位数，因此这里以中位数填充缺失值\n",
    "print('均值：', train.MonthlyIncome.mean())\n",
    "print('中位数：',train.MonthlyIncome.median())"
   ]
  },
  {
   "cell_type": "code",
   "execution_count": 16,
   "metadata": {},
   "outputs": [],
   "source": [
    "# 训练集\n",
    "train.MonthlyIncome.fillna(train.MonthlyIncome.median(), inplace=True)"
   ]
  },
  {
   "cell_type": "code",
   "execution_count": 17,
   "metadata": {},
   "outputs": [],
   "source": [
    "# 测试集\n",
    "test.MonthlyIncome.fillna(train.MonthlyIncome.median(), inplace=True)"
   ]
  },
  {
   "cell_type": "code",
   "execution_count": 18,
   "metadata": {},
   "outputs": [
    {
     "data": {
      "text/plain": [
       "0"
      ]
     },
     "execution_count": 18,
     "metadata": {},
     "output_type": "execute_result"
    }
   ],
   "source": [
    "train.MonthlyIncome.isna().sum()"
   ]
  },
  {
   "cell_type": "markdown",
   "metadata": {},
   "source": [
    "###### 对于NumberOfDependents，家庭受养人数"
   ]
  },
  {
   "cell_type": "code",
   "execution_count": 19,
   "metadata": {},
   "outputs": [
    {
     "data": {
      "text/plain": [
       "0.0     86902\n",
       "1.0     26316\n",
       "2.0     19522\n",
       "3.0      9483\n",
       "4.0      2862\n",
       "5.0       746\n",
       "6.0       158\n",
       "7.0        51\n",
       "8.0        24\n",
       "9.0         5\n",
       "10.0        5\n",
       "13.0        1\n",
       "20.0        1\n",
       "Name: NumberOfDependents, dtype: int64"
      ]
     },
     "execution_count": 19,
     "metadata": {},
     "output_type": "execute_result"
    }
   ],
   "source": [
    "train.NumberOfDependents.value_counts()"
   ]
  },
  {
   "cell_type": "code",
   "execution_count": 20,
   "metadata": {},
   "outputs": [
    {
     "data": {
      "text/plain": [
       "<matplotlib.axes._subplots.AxesSubplot at 0x26190353550>"
      ]
     },
     "execution_count": 20,
     "metadata": {},
     "output_type": "execute_result"
    },
    {
     "data": {
      "image/png": "[encoded data removed]",
      "text/plain": [
       "<Figure size 432x288 with 1 Axes>"
      ]
     },
     "metadata": {
      "needs_background": "light"
     },
     "output_type": "display_data"
    }
   ],
   "source": [
    "train.NumberOfDependents.plot(kind='hist')"
   ]
  },
  {
   "cell_type": "code",
   "execution_count": 21,
   "metadata": {},
   "outputs": [
    {
     "name": "stdout",
     "output_type": "stream",
     "text": [
      "均值： 0.7572222678605657\n",
      "中位数： 0.0\n"
     ]
    }
   ],
   "source": [
    "# 大部分还是自己生活呢\n",
    "print('均值：', train.NumberOfDependents.mean())\n",
    "print('中位数：',train.NumberOfDependents.median())"
   ]
  },
  {
   "cell_type": "code",
   "execution_count": 22,
   "metadata": {},
   "outputs": [],
   "source": [
    "# 训练集\n",
    "train.NumberOfDependents.fillna(train.MonthlyIncome.median(), inplace=True)"
   ]
  },
  {
   "cell_type": "code",
   "execution_count": 23,
   "metadata": {},
   "outputs": [],
   "source": [
    "# 测试集\n",
    "test.NumberOfDependents.fillna(train.MonthlyIncome.median(), inplace=True)"
   ]
  },
  {
   "cell_type": "code",
   "execution_count": 24,
   "metadata": {},
   "outputs": [
    {
     "data": {
      "text/plain": [
       "0"
      ]
     },
     "execution_count": 24,
     "metadata": {},
     "output_type": "execute_result"
    }
   ],
   "source": [
    "train.MonthlyIncome.isna().sum()"
   ]
  },
  {
   "cell_type": "markdown",
   "metadata": {},
   "source": [
    "#### 变量分桶\n",
    "* age [-math.inf, 25, 40, 50, 60, 70, math.inf]\n",
    "* NumberOfDependents 家属人数 [-math.inf,2,4,6,8,10,math.inf]\n",
    "* NumberOfTime30-59DaysPastDueNotWorse，NumberOfTime60-89DaysPastDueNotWorse，NumberOfTimes90DaysLate三种逾期</b>\n",
    " [-math.inf,1,2,3,4,5,6,7,8,9,math.inf]\n",
    "* 其余字段 RevolvingUtilizationOfUnsecuredLines, DebtRatio, MonthlyIncome, NumberOfOpenCreditLinesAndLoans, NumberRealEstateLoansOrLines 分五段 qcut(data, q=5)"
   ]
  },
  {
   "cell_type": "code",
   "execution_count": 25,
   "metadata": {},
   "outputs": [],
   "source": [
    "import math"
   ]
  },
  {
   "cell_type": "code",
   "execution_count": 26,
   "metadata": {},
   "outputs": [],
   "source": [
    "split_point = train.shape[0]\n",
    "whole_data = train.append(test)"
   ]
  },
  {
   "cell_type": "code",
   "execution_count": 27,
   "metadata": {},
   "outputs": [],
   "source": [
    "whole_data['age'] = pd.cut(whole_data.age, [-math.inf, 25, 40, 50, 60, 70, math.inf])\n",
    "whole_data['NumberOfDependents'] = pd.cut(whole_data.NumberOfDependents, [-math.inf,2,4,6,8,10,math.inf])\n",
    "\n",
    "whole_data['NumberOfTime30-59DaysPastDueNotWorse'] = pd.cut(whole_data['NumberOfTime30-59DaysPastDueNotWorse'], [-math.inf,1,2,3,4,5,6,7,8,9,math.inf])\n",
    "whole_data['NumberOfTime60-89DaysPastDueNotWorse'] = pd.cut(whole_data['NumberOfTime60-89DaysPastDueNotWorse'], [-math.inf,1,2,3,4,5,6,7,8,9,math.inf])\n",
    "whole_data['NumberOfTimes90DaysLate'] = pd.cut(whole_data['NumberOfTimes90DaysLate'], [-math.inf,1,2,3,4,5,6,7,8,9,math.inf])\n",
    "\n",
    "whole_data.RevolvingUtilizationOfUnsecuredLines = pd.qcut(whole_data.RevolvingUtilizationOfUnsecuredLines , q=5, duplicates='drop')\n",
    "whole_data.DebtRatio = pd.qcut(whole_data.DebtRatio , q=5, duplicates='drop')\n",
    "whole_data.MonthlyIncome = pd.qcut(whole_data.MonthlyIncome , q=5, duplicates='drop')\n",
    "whole_data.NumberOfOpenCreditLinesAndLoans = pd.qcut(whole_data.NumberOfOpenCreditLinesAndLoans , q=5, duplicates='drop')\n",
    "whole_data.NumberRealEstateLoansOrLines = pd.qcut(whole_data.NumberRealEstateLoansOrLines , q=5, duplicates='drop')"
   ]
  },
  {
   "cell_type": "code",
   "execution_count": 28,
   "metadata": {},
   "outputs": [],
   "source": [
    "# 学这个startswith的用法\n",
    "# # 统计分箱字段，以bin_开头\n",
    "# bin_cols = [c for c in df_train.columns.values if c.startswith('bin_')]\n",
    "# bin_cols"
   ]
  },
  {
   "cell_type": "markdown",
   "metadata": {},
   "source": [
    "##### pd.qcut 得注意一个参数duplicates='drop'，\n",
    "* 因为有时候用频次来划分边界是会造成两个桶存在同一个取值，比如1000个数中0占了900个，1占100个，如果按q=2,分两个桶，则会500个0为桶1，400个1和100个0为桶2，这就会造成混乱，数值1到底是哪个桶？因此我们将其进行合并。。。\n",
    "* 但合并也有不合理得地方，那就按规则来分吧"
   ]
  },
  {
   "cell_type": "markdown",
   "metadata": {},
   "source": [
    "##### 那train和test是不是要合并后再分桶呢？\n",
    "##### 按规则分的可以不用，但按频率分应该要合并后再分桶"
   ]
  },
  {
   "cell_type": "code",
   "execution_count": 29,
   "metadata": {},
   "outputs": [],
   "source": [
    "train = whole_data.iloc[:split_point,:]\n",
    "test = whole_data.iloc[split_point:,:]"
   ]
  },
  {
   "cell_type": "markdown",
   "metadata": {},
   "source": [
    "#### 计算每个特征的WOE，IV"
   ]
  },
  {
   "cell_type": "code",
   "execution_count": 30,
   "metadata": {},
   "outputs": [
    {
     "data": {
      "text/html": [
       "<div>\n",
       "<style scoped>\n",
       "    .dataframe tbody tr th:only-of-type {\n",
       "        vertical-align: middle;\n",
       "    }\n",
       "\n",
       "    .dataframe tbody tr th {\n",
       "        vertical-align: top;\n",
       "    }\n",
       "\n",
       "    .dataframe thead th {\n",
       "        text-align: right;\n",
       "    }\n",
       "</style>\n",
       "<table border=\"1\" class=\"dataframe\">\n",
       "  <thead>\n",
       "    <tr style=\"text-align: right;\">\n",
       "      <th></th>\n",
       "      <th>SeriousDlqin2yrs</th>\n",
       "      <th>RevolvingUtilizationOfUnsecuredLines</th>\n",
       "      <th>age</th>\n",
       "      <th>NumberOfTime30-59DaysPastDueNotWorse</th>\n",
       "      <th>DebtRatio</th>\n",
       "      <th>MonthlyIncome</th>\n",
       "      <th>NumberOfOpenCreditLinesAndLoans</th>\n",
       "      <th>NumberOfTimes90DaysLate</th>\n",
       "      <th>NumberRealEstateLoansOrLines</th>\n",
       "      <th>NumberOfTime60-89DaysPastDueNotWorse</th>\n",
       "      <th>NumberOfDependents</th>\n",
       "    </tr>\n",
       "  </thead>\n",
       "  <tbody>\n",
       "    <tr>\n",
       "      <th>0</th>\n",
       "      <td>1.0</td>\n",
       "      <td>(0.702, 50708.0]</td>\n",
       "      <td>(40.0, 50.0]</td>\n",
       "      <td>(1.0, 2.0]</td>\n",
       "      <td>(0.466, 3.908]</td>\n",
       "      <td>(8233.0, 7727000.0]</td>\n",
       "      <td>(12.0, 85.0]</td>\n",
       "      <td>(-inf, 1.0]</td>\n",
       "      <td>(2.0, 54.0]</td>\n",
       "      <td>(-inf, 1.0]</td>\n",
       "      <td>(-inf, 2.0]</td>\n",
       "    </tr>\n",
       "    <tr>\n",
       "      <th>1</th>\n",
       "      <td>0.0</td>\n",
       "      <td>(0.702, 50708.0]</td>\n",
       "      <td>(25.0, 40.0]</td>\n",
       "      <td>(-inf, 1.0]</td>\n",
       "      <td>(-0.001, 0.133]</td>\n",
       "      <td>(-0.001, 3400.0]</td>\n",
       "      <td>(-0.001, 4.0]</td>\n",
       "      <td>(-inf, 1.0]</td>\n",
       "      <td>(-0.001, 1.0]</td>\n",
       "      <td>(-inf, 1.0]</td>\n",
       "      <td>(-inf, 2.0]</td>\n",
       "    </tr>\n",
       "    <tr>\n",
       "      <th>2</th>\n",
       "      <td>0.0</td>\n",
       "      <td>(0.271, 0.702]</td>\n",
       "      <td>(25.0, 40.0]</td>\n",
       "      <td>(-inf, 1.0]</td>\n",
       "      <td>(-0.001, 0.133]</td>\n",
       "      <td>(-0.001, 3400.0]</td>\n",
       "      <td>(-0.001, 4.0]</td>\n",
       "      <td>(-inf, 1.0]</td>\n",
       "      <td>(-0.001, 1.0]</td>\n",
       "      <td>(-inf, 1.0]</td>\n",
       "      <td>(-inf, 2.0]</td>\n",
       "    </tr>\n",
       "    <tr>\n",
       "      <th>3</th>\n",
       "      <td>0.0</td>\n",
       "      <td>(0.083, 0.271]</td>\n",
       "      <td>(25.0, 40.0]</td>\n",
       "      <td>(-inf, 1.0]</td>\n",
       "      <td>(-0.001, 0.133]</td>\n",
       "      <td>(-0.001, 3400.0]</td>\n",
       "      <td>(4.0, 6.0]</td>\n",
       "      <td>(-inf, 1.0]</td>\n",
       "      <td>(-0.001, 1.0]</td>\n",
       "      <td>(-inf, 1.0]</td>\n",
       "      <td>(-inf, 2.0]</td>\n",
       "    </tr>\n",
       "    <tr>\n",
       "      <th>4</th>\n",
       "      <td>0.0</td>\n",
       "      <td>(0.702, 50708.0]</td>\n",
       "      <td>(40.0, 50.0]</td>\n",
       "      <td>(-inf, 1.0]</td>\n",
       "      <td>(-0.001, 0.133]</td>\n",
       "      <td>(8233.0, 7727000.0]</td>\n",
       "      <td>(6.0, 9.0]</td>\n",
       "      <td>(-inf, 1.0]</td>\n",
       "      <td>(-0.001, 1.0]</td>\n",
       "      <td>(-inf, 1.0]</td>\n",
       "      <td>(-inf, 2.0]</td>\n",
       "    </tr>\n",
       "  </tbody>\n",
       "</table>\n",
       "</div>"
      ],
      "text/plain": [
       "   SeriousDlqin2yrs RevolvingUtilizationOfUnsecuredLines           age  \\\n",
       "0               1.0                     (0.702, 50708.0]  (40.0, 50.0]   \n",
       "1               0.0                     (0.702, 50708.0]  (25.0, 40.0]   \n",
       "2               0.0                       (0.271, 0.702]  (25.0, 40.0]   \n",
       "3               0.0                       (0.083, 0.271]  (25.0, 40.0]   \n",
       "4               0.0                     (0.702, 50708.0]  (40.0, 50.0]   \n",
       "\n",
       "  NumberOfTime30-59DaysPastDueNotWorse        DebtRatio        MonthlyIncome  \\\n",
       "0                           (1.0, 2.0]   (0.466, 3.908]  (8233.0, 7727000.0]   \n",
       "1                          (-inf, 1.0]  (-0.001, 0.133]     (-0.001, 3400.0]   \n",
       "2                          (-inf, 1.0]  (-0.001, 0.133]     (-0.001, 3400.0]   \n",
       "3                          (-inf, 1.0]  (-0.001, 0.133]     (-0.001, 3400.0]   \n",
       "4                          (-inf, 1.0]  (-0.001, 0.133]  (8233.0, 7727000.0]   \n",
       "\n",
       "  NumberOfOpenCreditLinesAndLoans NumberOfTimes90DaysLate  \\\n",
       "0                    (12.0, 85.0]             (-inf, 1.0]   \n",
       "1                   (-0.001, 4.0]             (-inf, 1.0]   \n",
       "2                   (-0.001, 4.0]             (-inf, 1.0]   \n",
       "3                      (4.0, 6.0]             (-inf, 1.0]   \n",
       "4                      (6.0, 9.0]             (-inf, 1.0]   \n",
       "\n",
       "  NumberRealEstateLoansOrLines NumberOfTime60-89DaysPastDueNotWorse  \\\n",
       "0                  (2.0, 54.0]                          (-inf, 1.0]   \n",
       "1                (-0.001, 1.0]                          (-inf, 1.0]   \n",
       "2                (-0.001, 1.0]                          (-inf, 1.0]   \n",
       "3                (-0.001, 1.0]                          (-inf, 1.0]   \n",
       "4                (-0.001, 1.0]                          (-inf, 1.0]   \n",
       "\n",
       "  NumberOfDependents  \n",
       "0        (-inf, 2.0]  \n",
       "1        (-inf, 2.0]  \n",
       "2        (-inf, 2.0]  \n",
       "3        (-inf, 2.0]  \n",
       "4        (-inf, 2.0]  "
      ]
     },
     "execution_count": 30,
     "metadata": {},
     "output_type": "execute_result"
    }
   ],
   "source": [
    "train.head()"
   ]
  },
  {
   "cell_type": "code",
   "execution_count": 31,
   "metadata": {},
   "outputs": [],
   "source": [
    "# 放一个临时值，计算各特征各标签的数量\n",
    "train['count'] = 1"
   ]
  },
  {
   "cell_type": "code",
   "execution_count": 32,
   "metadata": {},
   "outputs": [
    {
     "data": {
      "text/plain": [
       "['RevolvingUtilizationOfUnsecuredLines',\n",
       " 'age',\n",
       " 'NumberOfTime30-59DaysPastDueNotWorse',\n",
       " 'DebtRatio',\n",
       " 'MonthlyIncome',\n",
       " 'NumberOfOpenCreditLinesAndLoans',\n",
       " 'NumberOfTimes90DaysLate',\n",
       " 'NumberRealEstateLoansOrLines',\n",
       " 'NumberOfTime60-89DaysPastDueNotWorse',\n",
       " 'NumberOfDependents']"
      ]
     },
     "execution_count": 32,
     "metadata": {},
     "output_type": "execute_result"
    }
   ],
   "source": [
    "train.columns.tolist()[1:-1]"
   ]
  },
  {
   "cell_type": "code",
   "execution_count": 33,
   "metadata": {},
   "outputs": [
    {
     "name": "stdout",
     "output_type": "stream",
     "text": [
      "\n",
      "RevolvingUtilizationOfUnsecuredLines的IV值为：0.5270952658076192\n",
      "Saved...\n",
      "\n",
      "age的IV值为：0.10630739209281985\n",
      "Saved...\n",
      "\n",
      "NumberOfTime30-59DaysPastDueNotWorse的IV值为：0.3406105523141427\n",
      "Saved...\n",
      "\n",
      "DebtRatio的IV值为：0.03194889657494044\n",
      "Dropt...\n",
      "\n",
      "MonthlyIncome的IV值为：0.028130802154365364\n",
      "Dropt...\n",
      "\n",
      "NumberOfOpenCreditLinesAndLoans的IV值为：0.02500753746836124\n",
      "Dropt...\n",
      "\n",
      "NumberOfTimes90DaysLate的IV值为：0.37470365850920745\n",
      "Saved...\n",
      "\n",
      "NumberRealEstateLoansOrLines的IV值为：0.006035388120960453\n",
      "Dropt...\n",
      "\n",
      "NumberOfTime60-89DaysPastDueNotWorse的IV值为：0.20329806205744644\n",
      "Saved...\n",
      "\n",
      "NumberOfDependents的IV值为：0.009196548559156475\n",
      "Dropt...\n",
      "Wall time: 673 ms\n"
     ]
    }
   ],
   "source": [
    "%%time\n",
    "IV_list = []\n",
    "fea_bin_woe = pd.DataFrame()\n",
    "# 遍历每一个feature(除了第一个label,和最后一个count)\n",
    "for col in train.columns.tolist()[1:-1]:\n",
    "    \n",
    "    feat = train.groupby([col, 'SeriousDlqin2yrs'], as_index=False)['count'].count()\n",
    "    # 每个桶的总数\n",
    "    sum = feat.groupby(col, as_index=False)['count'].sum()\n",
    "\n",
    "    # 坏样本数\n",
    "    bad = feat[feat.SeriousDlqin2yrs==1][sum.columns]\n",
    "    bad['count']= bad['count'].apply(lambda x: 0 if str(x)=='nan' else x)\n",
    "    bad.rename(columns={'count':'bad'}, inplace=True)\n",
    "\n",
    "    # 好样本数\n",
    "    good = feat[feat.SeriousDlqin2yrs==0][sum.columns]\n",
    "    good['count']= good['count'].apply(lambda x: 0 if str(x)=='nan' else x)\n",
    "    good.rename(columns={'count':'good'}, inplace=True)\n",
    "\n",
    "    WOE = sum.merge(good, on=col).merge(bad, on=col)\n",
    "    \n",
    "    \n",
    "    # 该桶好/坏的占比\n",
    "    WOE['good_rate'] = WOE['good']/WOE['count']\n",
    "    WOE['bad_rate'] = WOE['bad']/WOE['count']\n",
    "\n",
    "    # 好/坏占总的好/坏的比例\n",
    "    WOE['margin_good_rate'] = WOE.good/WOE.good.sum()\n",
    "    WOE['margin_bad_rate'] = WOE.bad/WOE.bad.sum()\n",
    "    \n",
    "    # 其中NumberOfTime60-89DaysPastDueNotWorse存在bad为0的情况，因此需要用log1p避免结果为inf\n",
    "    WOE['WOE'] = np.log1p(WOE['margin_bad_rate']/WOE['margin_good_rate'])\n",
    "\n",
    "    # features bin woe\n",
    "    temp = pd.DataFrame(WOE[[col,'WOE']])\n",
    "    temp['features'] = col\n",
    "    temp.columns = ['bin','woe', 'features']\n",
    "    fea_bin_woe = pd.concat([fea_bin_woe, temp], axis=0)\n",
    "\n",
    "    \n",
    "    # WOE 只考虑的乘除，嘿嘿，不够全面，来个加减吧\n",
    "    WOE['IV'] = (WOE['margin_bad_rate']-WOE['margin_good_rate']) * WOE['WOE']\n",
    "    WOE = WOE[[col, 'WOE', 'IV']]\n",
    "\n",
    "    # 每一列的总和，最主要是IV值\n",
    "    WOE.loc['sum'] = ['sum'] + WOE.sum(axis=0).values.tolist()\n",
    "\n",
    "    # 判断IV值是否小于0.1, 如果小于0.1则跳过\n",
    "    IV = WOE.IV['sum']\n",
    "    print('\\n{}的IV值为：{}'.format(col, IV))\n",
    "    if IV<0.1:\n",
    "        print('Dropt...')\n",
    "        train.drop(columns=col, inplace=True)\n",
    "        test.drop(columns=col, inplace=True)\n",
    "        continue\n",
    "    IV_list.append([col,IV])\n",
    "    print('Saved...')\n",
    "        \n",
    "    # 桶和WOE的对应关系\n",
    "    transform_list = WOE.set_index(col)['WOE'] #, inplace=True)\n",
    "    # 将RevolvingUtilizationOfUnsecuredLines转换成WOE编码\n",
    "    train.loc[:,col]= train.loc[:,col].apply(lambda x: transform_list.loc[x])\n",
    "    \n",
    "    # 测试集\n",
    "    test.loc[:,col]= test.loc[:,col].apply(lambda x: transform_list.loc[x])"
   ]
  },
  {
   "cell_type": "markdown",
   "metadata": {},
   "source": [
    "##### # 编码规则"
   ]
  },
  {
   "cell_type": "code",
   "execution_count": 34,
   "metadata": {},
   "outputs": [
    {
     "data": {
      "text/html": [
       "<div>\n",
       "<style scoped>\n",
       "    .dataframe tbody tr th:only-of-type {\n",
       "        vertical-align: middle;\n",
       "    }\n",
       "\n",
       "    .dataframe tbody tr th {\n",
       "        vertical-align: top;\n",
       "    }\n",
       "\n",
       "    .dataframe thead th {\n",
       "        text-align: right;\n",
       "    }\n",
       "</style>\n",
       "<table border=\"1\" class=\"dataframe\">\n",
       "  <thead>\n",
       "    <tr style=\"text-align: right;\">\n",
       "      <th></th>\n",
       "      <th>features</th>\n",
       "      <th>bin</th>\n",
       "      <th>woe</th>\n",
       "    </tr>\n",
       "  </thead>\n",
       "  <tbody>\n",
       "    <tr>\n",
       "      <th>0</th>\n",
       "      <td>RevolvingUtilizationOfUnsecuredLines</td>\n",
       "      <td>(-0.001, 0.0192]</td>\n",
       "      <td>0.243780</td>\n",
       "    </tr>\n",
       "    <tr>\n",
       "      <th>1</th>\n",
       "      <td>RevolvingUtilizationOfUnsecuredLines</td>\n",
       "      <td>(0.0192, 0.083]</td>\n",
       "      <td>0.211270</td>\n",
       "    </tr>\n",
       "    <tr>\n",
       "      <th>2</th>\n",
       "      <td>RevolvingUtilizationOfUnsecuredLines</td>\n",
       "      <td>(0.083, 0.271]</td>\n",
       "      <td>0.350975</td>\n",
       "    </tr>\n",
       "    <tr>\n",
       "      <th>3</th>\n",
       "      <td>RevolvingUtilizationOfUnsecuredLines</td>\n",
       "      <td>(0.271, 0.702]</td>\n",
       "      <td>0.722034</td>\n",
       "    </tr>\n",
       "    <tr>\n",
       "      <th>4</th>\n",
       "      <td>RevolvingUtilizationOfUnsecuredLines</td>\n",
       "      <td>(0.702, 50708.0]</td>\n",
       "      <td>1.497742</td>\n",
       "    </tr>\n",
       "    <tr>\n",
       "      <th>...</th>\n",
       "      <td>...</td>\n",
       "      <td>...</td>\n",
       "      <td>...</td>\n",
       "    </tr>\n",
       "    <tr>\n",
       "      <th>60</th>\n",
       "      <td>NumberOfDependents</td>\n",
       "      <td>(2.0, 4.0]</td>\n",
       "      <td>0.880529</td>\n",
       "    </tr>\n",
       "    <tr>\n",
       "      <th>61</th>\n",
       "      <td>NumberOfDependents</td>\n",
       "      <td>(4.0, 6.0]</td>\n",
       "      <td>0.948487</td>\n",
       "    </tr>\n",
       "    <tr>\n",
       "      <th>62</th>\n",
       "      <td>NumberOfDependents</td>\n",
       "      <td>(6.0, 8.0]</td>\n",
       "      <td>0.890838</td>\n",
       "    </tr>\n",
       "    <tr>\n",
       "      <th>63</th>\n",
       "      <td>NumberOfDependents</td>\n",
       "      <td>(8.0, 10.0]</td>\n",
       "      <td>0.000000</td>\n",
       "    </tr>\n",
       "    <tr>\n",
       "      <th>64</th>\n",
       "      <td>NumberOfDependents</td>\n",
       "      <td>(10.0, inf]</td>\n",
       "      <td>0.510992</td>\n",
       "    </tr>\n",
       "  </tbody>\n",
       "</table>\n",
       "<p>65 rows × 3 columns</p>\n",
       "</div>"
      ],
      "text/plain": [
       "                                features               bin       woe\n",
       "0   RevolvingUtilizationOfUnsecuredLines  (-0.001, 0.0192]  0.243780\n",
       "1   RevolvingUtilizationOfUnsecuredLines   (0.0192, 0.083]  0.211270\n",
       "2   RevolvingUtilizationOfUnsecuredLines    (0.083, 0.271]  0.350975\n",
       "3   RevolvingUtilizationOfUnsecuredLines    (0.271, 0.702]  0.722034\n",
       "4   RevolvingUtilizationOfUnsecuredLines  (0.702, 50708.0]  1.497742\n",
       "..                                   ...               ...       ...\n",
       "60                    NumberOfDependents        (2.0, 4.0]  0.880529\n",
       "61                    NumberOfDependents        (4.0, 6.0]  0.948487\n",
       "62                    NumberOfDependents        (6.0, 8.0]  0.890838\n",
       "63                    NumberOfDependents       (8.0, 10.0]  0.000000\n",
       "64                    NumberOfDependents       (10.0, inf]  0.510992\n",
       "\n",
       "[65 rows x 3 columns]"
      ]
     },
     "execution_count": 34,
     "metadata": {},
     "output_type": "execute_result"
    }
   ],
   "source": [
    "fea_bin_woe = fea_bin_woe[['features', 'bin', 'woe']].reset_index(drop=True)\n",
    "fea_bin_woe"
   ]
  },
  {
   "cell_type": "code",
   "execution_count": 35,
   "metadata": {},
   "outputs": [],
   "source": [
    "train.drop(columns='count', inplace=True)"
   ]
  },
  {
   "cell_type": "code",
   "execution_count": 36,
   "metadata": {},
   "outputs": [
    {
     "data": {
      "text/plain": [
       "SeriousDlqin2yrs                        0\n",
       "RevolvingUtilizationOfUnsecuredLines    0\n",
       "age                                     0\n",
       "NumberOfTime30-59DaysPastDueNotWorse    0\n",
       "NumberOfTimes90DaysLate                 0\n",
       "NumberOfTime60-89DaysPastDueNotWorse    0\n",
       "dtype: int64"
      ]
     },
     "execution_count": 36,
     "metadata": {},
     "output_type": "execute_result"
    }
   ],
   "source": [
    "train.isna().sum()"
   ]
  },
  {
   "cell_type": "markdown",
   "metadata": {},
   "source": [
    "#### 切分验证集"
   ]
  },
  {
   "cell_type": "code",
   "execution_count": 37,
   "metadata": {},
   "outputs": [],
   "source": [
    "y_train = train.SeriousDlqin2yrs.values\n",
    "x_train = train.drop(columns = 'SeriousDlqin2yrs').values"
   ]
  },
  {
   "cell_type": "code",
   "execution_count": 38,
   "metadata": {},
   "outputs": [],
   "source": [
    "feat_col = train.drop(columns = 'SeriousDlqin2yrs').columns.tolist()"
   ]
  },
  {
   "cell_type": "code",
   "execution_count": 39,
   "metadata": {},
   "outputs": [],
   "source": [
    "x_test = test.drop(columns = 'SeriousDlqin2yrs').values"
   ]
  },
  {
   "cell_type": "markdown",
   "metadata": {},
   "source": [
    "#### Thinking: WOE还要不要做归一化呢？ \n",
    "* A: 结果差不多"
   ]
  },
  {
   "cell_type": "code",
   "execution_count": 40,
   "metadata": {},
   "outputs": [],
   "source": [
    "# from sklearn.preprocessing import StandardScaler\n",
    "# ss = StandardScaler()\n",
    "# x_train_ss = ss.fit_transform(x_train)\n",
    "# x_test_ss = ss.transform(x_test)\n",
    "\n",
    "# from sklearn.model_selection import train_test_split\n",
    "#x_train_ss, x_val_ss, y_train, y_val = train_test_split(x_train_ss, y_train, test_size=0.2, random_state=33)"
   ]
  },
  {
   "cell_type": "code",
   "execution_count": 41,
   "metadata": {},
   "outputs": [],
   "source": [
    "from sklearn.model_selection import train_test_split\n",
    "x_train, x_val, y_train, y_val = train_test_split(x_train, y_train, test_size=0.2, random_state=33)"
   ]
  },
  {
   "cell_type": "code",
   "execution_count": 42,
   "metadata": {},
   "outputs": [],
   "source": [
    "# 利用LR模型预测 \n",
    "from sklearn.linear_model import LogisticRegression\n",
    "from sklearn.metrics import accuracy_score, roc_auc_score\n",
    "lr = LogisticRegression(random_state=33)"
   ]
  },
  {
   "cell_type": "code",
   "execution_count": 43,
   "metadata": {},
   "outputs": [
    {
     "data": {
      "text/plain": [
       "LogisticRegression(C=1.0, class_weight=None, dual=False, fit_intercept=True,\n",
       "          intercept_scaling=1, max_iter=100, multi_class='warn',\n",
       "          n_jobs=None, penalty='l2', random_state=33, solver='warn',\n",
       "          tol=0.0001, verbose=0, warm_start=False)"
      ]
     },
     "execution_count": 43,
     "metadata": {},
     "output_type": "execute_result"
    }
   ],
   "source": [
    "lr.fit(x_train, y_train)"
   ]
  },
  {
   "cell_type": "code",
   "execution_count": 44,
   "metadata": {},
   "outputs": [
    {
     "name": "stdout",
     "output_type": "stream",
     "text": [
      "ACC: 0.9364333333333333\n",
      "ROC: 0.7787691092695656\n"
     ]
    }
   ],
   "source": [
    "y_pred = lr.predict(x_val)\n",
    "print('ACC:', accuracy_score(y_pred, y_val))\n",
    "print('ROC:', roc_auc_score(y_pred, y_val))"
   ]
  },
  {
   "cell_type": "markdown",
   "metadata": {},
   "source": [
    "* 本项目主要利用WOE和IV来衡量特征变量的预测能力，或者说特征变量的特征区分度。并对原特征进行WOE编码，代替原特征输入模型，再者，剔除IV<0.1的特征，避免数据冗余。通过实验可以得出只利用筛选后的特征比无脑地将全量特征喂给模型更有效。"
   ]
  },
  {
   "cell_type": "markdown",
   "metadata": {},
   "source": [
    "##### Thinking :\n",
    "* WOE依赖于对原始特征的分箱操作，这个分箱并没有明确的理论指导，更多的是对业务的理解，譬如，年龄多大是青年、中年、老年，不同时代，人的寿命长短不一，划分的界限也不一样，因此，分箱是一个不太可控的因素。由于分箱的不准确，或者偏差较大，边界问题等，可能会导致IV值<0.1，最终导致该变量被丢弃。因此应该多尝试，多理解业务场景，这样更有利于我们对边界的定义。"
   ]
  },
  {
   "cell_type": "markdown",
   "metadata": {},
   "source": [
    "### 利用LR的coef_查看哪个变量的重要性比较高，寻求可解释性"
   ]
  },
  {
   "cell_type": "code",
   "execution_count": 45,
   "metadata": {},
   "outputs": [],
   "source": [
    "feat_imp = pd.DataFrame([feat_col, lr.coef_[0]]).T\n",
    "IV_df = pd.DataFrame(IV_list)"
   ]
  },
  {
   "cell_type": "code",
   "execution_count": 46,
   "metadata": {},
   "outputs": [
    {
     "data": {
      "text/html": [
       "<div>\n",
       "<style scoped>\n",
       "    .dataframe tbody tr th:only-of-type {\n",
       "        vertical-align: middle;\n",
       "    }\n",
       "\n",
       "    .dataframe tbody tr th {\n",
       "        vertical-align: top;\n",
       "    }\n",
       "\n",
       "    .dataframe thead th {\n",
       "        text-align: right;\n",
       "    }\n",
       "</style>\n",
       "<table border=\"1\" class=\"dataframe\">\n",
       "  <thead>\n",
       "    <tr style=\"text-align: right;\">\n",
       "      <th></th>\n",
       "      <th>0</th>\n",
       "      <th>1</th>\n",
       "    </tr>\n",
       "  </thead>\n",
       "  <tbody>\n",
       "    <tr>\n",
       "      <th>0</th>\n",
       "      <td>RevolvingUtilizationOfUnsecuredLines</td>\n",
       "      <td>1.43829</td>\n",
       "    </tr>\n",
       "    <tr>\n",
       "      <th>1</th>\n",
       "      <td>age</td>\n",
       "      <td>1.08714</td>\n",
       "    </tr>\n",
       "    <tr>\n",
       "      <th>2</th>\n",
       "      <td>NumberOfTime30-59DaysPastDueNotWorse</td>\n",
       "      <td>0.872805</td>\n",
       "    </tr>\n",
       "    <tr>\n",
       "      <th>3</th>\n",
       "      <td>NumberOfTimes90DaysLate</td>\n",
       "      <td>0.726142</td>\n",
       "    </tr>\n",
       "    <tr>\n",
       "      <th>4</th>\n",
       "      <td>NumberOfTime60-89DaysPastDueNotWorse</td>\n",
       "      <td>0.450155</td>\n",
       "    </tr>\n",
       "  </tbody>\n",
       "</table>\n",
       "</div>"
      ],
      "text/plain": [
       "                                      0         1\n",
       "0  RevolvingUtilizationOfUnsecuredLines   1.43829\n",
       "1                                   age   1.08714\n",
       "2  NumberOfTime30-59DaysPastDueNotWorse  0.872805\n",
       "3               NumberOfTimes90DaysLate  0.726142\n",
       "4  NumberOfTime60-89DaysPastDueNotWorse  0.450155"
      ]
     },
     "execution_count": 46,
     "metadata": {},
     "output_type": "execute_result"
    }
   ],
   "source": [
    "feat_imp"
   ]
  },
  {
   "cell_type": "code",
   "execution_count": 47,
   "metadata": {},
   "outputs": [
    {
     "data": {
      "text/html": [
       "<div>\n",
       "<style scoped>\n",
       "    .dataframe tbody tr th:only-of-type {\n",
       "        vertical-align: middle;\n",
       "    }\n",
       "\n",
       "    .dataframe tbody tr th {\n",
       "        vertical-align: top;\n",
       "    }\n",
       "\n",
       "    .dataframe thead th {\n",
       "        text-align: right;\n",
       "    }\n",
       "</style>\n",
       "<table border=\"1\" class=\"dataframe\">\n",
       "  <thead>\n",
       "    <tr style=\"text-align: right;\">\n",
       "      <th></th>\n",
       "      <th>0</th>\n",
       "      <th>1</th>\n",
       "    </tr>\n",
       "  </thead>\n",
       "  <tbody>\n",
       "    <tr>\n",
       "      <th>0</th>\n",
       "      <td>RevolvingUtilizationOfUnsecuredLines</td>\n",
       "      <td>0.527095</td>\n",
       "    </tr>\n",
       "    <tr>\n",
       "      <th>1</th>\n",
       "      <td>age</td>\n",
       "      <td>0.106307</td>\n",
       "    </tr>\n",
       "    <tr>\n",
       "      <th>2</th>\n",
       "      <td>NumberOfTime30-59DaysPastDueNotWorse</td>\n",
       "      <td>0.340611</td>\n",
       "    </tr>\n",
       "    <tr>\n",
       "      <th>3</th>\n",
       "      <td>NumberOfTimes90DaysLate</td>\n",
       "      <td>0.374704</td>\n",
       "    </tr>\n",
       "    <tr>\n",
       "      <th>4</th>\n",
       "      <td>NumberOfTime60-89DaysPastDueNotWorse</td>\n",
       "      <td>0.203298</td>\n",
       "    </tr>\n",
       "  </tbody>\n",
       "</table>\n",
       "</div>"
      ],
      "text/plain": [
       "                                      0         1\n",
       "0  RevolvingUtilizationOfUnsecuredLines  0.527095\n",
       "1                                   age  0.106307\n",
       "2  NumberOfTime30-59DaysPastDueNotWorse  0.340611\n",
       "3               NumberOfTimes90DaysLate  0.374704\n",
       "4  NumberOfTime60-89DaysPastDueNotWorse  0.203298"
      ]
     },
     "execution_count": 47,
     "metadata": {},
     "output_type": "execute_result"
    }
   ],
   "source": [
    "IV_df"
   ]
  },
  {
   "cell_type": "code",
   "execution_count": 48,
   "metadata": {},
   "outputs": [
    {
     "data": {
      "text/html": [
       "<div>\n",
       "<style scoped>\n",
       "    .dataframe tbody tr th:only-of-type {\n",
       "        vertical-align: middle;\n",
       "    }\n",
       "\n",
       "    .dataframe tbody tr th {\n",
       "        vertical-align: top;\n",
       "    }\n",
       "\n",
       "    .dataframe thead th {\n",
       "        text-align: right;\n",
       "    }\n",
       "</style>\n",
       "<table border=\"1\" class=\"dataframe\">\n",
       "  <thead>\n",
       "    <tr style=\"text-align: right;\">\n",
       "      <th></th>\n",
       "      <th>feature</th>\n",
       "      <th>importance</th>\n",
       "      <th>iv</th>\n",
       "    </tr>\n",
       "  </thead>\n",
       "  <tbody>\n",
       "    <tr>\n",
       "      <th>0</th>\n",
       "      <td>RevolvingUtilizationOfUnsecuredLines</td>\n",
       "      <td>1.43829</td>\n",
       "      <td>0.527095</td>\n",
       "    </tr>\n",
       "    <tr>\n",
       "      <th>1</th>\n",
       "      <td>age</td>\n",
       "      <td>1.08714</td>\n",
       "      <td>0.106307</td>\n",
       "    </tr>\n",
       "    <tr>\n",
       "      <th>2</th>\n",
       "      <td>NumberOfTime30-59DaysPastDueNotWorse</td>\n",
       "      <td>0.872805</td>\n",
       "      <td>0.340611</td>\n",
       "    </tr>\n",
       "    <tr>\n",
       "      <th>3</th>\n",
       "      <td>NumberOfTimes90DaysLate</td>\n",
       "      <td>0.726142</td>\n",
       "      <td>0.374704</td>\n",
       "    </tr>\n",
       "    <tr>\n",
       "      <th>4</th>\n",
       "      <td>NumberOfTime60-89DaysPastDueNotWorse</td>\n",
       "      <td>0.450155</td>\n",
       "      <td>0.203298</td>\n",
       "    </tr>\n",
       "  </tbody>\n",
       "</table>\n",
       "</div>"
      ],
      "text/plain": [
       "                                feature importance        iv\n",
       "0  RevolvingUtilizationOfUnsecuredLines    1.43829  0.527095\n",
       "1                                   age    1.08714  0.106307\n",
       "2  NumberOfTime30-59DaysPastDueNotWorse   0.872805  0.340611\n",
       "3               NumberOfTimes90DaysLate   0.726142  0.374704\n",
       "4  NumberOfTime60-89DaysPastDueNotWorse   0.450155  0.203298"
      ]
     },
     "execution_count": 48,
     "metadata": {},
     "output_type": "execute_result"
    }
   ],
   "source": [
    "# 在训练好的LR中提取每个特征的系数与之前计算的IV值拼接\n",
    "feat_imp_iv = feat_imp.merge(IV_df, on=0)\n",
    "feat_imp_iv.columns = ['feature', 'importance', 'iv']\n",
    "feat_imp_iv"
   ]
  },
  {
   "cell_type": "markdown",
   "metadata": {},
   "source": [
    "##### 可以看到RevolvingUtilizationOfUnsecuredLines的权重最大，而对应的IV值也达到了0.527；但有一个现象，IV值为0.106，差点就被丢弃的age特征，在LR中的权重系数却排到了第二 1.087，这是为什么呢？"
   ]
  },
  {
   "cell_type": "markdown",
   "metadata": {},
   "source": [
    "### 生成评分卡模型"
   ]
  },
  {
   "cell_type": "code",
   "execution_count": 49,
   "metadata": {},
   "outputs": [],
   "source": [
    "pd.options.display.max_rows=65\n",
    "#fea_bin_woe"
   ]
  },
  {
   "cell_type": "code",
   "execution_count": 50,
   "metadata": {},
   "outputs": [],
   "source": [
    "# PDO = 50, B = 72.13\n",
    "# odds=1， P0 = 650\n",
    "\n",
    "lst = ['Variable', 'Bin', 'Score']\n",
    "def generate_fea_bin_woe_score(fea_bin_woe, B, model_coef, iv_features):\n",
    "    '''\n",
    "    Score = A - LR的系数 * WOE * B\n",
    "    Variable, Bin, WOE 来自规则表\n",
    "    A, B 可计算(基于两个假设)\n",
    "    LR系数：lr.coef_[0]\n",
    "    '''\n",
    "    fea_bin_woe_score = pd.DataFrame()\n",
    "    coef = model_coef[0]\n",
    "    for i in range(len(iv_features)):\n",
    "        feat = iv_features[i][0]\n",
    "        df = fea_bin_woe[fea_bin_woe.features == feat]\n",
    "        df['Score'] = - coef[i]*df['woe']*B\n",
    "        df = df[['features', 'bin', 'woe', 'Score']]\n",
    "        fea_bin_woe_score = fea_bin_woe_score.append(df)\n",
    "    return fea_bin_woe_score"
   ]
  },
  {
   "cell_type": "code",
   "execution_count": 51,
   "metadata": {},
   "outputs": [],
   "source": [
    "fea_bin_woe_score = generate_fea_bin_woe_score(fea_bin_woe, B=72.13, model_coef=lr.coef_, iv_features=IV_list)"
   ]
  },
  {
   "cell_type": "code",
   "execution_count": 52,
   "metadata": {},
   "outputs": [
    {
     "data": {
      "text/html": [
       "<div>\n",
       "<style scoped>\n",
       "    .dataframe tbody tr th:only-of-type {\n",
       "        vertical-align: middle;\n",
       "    }\n",
       "\n",
       "    .dataframe tbody tr th {\n",
       "        vertical-align: top;\n",
       "    }\n",
       "\n",
       "    .dataframe thead th {\n",
       "        text-align: right;\n",
       "    }\n",
       "</style>\n",
       "<table border=\"1\" class=\"dataframe\">\n",
       "  <thead>\n",
       "    <tr style=\"text-align: right;\">\n",
       "      <th></th>\n",
       "      <th>features</th>\n",
       "      <th>bin</th>\n",
       "      <th>Score</th>\n",
       "    </tr>\n",
       "  </thead>\n",
       "  <tbody>\n",
       "    <tr>\n",
       "      <th>0</th>\n",
       "      <td>RevolvingUtilizationOfUnsecuredLines</td>\n",
       "      <td>(-0.001, 0.0192]</td>\n",
       "      <td>-25.290692</td>\n",
       "    </tr>\n",
       "    <tr>\n",
       "      <th>1</th>\n",
       "      <td>RevolvingUtilizationOfUnsecuredLines</td>\n",
       "      <td>(0.0192, 0.083]</td>\n",
       "      <td>-21.918049</td>\n",
       "    </tr>\n",
       "    <tr>\n",
       "      <th>2</th>\n",
       "      <td>RevolvingUtilizationOfUnsecuredLines</td>\n",
       "      <td>(0.083, 0.271]</td>\n",
       "      <td>-36.411579</td>\n",
       "    </tr>\n",
       "    <tr>\n",
       "      <th>3</th>\n",
       "      <td>RevolvingUtilizationOfUnsecuredLines</td>\n",
       "      <td>(0.271, 0.702]</td>\n",
       "      <td>-74.906817</td>\n",
       "    </tr>\n",
       "    <tr>\n",
       "      <th>4</th>\n",
       "      <td>RevolvingUtilizationOfUnsecuredLines</td>\n",
       "      <td>(0.702, 50708.0]</td>\n",
       "      <td>-155.381966</td>\n",
       "    </tr>\n",
       "    <tr>\n",
       "      <th>5</th>\n",
       "      <td>age</td>\n",
       "      <td>(-inf, 25.0]</td>\n",
       "      <td>-79.445229</td>\n",
       "    </tr>\n",
       "    <tr>\n",
       "      <th>6</th>\n",
       "      <td>age</td>\n",
       "      <td>(25.0, 40.0]</td>\n",
       "      <td>-74.904687</td>\n",
       "    </tr>\n",
       "    <tr>\n",
       "      <th>7</th>\n",
       "      <td>age</td>\n",
       "      <td>(40.0, 50.0]</td>\n",
       "      <td>-63.816112</td>\n",
       "    </tr>\n",
       "    <tr>\n",
       "      <th>8</th>\n",
       "      <td>age</td>\n",
       "      <td>(50.0, 60.0]</td>\n",
       "      <td>-51.099687</td>\n",
       "    </tr>\n",
       "    <tr>\n",
       "      <th>9</th>\n",
       "      <td>age</td>\n",
       "      <td>(60.0, 70.0]</td>\n",
       "      <td>-31.903143</td>\n",
       "    </tr>\n",
       "    <tr>\n",
       "      <th>10</th>\n",
       "      <td>age</td>\n",
       "      <td>(70.0, inf]</td>\n",
       "      <td>-21.909534</td>\n",
       "    </tr>\n",
       "    <tr>\n",
       "      <th>11</th>\n",
       "      <td>NumberOfTime30-59DaysPastDueNotWorse</td>\n",
       "      <td>(-inf, 1.0]</td>\n",
       "      <td>-36.043282</td>\n",
       "    </tr>\n",
       "    <tr>\n",
       "      <th>12</th>\n",
       "      <td>NumberOfTime30-59DaysPastDueNotWorse</td>\n",
       "      <td>(1.0, 2.0]</td>\n",
       "      <td>-113.183575</td>\n",
       "    </tr>\n",
       "    <tr>\n",
       "      <th>13</th>\n",
       "      <td>NumberOfTime30-59DaysPastDueNotWorse</td>\n",
       "      <td>(2.0, 3.0]</td>\n",
       "      <td>-135.428763</td>\n",
       "    </tr>\n",
       "    <tr>\n",
       "      <th>14</th>\n",
       "      <td>NumberOfTime30-59DaysPastDueNotWorse</td>\n",
       "      <td>(3.0, 4.0]</td>\n",
       "      <td>-152.925726</td>\n",
       "    </tr>\n",
       "    <tr>\n",
       "      <th>15</th>\n",
       "      <td>NumberOfTime30-59DaysPastDueNotWorse</td>\n",
       "      <td>(4.0, 5.0]</td>\n",
       "      <td>-158.686293</td>\n",
       "    </tr>\n",
       "    <tr>\n",
       "      <th>16</th>\n",
       "      <td>NumberOfTime30-59DaysPastDueNotWorse</td>\n",
       "      <td>(5.0, 6.0]</td>\n",
       "      <td>-177.069182</td>\n",
       "    </tr>\n",
       "    <tr>\n",
       "      <th>17</th>\n",
       "      <td>NumberOfTime30-59DaysPastDueNotWorse</td>\n",
       "      <td>(6.0, 7.0]</td>\n",
       "      <td>-174.687206</td>\n",
       "    </tr>\n",
       "    <tr>\n",
       "      <th>18</th>\n",
       "      <td>NumberOfTime30-59DaysPastDueNotWorse</td>\n",
       "      <td>(7.0, 8.0]</td>\n",
       "      <td>-127.433363</td>\n",
       "    </tr>\n",
       "    <tr>\n",
       "      <th>19</th>\n",
       "      <td>NumberOfTime30-59DaysPastDueNotWorse</td>\n",
       "      <td>(8.0, 9.0]</td>\n",
       "      <td>-130.758894</td>\n",
       "    </tr>\n",
       "    <tr>\n",
       "      <th>20</th>\n",
       "      <td>NumberOfTime30-59DaysPastDueNotWorse</td>\n",
       "      <td>(9.0, inf]</td>\n",
       "      <td>-182.750798</td>\n",
       "    </tr>\n",
       "    <tr>\n",
       "      <th>36</th>\n",
       "      <td>NumberOfTimes90DaysLate</td>\n",
       "      <td>(-inf, 1.0]</td>\n",
       "      <td>-31.881995</td>\n",
       "    </tr>\n",
       "    <tr>\n",
       "      <th>37</th>\n",
       "      <td>NumberOfTimes90DaysLate</td>\n",
       "      <td>(1.0, 2.0]</td>\n",
       "      <td>-141.513903</td>\n",
       "    </tr>\n",
       "    <tr>\n",
       "      <th>38</th>\n",
       "      <td>NumberOfTimes90DaysLate</td>\n",
       "      <td>(2.0, 3.0]</td>\n",
       "      <td>-157.064136</td>\n",
       "    </tr>\n",
       "    <tr>\n",
       "      <th>39</th>\n",
       "      <td>NumberOfTimes90DaysLate</td>\n",
       "      <td>(3.0, 4.0]</td>\n",
       "      <td>-177.011006</td>\n",
       "    </tr>\n",
       "    <tr>\n",
       "      <th>40</th>\n",
       "      <td>NumberOfTimes90DaysLate</td>\n",
       "      <td>(4.0, 5.0]</td>\n",
       "      <td>-168.888502</td>\n",
       "    </tr>\n",
       "    <tr>\n",
       "      <th>41</th>\n",
       "      <td>NumberOfTimes90DaysLate</td>\n",
       "      <td>(5.0, 6.0]</td>\n",
       "      <td>-161.759205</td>\n",
       "    </tr>\n",
       "    <tr>\n",
       "      <th>42</th>\n",
       "      <td>NumberOfTimes90DaysLate</td>\n",
       "      <td>(6.0, 7.0]</td>\n",
       "      <td>-216.859907</td>\n",
       "    </tr>\n",
       "    <tr>\n",
       "      <th>43</th>\n",
       "      <td>NumberOfTimes90DaysLate</td>\n",
       "      <td>(7.0, 8.0]</td>\n",
       "      <td>-187.550871</td>\n",
       "    </tr>\n",
       "    <tr>\n",
       "      <th>44</th>\n",
       "      <td>NumberOfTimes90DaysLate</td>\n",
       "      <td>(8.0, 9.0]</td>\n",
       "      <td>-193.330104</td>\n",
       "    </tr>\n",
       "    <tr>\n",
       "      <th>45</th>\n",
       "      <td>NumberOfTimes90DaysLate</td>\n",
       "      <td>(9.0, inf]</td>\n",
       "      <td>-150.788830</td>\n",
       "    </tr>\n",
       "    <tr>\n",
       "      <th>49</th>\n",
       "      <td>NumberOfTime60-89DaysPastDueNotWorse</td>\n",
       "      <td>(-inf, 1.0]</td>\n",
       "      <td>-20.954366</td>\n",
       "    </tr>\n",
       "    <tr>\n",
       "      <th>50</th>\n",
       "      <td>NumberOfTime60-89DaysPastDueNotWorse</td>\n",
       "      <td>(1.0, 2.0]</td>\n",
       "      <td>-88.062084</td>\n",
       "    </tr>\n",
       "    <tr>\n",
       "      <th>51</th>\n",
       "      <td>NumberOfTime60-89DaysPastDueNotWorse</td>\n",
       "      <td>(2.0, 3.0]</td>\n",
       "      <td>-95.962130</td>\n",
       "    </tr>\n",
       "    <tr>\n",
       "      <th>52</th>\n",
       "      <td>NumberOfTime60-89DaysPastDueNotWorse</td>\n",
       "      <td>(3.0, 4.0]</td>\n",
       "      <td>-102.763868</td>\n",
       "    </tr>\n",
       "    <tr>\n",
       "      <th>53</th>\n",
       "      <td>NumberOfTime60-89DaysPastDueNotWorse</td>\n",
       "      <td>(4.0, 5.0]</td>\n",
       "      <td>-102.579327</td>\n",
       "    </tr>\n",
       "    <tr>\n",
       "      <th>54</th>\n",
       "      <td>NumberOfTime60-89DaysPastDueNotWorse</td>\n",
       "      <td>(5.0, 6.0]</td>\n",
       "      <td>-122.036737</td>\n",
       "    </tr>\n",
       "    <tr>\n",
       "      <th>55</th>\n",
       "      <td>NumberOfTime60-89DaysPastDueNotWorse</td>\n",
       "      <td>(6.0, 7.0]</td>\n",
       "      <td>-94.653639</td>\n",
       "    </tr>\n",
       "    <tr>\n",
       "      <th>56</th>\n",
       "      <td>NumberOfTime60-89DaysPastDueNotWorse</td>\n",
       "      <td>(7.0, 8.0]</td>\n",
       "      <td>-87.845220</td>\n",
       "    </tr>\n",
       "    <tr>\n",
       "      <th>57</th>\n",
       "      <td>NumberOfTime60-89DaysPastDueNotWorse</td>\n",
       "      <td>(8.0, 9.0]</td>\n",
       "      <td>-0.000000</td>\n",
       "    </tr>\n",
       "    <tr>\n",
       "      <th>58</th>\n",
       "      <td>NumberOfTime60-89DaysPastDueNotWorse</td>\n",
       "      <td>(9.0, inf]</td>\n",
       "      <td>-93.734558</td>\n",
       "    </tr>\n",
       "  </tbody>\n",
       "</table>\n",
       "</div>"
      ],
      "text/plain": [
       "                                features               bin       Score\n",
       "0   RevolvingUtilizationOfUnsecuredLines  (-0.001, 0.0192]  -25.290692\n",
       "1   RevolvingUtilizationOfUnsecuredLines   (0.0192, 0.083]  -21.918049\n",
       "2   RevolvingUtilizationOfUnsecuredLines    (0.083, 0.271]  -36.411579\n",
       "3   RevolvingUtilizationOfUnsecuredLines    (0.271, 0.702]  -74.906817\n",
       "4   RevolvingUtilizationOfUnsecuredLines  (0.702, 50708.0] -155.381966\n",
       "5                                    age      (-inf, 25.0]  -79.445229\n",
       "6                                    age      (25.0, 40.0]  -74.904687\n",
       "7                                    age      (40.0, 50.0]  -63.816112\n",
       "8                                    age      (50.0, 60.0]  -51.099687\n",
       "9                                    age      (60.0, 70.0]  -31.903143\n",
       "10                                   age       (70.0, inf]  -21.909534\n",
       "11  NumberOfTime30-59DaysPastDueNotWorse       (-inf, 1.0]  -36.043282\n",
       "12  NumberOfTime30-59DaysPastDueNotWorse        (1.0, 2.0] -113.183575\n",
       "13  NumberOfTime30-59DaysPastDueNotWorse        (2.0, 3.0] -135.428763\n",
       "14  NumberOfTime30-59DaysPastDueNotWorse        (3.0, 4.0] -152.925726\n",
       "15  NumberOfTime30-59DaysPastDueNotWorse        (4.0, 5.0] -158.686293\n",
       "16  NumberOfTime30-59DaysPastDueNotWorse        (5.0, 6.0] -177.069182\n",
       "17  NumberOfTime30-59DaysPastDueNotWorse        (6.0, 7.0] -174.687206\n",
       "18  NumberOfTime30-59DaysPastDueNotWorse        (7.0, 8.0] -127.433363\n",
       "19  NumberOfTime30-59DaysPastDueNotWorse        (8.0, 9.0] -130.758894\n",
       "20  NumberOfTime30-59DaysPastDueNotWorse        (9.0, inf] -182.750798\n",
       "36               NumberOfTimes90DaysLate       (-inf, 1.0]  -31.881995\n",
       "37               NumberOfTimes90DaysLate        (1.0, 2.0] -141.513903\n",
       "38               NumberOfTimes90DaysLate        (2.0, 3.0] -157.064136\n",
       "39               NumberOfTimes90DaysLate        (3.0, 4.0] -177.011006\n",
       "40               NumberOfTimes90DaysLate        (4.0, 5.0] -168.888502\n",
       "41               NumberOfTimes90DaysLate        (5.0, 6.0] -161.759205\n",
       "42               NumberOfTimes90DaysLate        (6.0, 7.0] -216.859907\n",
       "43               NumberOfTimes90DaysLate        (7.0, 8.0] -187.550871\n",
       "44               NumberOfTimes90DaysLate        (8.0, 9.0] -193.330104\n",
       "45               NumberOfTimes90DaysLate        (9.0, inf] -150.788830\n",
       "49  NumberOfTime60-89DaysPastDueNotWorse       (-inf, 1.0]  -20.954366\n",
       "50  NumberOfTime60-89DaysPastDueNotWorse        (1.0, 2.0]  -88.062084\n",
       "51  NumberOfTime60-89DaysPastDueNotWorse        (2.0, 3.0]  -95.962130\n",
       "52  NumberOfTime60-89DaysPastDueNotWorse        (3.0, 4.0] -102.763868\n",
       "53  NumberOfTime60-89DaysPastDueNotWorse        (4.0, 5.0] -102.579327\n",
       "54  NumberOfTime60-89DaysPastDueNotWorse        (5.0, 6.0] -122.036737\n",
       "55  NumberOfTime60-89DaysPastDueNotWorse        (6.0, 7.0]  -94.653639\n",
       "56  NumberOfTime60-89DaysPastDueNotWorse        (7.0, 8.0]  -87.845220\n",
       "57  NumberOfTime60-89DaysPastDueNotWorse        (8.0, 9.0]   -0.000000\n",
       "58  NumberOfTime60-89DaysPastDueNotWorse        (9.0, inf]  -93.734558"
      ]
     },
     "execution_count": 52,
     "metadata": {},
     "output_type": "execute_result"
    }
   ],
   "source": [
    "Scorecard = fea_bin_woe_score[['features', 'bin', 'Score']]\n",
    "Scorecard"
   ]
  },
  {
   "cell_type": "code",
   "execution_count": 53,
   "metadata": {},
   "outputs": [
    {
     "data": {
      "text/html": [
       "<div>\n",
       "<style scoped>\n",
       "    .dataframe tbody tr th:only-of-type {\n",
       "        vertical-align: middle;\n",
       "    }\n",
       "\n",
       "    .dataframe tbody tr th {\n",
       "        vertical-align: top;\n",
       "    }\n",
       "\n",
       "    .dataframe thead th {\n",
       "        text-align: right;\n",
       "    }\n",
       "</style>\n",
       "<table border=\"1\" class=\"dataframe\">\n",
       "  <thead>\n",
       "    <tr style=\"text-align: right;\">\n",
       "      <th></th>\n",
       "      <th>features</th>\n",
       "      <th>bin</th>\n",
       "      <th>woe</th>\n",
       "      <th>Score</th>\n",
       "    </tr>\n",
       "  </thead>\n",
       "  <tbody>\n",
       "    <tr>\n",
       "      <th>0</th>\n",
       "      <td>RevolvingUtilizationOfUnsecuredLines</td>\n",
       "      <td>(-0.001, 0.0192]</td>\n",
       "      <td>0.243780</td>\n",
       "      <td>-25.290692</td>\n",
       "    </tr>\n",
       "    <tr>\n",
       "      <th>1</th>\n",
       "      <td>RevolvingUtilizationOfUnsecuredLines</td>\n",
       "      <td>(0.0192, 0.083]</td>\n",
       "      <td>0.211270</td>\n",
       "      <td>-21.918049</td>\n",
       "    </tr>\n",
       "    <tr>\n",
       "      <th>2</th>\n",
       "      <td>RevolvingUtilizationOfUnsecuredLines</td>\n",
       "      <td>(0.083, 0.271]</td>\n",
       "      <td>0.350975</td>\n",
       "      <td>-36.411579</td>\n",
       "    </tr>\n",
       "  </tbody>\n",
       "</table>\n",
       "</div>"
      ],
      "text/plain": [
       "                               features               bin       woe      Score\n",
       "0  RevolvingUtilizationOfUnsecuredLines  (-0.001, 0.0192]  0.243780 -25.290692\n",
       "1  RevolvingUtilizationOfUnsecuredLines   (0.0192, 0.083]  0.211270 -21.918049\n",
       "2  RevolvingUtilizationOfUnsecuredLines    (0.083, 0.271]  0.350975 -36.411579"
      ]
     },
     "execution_count": 53,
     "metadata": {},
     "output_type": "execute_result"
    }
   ],
   "source": [
    "# 因为我们的train的每个字段已经映射到woe，因此我们可以通过fea_bin_woe_score中的fea_woe_score，将字段映射到score，再求每个用户的score\n",
    "fea_bin_woe_score.head(3)"
   ]
  },
  {
   "cell_type": "code",
   "execution_count": 54,
   "metadata": {},
   "outputs": [],
   "source": [
    "train_col = train.columns.tolist()\n",
    "for i in range(1, len(train_col)):\n",
    "    # 通过col找到fea_bin_woe_score中的feature，再通过woe，找到score\n",
    "    woe_score = fea_bin_woe_score[fea_bin_woe_score.features == train_col[i]][['woe', 'Score']]\n",
    "    train.loc[:,train_col[i]] = train.loc[:,train_col[i]].apply(lambda x: woe_score[woe_score.woe==x]['Score'].values[0])"
   ]
  },
  {
   "cell_type": "code",
   "execution_count": 55,
   "metadata": {},
   "outputs": [],
   "source": [
    "A = 1000\n",
    "train['Score'] = A + train[train_col[1:]].sum(axis=1)"
   ]
  },
  {
   "cell_type": "code",
   "execution_count": 56,
   "metadata": {},
   "outputs": [
    {
     "data": {
      "text/plain": [
       "count    150000.000000\n",
       "mean        787.391359\n",
       "std          73.997689\n",
       "min         313.053832\n",
       "25%         761.308854\n",
       "50%         810.924979\n",
       "75%         838.102621\n",
       "max         867.292774\n",
       "Name: Score, dtype: float64"
      ]
     },
     "execution_count": 56,
     "metadata": {},
     "output_type": "execute_result"
    }
   ],
   "source": [
    "train.Score.describe()"
   ]
  },
  {
   "cell_type": "code",
   "execution_count": 57,
   "metadata": {},
   "outputs": [],
   "source": [
    "Score = train[['SeriousDlqin2yrs', 'Score']]\n",
    "Score['违约情况'] = Score.SeriousDlqin2yrs.apply(lambda x: '违约' if x == 1 else '未违约')\n",
    "Score = Score[['Score', '违约情况']]"
   ]
  },
  {
   "cell_type": "code",
   "execution_count": 58,
   "metadata": {},
   "outputs": [
    {
     "data": {
      "text/html": [
       "<div>\n",
       "<style scoped>\n",
       "    .dataframe tbody tr th:only-of-type {\n",
       "        vertical-align: middle;\n",
       "    }\n",
       "\n",
       "    .dataframe tbody tr th {\n",
       "        vertical-align: top;\n",
       "    }\n",
       "\n",
       "    .dataframe thead th {\n",
       "        text-align: right;\n",
       "    }\n",
       "</style>\n",
       "<table border=\"1\" class=\"dataframe\">\n",
       "  <thead>\n",
       "    <tr style=\"text-align: right;\">\n",
       "      <th></th>\n",
       "      <th>Score</th>\n",
       "      <th>违约情况</th>\n",
       "    </tr>\n",
       "  </thead>\n",
       "  <tbody>\n",
       "    <tr>\n",
       "      <th>41214</th>\n",
       "      <td>313.053832</td>\n",
       "      <td>违约</td>\n",
       "    </tr>\n",
       "    <tr>\n",
       "      <th>111668</th>\n",
       "      <td>333.141580</td>\n",
       "      <td>违约</td>\n",
       "    </tr>\n",
       "    <tr>\n",
       "      <th>98031</th>\n",
       "      <td>337.898619</td>\n",
       "      <td>违约</td>\n",
       "    </tr>\n",
       "    <tr>\n",
       "      <th>28118</th>\n",
       "      <td>337.898619</td>\n",
       "      <td>未违约</td>\n",
       "    </tr>\n",
       "    <tr>\n",
       "      <th>18526</th>\n",
       "      <td>337.898619</td>\n",
       "      <td>未违约</td>\n",
       "    </tr>\n",
       "    <tr>\n",
       "      <th>...</th>\n",
       "      <td>...</td>\n",
       "      <td>...</td>\n",
       "    </tr>\n",
       "    <tr>\n",
       "      <th>62027</th>\n",
       "      <td>867.292774</td>\n",
       "      <td>未违约</td>\n",
       "    </tr>\n",
       "    <tr>\n",
       "      <th>123784</th>\n",
       "      <td>867.292774</td>\n",
       "      <td>未违约</td>\n",
       "    </tr>\n",
       "    <tr>\n",
       "      <th>129365</th>\n",
       "      <td>867.292774</td>\n",
       "      <td>未违约</td>\n",
       "    </tr>\n",
       "    <tr>\n",
       "      <th>66779</th>\n",
       "      <td>867.292774</td>\n",
       "      <td>未违约</td>\n",
       "    </tr>\n",
       "    <tr>\n",
       "      <th>20038</th>\n",
       "      <td>867.292774</td>\n",
       "      <td>未违约</td>\n",
       "    </tr>\n",
       "  </tbody>\n",
       "</table>\n",
       "<p>150000 rows × 2 columns</p>\n",
       "</div>"
      ],
      "text/plain": [
       "             Score 违约情况\n",
       "41214   313.053832   违约\n",
       "111668  333.141580   违约\n",
       "98031   337.898619   违约\n",
       "28118   337.898619  未违约\n",
       "18526   337.898619  未违约\n",
       "...            ...  ...\n",
       "62027   867.292774  未违约\n",
       "123784  867.292774  未违约\n",
       "129365  867.292774  未违约\n",
       "66779   867.292774  未违约\n",
       "20038   867.292774  未违约\n",
       "\n",
       "[150000 rows x 2 columns]"
      ]
     },
     "execution_count": 58,
     "metadata": {},
     "output_type": "execute_result"
    }
   ],
   "source": [
    "Score.sort_values(by='Score')"
   ]
  },
  {
   "cell_type": "markdown",
   "metadata": {},
   "source": [
    "##### 可以看到最终的模型准确率时有点问题的，还需要进一步优化改进\n",
    "- 考虑分桶的合理性，看又没特征被误删\n",
    "- 由于正负样本的比例悬殊，因此，可以考虑过采样或欠采样等方法优化模型\n",
    "- 考虑组合特征，例如特征两两组合，特征自身的线性变换"
   ]
  },
  {
   "cell_type": "markdown",
   "metadata": {},
   "source": [
    "#### 小结：\n",
    "- 评分卡模型主要利用对特征分桶，求WOE值、IV值，对IV值小于0.1的不重要特征进行丢弃，对其余特征进行WOE编码，利用woe编码后的值代替原始特征输入LR模型。根据两个假设(假设1，基准分；假设二，在odds翻倍时，分数减少PDO)和训练好的LR模型的系数，得到最终的评分。"
   ]
  },
  {
   "cell_type": "code",
   "execution_count": null,
   "metadata": {},
   "outputs": [],
   "source": []
  }
 ],
 "metadata": {
  "kernelspec": {
   "display_name": "Python 3",
   "language": "python",
   "name": "python3"
  },
  "language_info": {
   "codemirror_mode": {
    "name": "ipython",
    "version": 3
   },
   "file_extension": ".py",
   "mimetype": "text/x-python",
   "name": "python",
   "nbconvert_exporter": "python",
   "pygments_lexer": "ipython3",
   "version": "3.6.8rc1"
  }
 },
 "nbformat": 4,
 "nbformat_minor": 4
}
