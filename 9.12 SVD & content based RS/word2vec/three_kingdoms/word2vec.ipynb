{
 "cells": [
  {
   "cell_type": "code",
   "execution_count": 1,
   "metadata": {},
   "outputs": [],
   "source": [
    "from gensim.models import word2vec\n",
    "import jieba\n",
    "import multiprocessing"
   ]
  },
  {
   "cell_type": "code",
   "execution_count": 2,
   "metadata": {},
   "outputs": [],
   "source": [
    "source_path = './source/three_kingdoms.txt'\n",
    "segment_path = './segment/seg_three_kingdoms.txt'"
   ]
  },
  {
   "cell_type": "code",
   "execution_count": 3,
   "metadata": {},
   "outputs": [],
   "source": [
    "# 数据读取\n",
    "with open(source_path, 'rb') as f1:\n",
    "    text = f1.read()"
   ]
  },
  {
   "cell_type": "code",
   "execution_count": 4,
   "metadata": {},
   "outputs": [
    {
     "name": "stderr",
     "output_type": "stream",
     "text": [
      "Building prefix dict from the default dictionary ...\n",
      "Loading model from cache C:\\Users\\Jarvis\\AppData\\Local\\Temp\\jieba.cache\n",
      "Loading model cost 0.786 seconds.\n",
      "Prefix dict has been built successfully.\n"
     ]
    }
   ],
   "source": [
    "# 分词\n",
    "stopwords=[' ']\n",
    "cut_sentences = [word for word in jieba.cut(text) if word not in stopwords]\n",
    "cut_sentences = ' '.join(cut_sentences)\n",
    "cut_sentences = cut_sentences.encode('utf-8')"
   ]
  },
  {
   "cell_type": "code",
   "execution_count": 5,
   "metadata": {},
   "outputs": [],
   "source": [
    "# 保存切分好的文本\n",
    "with open(segment_path, 'wb') as f2:\n",
    "    f2.write(cut_sentences)"
   ]
  },
  {
   "cell_type": "code",
   "execution_count": 6,
   "metadata": {},
   "outputs": [],
   "source": [
    "# word2vec\n",
    "sentences = word2vec.LineSentence(segment_path)\n",
    "# Word2Vec 维度size, 当前单词和预测单词最长的距离window, 忽视词频小于min_count的所有单词, 处理器个数workers\n",
    "model = word2vec.Word2Vec(sentences, size=150, window=3, min_count=3, workers=multiprocessing.cpu_count())"
   ]
  },
  {
   "cell_type": "code",
   "execution_count": 7,
   "metadata": {},
   "outputs": [
    {
     "name": "stdout",
     "output_type": "stream",
     "text": [
      "张飞和关羽的距离：0.1040414571762085,相似度：0.8959585428237915\n"
     ]
    }
   ],
   "source": [
    "# 距离和相似度\n",
    "print('张飞和关羽的距离：{},相似度：{}'.format(model.wv.distance('张飞', '关羽'), model.wv.similarity('张飞','关羽')))"
   ]
  },
  {
   "cell_type": "code",
   "execution_count": 8,
   "metadata": {},
   "outputs": [
    {
     "name": "stdout",
     "output_type": "stream",
     "text": [
      "曹操+刘备-张飞= [('朕', 0.9891759157180786), ('丞相', 0.9890148043632507)]\n"
     ]
    }
   ],
   "source": [
    "# 曹操+刘备-张飞\n",
    "print(\"曹操+刘备-张飞=\", model.wv.most_similar(positive=['曹操','刘备'], negative=['张飞'], topn=2))"
   ]
  },
  {
   "cell_type": "code",
   "execution_count": 9,
   "metadata": {},
   "outputs": [
    {
     "name": "stdout",
     "output_type": "stream",
     "text": [
      "离曹操最近的词： [('孙权', 0.9847586154937744), ('周瑜', 0.9829575419425964), ('又', 0.9814692139625549), ('先主', 0.9787649512290955), ('荆州', 0.9769836664199829), ('回报', 0.9763875603675842), ('袁绍', 0.9762510061264038), ('关公', 0.9757546782493591), ('尊命', 0.9756878614425659), ('孔明', 0.9732608199119568)]\n"
     ]
    }
   ],
   "source": [
    "# 离曹操最近的词\n",
    "print('离曹操最近的词：', model.wv.most_similar(positive=['曹操'], topn=10))"
   ]
  }
 ],
 "metadata": {
  "kernelspec": {
   "display_name": "Python 3",
   "language": "python",
   "name": "python3"
  },
  "language_info": {
   "codemirror_mode": {
    "name": "ipython",
    "version": 3
   },
   "file_extension": ".py",
   "mimetype": "text/x-python",
   "name": "python",
   "nbconvert_exporter": "python",
   "pygments_lexer": "ipython3",
   "version": "3.6.8rc1"
  }
 },
 "nbformat": 4,
 "nbformat_minor": 4
}
