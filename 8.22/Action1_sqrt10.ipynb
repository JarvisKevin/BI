{
 "cells": [
  {
   "cell_type": "code",
   "execution_count": 26,
   "metadata": {},
   "outputs": [],
   "source": [
    "def sqrt10(epsion = 1e-10):\n",
    "    max = 4\n",
    "    min = 3\n",
    "    mid = (max - min)/2 + min\n",
    "    while abs(mid ** 2 - 10) > epsion:\n",
    "        if mid ** 2 > 10:\n",
    "            max = mid\n",
    "        else:\n",
    "            min = mid\n",
    "        mid = (max - min)/2 + min\n",
    "    return mid"
   ]
  },
  {
   "cell_type": "code",
   "execution_count": 28,
   "metadata": {},
   "outputs": [
    {
     "name": "stdout",
     "output_type": "stream",
     "text": [
      "3.162277660157997\n"
     ]
    }
   ],
   "source": [
    "# 不用任何数学库，如何求出sqrt(10)，并且精确到小数点后10位\n",
    "epsion = 1e-10\n",
    "my_sqrt10 = sqrt10(epsion)\n",
    "print(my_sqrt10)"
   ]
  },
  {
   "cell_type": "code",
   "execution_count": 23,
   "metadata": {},
   "outputs": [
    {
     "name": "stdout",
     "output_type": "stream",
     "text": [
      "3.1622776601683795\n"
     ]
    }
   ],
   "source": [
    "# numpy 计算的sqrt10\n",
    "import numpy as np\n",
    "numpy_sqrt10 = np.sqrt(10)\n",
    "print(numpy_sqrt10)"
   ]
  },
  {
   "cell_type": "code",
   "execution_count": 24,
   "metadata": {},
   "outputs": [
    {
     "name": "stdout",
     "output_type": "stream",
     "text": [
      "1.872146881964909e-11\n"
     ]
    }
   ],
   "source": [
    "error = abs(my_sqrt10 - numpy_sqrt10)\n",
    "print(error)"
   ]
  }
 ],
 "metadata": {
  "kernelspec": {
   "display_name": "Python 3",
   "language": "python",
   "name": "python3"
  },
  "language_info": {
   "codemirror_mode": {
    "name": "ipython",
    "version": 3
   },
   "file_extension": ".py",
   "mimetype": "text/x-python",
   "name": "python",
   "nbconvert_exporter": "python",
   "pygments_lexer": "ipython3",
   "version": "3.7.6"
  }
 },
 "nbformat": 4,
 "nbformat_minor": 4
}
