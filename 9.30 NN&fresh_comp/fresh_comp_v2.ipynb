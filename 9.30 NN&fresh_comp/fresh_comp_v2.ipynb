{
 "cells": [
  {
   "cell_type": "code",
   "execution_count": 1,
   "metadata": {},
   "outputs": [],
   "source": [
    "import pandas as pd\n",
    "import matplotlib.pyplot as plt"
   ]
  },
  {
   "cell_type": "code",
   "execution_count": 2,
   "metadata": {},
   "outputs": [],
   "source": [
    "user = pd.read_csv('./fresh_comp_offline/tianchi_fresh_comp_train_user.csv')"
   ]
  },
  {
   "cell_type": "code",
   "execution_count": 3,
   "metadata": {},
   "outputs": [
    {
     "data": {
      "text/html": [
       "<div>\n",
       "<style scoped>\n",
       "    .dataframe tbody tr th:only-of-type {\n",
       "        vertical-align: middle;\n",
       "    }\n",
       "\n",
       "    .dataframe tbody tr th {\n",
       "        vertical-align: top;\n",
       "    }\n",
       "\n",
       "    .dataframe thead th {\n",
       "        text-align: right;\n",
       "    }\n",
       "</style>\n",
       "<table border=\"1\" class=\"dataframe\">\n",
       "  <thead>\n",
       "    <tr style=\"text-align: right;\">\n",
       "      <th></th>\n",
       "      <th>user_id</th>\n",
       "      <th>item_id</th>\n",
       "      <th>behavior_type</th>\n",
       "      <th>user_geohash</th>\n",
       "      <th>item_category</th>\n",
       "      <th>time</th>\n",
       "    </tr>\n",
       "  </thead>\n",
       "  <tbody>\n",
       "    <tr>\n",
       "      <th>0</th>\n",
       "      <td>10001082</td>\n",
       "      <td>285259775</td>\n",
       "      <td>1</td>\n",
       "      <td>97lk14c</td>\n",
       "      <td>4076</td>\n",
       "      <td>2014-12-08 18</td>\n",
       "    </tr>\n",
       "    <tr>\n",
       "      <th>1</th>\n",
       "      <td>10001082</td>\n",
       "      <td>4368907</td>\n",
       "      <td>1</td>\n",
       "      <td>NaN</td>\n",
       "      <td>5503</td>\n",
       "      <td>2014-12-12 12</td>\n",
       "    </tr>\n",
       "    <tr>\n",
       "      <th>2</th>\n",
       "      <td>10001082</td>\n",
       "      <td>4368907</td>\n",
       "      <td>1</td>\n",
       "      <td>NaN</td>\n",
       "      <td>5503</td>\n",
       "      <td>2014-12-12 12</td>\n",
       "    </tr>\n",
       "    <tr>\n",
       "      <th>3</th>\n",
       "      <td>10001082</td>\n",
       "      <td>53616768</td>\n",
       "      <td>1</td>\n",
       "      <td>NaN</td>\n",
       "      <td>9762</td>\n",
       "      <td>2014-12-02 15</td>\n",
       "    </tr>\n",
       "    <tr>\n",
       "      <th>4</th>\n",
       "      <td>10001082</td>\n",
       "      <td>151466952</td>\n",
       "      <td>1</td>\n",
       "      <td>NaN</td>\n",
       "      <td>5232</td>\n",
       "      <td>2014-12-12 11</td>\n",
       "    </tr>\n",
       "  </tbody>\n",
       "</table>\n",
       "</div>"
      ],
      "text/plain": [
       "    user_id    item_id  behavior_type user_geohash  item_category  \\\n",
       "0  10001082  285259775              1      97lk14c           4076   \n",
       "1  10001082    4368907              1          NaN           5503   \n",
       "2  10001082    4368907              1          NaN           5503   \n",
       "3  10001082   53616768              1          NaN           9762   \n",
       "4  10001082  151466952              1          NaN           5232   \n",
       "\n",
       "            time  \n",
       "0  2014-12-08 18  \n",
       "1  2014-12-12 12  \n",
       "2  2014-12-12 12  \n",
       "3  2014-12-02 15  \n",
       "4  2014-12-12 11  "
      ]
     },
     "execution_count": 3,
     "metadata": {},
     "output_type": "execute_result"
    }
   ],
   "source": [
    "user.head()"
   ]
  },
  {
   "cell_type": "markdown",
   "metadata": {},
   "source": [
    "#### 计算CVR"
   ]
  },
  {
   "cell_type": "markdown",
   "metadata": {},
   "source": [
    "behavior_type: 用户对商品的行为类型 包括浏览、收藏、加购物车、购买，对应取值分别是1、2、3、4"
   ]
  },
  {
   "cell_type": "code",
   "execution_count": 4,
   "metadata": {},
   "outputs": [],
   "source": [
    "count_user = user['behavior_type'].value_counts()"
   ]
  },
  {
   "cell_type": "code",
   "execution_count": 5,
   "metadata": {},
   "outputs": [],
   "source": [
    "count_all = count_user[1] + count_user[2] + count_user[3] + count_user[4]"
   ]
  },
  {
   "cell_type": "code",
   "execution_count": 6,
   "metadata": {},
   "outputs": [],
   "source": [
    "count_4 = count_user[4]"
   ]
  },
  {
   "cell_type": "code",
   "execution_count": 7,
   "metadata": {},
   "outputs": [],
   "source": [
    "cvr = count_4/count_all"
   ]
  },
  {
   "cell_type": "code",
   "execution_count": 8,
   "metadata": {},
   "outputs": [
    {
     "name": "stdout",
     "output_type": "stream",
     "text": [
      "CVR: 0.9986%\n"
     ]
    }
   ],
   "source": [
    "print('CVR: {:.4f}%'.format(cvr*100))                  # 购买占所有用户行为中的比例"
   ]
  },
  {
   "cell_type": "markdown",
   "metadata": {},
   "source": [
    "#### Time"
   ]
  },
  {
   "cell_type": "code",
   "execution_count": 9,
   "metadata": {},
   "outputs": [],
   "source": [
    "# 将time字段设置为pandas中的datetime类型\n",
    "user['time'] = pd.to_datetime(user['time'])"
   ]
  },
  {
   "cell_type": "code",
   "execution_count": 10,
   "metadata": {},
   "outputs": [
    {
     "data": {
      "text/html": [
       "<div>\n",
       "<style scoped>\n",
       "    .dataframe tbody tr th:only-of-type {\n",
       "        vertical-align: middle;\n",
       "    }\n",
       "\n",
       "    .dataframe tbody tr th {\n",
       "        vertical-align: top;\n",
       "    }\n",
       "\n",
       "    .dataframe thead th {\n",
       "        text-align: right;\n",
       "    }\n",
       "</style>\n",
       "<table border=\"1\" class=\"dataframe\">\n",
       "  <thead>\n",
       "    <tr style=\"text-align: right;\">\n",
       "      <th></th>\n",
       "      <th>user_id</th>\n",
       "      <th>item_id</th>\n",
       "      <th>behavior_type</th>\n",
       "      <th>user_geohash</th>\n",
       "      <th>item_category</th>\n",
       "      <th>time</th>\n",
       "    </tr>\n",
       "  </thead>\n",
       "  <tbody>\n",
       "    <tr>\n",
       "      <th>0</th>\n",
       "      <td>10001082</td>\n",
       "      <td>285259775</td>\n",
       "      <td>1</td>\n",
       "      <td>97lk14c</td>\n",
       "      <td>4076</td>\n",
       "      <td>2014-12-08 18:00:00</td>\n",
       "    </tr>\n",
       "    <tr>\n",
       "      <th>1</th>\n",
       "      <td>10001082</td>\n",
       "      <td>4368907</td>\n",
       "      <td>1</td>\n",
       "      <td>NaN</td>\n",
       "      <td>5503</td>\n",
       "      <td>2014-12-12 12:00:00</td>\n",
       "    </tr>\n",
       "    <tr>\n",
       "      <th>2</th>\n",
       "      <td>10001082</td>\n",
       "      <td>4368907</td>\n",
       "      <td>1</td>\n",
       "      <td>NaN</td>\n",
       "      <td>5503</td>\n",
       "      <td>2014-12-12 12:00:00</td>\n",
       "    </tr>\n",
       "    <tr>\n",
       "      <th>3</th>\n",
       "      <td>10001082</td>\n",
       "      <td>53616768</td>\n",
       "      <td>1</td>\n",
       "      <td>NaN</td>\n",
       "      <td>9762</td>\n",
       "      <td>2014-12-02 15:00:00</td>\n",
       "    </tr>\n",
       "    <tr>\n",
       "      <th>4</th>\n",
       "      <td>10001082</td>\n",
       "      <td>151466952</td>\n",
       "      <td>1</td>\n",
       "      <td>NaN</td>\n",
       "      <td>5232</td>\n",
       "      <td>2014-12-12 11:00:00</td>\n",
       "    </tr>\n",
       "  </tbody>\n",
       "</table>\n",
       "</div>"
      ],
      "text/plain": [
       "    user_id    item_id  behavior_type user_geohash  item_category  \\\n",
       "0  10001082  285259775              1      97lk14c           4076   \n",
       "1  10001082    4368907              1          NaN           5503   \n",
       "2  10001082    4368907              1          NaN           5503   \n",
       "3  10001082   53616768              1          NaN           9762   \n",
       "4  10001082  151466952              1          NaN           5232   \n",
       "\n",
       "                 time  \n",
       "0 2014-12-08 18:00:00  \n",
       "1 2014-12-12 12:00:00  \n",
       "2 2014-12-12 12:00:00  \n",
       "3 2014-12-02 15:00:00  \n",
       "4 2014-12-12 11:00:00  "
      ]
     },
     "execution_count": 10,
     "metadata": {},
     "output_type": "execute_result"
    }
   ],
   "source": [
    "user.head()"
   ]
  },
  {
   "cell_type": "markdown",
   "metadata": {},
   "source": [
    "将时间作为index"
   ]
  },
  {
   "cell_type": "code",
   "execution_count": 11,
   "metadata": {},
   "outputs": [],
   "source": [
    "user.index = user['time']"
   ]
  },
  {
   "cell_type": "code",
   "execution_count": 12,
   "metadata": {},
   "outputs": [
    {
     "data": {
      "text/html": [
       "<div>\n",
       "<style scoped>\n",
       "    .dataframe tbody tr th:only-of-type {\n",
       "        vertical-align: middle;\n",
       "    }\n",
       "\n",
       "    .dataframe tbody tr th {\n",
       "        vertical-align: top;\n",
       "    }\n",
       "\n",
       "    .dataframe thead th {\n",
       "        text-align: right;\n",
       "    }\n",
       "</style>\n",
       "<table border=\"1\" class=\"dataframe\">\n",
       "  <thead>\n",
       "    <tr style=\"text-align: right;\">\n",
       "      <th></th>\n",
       "      <th>user_id</th>\n",
       "      <th>item_id</th>\n",
       "      <th>behavior_type</th>\n",
       "      <th>user_geohash</th>\n",
       "      <th>item_category</th>\n",
       "      <th>time</th>\n",
       "    </tr>\n",
       "    <tr>\n",
       "      <th>time</th>\n",
       "      <th></th>\n",
       "      <th></th>\n",
       "      <th></th>\n",
       "      <th></th>\n",
       "      <th></th>\n",
       "      <th></th>\n",
       "    </tr>\n",
       "  </thead>\n",
       "  <tbody>\n",
       "    <tr>\n",
       "      <th>2014-12-08 18:00:00</th>\n",
       "      <td>10001082</td>\n",
       "      <td>285259775</td>\n",
       "      <td>1</td>\n",
       "      <td>97lk14c</td>\n",
       "      <td>4076</td>\n",
       "      <td>2014-12-08 18:00:00</td>\n",
       "    </tr>\n",
       "    <tr>\n",
       "      <th>2014-12-12 12:00:00</th>\n",
       "      <td>10001082</td>\n",
       "      <td>4368907</td>\n",
       "      <td>1</td>\n",
       "      <td>NaN</td>\n",
       "      <td>5503</td>\n",
       "      <td>2014-12-12 12:00:00</td>\n",
       "    </tr>\n",
       "    <tr>\n",
       "      <th>2014-12-12 12:00:00</th>\n",
       "      <td>10001082</td>\n",
       "      <td>4368907</td>\n",
       "      <td>1</td>\n",
       "      <td>NaN</td>\n",
       "      <td>5503</td>\n",
       "      <td>2014-12-12 12:00:00</td>\n",
       "    </tr>\n",
       "    <tr>\n",
       "      <th>2014-12-02 15:00:00</th>\n",
       "      <td>10001082</td>\n",
       "      <td>53616768</td>\n",
       "      <td>1</td>\n",
       "      <td>NaN</td>\n",
       "      <td>9762</td>\n",
       "      <td>2014-12-02 15:00:00</td>\n",
       "    </tr>\n",
       "    <tr>\n",
       "      <th>2014-12-12 11:00:00</th>\n",
       "      <td>10001082</td>\n",
       "      <td>151466952</td>\n",
       "      <td>1</td>\n",
       "      <td>NaN</td>\n",
       "      <td>5232</td>\n",
       "      <td>2014-12-12 11:00:00</td>\n",
       "    </tr>\n",
       "  </tbody>\n",
       "</table>\n",
       "</div>"
      ],
      "text/plain": [
       "                      user_id    item_id  behavior_type user_geohash  \\\n",
       "time                                                                   \n",
       "2014-12-08 18:00:00  10001082  285259775              1      97lk14c   \n",
       "2014-12-12 12:00:00  10001082    4368907              1          NaN   \n",
       "2014-12-12 12:00:00  10001082    4368907              1          NaN   \n",
       "2014-12-02 15:00:00  10001082   53616768              1          NaN   \n",
       "2014-12-12 11:00:00  10001082  151466952              1          NaN   \n",
       "\n",
       "                     item_category                time  \n",
       "time                                                    \n",
       "2014-12-08 18:00:00           4076 2014-12-08 18:00:00  \n",
       "2014-12-12 12:00:00           5503 2014-12-12 12:00:00  \n",
       "2014-12-12 12:00:00           5503 2014-12-12 12:00:00  \n",
       "2014-12-02 15:00:00           9762 2014-12-02 15:00:00  \n",
       "2014-12-12 11:00:00           5232 2014-12-12 11:00:00  "
      ]
     },
     "execution_count": 12,
     "metadata": {},
     "output_type": "execute_result"
    }
   ],
   "source": [
    "user.head()"
   ]
  },
  {
   "cell_type": "code",
   "execution_count": 13,
   "metadata": {},
   "outputs": [
    {
     "data": {
      "text/plain": [
       "Timestamp('2014-12-08 18:00:00')"
      ]
     },
     "execution_count": 13,
     "metadata": {},
     "output_type": "execute_result"
    }
   ],
   "source": [
    "user.index[0]                 #查看第一个index"
   ]
  },
  {
   "cell_type": "code",
   "execution_count": 14,
   "metadata": {},
   "outputs": [
    {
     "data": {
      "text/html": [
       "<div>\n",
       "<style scoped>\n",
       "    .dataframe tbody tr th:only-of-type {\n",
       "        vertical-align: middle;\n",
       "    }\n",
       "\n",
       "    .dataframe tbody tr th {\n",
       "        vertical-align: top;\n",
       "    }\n",
       "\n",
       "    .dataframe thead th {\n",
       "        text-align: right;\n",
       "    }\n",
       "</style>\n",
       "<table border=\"1\" class=\"dataframe\">\n",
       "  <thead>\n",
       "    <tr style=\"text-align: right;\">\n",
       "      <th></th>\n",
       "      <th>user_id</th>\n",
       "      <th>item_id</th>\n",
       "      <th>behavior_type</th>\n",
       "      <th>user_geohash</th>\n",
       "      <th>item_category</th>\n",
       "      <th>time</th>\n",
       "    </tr>\n",
       "    <tr>\n",
       "      <th>time</th>\n",
       "      <th></th>\n",
       "      <th></th>\n",
       "      <th></th>\n",
       "      <th></th>\n",
       "      <th></th>\n",
       "      <th></th>\n",
       "    </tr>\n",
       "  </thead>\n",
       "  <tbody>\n",
       "    <tr>\n",
       "      <th>2014-12-08 18:00:00</th>\n",
       "      <td>10001082</td>\n",
       "      <td>285259775</td>\n",
       "      <td>1</td>\n",
       "      <td>97lk14c</td>\n",
       "      <td>4076</td>\n",
       "      <td>2014-12-08 18:00:00</td>\n",
       "    </tr>\n",
       "    <tr>\n",
       "      <th>2014-12-08 07:00:00</th>\n",
       "      <td>10001082</td>\n",
       "      <td>275221686</td>\n",
       "      <td>1</td>\n",
       "      <td>NaN</td>\n",
       "      <td>10576</td>\n",
       "      <td>2014-12-08 07:00:00</td>\n",
       "    </tr>\n",
       "    <tr>\n",
       "      <th>2014-12-08 07:00:00</th>\n",
       "      <td>10001082</td>\n",
       "      <td>236453039</td>\n",
       "      <td>1</td>\n",
       "      <td>NaN</td>\n",
       "      <td>10576</td>\n",
       "      <td>2014-12-08 07:00:00</td>\n",
       "    </tr>\n",
       "    <tr>\n",
       "      <th>2014-12-08 07:00:00</th>\n",
       "      <td>10001082</td>\n",
       "      <td>275221686</td>\n",
       "      <td>1</td>\n",
       "      <td>NaN</td>\n",
       "      <td>10576</td>\n",
       "      <td>2014-12-08 07:00:00</td>\n",
       "    </tr>\n",
       "    <tr>\n",
       "      <th>2014-12-08 00:00:00</th>\n",
       "      <td>10001082</td>\n",
       "      <td>275221686</td>\n",
       "      <td>1</td>\n",
       "      <td>NaN</td>\n",
       "      <td>10576</td>\n",
       "      <td>2014-12-08 00:00:00</td>\n",
       "    </tr>\n",
       "    <tr>\n",
       "      <th>...</th>\n",
       "      <td>...</td>\n",
       "      <td>...</td>\n",
       "      <td>...</td>\n",
       "      <td>...</td>\n",
       "      <td>...</td>\n",
       "      <td>...</td>\n",
       "    </tr>\n",
       "    <tr>\n",
       "      <th>2014-12-08 12:00:00</th>\n",
       "      <td>65341491</td>\n",
       "      <td>128927836</td>\n",
       "      <td>1</td>\n",
       "      <td>95qhb05</td>\n",
       "      <td>12510</td>\n",
       "      <td>2014-12-08 12:00:00</td>\n",
       "    </tr>\n",
       "    <tr>\n",
       "      <th>2014-12-08 19:00:00</th>\n",
       "      <td>65341491</td>\n",
       "      <td>242501625</td>\n",
       "      <td>1</td>\n",
       "      <td>95qhbs7</td>\n",
       "      <td>3942</td>\n",
       "      <td>2014-12-08 19:00:00</td>\n",
       "    </tr>\n",
       "    <tr>\n",
       "      <th>2014-12-08 19:00:00</th>\n",
       "      <td>65341491</td>\n",
       "      <td>133486908</td>\n",
       "      <td>1</td>\n",
       "      <td>95qhb09</td>\n",
       "      <td>3942</td>\n",
       "      <td>2014-12-08 19:00:00</td>\n",
       "    </tr>\n",
       "    <tr>\n",
       "      <th>2014-12-08 12:00:00</th>\n",
       "      <td>65341491</td>\n",
       "      <td>154674105</td>\n",
       "      <td>1</td>\n",
       "      <td>95qhbpe</td>\n",
       "      <td>12510</td>\n",
       "      <td>2014-12-08 12:00:00</td>\n",
       "    </tr>\n",
       "    <tr>\n",
       "      <th>2014-12-08 12:00:00</th>\n",
       "      <td>65341491</td>\n",
       "      <td>42748021</td>\n",
       "      <td>1</td>\n",
       "      <td>95qhb0r</td>\n",
       "      <td>12510</td>\n",
       "      <td>2014-12-08 12:00:00</td>\n",
       "    </tr>\n",
       "  </tbody>\n",
       "</table>\n",
       "<p>753138 rows × 6 columns</p>\n",
       "</div>"
      ],
      "text/plain": [
       "                      user_id    item_id  behavior_type user_geohash  \\\n",
       "time                                                                   \n",
       "2014-12-08 18:00:00  10001082  285259775              1      97lk14c   \n",
       "2014-12-08 07:00:00  10001082  275221686              1          NaN   \n",
       "2014-12-08 07:00:00  10001082  236453039              1          NaN   \n",
       "2014-12-08 07:00:00  10001082  275221686              1          NaN   \n",
       "2014-12-08 00:00:00  10001082  275221686              1          NaN   \n",
       "...                       ...        ...            ...          ...   \n",
       "2014-12-08 12:00:00  65341491  128927836              1      95qhb05   \n",
       "2014-12-08 19:00:00  65341491  242501625              1      95qhbs7   \n",
       "2014-12-08 19:00:00  65341491  133486908              1      95qhb09   \n",
       "2014-12-08 12:00:00  65341491  154674105              1      95qhbpe   \n",
       "2014-12-08 12:00:00  65341491   42748021              1      95qhb0r   \n",
       "\n",
       "                     item_category                time  \n",
       "time                                                    \n",
       "2014-12-08 18:00:00           4076 2014-12-08 18:00:00  \n",
       "2014-12-08 07:00:00          10576 2014-12-08 07:00:00  \n",
       "2014-12-08 07:00:00          10576 2014-12-08 07:00:00  \n",
       "2014-12-08 07:00:00          10576 2014-12-08 07:00:00  \n",
       "2014-12-08 00:00:00          10576 2014-12-08 00:00:00  \n",
       "...                            ...                 ...  \n",
       "2014-12-08 12:00:00          12510 2014-12-08 12:00:00  \n",
       "2014-12-08 19:00:00           3942 2014-12-08 19:00:00  \n",
       "2014-12-08 19:00:00           3942 2014-12-08 19:00:00  \n",
       "2014-12-08 12:00:00          12510 2014-12-08 12:00:00  \n",
       "2014-12-08 12:00:00          12510 2014-12-08 12:00:00  \n",
       "\n",
       "[753138 rows x 6 columns]"
      ]
     },
     "execution_count": 14,
     "metadata": {},
     "output_type": "execute_result"
    }
   ],
   "source": [
    "# 可以用.loc['2014']查看这一年的情况，.loc['2014-12']查看14年12月的情况， .loc['2014-12-08']查看14年12月8号这一天的情况\n",
    "user.loc['2014-12-08']       "
   ]
  },
  {
   "cell_type": "markdown",
   "metadata": {},
   "source": [
    "统计时间"
   ]
  },
  {
   "cell_type": "code",
   "execution_count": 15,
   "metadata": {},
   "outputs": [],
   "source": [
    "from collections import defaultdict\n",
    "from datetime import datetime, timedelta"
   ]
  },
  {
   "cell_type": "code",
   "execution_count": 16,
   "metadata": {},
   "outputs": [],
   "source": [
    "# 从2014-11-18遍历到2014-12-18\n",
    "str1 = '2014-11-17'\n",
    "temp_date = datetime.strptime(str1, '%Y-%m-%d')\n",
    "delta = timedelta(days=1)"
   ]
  },
  {
   "cell_type": "code",
   "execution_count": 17,
   "metadata": {},
   "outputs": [],
   "source": [
    "count_day = defaultdict(int)                                     # 按天记录所有行为的次数\n",
    "\n",
    "for i in range(31):\n",
    "    temp_date = temp_date + delta\n",
    "    # 将时间转换成字符串类型\n",
    "    temp_str = temp_date.strftime('%Y-%m-%d')\n",
    "    count_day[temp_str] = user.loc[temp_str].shape[0]            # 获取该天的行为次数"
   ]
  },
  {
   "cell_type": "code",
   "execution_count": 18,
   "metadata": {},
   "outputs": [
    {
     "data": {
      "text/plain": [
       "(datetime.datetime, str)"
      ]
     },
     "execution_count": 18,
     "metadata": {},
     "output_type": "execute_result"
    }
   ],
   "source": [
    "type(temp_date), type(temp_str)"
   ]
  },
  {
   "cell_type": "code",
   "execution_count": 19,
   "metadata": {},
   "outputs": [
    {
     "data": {
      "text/plain": [
       "defaultdict(int,\n",
       "            {'2014-11-18': 684628,\n",
       "             '2014-11-19': 687528,\n",
       "             '2014-11-20': 672189,\n",
       "             '2014-11-21': 634122,\n",
       "             '2014-11-22': 668509,\n",
       "             '2014-11-23': 722978,\n",
       "             '2014-11-24': 718217,\n",
       "             '2014-11-25': 699413,\n",
       "             '2014-11-26': 679323,\n",
       "             '2014-11-27': 689855,\n",
       "             '2014-11-28': 658806,\n",
       "             '2014-11-29': 684442,\n",
       "             '2014-11-30': 751093,\n",
       "             '2014-12-01': 744363,\n",
       "             '2014-12-02': 753810,\n",
       "             '2014-12-03': 788689,\n",
       "             '2014-12-04': 745391,\n",
       "             '2014-12-05': 693593,\n",
       "             '2014-12-06': 732821,\n",
       "             '2014-12-07': 763498,\n",
       "             '2014-12-08': 753138,\n",
       "             '2014-12-09': 767838,\n",
       "             '2014-12-10': 788712,\n",
       "             '2014-12-11': 944979,\n",
       "             '2014-12-12': 1344980,\n",
       "             '2014-12-13': 777013,\n",
       "             '2014-12-14': 779285,\n",
       "             '2014-12-15': 764085,\n",
       "             '2014-12-16': 751370,\n",
       "             '2014-12-17': 734520,\n",
       "             '2014-12-18': 711839})"
      ]
     },
     "execution_count": 19,
     "metadata": {},
     "output_type": "execute_result"
    }
   ],
   "source": [
    "count_day"
   ]
  },
  {
   "cell_type": "code",
   "execution_count": 20,
   "metadata": {},
   "outputs": [],
   "source": [
    "# 将上述count_day放入DataFrame中，准备绘制 \n",
    "df_count_day = pd.DataFrame.from_dict(count_day, orient='index', columns=['count'])"
   ]
  },
  {
   "cell_type": "code",
   "execution_count": 21,
   "metadata": {},
   "outputs": [
    {
     "data": {
      "image/png": "[encoded data removed]",
      "text/plain": [
       "<Figure size 936x576 with 1 Axes>"
      ]
     },
     "metadata": {
      "needs_background": "light"
     },
     "output_type": "display_data"
    }
   ],
   "source": [
    "plt.rcParams['figure.figsize'] = (13.0, 8.0) \n",
    "df_count_day['count'].plot(kind='bar')\n",
    "plt.legend(loc='best')\n",
    "plt.grid(True)\n",
    "plt.show()"
   ]
  },
  {
   "cell_type": "markdown",
   "metadata": {},
   "source": [
    "##### 可以看到双十二这一天的操作次数最频繁，而12-11次之"
   ]
  },
  {
   "cell_type": "markdown",
   "metadata": {},
   "source": [
    "统计商品子集P关于日期的操作次数"
   ]
  },
  {
   "cell_type": "code",
   "execution_count": 22,
   "metadata": {},
   "outputs": [],
   "source": [
    "# 属于商品子集P的操作次数\n",
    "item = pd.read_csv('./fresh_comp_offline/tianchi_fresh_comp_train_item.csv')"
   ]
  },
  {
   "cell_type": "code",
   "execution_count": 23,
   "metadata": {},
   "outputs": [
    {
     "data": {
      "text/html": [
       "<div>\n",
       "<style scoped>\n",
       "    .dataframe tbody tr th:only-of-type {\n",
       "        vertical-align: middle;\n",
       "    }\n",
       "\n",
       "    .dataframe tbody tr th {\n",
       "        vertical-align: top;\n",
       "    }\n",
       "\n",
       "    .dataframe thead th {\n",
       "        text-align: right;\n",
       "    }\n",
       "</style>\n",
       "<table border=\"1\" class=\"dataframe\">\n",
       "  <thead>\n",
       "    <tr style=\"text-align: right;\">\n",
       "      <th></th>\n",
       "      <th>item_id</th>\n",
       "      <th>item_geohash</th>\n",
       "      <th>item_category</th>\n",
       "    </tr>\n",
       "  </thead>\n",
       "  <tbody>\n",
       "    <tr>\n",
       "      <th>0</th>\n",
       "      <td>100002303</td>\n",
       "      <td>NaN</td>\n",
       "      <td>3368</td>\n",
       "    </tr>\n",
       "    <tr>\n",
       "      <th>1</th>\n",
       "      <td>100003592</td>\n",
       "      <td>NaN</td>\n",
       "      <td>7995</td>\n",
       "    </tr>\n",
       "    <tr>\n",
       "      <th>2</th>\n",
       "      <td>100006838</td>\n",
       "      <td>NaN</td>\n",
       "      <td>12630</td>\n",
       "    </tr>\n",
       "    <tr>\n",
       "      <th>3</th>\n",
       "      <td>100008089</td>\n",
       "      <td>NaN</td>\n",
       "      <td>7791</td>\n",
       "    </tr>\n",
       "    <tr>\n",
       "      <th>4</th>\n",
       "      <td>100012750</td>\n",
       "      <td>NaN</td>\n",
       "      <td>9614</td>\n",
       "    </tr>\n",
       "  </tbody>\n",
       "</table>\n",
       "</div>"
      ],
      "text/plain": [
       "     item_id item_geohash  item_category\n",
       "0  100002303          NaN           3368\n",
       "1  100003592          NaN           7995\n",
       "2  100006838          NaN          12630\n",
       "3  100008089          NaN           7791\n",
       "4  100012750          NaN           9614"
      ]
     },
     "execution_count": 23,
     "metadata": {},
     "output_type": "execute_result"
    }
   ],
   "source": [
    "item.head()"
   ]
  },
  {
   "cell_type": "code",
   "execution_count": 24,
   "metadata": {},
   "outputs": [
    {
     "data": {
      "text/plain": [
       "25013404     8724\n",
       "311093202    5999\n",
       "228198932    5597\n",
       "238357777    5522\n",
       "313822206    4517\n",
       "             ... \n",
       "356030024       1\n",
       "348159835       1\n",
       "38815580        1\n",
       "314595166       1\n",
       "154142721       1\n",
       "Name: item_id, Length: 422858, dtype: int64"
      ]
     },
     "execution_count": 24,
     "metadata": {},
     "output_type": "execute_result"
    }
   ],
   "source": [
    "# 共422858个item_id\n",
    "item.item_id.value_counts()"
   ]
  },
  {
   "cell_type": "code",
   "execution_count": 25,
   "metadata": {},
   "outputs": [
    {
     "data": {
      "text/plain": [
       "956mo92    116\n",
       "95q5lu5    111\n",
       "955l2je    108\n",
       "95riauf    107\n",
       "956mk3j    107\n",
       "          ... \n",
       "94l4ddc      1\n",
       "9q0ff0c      1\n",
       "9rf95gl      1\n",
       "9r5f7us      1\n",
       "955sfjf      1\n",
       "Name: item_geohash, Length: 57358, dtype: int64"
      ]
     },
     "execution_count": 25,
     "metadata": {},
     "output_type": "execute_result"
    }
   ],
   "source": [
    "item.item_geohash.value_counts()"
   ]
  },
  {
   "cell_type": "code",
   "execution_count": 26,
   "metadata": {},
   "outputs": [],
   "source": [
    "# 将商品子集DataFrame和原始带有时间的user DataFrame合并(交集)--> 'inner'\n",
    "p_item = user.merge(item, how='inner', on='item_id').set_index('time', drop=True)"
   ]
  },
  {
   "cell_type": "code",
   "execution_count": 27,
   "metadata": {},
   "outputs": [],
   "source": [
    "count_p = defaultdict(int)\n",
    "\n",
    "str1 = '2014-11-17'\n",
    "temp_date = datetime.strptime(str1, '%Y-%m-%d')\n",
    "delta = timedelta(days=1)"
   ]
  },
  {
   "cell_type": "code",
   "execution_count": 28,
   "metadata": {},
   "outputs": [],
   "source": [
    "for i in range(31):\n",
    "    temp_date += delta\n",
    "    temp_str = temp_date.strftime('%Y-%m-%d')\n",
    "    count_p[temp_str] = p_item.loc[temp_str].shape[0]  "
   ]
  },
  {
   "cell_type": "code",
   "execution_count": 29,
   "metadata": {},
   "outputs": [
    {
     "data": {
      "text/plain": [
       "defaultdict(int,\n",
       "            {'2014-11-18': 86732,\n",
       "             '2014-11-19': 94513,\n",
       "             '2014-11-20': 90008,\n",
       "             '2014-11-21': 81061,\n",
       "             '2014-11-22': 121133,\n",
       "             '2014-11-23': 157253,\n",
       "             '2014-11-24': 113969,\n",
       "             '2014-11-25': 106101,\n",
       "             '2014-11-26': 103857,\n",
       "             '2014-11-27': 91260,\n",
       "             '2014-11-28': 135652,\n",
       "             '2014-11-29': 127997,\n",
       "             '2014-11-30': 117067,\n",
       "             '2014-12-01': 104922,\n",
       "             '2014-12-02': 134609,\n",
       "             '2014-12-03': 144284,\n",
       "             '2014-12-04': 103145,\n",
       "             '2014-12-05': 114820,\n",
       "             '2014-12-06': 138450,\n",
       "             '2014-12-07': 129833,\n",
       "             '2014-12-08': 157222,\n",
       "             '2014-12-09': 204471,\n",
       "             '2014-12-10': 149494,\n",
       "             '2014-12-11': 225812,\n",
       "             '2014-12-12': 422308,\n",
       "             '2014-12-13': 120220,\n",
       "             '2014-12-14': 130784,\n",
       "             '2014-12-15': 156657,\n",
       "             '2014-12-16': 130437,\n",
       "             '2014-12-17': 155796,\n",
       "             '2014-12-18': 130095})"
      ]
     },
     "execution_count": 29,
     "metadata": {},
     "output_type": "execute_result"
    }
   ],
   "source": [
    "count_p"
   ]
  },
  {
   "cell_type": "code",
   "execution_count": 30,
   "metadata": {},
   "outputs": [],
   "source": [
    "p_dict = pd.DataFrame.from_dict(count_p, orient='index', columns=['count'])"
   ]
  },
  {
   "cell_type": "code",
   "execution_count": 31,
   "metadata": {},
   "outputs": [
    {
     "data": {
      "image/png": "[encoded data removed]",
      "text/plain": [
       "<Figure size 936x576 with 1 Axes>"
      ]
     },
     "metadata": {
      "needs_background": "light"
     },
     "output_type": "display_data"
    }
   ],
   "source": [
    "plt.rcParams['figure.figsize'] = (13.0, 8.0) \n",
    "p_dict['count'].plot(kind='bar')\n",
    "plt.legend()\n",
    "plt.grid(True)\n",
    "plt.show()"
   ]
  },
  {
   "cell_type": "markdown",
   "metadata": {},
   "source": [
    "以上做的是日期为单位的探索，得知了双十二这一天的用户行为较多，因此，下面做基于小时的探索，探索每个小时，这四种行为的分布情况"
   ]
  },
  {
   "cell_type": "code",
   "execution_count": 32,
   "metadata": {},
   "outputs": [
    {
     "name": "stdout",
     "output_type": "stream",
     "text": [
      "{'2014-12-12 00': [29817, 336, 285, 758], '2014-12-12 01': [8736, 101, 288, 75], '2014-12-12 02': [13356, 24, 196, 22], '2014-12-12 03': [4530, 14, 42, 27], '2014-12-12 04': [4280, 11, 42, 10], '2014-12-12 05': [1243, 4, 46, 27], '2014-12-12 06': [6992, 20, 388, 60], '2014-12-12 07': [12673, 24, 102, 80], '2014-12-12 08': [19034, 40, 462, 558], '2014-12-12 09': [13913, 39, 176, 130], '2014-12-12 10': [43971, 55, 522, 210], '2014-12-12 11': [29353, 1662, 468, 140], '2014-12-12 12': [32532, 60, 211, 144], '2014-12-12 13': [9523, 65, 1811, 1745], '2014-12-12 14': [23214, 74, 182, 134], '2014-12-12 15': [9205, 51, 204, 122], '2014-12-12 16': [8948, 50, 145, 83], '2014-12-12 17': [20686, 225, 274, 165], '2014-12-12 18': [8288, 75, 109, 79], '2014-12-12 19': [19089, 48, 171, 118], '2014-12-12 20': [16837, 93, 198, 119], '2014-12-12 21': [20207, 85, 325, 176], '2014-12-12 22': [22404, 109, 373, 189], '2014-12-12 23': [25051, 1745, 1028, 197]}\n"
     ]
    }
   ],
   "source": [
    "date='2014-12-12'\n",
    "count_hour = {}\n",
    "for i in range(24):\n",
    "    time_str = date + ' %02.d' % i                                        # 得到小时，注意' %02.d'百分号前有空格\n",
    "    count_hour[time_str] = [0,0,0,0]\n",
    "    temp = p_item.loc[time_str]['behavior_type'].value_counts()           # 得到每种行为的计数\n",
    "    for j in range(len(temp)):\n",
    "        count_hour[time_str][temp.index[j]-1] += temp[temp.index[j]]      # 在每个小时下记录每种行为\n",
    "print(count_hour)"
   ]
  },
  {
   "cell_type": "code",
   "execution_count": 33,
   "metadata": {},
   "outputs": [],
   "source": [
    "hour_df = pd.DataFrame.from_dict(count_hour, orient='index')"
   ]
  },
  {
   "cell_type": "code",
   "execution_count": 34,
   "metadata": {},
   "outputs": [
    {
     "data": {
      "image/png": "[encoded data removed]",
      "text/plain": [
       "<Figure size 936x576 with 1 Axes>"
      ]
     },
     "metadata": {
      "needs_background": "light"
     },
     "output_type": "display_data"
    }
   ],
   "source": [
    "plt.rcParams['figure.figsize'] = (13.0, 8.0) \n",
    "hour_df.plot(kind='bar')\n",
    "plt.legend(loc='best')                 # 0:浏览、1:收藏、2:加购物车、3:购买\n",
    "plt.grid(True)\n",
    "plt.show()"
   ]
  }
 ],
 "metadata": {
  "kernelspec": {
   "display_name": "Python 3",
   "language": "python",
   "name": "python3"
  },
  "language_info": {
   "codemirror_mode": {
    "name": "ipython",
    "version": 3
   },
   "file_extension": ".py",
   "mimetype": "text/x-python",
   "name": "python",
   "nbconvert_exporter": "python",
   "pygments_lexer": "ipython3",
   "version": "3.6.8rc1"
  }
 },
 "nbformat": 4,
 "nbformat_minor": 4
}
