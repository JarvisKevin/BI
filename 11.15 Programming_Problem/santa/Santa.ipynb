{
 "cells": [
  {
   "cell_type": "code",
   "execution_count": 1,
   "metadata": {},
   "outputs": [],
   "source": [
    "import numpy as np"
   ]
  },
  {
   "cell_type": "code",
   "execution_count": 2,
   "metadata": {},
   "outputs": [
    {
     "data": {
      "text/html": [
       "<div>\n",
       "<style scoped>\n",
       "    .dataframe tbody tr th:only-of-type {\n",
       "        vertical-align: middle;\n",
       "    }\n",
       "\n",
       "    .dataframe tbody tr th {\n",
       "        vertical-align: top;\n",
       "    }\n",
       "\n",
       "    .dataframe thead th {\n",
       "        text-align: right;\n",
       "    }\n",
       "</style>\n",
       "<table border=\"1\" class=\"dataframe\">\n",
       "  <thead>\n",
       "    <tr style=\"text-align: right;\">\n",
       "      <th></th>\n",
       "      <th>choice_0</th>\n",
       "      <th>choice_1</th>\n",
       "      <th>choice_2</th>\n",
       "      <th>choice_3</th>\n",
       "      <th>choice_4</th>\n",
       "      <th>choice_5</th>\n",
       "      <th>choice_6</th>\n",
       "      <th>choice_7</th>\n",
       "      <th>choice_8</th>\n",
       "      <th>choice_9</th>\n",
       "      <th>n_people</th>\n",
       "    </tr>\n",
       "    <tr>\n",
       "      <th>family_id</th>\n",
       "      <th></th>\n",
       "      <th></th>\n",
       "      <th></th>\n",
       "      <th></th>\n",
       "      <th></th>\n",
       "      <th></th>\n",
       "      <th></th>\n",
       "      <th></th>\n",
       "      <th></th>\n",
       "      <th></th>\n",
       "      <th></th>\n",
       "    </tr>\n",
       "  </thead>\n",
       "  <tbody>\n",
       "    <tr>\n",
       "      <th>0</th>\n",
       "      <td>52</td>\n",
       "      <td>38</td>\n",
       "      <td>12</td>\n",
       "      <td>82</td>\n",
       "      <td>33</td>\n",
       "      <td>75</td>\n",
       "      <td>64</td>\n",
       "      <td>76</td>\n",
       "      <td>10</td>\n",
       "      <td>28</td>\n",
       "      <td>4</td>\n",
       "    </tr>\n",
       "    <tr>\n",
       "      <th>1</th>\n",
       "      <td>26</td>\n",
       "      <td>4</td>\n",
       "      <td>82</td>\n",
       "      <td>5</td>\n",
       "      <td>11</td>\n",
       "      <td>47</td>\n",
       "      <td>38</td>\n",
       "      <td>6</td>\n",
       "      <td>66</td>\n",
       "      <td>61</td>\n",
       "      <td>4</td>\n",
       "    </tr>\n",
       "    <tr>\n",
       "      <th>2</th>\n",
       "      <td>100</td>\n",
       "      <td>54</td>\n",
       "      <td>25</td>\n",
       "      <td>12</td>\n",
       "      <td>27</td>\n",
       "      <td>82</td>\n",
       "      <td>10</td>\n",
       "      <td>89</td>\n",
       "      <td>80</td>\n",
       "      <td>33</td>\n",
       "      <td>3</td>\n",
       "    </tr>\n",
       "    <tr>\n",
       "      <th>3</th>\n",
       "      <td>2</td>\n",
       "      <td>95</td>\n",
       "      <td>1</td>\n",
       "      <td>96</td>\n",
       "      <td>32</td>\n",
       "      <td>6</td>\n",
       "      <td>40</td>\n",
       "      <td>31</td>\n",
       "      <td>9</td>\n",
       "      <td>59</td>\n",
       "      <td>2</td>\n",
       "    </tr>\n",
       "    <tr>\n",
       "      <th>4</th>\n",
       "      <td>53</td>\n",
       "      <td>1</td>\n",
       "      <td>47</td>\n",
       "      <td>93</td>\n",
       "      <td>26</td>\n",
       "      <td>3</td>\n",
       "      <td>46</td>\n",
       "      <td>16</td>\n",
       "      <td>42</td>\n",
       "      <td>39</td>\n",
       "      <td>4</td>\n",
       "    </tr>\n",
       "  </tbody>\n",
       "</table>\n",
       "</div>"
      ],
      "text/plain": [
       "           choice_0  choice_1  choice_2  choice_3  choice_4  choice_5  \\\n",
       "family_id                                                               \n",
       "0                52        38        12        82        33        75   \n",
       "1                26         4        82         5        11        47   \n",
       "2               100        54        25        12        27        82   \n",
       "3                 2        95         1        96        32         6   \n",
       "4                53         1        47        93        26         3   \n",
       "\n",
       "           choice_6  choice_7  choice_8  choice_9  n_people  \n",
       "family_id                                                    \n",
       "0                64        76        10        28         4  \n",
       "1                38         6        66        61         4  \n",
       "2                10        89        80        33         3  \n",
       "3                40        31         9        59         2  \n",
       "4                46        16        42        39         4  "
      ]
     },
     "execution_count": 2,
     "metadata": {},
     "output_type": "execute_result"
    }
   ],
   "source": [
    "# 数据加载\n",
    "import pandas as pd\n",
    "data = pd.read_csv('family_data.csv', index_col='family_id')\n",
    "data.head()"
   ]
  },
  {
   "cell_type": "code",
   "execution_count": 3,
   "metadata": {},
   "outputs": [
    {
     "data": {
      "text/plain": [
       "choice_0    1\n",
       "choice_1    1\n",
       "choice_2    1\n",
       "choice_3    1\n",
       "choice_4    1\n",
       "choice_5    1\n",
       "choice_6    1\n",
       "choice_7    1\n",
       "choice_8    1\n",
       "choice_9    1\n",
       "n_people    2\n",
       "dtype: int64"
      ]
     },
     "execution_count": 3,
     "metadata": {},
     "output_type": "execute_result"
    }
   ],
   "source": [
    "# data里面的是距离圣诞节前几天？ \n",
    "# 最小值是1，因此，在后续处理时，可以-1，来索引\n",
    "data.min()"
   ]
  },
  {
   "cell_type": "markdown",
   "metadata": {},
   "source": [
    "### 数据预处理\n",
    "* 每个家庭的人数 Family_Size\n",
    "* 每个家庭的选择倾向 DESIRED\n",
    "* 计算Performance Cost矩阵 pcost_mat\n",
    "* 计算Accounting Cost矩阵 acost_mat"
   ]
  },
  {
   "cell_type": "code",
   "execution_count": 4,
   "metadata": {},
   "outputs": [],
   "source": [
    "# 参数\n",
    "N_DAYS = 100 # 安排天数\n",
    "N_FAMILY = 5000 # 家庭ID个数\n",
    "MIN_OCCUPANCY = 125 # 最小参观人数\n",
    "MAX_OCCUPANCY = 300 #最大参观人数"
   ]
  },
  {
   "cell_type": "code",
   "execution_count": 5,
   "metadata": {},
   "outputs": [
    {
     "data": {
      "text/plain": [
       "array([4, 4, 3, ..., 6, 5, 4], dtype=int64)"
      ]
     },
     "execution_count": 5,
     "metadata": {},
     "output_type": "execute_result"
    }
   ],
   "source": [
    "# 每个家庭的人数\n",
    "FAMILY_SIZE = data['n_people'].values\n",
    "FAMILY_SIZE"
   ]
  },
  {
   "cell_type": "code",
   "execution_count": 6,
   "metadata": {},
   "outputs": [
    {
     "data": {
      "text/plain": [
       "array([[51, 37, 11, ..., 75,  9, 27],\n",
       "       [25,  3, 81, ...,  5, 65, 60],\n",
       "       [99, 53, 24, ..., 88, 79, 32],\n",
       "       ...,\n",
       "       [31, 65, 53, ..., 80,  2,  6],\n",
       "       [66, 91,  3, ..., 11, 25, 69],\n",
       "       [12, 10, 24, ..., 38, 17, 46]], dtype=int64)"
      ]
     },
     "execution_count": 6,
     "metadata": {},
     "output_type": "execute_result"
    }
   ],
   "source": [
    "# 每个家庭的安排意愿\n",
    "DESIRE = data.iloc[:, data.columns!='n_people'].values-1\n",
    "DESIRE"
   ]
  },
  {
   "cell_type": "markdown",
   "metadata": {},
   "source": [
    "#### Performance Cost"
   ]
  },
  {
   "cell_type": "code",
   "execution_count": 7,
   "metadata": {},
   "outputs": [],
   "source": [
    "# Performance Cost\n",
    "def pcost(choice_n, family_number):\n",
    "    if choice_n == 0:\n",
    "        return 0\n",
    "    elif choice_n == 1:\n",
    "        return 50\n",
    "    elif choice_n == 2:\n",
    "        return 50 + (9)*family_number\n",
    "    elif choice_n == 3:\n",
    "        return 100 + (9)*family_number\n",
    "    elif choice_n == 4:\n",
    "        return 200 + (9)*family_number\n",
    "    elif choice_n == 5:\n",
    "        return 200 + (18)*family_number\n",
    "    elif choice_n == 6:\n",
    "        return 300 + (18)*family_number\n",
    "    elif choice_n == 7:\n",
    "        return 300 + (36)*family_number\n",
    "    elif choice_n == 8:\n",
    "        return 400 + (36)*family_number\n",
    "    elif choice_n == 9:\n",
    "        return 500 + (36+199)*family_number\n",
    "    else:\n",
    "        return 500 + (36+398)*family_number"
   ]
  },
  {
   "cell_type": "code",
   "execution_count": 8,
   "metadata": {},
   "outputs": [],
   "source": [
    "# choice 和 family_num对cost的影响\n",
    "# for choice in range(10):\n",
    "#     for family_num in range(2,9):\n",
    "#         print('Choice:{}, Family_number:{}, Pcost:{}'.format(choice, family_num, pcost(choice,family_num)))"
   ]
  },
  {
   "cell_type": "code",
   "execution_count": 9,
   "metadata": {},
   "outputs": [],
   "source": [
    "# 计算pcost_mat 每个家庭被满足各个choice分别是什么情况\n",
    "# 5000 * 100\n",
    "# 先初始化一个矩阵\n",
    "pcost_mat = np.full(shape=(N_FAMILY, 100), fill_value=99999)\n",
    "for i in range(N_FAMILY):\n",
    "    # 计算每个家庭各个choice的情况\n",
    "    f_num = data.loc[i, 'n_people']      # 家庭成员数\n",
    "    # 以最坏的情况初始化pcost_mat\n",
    "    pcost_mat[i, :] = pcost(10, f_num)    # 以else的情况初始化矩阵，接着再对choice0-9进行修正\n",
    "    for choice in range(10):\n",
    "        day = data.iloc[i,choice]       # 第几个choice 具体是第几天\n",
    "        pcost_mat[i, day-1] = pcost(choice, f_num)"
   ]
  },
  {
   "cell_type": "markdown",
   "metadata": {},
   "source": [
    "#### accounting penalty"
   ]
  },
  {
   "cell_type": "code",
   "execution_count": 10,
   "metadata": {},
   "outputs": [],
   "source": [
    "# 计算acounting penalty， 与前一天和当天参观人数相关\n",
    "acost_mat = np.zeros(shape=(MAX_OCCUPANCY+1, MAX_OCCUPANCY+1), dtype=np.float64)\n",
    "for i in range(acost_mat.shape[0]):     # 当天人数\n",
    "    for j in range(acost_mat.shape[1]):  # 前一天人数\n",
    "        diff = abs(i-j)\n",
    "        acost_mat[i,j] = max(0, (i-125)/400*i ** (0.5+diff/50.0))            "
   ]
  },
  {
   "cell_type": "code",
   "execution_count": 11,
   "metadata": {},
   "outputs": [
    {
     "data": {
      "text/plain": [
       "array([[0.00000000e+00, 0.00000000e+00, 0.00000000e+00, ...,\n",
       "        0.00000000e+00, 0.00000000e+00, 0.00000000e+00],\n",
       "       [0.00000000e+00, 0.00000000e+00, 0.00000000e+00, ...,\n",
       "        0.00000000e+00, 0.00000000e+00, 0.00000000e+00],\n",
       "       [0.00000000e+00, 0.00000000e+00, 0.00000000e+00, ...,\n",
       "        0.00000000e+00, 0.00000000e+00, 0.00000000e+00],\n",
       "       ...,\n",
       "       [4.16316072e+15, 3.71482922e+15, 3.31477861e+15, ...,\n",
       "        7.46610759e+00, 8.36716954e+00, 9.37697794e+00],\n",
       "       [4.79555148e+15, 4.27883100e+15, 3.81778713e+15, ...,\n",
       "        8.43020770e+00, 7.52185316e+00, 8.43020770e+00],\n",
       "       [5.52415954e+15, 4.92860244e+15, 4.39725208e+15, ...,\n",
       "        9.51970597e+00, 8.49339085e+00, 7.57772228e+00]])"
      ]
     },
     "execution_count": 11,
     "metadata": {},
     "output_type": "execute_result"
    }
   ],
   "source": [
    "acost_mat"
   ]
  },
  {
   "cell_type": "markdown",
   "metadata": {},
   "source": [
    "### 使用LP+MIP分阶段求解\n",
    "* 先利用LP对绝大部分家庭进行规划\n",
    "* 再利用MIP对LP没规划好的家庭进一步求解\n",
    "* 汇总两个阶段的求解结果，得到最终的规划方案\n",
    "* 微调结果"
   ]
  },
  {
   "cell_type": "code",
   "execution_count": 12,
   "metadata": {},
   "outputs": [],
   "source": [
    "from ortools.linear_solver import pywraplp"
   ]
  },
  {
   "cell_type": "code",
   "execution_count": 13,
   "metadata": {},
   "outputs": [],
   "source": [
    "def solveLP():\n",
    "    # 线性规划优化器\n",
    "    solver = pywraplp.Solver('AssignmentProblem', pywraplp.Solver.GLOP_LINEAR_PROGRAMMING)\n",
    "    \n",
    "    # 决策变量，{family_id，第几个choice}\n",
    "    x ={}\n",
    "    \n",
    "    # 每天有哪些家庭想去参观 (100*?)\n",
    "    candidates = [[] for x in range(N_DAYS)]\n",
    "    \n",
    "    for family_id in range(N_FAMILY):\n",
    "        for desired_day in DESIRE[family_id,:]:\n",
    "            x[family_id, desired_day] = solver.BoolVar('x[%i,%i]' %(family_id, desired_day))  \n",
    "            candidates[desired_day].append(family_id)\n",
    "    \n",
    "    \n",
    "    # 每天参观人数 \n",
    "    # 每天想去参观的家庭candidates(100*...) 乘 该天的决策变量x[family_id,day] 0/1\n",
    "    daily_occupancy = [solver.Sum([x[family_id,day] * FAMILY_SIZE[family_id] \\\n",
    "                                   for family_id in candidates[day]]) \\\n",
    "                                   for day in range(N_DAYS)]\n",
    "    \n",
    "    # 每个家庭，在10个choice中出现的总数\n",
    "    # 这个总数是需要做约束的，每个家庭只需要满足一天就可以\n",
    "    family_presence = [solver.Sum(x[family_id, day] \\\n",
    "                      for day in DESIRE[family_id,:]) \\\n",
    "                      for family_id in range(N_FAMILY)]\n",
    "    \n",
    "    # 定义目标函数 preference cost部分\n",
    "    preference_cost = solver.Sum([pcost_mat[i,j] * x[i,j] \\\n",
    "                                  for i in range(N_FAMILY) \\\n",
    "                                  for j in DESIRE[i, :]]  \n",
    "                                  )\n",
    "    \n",
    "    # 目标：最小化preference_cost\n",
    "    solver.Minimize(preference_cost)\n",
    "    \n",
    "    # 由于 accounting cost需要较小的前后人数差，\n",
    "    # 因此可以人为添加约束\n",
    "    for j in range(N_DAYS-1):\n",
    "        # j:当天，j+1：前一天    0 1,  98 99\n",
    "        solver.Add(daily_occupancy[j] - daily_occupancy[j+1] <= 25)\n",
    "        solver.Add(daily_occupancy[j+1] - daily_occupancy[j] <= 25)\n",
    "    \n",
    "    # 每个家庭只能出现一次\n",
    "    for i in range(N_FAMILY):\n",
    "        solver.Add(family_presence[i] == 1)\n",
    "        \n",
    "    # 每天访问人数 125 - 300\n",
    "    for j in range(N_DAYS):      # 0 99\n",
    "        solver.Add(daily_occupancy[j] >= MIN_OCCUPANCY)\n",
    "        solver.Add(daily_occupancy[j] <= MAX_OCCUPANCY)\n",
    "    \n",
    "    result = solver.Solve()\n",
    "    \n",
    "    # result\n",
    "    temp = [(i,j,x[i,j].solution_value()) for i in range(N_FAMILY)\\\n",
    "            for j in DESIRE[i,:] if x[i,j].solution_value() > 0]\n",
    "    print(solver.Objective().Value())\n",
    "    # 得到参观日期的安排\n",
    "    df = pd.DataFrame(temp, columns=['family_id', 'day', 'result'])\n",
    "    \n",
    "    return df"
   ]
  },
  {
   "cell_type": "code",
   "execution_count": 14,
   "metadata": {},
   "outputs": [
    {
     "name": "stdout",
     "output_type": "stream",
     "text": [
      "73702.31696428571\n",
      "Wall time: 12.5 s\n"
     ]
    }
   ],
   "source": [
    "%%time\n",
    "result = solveLP()"
   ]
  },
  {
   "cell_type": "code",
   "execution_count": 15,
   "metadata": {},
   "outputs": [
    {
     "data": {
      "text/html": [
       "<div>\n",
       "<style scoped>\n",
       "    .dataframe tbody tr th:only-of-type {\n",
       "        vertical-align: middle;\n",
       "    }\n",
       "\n",
       "    .dataframe tbody tr th {\n",
       "        vertical-align: top;\n",
       "    }\n",
       "\n",
       "    .dataframe thead th {\n",
       "        text-align: right;\n",
       "    }\n",
       "</style>\n",
       "<table border=\"1\" class=\"dataframe\">\n",
       "  <thead>\n",
       "    <tr style=\"text-align: right;\">\n",
       "      <th></th>\n",
       "      <th>family_id</th>\n",
       "      <th>day</th>\n",
       "      <th>result</th>\n",
       "    </tr>\n",
       "  </thead>\n",
       "  <tbody>\n",
       "    <tr>\n",
       "      <th>0</th>\n",
       "      <td>0</td>\n",
       "      <td>51</td>\n",
       "      <td>1.0</td>\n",
       "    </tr>\n",
       "    <tr>\n",
       "      <th>1</th>\n",
       "      <td>1</td>\n",
       "      <td>25</td>\n",
       "      <td>1.0</td>\n",
       "    </tr>\n",
       "    <tr>\n",
       "      <th>2</th>\n",
       "      <td>2</td>\n",
       "      <td>99</td>\n",
       "      <td>1.0</td>\n",
       "    </tr>\n",
       "    <tr>\n",
       "      <th>3</th>\n",
       "      <td>3</td>\n",
       "      <td>1</td>\n",
       "      <td>1.0</td>\n",
       "    </tr>\n",
       "    <tr>\n",
       "      <th>4</th>\n",
       "      <td>4</td>\n",
       "      <td>52</td>\n",
       "      <td>1.0</td>\n",
       "    </tr>\n",
       "    <tr>\n",
       "      <th>...</th>\n",
       "      <td>...</td>\n",
       "      <td>...</td>\n",
       "      <td>...</td>\n",
       "    </tr>\n",
       "    <tr>\n",
       "      <th>5068</th>\n",
       "      <td>4995</td>\n",
       "      <td>15</td>\n",
       "      <td>1.0</td>\n",
       "    </tr>\n",
       "    <tr>\n",
       "      <th>5069</th>\n",
       "      <td>4996</td>\n",
       "      <td>87</td>\n",
       "      <td>1.0</td>\n",
       "    </tr>\n",
       "    <tr>\n",
       "      <th>5070</th>\n",
       "      <td>4997</td>\n",
       "      <td>31</td>\n",
       "      <td>1.0</td>\n",
       "    </tr>\n",
       "    <tr>\n",
       "      <th>5071</th>\n",
       "      <td>4998</td>\n",
       "      <td>91</td>\n",
       "      <td>1.0</td>\n",
       "    </tr>\n",
       "    <tr>\n",
       "      <th>5072</th>\n",
       "      <td>4999</td>\n",
       "      <td>12</td>\n",
       "      <td>1.0</td>\n",
       "    </tr>\n",
       "  </tbody>\n",
       "</table>\n",
       "<p>5073 rows × 3 columns</p>\n",
       "</div>"
      ],
      "text/plain": [
       "      family_id  day  result\n",
       "0             0   51     1.0\n",
       "1             1   25     1.0\n",
       "2             2   99     1.0\n",
       "3             3    1     1.0\n",
       "4             4   52     1.0\n",
       "...         ...  ...     ...\n",
       "5068       4995   15     1.0\n",
       "5069       4996   87     1.0\n",
       "5070       4997   31     1.0\n",
       "5071       4998   91     1.0\n",
       "5072       4999   12     1.0\n",
       "\n",
       "[5073 rows x 3 columns]"
      ]
     },
     "execution_count": 15,
     "metadata": {},
     "output_type": "execute_result"
    }
   ],
   "source": [
    "# 可以发现共有5000个家庭，但却有5073个安排结果\n",
    "result"
   ]
  },
  {
   "cell_type": "code",
   "execution_count": 16,
   "metadata": {},
   "outputs": [
    {
     "data": {
      "text/plain": [
       "1.000000    4301\n",
       "1.000000     627\n",
       "0.750000       2\n",
       "0.666667       2\n",
       "0.666667       2\n",
       "            ... \n",
       "0.750000       1\n",
       "0.400000       1\n",
       "0.400000       1\n",
       "0.400000       1\n",
       "0.947917       1\n",
       "Name: result, Length: 144, dtype: int64"
      ]
     },
     "execution_count": 16,
     "metadata": {},
     "output_type": "execute_result"
    }
   ],
   "source": [
    "# 安排结果不是0/1\n",
    "result.result.value_counts()"
   ]
  },
  {
   "cell_type": "code",
   "execution_count": 17,
   "metadata": {},
   "outputs": [
    {
     "data": {
      "text/html": [
       "<div>\n",
       "<style scoped>\n",
       "    .dataframe tbody tr th:only-of-type {\n",
       "        vertical-align: middle;\n",
       "    }\n",
       "\n",
       "    .dataframe tbody tr th {\n",
       "        vertical-align: top;\n",
       "    }\n",
       "\n",
       "    .dataframe thead th {\n",
       "        text-align: right;\n",
       "    }\n",
       "</style>\n",
       "<table border=\"1\" class=\"dataframe\">\n",
       "  <thead>\n",
       "    <tr style=\"text-align: right;\">\n",
       "      <th></th>\n",
       "      <th>family_id</th>\n",
       "      <th>day</th>\n",
       "      <th>result</th>\n",
       "    </tr>\n",
       "  </thead>\n",
       "  <tbody>\n",
       "    <tr>\n",
       "      <th>0</th>\n",
       "      <td>0</td>\n",
       "      <td>51</td>\n",
       "      <td>1.0</td>\n",
       "    </tr>\n",
       "    <tr>\n",
       "      <th>1</th>\n",
       "      <td>1</td>\n",
       "      <td>25</td>\n",
       "      <td>1.0</td>\n",
       "    </tr>\n",
       "    <tr>\n",
       "      <th>2</th>\n",
       "      <td>2</td>\n",
       "      <td>99</td>\n",
       "      <td>1.0</td>\n",
       "    </tr>\n",
       "    <tr>\n",
       "      <th>3</th>\n",
       "      <td>3</td>\n",
       "      <td>1</td>\n",
       "      <td>1.0</td>\n",
       "    </tr>\n",
       "    <tr>\n",
       "      <th>4</th>\n",
       "      <td>4</td>\n",
       "      <td>52</td>\n",
       "      <td>1.0</td>\n",
       "    </tr>\n",
       "    <tr>\n",
       "      <th>...</th>\n",
       "      <td>...</td>\n",
       "      <td>...</td>\n",
       "      <td>...</td>\n",
       "    </tr>\n",
       "    <tr>\n",
       "      <th>4926</th>\n",
       "      <td>4995</td>\n",
       "      <td>15</td>\n",
       "      <td>1.0</td>\n",
       "    </tr>\n",
       "    <tr>\n",
       "      <th>4927</th>\n",
       "      <td>4996</td>\n",
       "      <td>87</td>\n",
       "      <td>1.0</td>\n",
       "    </tr>\n",
       "    <tr>\n",
       "      <th>4928</th>\n",
       "      <td>4997</td>\n",
       "      <td>31</td>\n",
       "      <td>1.0</td>\n",
       "    </tr>\n",
       "    <tr>\n",
       "      <th>4929</th>\n",
       "      <td>4998</td>\n",
       "      <td>91</td>\n",
       "      <td>1.0</td>\n",
       "    </tr>\n",
       "    <tr>\n",
       "      <th>4930</th>\n",
       "      <td>4999</td>\n",
       "      <td>12</td>\n",
       "      <td>1.0</td>\n",
       "    </tr>\n",
       "  </tbody>\n",
       "</table>\n",
       "<p>4931 rows × 3 columns</p>\n",
       "</div>"
      ],
      "text/plain": [
       "      family_id  day  result\n",
       "0             0   51     1.0\n",
       "1             1   25     1.0\n",
       "2             2   99     1.0\n",
       "3             3    1     1.0\n",
       "4             4   52     1.0\n",
       "...         ...  ...     ...\n",
       "4926       4995   15     1.0\n",
       "4927       4996   87     1.0\n",
       "4928       4997   31     1.0\n",
       "4929       4998   91     1.0\n",
       "4930       4999   12     1.0\n",
       "\n",
       "[4931 rows x 3 columns]"
      ]
     },
     "execution_count": 17,
     "metadata": {},
     "output_type": "execute_result"
    }
   ],
   "source": [
    "# 设置阈值\n",
    "Theshold = 0.999\n",
    "# \n",
    "assigned_df = result[result.result > Theshold].reset_index(drop=True)\n",
    "assigned_df"
   ]
  },
  {
   "cell_type": "code",
   "execution_count": 18,
   "metadata": {},
   "outputs": [
    {
     "data": {
      "text/plain": [
       "4931"
      ]
     },
     "execution_count": 18,
     "metadata": {},
     "output_type": "execute_result"
    }
   ],
   "source": [
    "# 确认这些家庭被安排\n",
    "len(assigned_df.family_id.unique())"
   ]
  },
  {
   "cell_type": "code",
   "execution_count": 19,
   "metadata": {},
   "outputs": [
    {
     "data": {
      "text/plain": [
       "array([   0,    1,    2, ..., 4997, 4998, 4999], dtype=int64)"
      ]
     },
     "execution_count": 19,
     "metadata": {},
     "output_type": "execute_result"
    }
   ],
   "source": [
    "assigned_df.family_id.values"
   ]
  },
  {
   "cell_type": "code",
   "execution_count": 20,
   "metadata": {},
   "outputs": [
    {
     "data": {
      "text/html": [
       "<div>\n",
       "<style scoped>\n",
       "    .dataframe tbody tr th:only-of-type {\n",
       "        vertical-align: middle;\n",
       "    }\n",
       "\n",
       "    .dataframe tbody tr th {\n",
       "        vertical-align: top;\n",
       "    }\n",
       "\n",
       "    .dataframe thead th {\n",
       "        text-align: right;\n",
       "    }\n",
       "</style>\n",
       "<table border=\"1\" class=\"dataframe\">\n",
       "  <thead>\n",
       "    <tr style=\"text-align: right;\">\n",
       "      <th></th>\n",
       "      <th>family_id</th>\n",
       "      <th>day</th>\n",
       "      <th>result</th>\n",
       "    </tr>\n",
       "  </thead>\n",
       "  <tbody>\n",
       "    <tr>\n",
       "      <th>59</th>\n",
       "      <td>59</td>\n",
       "      <td>38</td>\n",
       "      <td>0.25</td>\n",
       "    </tr>\n",
       "    <tr>\n",
       "      <th>60</th>\n",
       "      <td>59</td>\n",
       "      <td>14</td>\n",
       "      <td>0.75</td>\n",
       "    </tr>\n",
       "    <tr>\n",
       "      <th>241</th>\n",
       "      <td>240</td>\n",
       "      <td>32</td>\n",
       "      <td>0.75</td>\n",
       "    </tr>\n",
       "    <tr>\n",
       "      <th>242</th>\n",
       "      <td>240</td>\n",
       "      <td>56</td>\n",
       "      <td>0.25</td>\n",
       "    </tr>\n",
       "    <tr>\n",
       "      <th>264</th>\n",
       "      <td>262</td>\n",
       "      <td>31</td>\n",
       "      <td>0.50</td>\n",
       "    </tr>\n",
       "    <tr>\n",
       "      <th>...</th>\n",
       "      <td>...</td>\n",
       "      <td>...</td>\n",
       "      <td>...</td>\n",
       "    </tr>\n",
       "    <tr>\n",
       "      <th>4983</th>\n",
       "      <td>4912</td>\n",
       "      <td>8</td>\n",
       "      <td>0.40</td>\n",
       "    </tr>\n",
       "    <tr>\n",
       "      <th>4985</th>\n",
       "      <td>4914</td>\n",
       "      <td>38</td>\n",
       "      <td>0.60</td>\n",
       "    </tr>\n",
       "    <tr>\n",
       "      <th>4986</th>\n",
       "      <td>4914</td>\n",
       "      <td>43</td>\n",
       "      <td>0.40</td>\n",
       "    </tr>\n",
       "    <tr>\n",
       "      <th>5033</th>\n",
       "      <td>4961</td>\n",
       "      <td>53</td>\n",
       "      <td>0.75</td>\n",
       "    </tr>\n",
       "    <tr>\n",
       "      <th>5034</th>\n",
       "      <td>4961</td>\n",
       "      <td>15</td>\n",
       "      <td>0.25</td>\n",
       "    </tr>\n",
       "  </tbody>\n",
       "</table>\n",
       "<p>138 rows × 3 columns</p>\n",
       "</div>"
      ],
      "text/plain": [
       "      family_id  day  result\n",
       "59           59   38    0.25\n",
       "60           59   14    0.75\n",
       "241         240   32    0.75\n",
       "242         240   56    0.25\n",
       "264         262   31    0.50\n",
       "...         ...  ...     ...\n",
       "4983       4912    8    0.40\n",
       "4985       4914   38    0.60\n",
       "4986       4914   43    0.40\n",
       "5033       4961   53    0.75\n",
       "5034       4961   15    0.25\n",
       "\n",
       "[138 rows x 3 columns]"
      ]
     },
     "execution_count": 20,
     "metadata": {},
     "output_type": "execute_result"
    }
   ],
   "source": [
    "# 安排地不是那么好的家庭\n",
    "unassigned_df = result[(result.result<Theshold) & (result.result > 1-Theshold)]\n",
    "unassigned_df"
   ]
  },
  {
   "cell_type": "code",
   "execution_count": 21,
   "metadata": {},
   "outputs": [
    {
     "data": {
      "text/plain": [
       "family_id\n",
       "59      1.0\n",
       "240     1.0\n",
       "262     1.0\n",
       "357     1.0\n",
       "488     1.0\n",
       "       ... \n",
       "4869    1.0\n",
       "4886    1.0\n",
       "4912    1.0\n",
       "4914    1.0\n",
       "4961    1.0\n",
       "Name: result, Length: 69, dtype: float64"
      ]
     },
     "execution_count": 21,
     "metadata": {},
     "output_type": "execute_result"
    }
   ],
   "source": [
    "# 以家庭聚合，计算每个家庭的分配结果，其实加起来是为1\n",
    "unassigned_df.groupby('family_id')['result'].sum()"
   ]
  },
  {
   "cell_type": "code",
   "execution_count": 22,
   "metadata": {},
   "outputs": [
    {
     "data": {
      "text/plain": [
       "array([  59,  240,  262,  357,  488,  610,  630,  724,  926,  941,  961,\n",
       "       1012, 1106, 1167, 1176, 1218, 1235, 1271, 1287, 1387, 1444, 1484,\n",
       "       1536, 1610, 1611, 1653, 1720, 1791, 1977, 2004, 2101, 2135, 2229,\n",
       "       2318, 2344, 2395, 2641, 2778, 2862, 2874, 3033, 3054, 3104, 3118,\n",
       "       3228, 3278, 3280, 3348, 3470, 3504, 3642, 3649, 3786, 4045, 4077,\n",
       "       4084, 4404, 4421, 4431, 4471, 4518, 4661, 4820, 4850, 4869, 4886,\n",
       "       4912, 4914, 4961], dtype=int64)"
      ]
     },
     "execution_count": 22,
     "metadata": {},
     "output_type": "execute_result"
    }
   ],
   "source": [
    "# 那都是哪些家庭呢？\n",
    "unassigned = unassigned_df.family_id.unique()\n",
    "unassigned"
   ]
  },
  {
   "cell_type": "code",
   "execution_count": 23,
   "metadata": {},
   "outputs": [],
   "source": [
    "# 因为已经有家庭安排好了，因此每天的约束，最大最小会有变化"
   ]
  },
  {
   "cell_type": "code",
   "execution_count": 24,
   "metadata": {},
   "outputs": [
    {
     "data": {
      "text/plain": [
       "family_id\n",
       "0       4\n",
       "1       4\n",
       "2       3\n",
       "3       2\n",
       "4       4\n",
       "       ..\n",
       "4995    4\n",
       "4996    2\n",
       "4997    6\n",
       "4998    5\n",
       "4999    4\n",
       "Name: n_people, Length: 5000, dtype: int64"
      ]
     },
     "execution_count": 24,
     "metadata": {},
     "output_type": "execute_result"
    }
   ],
   "source": [
    "data.n_people"
   ]
  },
  {
   "cell_type": "code",
   "execution_count": 25,
   "metadata": {},
   "outputs": [
    {
     "name": "stdout",
     "output_type": "stream",
     "text": [
      "[4 4 3 ... 6 5 4]\n"
     ]
    }
   ],
   "source": [
    "print(FAMILY_SIZE)"
   ]
  },
  {
   "cell_type": "code",
   "execution_count": 26,
   "metadata": {},
   "outputs": [],
   "source": [
    "# 家庭人数\n",
    "assigned_df['family_size'] = FAMILY_SIZE[assigned_df.family_id]"
   ]
  },
  {
   "cell_type": "code",
   "execution_count": 27,
   "metadata": {},
   "outputs": [
    {
     "data": {
      "text/html": [
       "<div>\n",
       "<style scoped>\n",
       "    .dataframe tbody tr th:only-of-type {\n",
       "        vertical-align: middle;\n",
       "    }\n",
       "\n",
       "    .dataframe tbody tr th {\n",
       "        vertical-align: top;\n",
       "    }\n",
       "\n",
       "    .dataframe thead th {\n",
       "        text-align: right;\n",
       "    }\n",
       "</style>\n",
       "<table border=\"1\" class=\"dataframe\">\n",
       "  <thead>\n",
       "    <tr style=\"text-align: right;\">\n",
       "      <th></th>\n",
       "      <th>family_id</th>\n",
       "      <th>day</th>\n",
       "      <th>result</th>\n",
       "      <th>family_size</th>\n",
       "    </tr>\n",
       "  </thead>\n",
       "  <tbody>\n",
       "    <tr>\n",
       "      <th>0</th>\n",
       "      <td>0</td>\n",
       "      <td>51</td>\n",
       "      <td>1.0</td>\n",
       "      <td>4</td>\n",
       "    </tr>\n",
       "    <tr>\n",
       "      <th>1</th>\n",
       "      <td>1</td>\n",
       "      <td>25</td>\n",
       "      <td>1.0</td>\n",
       "      <td>4</td>\n",
       "    </tr>\n",
       "    <tr>\n",
       "      <th>2</th>\n",
       "      <td>2</td>\n",
       "      <td>99</td>\n",
       "      <td>1.0</td>\n",
       "      <td>3</td>\n",
       "    </tr>\n",
       "    <tr>\n",
       "      <th>3</th>\n",
       "      <td>3</td>\n",
       "      <td>1</td>\n",
       "      <td>1.0</td>\n",
       "      <td>2</td>\n",
       "    </tr>\n",
       "    <tr>\n",
       "      <th>4</th>\n",
       "      <td>4</td>\n",
       "      <td>52</td>\n",
       "      <td>1.0</td>\n",
       "      <td>4</td>\n",
       "    </tr>\n",
       "    <tr>\n",
       "      <th>...</th>\n",
       "      <td>...</td>\n",
       "      <td>...</td>\n",
       "      <td>...</td>\n",
       "      <td>...</td>\n",
       "    </tr>\n",
       "    <tr>\n",
       "      <th>4926</th>\n",
       "      <td>4995</td>\n",
       "      <td>15</td>\n",
       "      <td>1.0</td>\n",
       "      <td>4</td>\n",
       "    </tr>\n",
       "    <tr>\n",
       "      <th>4927</th>\n",
       "      <td>4996</td>\n",
       "      <td>87</td>\n",
       "      <td>1.0</td>\n",
       "      <td>2</td>\n",
       "    </tr>\n",
       "    <tr>\n",
       "      <th>4928</th>\n",
       "      <td>4997</td>\n",
       "      <td>31</td>\n",
       "      <td>1.0</td>\n",
       "      <td>6</td>\n",
       "    </tr>\n",
       "    <tr>\n",
       "      <th>4929</th>\n",
       "      <td>4998</td>\n",
       "      <td>91</td>\n",
       "      <td>1.0</td>\n",
       "      <td>5</td>\n",
       "    </tr>\n",
       "    <tr>\n",
       "      <th>4930</th>\n",
       "      <td>4999</td>\n",
       "      <td>12</td>\n",
       "      <td>1.0</td>\n",
       "      <td>4</td>\n",
       "    </tr>\n",
       "  </tbody>\n",
       "</table>\n",
       "<p>4931 rows × 4 columns</p>\n",
       "</div>"
      ],
      "text/plain": [
       "      family_id  day  result  family_size\n",
       "0             0   51     1.0            4\n",
       "1             1   25     1.0            4\n",
       "2             2   99     1.0            3\n",
       "3             3    1     1.0            2\n",
       "4             4   52     1.0            4\n",
       "...         ...  ...     ...          ...\n",
       "4926       4995   15     1.0            4\n",
       "4927       4996   87     1.0            2\n",
       "4928       4997   31     1.0            6\n",
       "4929       4998   91     1.0            5\n",
       "4930       4999   12     1.0            4\n",
       "\n",
       "[4931 rows x 4 columns]"
      ]
     },
     "execution_count": 27,
     "metadata": {},
     "output_type": "execute_result"
    }
   ],
   "source": [
    "assigned_df"
   ]
  },
  {
   "cell_type": "code",
   "execution_count": 28,
   "metadata": {},
   "outputs": [
    {
     "data": {
      "text/plain": [
       "5"
      ]
     },
     "execution_count": 28,
     "metadata": {},
     "output_type": "execute_result"
    }
   ],
   "source": [
    "data.iloc[4679,-1]"
   ]
  },
  {
   "cell_type": "code",
   "execution_count": 29,
   "metadata": {},
   "outputs": [
    {
     "data": {
      "text/html": [
       "<div>\n",
       "<style scoped>\n",
       "    .dataframe tbody tr th:only-of-type {\n",
       "        vertical-align: middle;\n",
       "    }\n",
       "\n",
       "    .dataframe tbody tr th {\n",
       "        vertical-align: top;\n",
       "    }\n",
       "\n",
       "    .dataframe thead th {\n",
       "        text-align: right;\n",
       "    }\n",
       "</style>\n",
       "<table border=\"1\" class=\"dataframe\">\n",
       "  <thead>\n",
       "    <tr style=\"text-align: right;\">\n",
       "      <th></th>\n",
       "      <th>family_id</th>\n",
       "      <th>day</th>\n",
       "      <th>result</th>\n",
       "      <th>family_size</th>\n",
       "    </tr>\n",
       "  </thead>\n",
       "  <tbody>\n",
       "    <tr>\n",
       "      <th>65</th>\n",
       "      <td>66</td>\n",
       "      <td>0</td>\n",
       "      <td>1.0</td>\n",
       "      <td>8</td>\n",
       "    </tr>\n",
       "    <tr>\n",
       "      <th>204</th>\n",
       "      <td>205</td>\n",
       "      <td>0</td>\n",
       "      <td>1.0</td>\n",
       "      <td>2</td>\n",
       "    </tr>\n",
       "    <tr>\n",
       "      <th>214</th>\n",
       "      <td>215</td>\n",
       "      <td>0</td>\n",
       "      <td>1.0</td>\n",
       "      <td>2</td>\n",
       "    </tr>\n",
       "    <tr>\n",
       "      <th>219</th>\n",
       "      <td>220</td>\n",
       "      <td>0</td>\n",
       "      <td>1.0</td>\n",
       "      <td>2</td>\n",
       "    </tr>\n",
       "    <tr>\n",
       "      <th>322</th>\n",
       "      <td>325</td>\n",
       "      <td>0</td>\n",
       "      <td>1.0</td>\n",
       "      <td>2</td>\n",
       "    </tr>\n",
       "    <tr>\n",
       "      <th>...</th>\n",
       "      <td>...</td>\n",
       "      <td>...</td>\n",
       "      <td>...</td>\n",
       "      <td>...</td>\n",
       "    </tr>\n",
       "    <tr>\n",
       "      <th>4617</th>\n",
       "      <td>4679</td>\n",
       "      <td>0</td>\n",
       "      <td>1.0</td>\n",
       "      <td>5</td>\n",
       "    </tr>\n",
       "    <tr>\n",
       "      <th>4654</th>\n",
       "      <td>4716</td>\n",
       "      <td>0</td>\n",
       "      <td>1.0</td>\n",
       "      <td>3</td>\n",
       "    </tr>\n",
       "    <tr>\n",
       "      <th>4710</th>\n",
       "      <td>4772</td>\n",
       "      <td>0</td>\n",
       "      <td>1.0</td>\n",
       "      <td>3</td>\n",
       "    </tr>\n",
       "    <tr>\n",
       "      <th>4737</th>\n",
       "      <td>4799</td>\n",
       "      <td>0</td>\n",
       "      <td>1.0</td>\n",
       "      <td>2</td>\n",
       "    </tr>\n",
       "    <tr>\n",
       "      <th>4787</th>\n",
       "      <td>4851</td>\n",
       "      <td>0</td>\n",
       "      <td>1.0</td>\n",
       "      <td>2</td>\n",
       "    </tr>\n",
       "  </tbody>\n",
       "</table>\n",
       "<p>100 rows × 4 columns</p>\n",
       "</div>"
      ],
      "text/plain": [
       "      family_id  day  result  family_size\n",
       "65           66    0     1.0            8\n",
       "204         205    0     1.0            2\n",
       "214         215    0     1.0            2\n",
       "219         220    0     1.0            2\n",
       "322         325    0     1.0            2\n",
       "...         ...  ...     ...          ...\n",
       "4617       4679    0     1.0            5\n",
       "4654       4716    0     1.0            3\n",
       "4710       4772    0     1.0            3\n",
       "4737       4799    0     1.0            2\n",
       "4787       4851    0     1.0            2\n",
       "\n",
       "[100 rows x 4 columns]"
      ]
     },
     "execution_count": 29,
     "metadata": {},
     "output_type": "execute_result"
    }
   ],
   "source": [
    "assigned_df[assigned_df.day == 0]"
   ]
  },
  {
   "cell_type": "code",
   "execution_count": 30,
   "metadata": {},
   "outputs": [
    {
     "data": {
      "text/plain": [
       "array([290, 271, 294, 293, 263, 242, 223, 247, 273, 297, 288, 292, 275,\n",
       "       250, 238, 272, 292, 292, 271, 248, 223, 244, 264, 291, 292, 296,\n",
       "       273, 249, 234, 251, 278, 283, 252, 235, 205, 184, 202, 233, 253,\n",
       "       231, 210, 183, 204, 229, 247, 281, 256, 223, 204, 198, 222, 248,\n",
       "       255, 223, 208, 185, 173, 196, 219, 198, 174, 141, 124, 121, 149,\n",
       "       170, 178, 158, 136, 123, 125, 135, 158, 185, 158, 135, 121, 125,\n",
       "       142, 167, 186, 167, 138, 120, 128, 155, 174, 203, 177, 152, 130,\n",
       "       122, 130, 158, 178, 158, 128, 125, 122, 124], dtype=int64)"
      ]
     },
     "execution_count": 30,
     "metadata": {},
     "output_type": "execute_result"
    }
   ],
   "source": [
    "# 为什么第一天和老师写的不一样？？？？\n",
    "\n",
    "occupancy = assigned_df.groupby('day')['family_size'].sum().values\n",
    "occupancy"
   ]
  },
  {
   "cell_type": "markdown",
   "metadata": {},
   "source": [
    "### Stage Two"
   ]
  },
  {
   "cell_type": "code",
   "execution_count": 31,
   "metadata": {},
   "outputs": [],
   "source": [
    "diff = MIN_OCCUPANCY - occupancy\n",
    "min_occupancy = np.where(diff>0, diff, 0 )"
   ]
  },
  {
   "cell_type": "code",
   "execution_count": 32,
   "metadata": {},
   "outputs": [
    {
     "data": {
      "text/plain": [
       "array([0, 0, 0, 0, 0, 0, 0, 0, 0, 0, 0, 0, 0, 0, 0, 0, 0, 0, 0, 0, 0, 0,\n",
       "       0, 0, 0, 0, 0, 0, 0, 0, 0, 0, 0, 0, 0, 0, 0, 0, 0, 0, 0, 0, 0, 0,\n",
       "       0, 0, 0, 0, 0, 0, 0, 0, 0, 0, 0, 0, 0, 0, 0, 0, 0, 0, 1, 4, 0, 0,\n",
       "       0, 0, 0, 2, 0, 0, 0, 0, 0, 0, 4, 0, 0, 0, 0, 0, 0, 5, 0, 0, 0, 0,\n",
       "       0, 0, 0, 3, 0, 0, 0, 0, 0, 0, 3, 1], dtype=int64)"
      ]
     },
     "execution_count": 32,
     "metadata": {},
     "output_type": "execute_result"
    }
   ],
   "source": [
    "min_occupancy"
   ]
  },
  {
   "cell_type": "code",
   "execution_count": 33,
   "metadata": {},
   "outputs": [
    {
     "data": {
      "text/plain": [
       "array([ 10,  29,   6,   7,  37,  58,  77,  53,  27,   3,  12,   8,  25,\n",
       "        50,  62,  28,   8,   8,  29,  52,  77,  56,  36,   9,   8,   4,\n",
       "        27,  51,  66,  49,  22,  17,  48,  65,  95, 116,  98,  67,  47,\n",
       "        69,  90, 117,  96,  71,  53,  19,  44,  77,  96, 102,  78,  52,\n",
       "        45,  77,  92, 115, 127, 104,  81, 102, 126, 159, 176, 179, 151,\n",
       "       130, 122, 142, 164, 177, 175, 165, 142, 115, 142, 165, 179, 175,\n",
       "       158, 133, 114, 133, 162, 180, 172, 145, 126,  97, 123, 148, 170,\n",
       "       178, 170, 142, 122, 142, 172, 175, 178, 176], dtype=int64)"
      ]
     },
     "execution_count": 33,
     "metadata": {},
     "output_type": "execute_result"
    }
   ],
   "source": [
    "max_occupancy = MAX_OCCUPANCY - occupancy\n",
    "max_occupancy"
   ]
  },
  {
   "cell_type": "code",
   "execution_count": 34,
   "metadata": {},
   "outputs": [],
   "source": [
    "def solveIP(unassigned, min_occupancy, max_occupancy):\n",
    "    # 整数规划\n",
    "    #solver = pywraplp.Solver('AssignmentProblem', pywraplp.Solver.GLOP_LINEAR_PROGRAMMING)\n",
    "    solver = pywraplp.Solver('AssignmentProblem', pywraplp.Solver.CBC_MIXED_INTEGER_PROGRAMMING)\n",
    "\n",
    "    # 决策变量，{family_id，第几个choice}\n",
    "    x = {}\n",
    "    \n",
    "    # 每天有哪些家庭想去参观 (100*?)\n",
    "    candidates = [[] for x in range(N_DAYS)]\n",
    "    \n",
    "    # 决策变量只有unassigned的家庭\n",
    "    for family_id in unassigned:\n",
    "        for desired_day in DESIRE[family_id,:]:\n",
    "            x[family_id, desired_day] = solver.BoolVar('x[%i,%i]' %(family_id, desired_day))  \n",
    "            candidates[desired_day].append(family_id)\n",
    "    \n",
    "    # 每天参观人数 \n",
    "    # 每天想去参观的家庭candidates(100*...) 乘 该天的决策变量x[family_id,day] 0/1\n",
    "    daily_occupancy = [solver.Sum([x[family_id,day] * FAMILY_SIZE[family_id] \\\n",
    "                                   for family_id in candidates[day]]) \\\n",
    "                                   for day in range(N_DAYS)]\n",
    "    \n",
    "    # 每个家庭，在10个choice中出现的总数\n",
    "    # 这个总数是需要做约束的，每个家庭只需要满足一天就可以\n",
    "    family_presence = [solver.Sum(x[family_id, day] \\\n",
    "                      for day in DESIRE[family_id,:]) \\\n",
    "                      for family_id in unassigned]\n",
    "\n",
    "    \n",
    "    # 定义目标函数 preference cost部分\n",
    "    preference_cost = solver.Sum([pcost_mat[i,j] * x[i,j] \\\n",
    "                                  for i in unassigned \\\n",
    "                                  for j in DESIRE[i, :]])\n",
    "    \n",
    "    # 目标：最小化preference_cost\n",
    "    solver.Minimize(preference_cost)\n",
    "    \n",
    "    # 由于 accounting cost需要较小的前后人数差，\n",
    "    # 因此可以人为添加约束\n",
    "    for j in range(N_DAYS-1):\n",
    "        # j:当天，j+1：前一天    0 1,  98 99\n",
    "        solver.Add(daily_occupancy[j] - daily_occupancy[j+1] <= 25)\n",
    "        solver.Add(daily_occupancy[j+1] - daily_occupancy[j] <= 25)\n",
    "    \n",
    "    # 每个家庭只能出现一次\n",
    "    for i in range(len(unassigned)):\n",
    "        solver.Add(family_presence[i] == 1)\n",
    "        \n",
    "    # 每天访问人数 125 - 300\n",
    "    for j in range(N_DAYS):      # 0 99\n",
    "        solver.Add(daily_occupancy[j] >= min_occupancy[j])           # 约束变了\n",
    "        solver.Add(daily_occupancy[j] <= max_occupancy[j])\n",
    "    \n",
    "    result = solver.Solve()\n",
    "    \n",
    "    # result\n",
    "    temp = [(i,j,x[i,j].solution_value()) for i in unassigned\\\n",
    "            for j in DESIRE[i,:] if x[i,j].solution_value() > 0]\n",
    "    \n",
    "    print(solver.Objective().Value())\n",
    "    # 得到参观日期的安排\n",
    "    df = pd.DataFrame(temp, columns=['family_id', 'day', 'result'])\n",
    "    \n",
    "    return df"
   ]
  },
  {
   "cell_type": "code",
   "execution_count": 35,
   "metadata": {},
   "outputs": [
    {
     "name": "stdout",
     "output_type": "stream",
     "text": [
      "1401.0\n",
      "Wall time: 145 ms\n"
     ]
    },
    {
     "data": {
      "text/html": [
       "<div>\n",
       "<style scoped>\n",
       "    .dataframe tbody tr th:only-of-type {\n",
       "        vertical-align: middle;\n",
       "    }\n",
       "\n",
       "    .dataframe tbody tr th {\n",
       "        vertical-align: top;\n",
       "    }\n",
       "\n",
       "    .dataframe thead th {\n",
       "        text-align: right;\n",
       "    }\n",
       "</style>\n",
       "<table border=\"1\" class=\"dataframe\">\n",
       "  <thead>\n",
       "    <tr style=\"text-align: right;\">\n",
       "      <th></th>\n",
       "      <th>family_id</th>\n",
       "      <th>day</th>\n",
       "      <th>result</th>\n",
       "    </tr>\n",
       "  </thead>\n",
       "  <tbody>\n",
       "    <tr>\n",
       "      <th>0</th>\n",
       "      <td>59</td>\n",
       "      <td>38</td>\n",
       "      <td>1.0</td>\n",
       "    </tr>\n",
       "    <tr>\n",
       "      <th>1</th>\n",
       "      <td>240</td>\n",
       "      <td>32</td>\n",
       "      <td>1.0</td>\n",
       "    </tr>\n",
       "    <tr>\n",
       "      <th>2</th>\n",
       "      <td>262</td>\n",
       "      <td>31</td>\n",
       "      <td>1.0</td>\n",
       "    </tr>\n",
       "    <tr>\n",
       "      <th>3</th>\n",
       "      <td>357</td>\n",
       "      <td>24</td>\n",
       "      <td>1.0</td>\n",
       "    </tr>\n",
       "    <tr>\n",
       "      <th>4</th>\n",
       "      <td>488</td>\n",
       "      <td>39</td>\n",
       "      <td>1.0</td>\n",
       "    </tr>\n",
       "    <tr>\n",
       "      <th>...</th>\n",
       "      <td>...</td>\n",
       "      <td>...</td>\n",
       "      <td>...</td>\n",
       "    </tr>\n",
       "    <tr>\n",
       "      <th>64</th>\n",
       "      <td>4869</td>\n",
       "      <td>59</td>\n",
       "      <td>1.0</td>\n",
       "    </tr>\n",
       "    <tr>\n",
       "      <th>65</th>\n",
       "      <td>4886</td>\n",
       "      <td>98</td>\n",
       "      <td>1.0</td>\n",
       "    </tr>\n",
       "    <tr>\n",
       "      <th>66</th>\n",
       "      <td>4912</td>\n",
       "      <td>17</td>\n",
       "      <td>1.0</td>\n",
       "    </tr>\n",
       "    <tr>\n",
       "      <th>67</th>\n",
       "      <td>4914</td>\n",
       "      <td>38</td>\n",
       "      <td>1.0</td>\n",
       "    </tr>\n",
       "    <tr>\n",
       "      <th>68</th>\n",
       "      <td>4961</td>\n",
       "      <td>53</td>\n",
       "      <td>1.0</td>\n",
       "    </tr>\n",
       "  </tbody>\n",
       "</table>\n",
       "<p>69 rows × 3 columns</p>\n",
       "</div>"
      ],
      "text/plain": [
       "    family_id  day  result\n",
       "0          59   38     1.0\n",
       "1         240   32     1.0\n",
       "2         262   31     1.0\n",
       "3         357   24     1.0\n",
       "4         488   39     1.0\n",
       "..        ...  ...     ...\n",
       "64       4869   59     1.0\n",
       "65       4886   98     1.0\n",
       "66       4912   17     1.0\n",
       "67       4914   38     1.0\n",
       "68       4961   53     1.0\n",
       "\n",
       "[69 rows x 3 columns]"
      ]
     },
     "execution_count": 35,
     "metadata": {},
     "output_type": "execute_result"
    }
   ],
   "source": [
    "%%time\n",
    "result2 = solveIP(unassigned, min_occupancy, max_occupancy=max_occupancy)\n",
    "result2"
   ]
  },
  {
   "cell_type": "code",
   "execution_count": 36,
   "metadata": {},
   "outputs": [
    {
     "data": {
      "text/html": [
       "<div>\n",
       "<style scoped>\n",
       "    .dataframe tbody tr th:only-of-type {\n",
       "        vertical-align: middle;\n",
       "    }\n",
       "\n",
       "    .dataframe tbody tr th {\n",
       "        vertical-align: top;\n",
       "    }\n",
       "\n",
       "    .dataframe thead th {\n",
       "        text-align: right;\n",
       "    }\n",
       "</style>\n",
       "<table border=\"1\" class=\"dataframe\">\n",
       "  <thead>\n",
       "    <tr style=\"text-align: right;\">\n",
       "      <th></th>\n",
       "      <th>family_id</th>\n",
       "      <th>day</th>\n",
       "    </tr>\n",
       "  </thead>\n",
       "  <tbody>\n",
       "    <tr>\n",
       "      <th>0</th>\n",
       "      <td>0</td>\n",
       "      <td>51</td>\n",
       "    </tr>\n",
       "    <tr>\n",
       "      <th>1</th>\n",
       "      <td>1</td>\n",
       "      <td>25</td>\n",
       "    </tr>\n",
       "    <tr>\n",
       "      <th>2</th>\n",
       "      <td>2</td>\n",
       "      <td>99</td>\n",
       "    </tr>\n",
       "    <tr>\n",
       "      <th>3</th>\n",
       "      <td>3</td>\n",
       "      <td>1</td>\n",
       "    </tr>\n",
       "    <tr>\n",
       "      <th>4</th>\n",
       "      <td>4</td>\n",
       "      <td>52</td>\n",
       "    </tr>\n",
       "    <tr>\n",
       "      <th>...</th>\n",
       "      <td>...</td>\n",
       "      <td>...</td>\n",
       "    </tr>\n",
       "    <tr>\n",
       "      <th>4995</th>\n",
       "      <td>4995</td>\n",
       "      <td>15</td>\n",
       "    </tr>\n",
       "    <tr>\n",
       "      <th>4996</th>\n",
       "      <td>4996</td>\n",
       "      <td>87</td>\n",
       "    </tr>\n",
       "    <tr>\n",
       "      <th>4997</th>\n",
       "      <td>4997</td>\n",
       "      <td>31</td>\n",
       "    </tr>\n",
       "    <tr>\n",
       "      <th>4998</th>\n",
       "      <td>4998</td>\n",
       "      <td>91</td>\n",
       "    </tr>\n",
       "    <tr>\n",
       "      <th>4999</th>\n",
       "      <td>4999</td>\n",
       "      <td>12</td>\n",
       "    </tr>\n",
       "  </tbody>\n",
       "</table>\n",
       "<p>5000 rows × 2 columns</p>\n",
       "</div>"
      ],
      "text/plain": [
       "      family_id  day\n",
       "0             0   51\n",
       "1             1   25\n",
       "2             2   99\n",
       "3             3    1\n",
       "4             4   52\n",
       "...         ...  ...\n",
       "4995       4995   15\n",
       "4996       4996   87\n",
       "4997       4997   31\n",
       "4998       4998   91\n",
       "4999       4999   12\n",
       "\n",
       "[5000 rows x 2 columns]"
      ]
     },
     "execution_count": 36,
     "metadata": {},
     "output_type": "execute_result"
    }
   ],
   "source": [
    "# 拼接两个阶段的结果\n",
    "result = pd.concat([assigned_df.loc[:, assigned_df.columns!='family_size'], result2]).sort_values(by='family_id').reset_index(drop=True)\n",
    "result = result[['family_id', 'day']]\n",
    "result"
   ]
  },
  {
   "cell_type": "markdown",
   "metadata": {},
   "source": [
    "### 计算cost"
   ]
  },
  {
   "cell_type": "code",
   "execution_count": 37,
   "metadata": {},
   "outputs": [],
   "source": [
    "def pcost(prediction):\n",
    "    daily_occupancy = np.zeros(N_DAYS+1, dtype=np.int64)\n",
    "    penalty = 0\n",
    "    for (i, p) in enumerate(prediction):\n",
    "        # 计算家庭人数\n",
    "        n = FAMILY_SIZE[i]\n",
    "        # 第i个家庭，p天访问时的cost\n",
    "        #print(i,p)\n",
    "        penalty += pcost_mat[i, p]\n",
    "        # 当天人数\n",
    "        daily_occupancy[p] += n\n",
    "    return penalty, daily_occupancy\n",
    "\n",
    "def acost(daily_occupancy):\n",
    "    accounting_cost = 0\n",
    "    num_out_of_range = 0  \n",
    "    daily_occupancy[-1] = daily_occupancy[-2]        # 注意 \n",
    "    for day in range(N_DAYS):\n",
    "        n_pl = daily_occupancy[day+1] # 前一天的人数\n",
    "        n = daily_occupancy[day] # 当天的人数\n",
    "        # 判断是否超过承载范围\n",
    "        num_out_of_range += (n>MAX_OCCUPANCY) or (n<MIN_OCCUPANCY)\n",
    "        # 计算accounting cost\n",
    "        accounting_cost += acost_mat[n, n_pl]\n",
    "    return accounting_cost, num_out_of_range"
   ]
  },
  {
   "cell_type": "code",
   "execution_count": 38,
   "metadata": {},
   "outputs": [],
   "source": [
    "def cost_function(prediction):\n",
    "    # 计算两个cost\n",
    "    penalty, daily_occupancy = pcost(prediction)\n",
    "    accounting_cost, num_out_of_range = acost(daily_occupancy)\n",
    "    final_score = penalty + accounting_cost + num_out_of_range*999999999  # 如果超过了承载数量，则会有很大的惩罚\n",
    "    return final_score"
   ]
  },
  {
   "cell_type": "code",
   "execution_count": 39,
   "metadata": {},
   "outputs": [
    {
     "data": {
      "text/plain": [
       "77606.49757303706"
      ]
     },
     "execution_count": 39,
     "metadata": {},
     "output_type": "execute_result"
    }
   ],
   "source": [
    "prediction = result.day.values\n",
    "cost_function(prediction)"
   ]
  },
  {
   "cell_type": "markdown",
   "metadata": {},
   "source": [
    "#### 上面寻找最优解的时候只用了pcost这个目标，而acost并没加进去，因此，接下来还可以做一些微调"
   ]
  },
  {
   "cell_type": "code",
   "execution_count": 40,
   "metadata": {},
   "outputs": [],
   "source": [
    "def find_better(pred):\n",
    "    fobs = np.argsort(FAMILY_SIZE)\n",
    "    score = cost_function(pred)\n",
    "    original_score = np.inf\n",
    "    \n",
    "    # \n",
    "    while score<original_score:\n",
    "        original_score = score\n",
    "        i=0\n",
    "        for family_id in fobs:\n",
    "            for pick in range(10):\n",
    "                # 得到family_id在choice pick 的日期 day\n",
    "                day = DESIRE[family_id, pick]\n",
    "                # 该family的原有日期\n",
    "                oldvalue = pred[family_id]\n",
    "                # 将原有的oldvalue 替换现在的choice pick\n",
    "                pred[family_id] = day                \n",
    "                # 重新计算分数\n",
    "                new_score = cost_function(pred)\n",
    "\n",
    "                # 比较\n",
    "                if new_score < score:\n",
    "                    score = new_score\n",
    "                else:\n",
    "                    pred[family_id] = oldvalue\n",
    "                print(score, end='\\r')\n",
    "            print(score, end='\\r')\n",
    "    print(score)"
   ]
  },
  {
   "cell_type": "markdown",
   "metadata": {},
   "source": [
    "### 这种不加约束的穷举会导致daily_occupancy存在大于300的数，后续应该还是通过规划求解来优化accounting cost目标"
   ]
  },
  {
   "cell_type": "code",
   "execution_count": 41,
   "metadata": {},
   "outputs": [
    {
     "name": "stdout",
     "output_type": "stream",
     "text": [
      "77606.49757303706\r"
     ]
    },
    {
     "ename": "IndexError",
     "evalue": "index 302 is out of bounds for axis 0 with size 301",
     "output_type": "error",
     "traceback": [
      "\u001b[1;31m---------------------------------------------------------------------------\u001b[0m",
      "\u001b[1;31mIndexError\u001b[0m                                Traceback (most recent call last)",
      "\u001b[1;32m<timed exec>\u001b[0m in \u001b[0;36m<module>\u001b[1;34m\u001b[0m\n",
      "\u001b[1;32m<ipython-input-40-e88ae0f8d4a5>\u001b[0m in \u001b[0;36mfind_better\u001b[1;34m(pred)\u001b[0m\n\u001b[0;32m     17\u001b[0m                 \u001b[0mpred\u001b[0m\u001b[1;33m[\u001b[0m\u001b[0mfamily_id\u001b[0m\u001b[1;33m]\u001b[0m \u001b[1;33m=\u001b[0m \u001b[0mday\u001b[0m\u001b[1;33m\u001b[0m\u001b[1;33m\u001b[0m\u001b[0m\n\u001b[0;32m     18\u001b[0m                 \u001b[1;31m# 重新计算分数\u001b[0m\u001b[1;33m\u001b[0m\u001b[1;33m\u001b[0m\u001b[1;33m\u001b[0m\u001b[0m\n\u001b[1;32m---> 19\u001b[1;33m                 \u001b[0mnew_score\u001b[0m \u001b[1;33m=\u001b[0m \u001b[0mcost_function\u001b[0m\u001b[1;33m(\u001b[0m\u001b[0mpred\u001b[0m\u001b[1;33m)\u001b[0m\u001b[1;33m\u001b[0m\u001b[1;33m\u001b[0m\u001b[0m\n\u001b[0m\u001b[0;32m     20\u001b[0m \u001b[1;33m\u001b[0m\u001b[0m\n\u001b[0;32m     21\u001b[0m                 \u001b[1;31m# 比较\u001b[0m\u001b[1;33m\u001b[0m\u001b[1;33m\u001b[0m\u001b[1;33m\u001b[0m\u001b[0m\n",
      "\u001b[1;32m<ipython-input-38-3a4614caeb6a>\u001b[0m in \u001b[0;36mcost_function\u001b[1;34m(prediction)\u001b[0m\n\u001b[0;32m      2\u001b[0m     \u001b[1;31m# 计算两个cost\u001b[0m\u001b[1;33m\u001b[0m\u001b[1;33m\u001b[0m\u001b[1;33m\u001b[0m\u001b[0m\n\u001b[0;32m      3\u001b[0m     \u001b[0mpenalty\u001b[0m\u001b[1;33m,\u001b[0m \u001b[0mdaily_occupancy\u001b[0m \u001b[1;33m=\u001b[0m \u001b[0mpcost\u001b[0m\u001b[1;33m(\u001b[0m\u001b[0mprediction\u001b[0m\u001b[1;33m)\u001b[0m\u001b[1;33m\u001b[0m\u001b[1;33m\u001b[0m\u001b[0m\n\u001b[1;32m----> 4\u001b[1;33m     \u001b[0maccounting_cost\u001b[0m\u001b[1;33m,\u001b[0m \u001b[0mnum_out_of_range\u001b[0m \u001b[1;33m=\u001b[0m \u001b[0macost\u001b[0m\u001b[1;33m(\u001b[0m\u001b[0mdaily_occupancy\u001b[0m\u001b[1;33m)\u001b[0m\u001b[1;33m\u001b[0m\u001b[1;33m\u001b[0m\u001b[0m\n\u001b[0m\u001b[0;32m      5\u001b[0m     \u001b[0mfinal_score\u001b[0m \u001b[1;33m=\u001b[0m \u001b[0mpenalty\u001b[0m \u001b[1;33m+\u001b[0m \u001b[0maccounting_cost\u001b[0m \u001b[1;33m+\u001b[0m \u001b[0mnum_out_of_range\u001b[0m\u001b[1;33m*\u001b[0m\u001b[1;36m999999999\u001b[0m  \u001b[1;31m# 如果超过了承载数量，则会有很大的惩罚\u001b[0m\u001b[1;33m\u001b[0m\u001b[1;33m\u001b[0m\u001b[0m\n\u001b[0;32m      6\u001b[0m     \u001b[1;32mreturn\u001b[0m \u001b[0mfinal_score\u001b[0m\u001b[1;33m\u001b[0m\u001b[1;33m\u001b[0m\u001b[0m\n",
      "\u001b[1;32m<ipython-input-37-be857cc27076>\u001b[0m in \u001b[0;36macost\u001b[1;34m(daily_occupancy)\u001b[0m\n\u001b[0;32m     22\u001b[0m         \u001b[0mnum_out_of_range\u001b[0m \u001b[1;33m+=\u001b[0m \u001b[1;33m(\u001b[0m\u001b[0mn\u001b[0m\u001b[1;33m>\u001b[0m\u001b[0mMAX_OCCUPANCY\u001b[0m\u001b[1;33m)\u001b[0m \u001b[1;32mor\u001b[0m \u001b[1;33m(\u001b[0m\u001b[0mn\u001b[0m\u001b[1;33m<\u001b[0m\u001b[0mMIN_OCCUPANCY\u001b[0m\u001b[1;33m)\u001b[0m\u001b[1;33m\u001b[0m\u001b[1;33m\u001b[0m\u001b[0m\n\u001b[0;32m     23\u001b[0m         \u001b[1;31m# 计算accounting cost\u001b[0m\u001b[1;33m\u001b[0m\u001b[1;33m\u001b[0m\u001b[1;33m\u001b[0m\u001b[0m\n\u001b[1;32m---> 24\u001b[1;33m         \u001b[0maccounting_cost\u001b[0m \u001b[1;33m+=\u001b[0m \u001b[0macost_mat\u001b[0m\u001b[1;33m[\u001b[0m\u001b[0mn\u001b[0m\u001b[1;33m,\u001b[0m \u001b[0mn_pl\u001b[0m\u001b[1;33m]\u001b[0m\u001b[1;33m\u001b[0m\u001b[1;33m\u001b[0m\u001b[0m\n\u001b[0m\u001b[0;32m     25\u001b[0m     \u001b[1;32mreturn\u001b[0m \u001b[0maccounting_cost\u001b[0m\u001b[1;33m,\u001b[0m \u001b[0mnum_out_of_range\u001b[0m\u001b[1;33m\u001b[0m\u001b[1;33m\u001b[0m\u001b[0m\n",
      "\u001b[1;31mIndexError\u001b[0m: index 302 is out of bounds for axis 0 with size 301"
     ]
    }
   ],
   "source": [
    "%%time\n",
    "# .copy防止改变原来的值\n",
    "new = prediction.copy()\n",
    "find_better(new)"
   ]
  }
 ],
 "metadata": {
  "kernelspec": {
   "display_name": "Python 3",
   "language": "python",
   "name": "python3"
  },
  "language_info": {
   "codemirror_mode": {
    "name": "ipython",
    "version": 3
   },
   "file_extension": ".py",
   "mimetype": "text/x-python",
   "name": "python",
   "nbconvert_exporter": "python",
   "pygments_lexer": "ipython3",
   "version": "3.6.8rc1"
  }
 },
 "nbformat": 4,
 "nbformat_minor": 4
}
