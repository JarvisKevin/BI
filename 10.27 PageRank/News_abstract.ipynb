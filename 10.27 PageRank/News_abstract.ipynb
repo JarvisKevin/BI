{
 "cells": [
  {
   "cell_type": "code",
   "execution_count": 1,
   "metadata": {},
   "outputs": [],
   "source": [
    "from textrank4zh import TextRank4Sentence, TextRank4Keyword"
   ]
  },
  {
   "cell_type": "code",
   "execution_count": 2,
   "metadata": {},
   "outputs": [],
   "source": [
    "with open('./news_高考.txt', 'r', encoding='utf-8') as f:\n",
    "    gaokao = f.read()\n",
    "with open('./news_土耳其.txt', 'r', encoding='ansi') as f:\n",
    "    tuerqi = f.read()"
   ]
  },
  {
   "cell_type": "markdown",
   "metadata": {},
   "source": [
    "### 高考"
   ]
  },
  {
   "cell_type": "markdown",
   "metadata": {},
   "source": [
    "##### 关键词提取"
   ]
  },
  {
   "cell_type": "code",
   "execution_count": 3,
   "metadata": {},
   "outputs": [
    {
     "name": "stderr",
     "output_type": "stream",
     "text": [
      "Building prefix dict from the default dictionary ...\n",
      "Loading model from cache C:\\Users\\Jarvis\\AppData\\Local\\Temp\\jieba.cache\n",
      "Loading model cost 0.656 seconds.\n",
      "Prefix dict has been built successfully.\n"
     ]
    }
   ],
   "source": [
    "tr4k = TextRank4Keyword()\n",
    "tr4k.analyze(gaokao, lower=True, window=3) # window滑动窗口大小，像n-gram=（3，3）"
   ]
  },
  {
   "cell_type": "code",
   "execution_count": 4,
   "metadata": {},
   "outputs": [
    {
     "name": "stdout",
     "output_type": "stream",
     "text": [
      "高考 0.0561910284818324\n",
      "考生 0.04229947253711349\n",
      "中学 0.01564725882438625\n",
      "厂镇 0.015270437153080206\n",
      "坦厂 0.01342788926095217\n",
      "考试 0.012890430450963762\n",
      "毛坦 0.012374789433256666\n",
      "安徽 0.011541890740988228\n",
      "家长 0.011021388113493073\n",
      "复读 0.009964606550782447\n"
     ]
    }
   ],
   "source": [
    "for i in tr4k.get_keywords(num=10, word_min_len=2):\n",
    "    # num: Top num 个关键词\n",
    "    # word_min_len 关键词的最小长度\n",
    "    print(i.word, i.weight)"
   ]
  },
  {
   "cell_type": "markdown",
   "metadata": {},
   "source": [
    "##### 关键句提取"
   ]
  },
  {
   "cell_type": "code",
   "execution_count": 5,
   "metadata": {},
   "outputs": [],
   "source": [
    "tr4s = TextRank4Sentence()\n",
    "tr4s.analyze(gaokao, lower=True)"
   ]
  },
  {
   "cell_type": "code",
   "execution_count": 6,
   "metadata": {},
   "outputs": [
    {
     "name": "stdout",
     "output_type": "stream",
     "text": [
      "['7月23日，在万般期待中，各地2020年高考录取分数线陆续公布，拿到分数后的考生们可谓有人欢喜有人愁', '安徽省当天也公布了录取分数线，其中文理科一本分数线分别为541分和515分，二本分数线分别为499分和435分', '那么被称为亚洲最大的“高考工厂”毛坦厂中学高考成绩怎样', '图为毛坦厂中学教室午休的考生', '7月23日，毛坦厂中学所在的安徽六安市毛坦厂镇官方发布喜报称，根据网络查询，六安市毛坦厂中学、金安高级中学、金安中学补习班2020年高考再创佳绩，再传捷报，安徽籍考生（不含外省考生）本科达线人数10176人，其中600分以上600分以上290人，理科最高分674分，文科最高分608分', '也就是在2020年高考中，高考镇有1万多人达到本科线，听起来多少有点让人吃惊，这个数字还不包括其他十几个省份在毛坦厂复读的数百名考生', '图为高考镇放学盛大的场面', '今年的高考很特殊，因为疫情课业停摆两个多月，随后高考推迟一个月才考试，而就在考试进行时，安徽歙县因为洪水语文和数学被延期考试，湖北黄梅的考生硬是蹚水去考场，而云南一地的考生，考试时还发生了地震', '图为高考前，高考镇的卡点', '毛坦厂镇因为高考而驰名，被称为“亚洲最大的高考工厂”，外媒曾称该镇是一座偏僻的单一产业城镇，出产的是应试机器，就像其他一些专门生产袜子或圣诞饰品的中国乡镇一样心无旁骛', '毛坦厂镇今年参加高考的考生人数超过1.7万人，涉及全国十多个省份', '图为考生在上晚自习', '据悉，毛坦厂镇面积只有3.5平方公里，人口不过万余人，从1999年后，毛坦厂中学借高考复读声名鹊起，每年都要吸引2万多学生和1万多陪读家长，整个小镇接近5万人', '租房、生活、学习，众多学生和家长的到来，小镇的经济都围绕着“高考”在转', '图为每天早晨，陪读家长在洗衣', '在高考前，为了保障高考的顺利进行，高考镇实行了史上最严的“封锁”，在疫情开始之初，通往毛坦厂镇的所有道路都被切断，4月初，安徽省境内高三年级开始复课之后，因为外来复读学生较多，毛坦厂镇曾经短暂对外地家长和考生开放了几天，随之又实行严格管控，一直到7月5日考生离开高考镇时才解封', '图为高考前，考生进入学校测量体温', '也正是如此，今年的高考镇比往年低调了很多，连往年最热闹的送考节也没有举行，而是和其他所有普通学校一样，用几辆大巴将考生送到市区考试', '图为往年的送考节', '和衡水中学不一样，到高考镇来学习的都是普通考生，还有很多“落榜”生', '有人说，高考镇太过严格，然而今年1万多人达本科线，意味着经过一年的努力，这一万多名考生或将改变命运，或许这就是高考镇存在的意义']\n",
      "\n",
      "共21句话\n"
     ]
    }
   ],
   "source": [
    "print(tr4s.sentences)\n",
    "print('\\n共{}句话'.format(len(tr4s.sentences)))"
   ]
  },
  {
   "cell_type": "code",
   "execution_count": 7,
   "metadata": {},
   "outputs": [
    {
     "data": {
      "text/plain": [
       "[{'index': 4,\n",
       "  'sentence': '7月23日，毛坦厂中学所在的安徽六安市毛坦厂镇官方发布喜报称，根据网络查询，六安市毛坦厂中学、金安高级中学、金安中学补习班2020年高考再创佳绩，再传捷报，安徽籍考生（不含外省考生）本科达线人数10176人，其中600分以上600分以上290人，理科最高分674分，文科最高分608分',\n",
       "  'weight': 0.07448715748687854},\n",
       " {'index': 15,\n",
       "  'sentence': '在高考前，为了保障高考的顺利进行，高考镇实行了史上最严的“封锁”，在疫情开始之初，通往毛坦厂镇的所有道路都被切断，4月初，安徽省境内高三年级开始复课之后，因为外来复读学生较多，毛坦厂镇曾经短暂对外地家长和考生开放了几天，随之又实行严格管控，一直到7月5日考生离开高考镇时才解封',\n",
       "  'weight': 0.07197960567074949},\n",
       " {'index': 12,\n",
       "  'sentence': '据悉，毛坦厂镇面积只有3.5平方公里，人口不过万余人，从1999年后，毛坦厂中学借高考复读声名鹊起，每年都要吸引2万多学生和1万多陪读家长，整个小镇接近5万人',\n",
       "  'weight': 0.06312254779851374}]"
      ]
     },
     "execution_count": 7,
     "metadata": {},
     "output_type": "execute_result"
    }
   ],
   "source": [
    "### 提取关键句，top3\n",
    "top3_sentence = tr4s.get_key_sentences(num=3, sentence_min_len=10)\n",
    "top3_sentence"
   ]
  },
  {
   "cell_type": "code",
   "execution_count": 8,
   "metadata": {},
   "outputs": [
    {
     "data": {
      "text/plain": [
       "[[4,\n",
       "  '7月23日，毛坦厂中学所在的安徽六安市毛坦厂镇官方发布喜报称，根据网络查询，六安市毛坦厂中学、金安高级中学、金安中学补习班2020年高考再创佳绩，再传捷报，安徽籍考生（不含外省考生）本科达线人数10176人，其中600分以上600分以上290人，理科最高分674分，文科最高分608分',\n",
       "  0.07448715748687854],\n",
       " [15,\n",
       "  '在高考前，为了保障高考的顺利进行，高考镇实行了史上最严的“封锁”，在疫情开始之初，通往毛坦厂镇的所有道路都被切断，4月初，安徽省境内高三年级开始复课之后，因为外来复读学生较多，毛坦厂镇曾经短暂对外地家长和考生开放了几天，随之又实行严格管控，一直到7月5日考生离开高考镇时才解封',\n",
       "  0.07197960567074949],\n",
       " [12,\n",
       "  '据悉，毛坦厂镇面积只有3.5平方公里，人口不过万余人，从1999年后，毛坦厂中学借高考复读声名鹊起，每年都要吸引2万多学生和1万多陪读家长，整个小镇接近5万人',\n",
       "  0.06312254779851374]]"
      ]
     },
     "execution_count": 8,
     "metadata": {},
     "output_type": "execute_result"
    }
   ],
   "source": [
    "# 转换成list，方便排序\n",
    "sentence = []\n",
    "for sen in top3_sentence:\n",
    "    sentence.append([sen.index, sen.sentence, sen.weight])\n",
    "sentence"
   ]
  },
  {
   "cell_type": "code",
   "execution_count": 9,
   "metadata": {},
   "outputs": [
    {
     "name": "stdout",
     "output_type": "stream",
     "text": [
      "摘要： 7月23日，毛坦厂中学所在的安徽六安市毛坦厂镇官方发布喜报称，根据网络查询，六安市毛坦厂中学、金安高级中学、金安中学补习班2020年高考再创佳绩，再传捷报，安徽籍考生（不含外省考生）本科达线人数10176人，其中600分以上600分以上290人，理科最高分674分，文科最高分608分据悉，毛坦厂镇面积只有3.5平方公里，人口不过万余人，从1999年后，毛坦厂中学借高考复读声名鹊起，每年都要吸引2万多学生和1万多陪读家长，整个小镇接近5万人在高考前，为了保障高考的顺利进行，高考镇实行了史上最严的“封锁”，在疫情开始之初，通往毛坦厂镇的所有道路都被切断，4月初，安徽省境内高三年级开始复课之后，因为外来复读学生较多，毛坦厂镇曾经短暂对外地家长和考生开放了几天，随之又实行严格管控，一直到7月5日考生离开高考镇时才解封\n"
     ]
    }
   ],
   "source": [
    "# 根据index排序\n",
    "abstract = ''\n",
    "for i in sorted(sentence, key=lambda x:x[0]):\n",
    "    abstract += i[1]\n",
    "print('摘要：',abstract)"
   ]
  },
  {
   "cell_type": "markdown",
   "metadata": {},
   "source": [
    "### 土耳其"
   ]
  },
  {
   "cell_type": "markdown",
   "metadata": {},
   "source": [
    "##### 关键词提取"
   ]
  },
  {
   "cell_type": "code",
   "execution_count": 10,
   "metadata": {},
   "outputs": [],
   "source": [
    "tr4k = TextRank4Keyword()\n",
    "tr4k.analyze(tuerqi, lower=True, window=3)"
   ]
  },
  {
   "cell_type": "code",
   "execution_count": 11,
   "metadata": {},
   "outputs": [
    {
     "name": "stdout",
     "output_type": "stream",
     "text": [
      "土耳其 0.04472948689123369\n",
      "美国 0.03428214004406511\n",
      "没有 0.025350574983244004\n",
      "袭击 0.017530588204468393\n",
      "军队 0.017096598190271043\n",
      "炮击 0.01628554106285941\n",
      "特种部队 0.015946160239968157\n",
      "遭到 0.015673628815559774\n",
      "五角大楼 0.015559432255243932\n",
      "进行 0.014948501236451141\n"
     ]
    }
   ],
   "source": [
    "for i in tr4k.get_keywords(num=10, word_min_len=2):\n",
    "    print(i.word, i.weight)"
   ]
  },
  {
   "cell_type": "markdown",
   "metadata": {},
   "source": [
    "##### 关键句提取"
   ]
  },
  {
   "cell_type": "code",
   "execution_count": 12,
   "metadata": {},
   "outputs": [],
   "source": [
    "# 分析\n",
    "tr4s = TextRank4Sentence()\n",
    "tr4s.analyze(tuerqi, lower=True)"
   ]
  },
  {
   "cell_type": "code",
   "execution_count": 13,
   "metadata": {},
   "outputs": [
    {
     "name": "stdout",
     "output_type": "stream",
     "text": [
      "['土耳其未炮击美军 土耳其向美军开战', '当地时间11日，一支美国特种部队遭到了土耳其的炮弹袭击，《新闻周刊》称这明显是“误伤”', '五角大楼一名高级官员说，土耳其军队的炮击非常猛烈，美国人员曾考虑进行还击是出于自卫', '《新闻周刊》10月11日报道，一名库尔德情报官员和五角大楼官员均表示，在库尔德人占多数的城市科巴尼的山上，这支特种部队在执行任务时遭到炮击，炮弹落在离驻扎地几百米远的地方，没有美国士兵受伤', '报道称，特种部队没有还击，而是在炮击停止后撤退', '《新闻周刊》此前曾在周三报道说，目前美国军队的交战规则仍然以自卫为中心，五角大楼还没有发布全面撤出叙利亚的命令', '这名五角大楼官员说，土耳其部队应该了解美国的位置，不过，这名官员没有具体说明在场人员的确切人数，但表示大约在15到100人之间', '《新闻周刊》已联系五角大楼就此事发表评论', '土耳其国防部针对《新闻周刊》的报道发表了一份声明，否认土耳其军队针对美国军队', '土耳其国防部证实说，“土耳其在苏鲁奇以南的边境哨所，受到了来自美国一个观察哨西南方向大约1千米处山丘的迫击炮攻击', '”', '为了自卫，双方对袭击的恐怖分子阵地进行了还击', '土耳其没有以任何方式向美国观察哨开火', '他说：所有的预防措施都是在开火之前采取的，目的是防止对美军基地造成任何伤害', '作为预防措施，我们在收到来自美国的信息后立即停火', '我们坚决反对美国或联军部队遭到袭击的说法', '特朗普周四曾在社交媒体上表示，他有“三种选择之一：派遣数千名士兵并在军事上取胜，在经济上对土耳其进行严厉打击并实施制裁，或者在土耳其和库尔德人之间斡旋达成协议”', '土耳其总统埃尔多安早就警告说，他将猛攻边境，建立一个所谓的“安全区”', '白宫周日宣布，美国军队将在一旁待命']\n",
      "\n",
      "共19句话\n"
     ]
    }
   ],
   "source": [
    "print(tr4s.sentences)\n",
    "print('\\n共{}句话'.format(len(tr4s.sentences)))"
   ]
  },
  {
   "cell_type": "code",
   "execution_count": 14,
   "metadata": {},
   "outputs": [
    {
     "name": "stdout",
     "output_type": "stream",
     "text": [
      "[{'index': 2, 'sentence': '五角大楼一名高级官员说，土耳其军队的炮击非常猛烈，美国人员曾考虑进行还击是出于自卫', 'weight': 0.08495356931796437}, {'index': 5, 'sentence': '《新闻周刊》此前曾在周三报道说，目前美国军队的交战规则仍然以自卫为中心，五角大楼还没有发布全面撤出叙利亚的命令', 'weight': 0.07766422471111947}, {'index': 6, 'sentence': '这名五角大楼官员说，土耳其部队应该了解美国的位置，不过，这名官员没有具体说明在场人员的确切人数，但表示大约在15到100人之间', 'weight': 0.07567905031674357}]\n"
     ]
    }
   ],
   "source": [
    "# get_key_sentence\n",
    "top3_sentence = tr4s.get_key_sentences(num=3, sentence_min_len=10)\n",
    "print(top3_sentence)"
   ]
  },
  {
   "cell_type": "code",
   "execution_count": 15,
   "metadata": {},
   "outputs": [
    {
     "name": "stdout",
     "output_type": "stream",
     "text": [
      "[[2, '五角大楼一名高级官员说，土耳其军队的炮击非常猛烈，美国人员曾考虑进行还击是出于自卫', 0.08495356931796437], [5, '《新闻周刊》此前曾在周三报道说，目前美国军队的交战规则仍然以自卫为中心，五角大楼还没有发布全面撤出叙利亚的命令', 0.07766422471111947], [6, '这名五角大楼官员说，土耳其部队应该了解美国的位置，不过，这名官员没有具体说明在场人员的确切人数，但表示大约在15到100人之间', 0.07567905031674357]]\n"
     ]
    }
   ],
   "source": [
    "sentence_list=[]\n",
    "for sen in top3_sentence:\n",
    "    sentence_list.append([sen.index, sen.sentence, sen.weight])\n",
    "print(sentence_list)"
   ]
  },
  {
   "cell_type": "code",
   "execution_count": 16,
   "metadata": {},
   "outputs": [
    {
     "name": "stdout",
     "output_type": "stream",
     "text": [
      "摘要： 五角大楼一名高级官员说，土耳其军队的炮击非常猛烈，美国人员曾考虑进行还击是出于自卫《新闻周刊》此前曾在周三报道说，目前美国军队的交战规则仍然以自卫为中心，五角大楼还没有发布全面撤出叙利亚的命令这名五角大楼官员说，土耳其部队应该了解美国的位置，不过，这名官员没有具体说明在场人员的确切人数，但表示大约在15到100人之间\n"
     ]
    }
   ],
   "source": [
    "abstract=''\n",
    "for i in sorted(sentence_list, key=lambda x:x[0]):\n",
    "    abstract += i[1]\n",
    "print('摘要：', abstract)"
   ]
  }
 ],
 "metadata": {
  "kernelspec": {
   "display_name": "Python 3",
   "language": "python",
   "name": "python3"
  },
  "language_info": {
   "codemirror_mode": {
    "name": "ipython",
    "version": 3
   },
   "file_extension": ".py",
   "mimetype": "text/x-python",
   "name": "python",
   "nbconvert_exporter": "python",
   "pygments_lexer": "ipython3",
   "version": "3.6.8rc1"
  }
 },
 "nbformat": 4,
 "nbformat_minor": 4
}
