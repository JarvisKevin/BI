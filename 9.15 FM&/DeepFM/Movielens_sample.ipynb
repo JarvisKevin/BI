{
 "cells": [
  {
   "cell_type": "code",
   "execution_count": 1,
   "metadata": {},
   "outputs": [],
   "source": [
    "import pandas as pd\n",
    "from sklearn.metrics import mean_squared_error\n",
    "from sklearn.model_selection import train_test_split\n",
    "from sklearn.preprocessing import LabelEncoder, MinMaxScaler\n",
    "from deepctr.models import DeepFM\n",
    "from deepctr.feature_column import SparseFeat, DenseFeat, get_feature_names"
   ]
  },
  {
   "cell_type": "code",
   "execution_count": 2,
   "metadata": {},
   "outputs": [],
   "source": [
    "#数据加载\n",
    "data = pd.read_csv(\"./movielens_sample.txt\")\n",
    "sparse_features = [\"movie_id\", \"user_id\", \"gender\", \"occupation\", \"zip\"]\n",
    "dense_features = [\"age\"]\n",
    "target = ['rating']"
   ]
  },
  {
   "cell_type": "code",
   "execution_count": 3,
   "metadata": {},
   "outputs": [],
   "source": [
    "# 对类别特征进行编码\n",
    "for feature in sparse_features:\n",
    "    lbe = LabelEncoder()\n",
    "    data[feature] = lbe.fit_transform(data[feature])"
   ]
  },
  {
   "cell_type": "code",
   "execution_count": 4,
   "metadata": {},
   "outputs": [],
   "source": [
    "# 对数值特征进行归一化\n",
    "mm = MinMaxScaler()\n",
    "data[dense_features] = mm.fit_transform(data[dense_features])"
   ]
  },
  {
   "cell_type": "code",
   "execution_count": 5,
   "metadata": {},
   "outputs": [],
   "source": [
    "# 生成feature columns\n",
    "Sparse_feature = [SparseFeat(feature, vocabulary_size=data[feature].nunique()) for feature in sparse_features]\n",
    "Dense_feature = [DenseFeat(feature, dimension=1) for feature in dense_features]\n",
    "\n",
    "fixlen_feature_columns = Sparse_feature + Dense_feature\n",
    "linear_feature_columns = fixlen_feature_columns\n",
    "dnn_feature_columns = fixlen_feature_columns\n",
    "\n",
    "feature_names = get_feature_names(linear_feature_columns + dnn_feature_columns)"
   ]
  },
  {
   "cell_type": "code",
   "execution_count": 6,
   "metadata": {},
   "outputs": [],
   "source": [
    "# 将数据集切分成训练集和测试集\n",
    "train, test = train_test_split(data, test_size=0.2)\n",
    "train_model_input = {name:train[name].values for name in feature_names}    \n",
    "test_model_input = {name:test[name].values for name in feature_names}"
   ]
  },
  {
   "cell_type": "code",
   "execution_count": 7,
   "metadata": {},
   "outputs": [
    {
     "name": "stdout",
     "output_type": "stream",
     "text": [
      "Epoch 1/50\n"
     ]
    },
    {
     "name": "stderr",
     "output_type": "stream",
     "text": [
      "e:\\tool\\python36\\lib\\site-packages\\tensorflow\\python\\framework\\indexed_slices.py:432: UserWarning: Converting sparse IndexedSlices to a dense Tensor of unknown shape. This may consume a large amount of memory.\n",
      "  \"Converting sparse IndexedSlices to a dense Tensor of unknown shape. \"\n"
     ]
    },
    {
     "name": "stdout",
     "output_type": "stream",
     "text": [
      "1/1 [==============================] - 0s 282ms/step - loss: 15.2769 - mse: 15.2769 - val_loss: 17.1445 - val_mse: 17.1445\n",
      "Epoch 2/50\n",
      "1/1 [==============================] - 0s 16ms/step - loss: 14.9251 - mse: 14.9251 - val_loss: 16.7856 - val_mse: 16.7856\n",
      "Epoch 3/50\n",
      "1/1 [==============================] - 0s 17ms/step - loss: 14.5808 - mse: 14.5808 - val_loss: 16.4372 - val_mse: 16.4372\n",
      "Epoch 4/50\n",
      "1/1 [==============================] - 0s 15ms/step - loss: 14.2486 - mse: 14.2486 - val_loss: 16.0949 - val_mse: 16.0949\n",
      "Epoch 5/50\n",
      "1/1 [==============================] - 0s 18ms/step - loss: 13.9241 - mse: 13.9241 - val_loss: 15.7631 - val_mse: 15.7631\n",
      "Epoch 6/50\n",
      "1/1 [==============================] - 0s 16ms/step - loss: 13.6104 - mse: 13.6104 - val_loss: 15.4371 - val_mse: 15.4371\n",
      "Epoch 7/50\n",
      "1/1 [==============================] - 0s 16ms/step - loss: 13.3001 - mse: 13.3001 - val_loss: 15.1119 - val_mse: 15.1119\n",
      "Epoch 8/50\n",
      "1/1 [==============================] - 0s 17ms/step - loss: 12.9887 - mse: 12.9887 - val_loss: 14.7832 - val_mse: 14.7832\n",
      "Epoch 9/50\n",
      "1/1 [==============================] - 0s 25ms/step - loss: 12.6732 - mse: 12.6732 - val_loss: 14.4547 - val_mse: 14.4547\n",
      "Epoch 10/50\n",
      "1/1 [==============================] - 0s 17ms/step - loss: 12.3549 - mse: 12.3549 - val_loss: 14.1244 - val_mse: 14.1244\n",
      "Epoch 11/50\n",
      "1/1 [==============================] - 0s 16ms/step - loss: 12.0334 - mse: 12.0334 - val_loss: 13.7900 - val_mse: 13.7900\n",
      "Epoch 12/50\n",
      "1/1 [==============================] - 0s 16ms/step - loss: 11.7070 - mse: 11.7070 - val_loss: 13.4501 - val_mse: 13.4501\n",
      "Epoch 13/50\n",
      "1/1 [==============================] - 0s 16ms/step - loss: 11.3715 - mse: 11.3715 - val_loss: 13.0990 - val_mse: 13.0990\n",
      "Epoch 14/50\n",
      "1/1 [==============================] - 0s 17ms/step - loss: 11.0257 - mse: 11.0257 - val_loss: 12.7356 - val_mse: 12.7356\n",
      "Epoch 15/50\n",
      "1/1 [==============================] - 0s 16ms/step - loss: 10.6688 - mse: 10.6688 - val_loss: 12.3616 - val_mse: 12.3616\n",
      "Epoch 16/50\n",
      "1/1 [==============================] - 0s 16ms/step - loss: 10.3008 - mse: 10.3008 - val_loss: 11.9769 - val_mse: 11.9769\n",
      "Epoch 17/50\n",
      "1/1 [==============================] - 0s 17ms/step - loss: 9.9211 - mse: 9.9211 - val_loss: 11.5788 - val_mse: 11.5788\n",
      "Epoch 18/50\n",
      "1/1 [==============================] - 0s 15ms/step - loss: 9.5280 - mse: 9.5280 - val_loss: 11.1692 - val_mse: 11.1692\n",
      "Epoch 19/50\n",
      "1/1 [==============================] - 0s 16ms/step - loss: 9.1229 - mse: 9.1229 - val_loss: 10.7463 - val_mse: 10.7463\n",
      "Epoch 20/50\n",
      "1/1 [==============================] - 0s 15ms/step - loss: 8.7057 - mse: 8.7057 - val_loss: 10.3140 - val_mse: 10.3140\n",
      "Epoch 21/50\n",
      "1/1 [==============================] - 0s 17ms/step - loss: 8.2775 - mse: 8.2775 - val_loss: 9.8701 - val_mse: 9.8701\n",
      "Epoch 22/50\n",
      "1/1 [==============================] - 0s 15ms/step - loss: 7.8400 - mse: 7.8400 - val_loss: 9.4170 - val_mse: 9.4170\n",
      "Epoch 23/50\n",
      "1/1 [==============================] - 0s 16ms/step - loss: 7.3931 - mse: 7.3931 - val_loss: 8.9565 - val_mse: 8.9565\n",
      "Epoch 24/50\n",
      "1/1 [==============================] - 0s 17ms/step - loss: 6.9392 - mse: 6.9392 - val_loss: 8.4909 - val_mse: 8.4908\n",
      "Epoch 25/50\n",
      "1/1 [==============================] - 0s 15ms/step - loss: 6.4797 - mse: 6.4796 - val_loss: 8.0187 - val_mse: 8.0187\n",
      "Epoch 26/50\n",
      "1/1 [==============================] - 0s 17ms/step - loss: 6.0159 - mse: 6.0158 - val_loss: 7.5407 - val_mse: 7.5407\n",
      "Epoch 27/50\n",
      "1/1 [==============================] - 0s 16ms/step - loss: 5.5495 - mse: 5.5495 - val_loss: 7.0606 - val_mse: 7.0606\n",
      "Epoch 28/50\n",
      "1/1 [==============================] - 0s 16ms/step - loss: 5.0810 - mse: 5.0810 - val_loss: 6.5807 - val_mse: 6.5807\n",
      "Epoch 29/50\n",
      "1/1 [==============================] - 0s 16ms/step - loss: 4.6116 - mse: 4.6116 - val_loss: 6.1038 - val_mse: 6.1038\n",
      "Epoch 30/50\n",
      "1/1 [==============================] - 0s 22ms/step - loss: 4.1489 - mse: 4.1488 - val_loss: 5.6324 - val_mse: 5.6324\n",
      "Epoch 31/50\n",
      "1/1 [==============================] - 0s 19ms/step - loss: 3.6974 - mse: 3.6973 - val_loss: 5.1701 - val_mse: 5.1701\n",
      "Epoch 32/50\n",
      "1/1 [==============================] - 0s 19ms/step - loss: 3.2625 - mse: 3.2625 - val_loss: 4.7176 - val_mse: 4.7176\n",
      "Epoch 33/50\n",
      "1/1 [==============================] - 0s 22ms/step - loss: 2.8488 - mse: 2.8488 - val_loss: 4.2796 - val_mse: 4.2796\n",
      "Epoch 34/50\n",
      "1/1 [==============================] - 0s 18ms/step - loss: 2.4620 - mse: 2.4620 - val_loss: 3.8621 - val_mse: 3.8621\n",
      "Epoch 35/50\n",
      "1/1 [==============================] - 0s 20ms/step - loss: 2.1089 - mse: 2.1089 - val_loss: 3.4709 - val_mse: 3.4708\n",
      "Epoch 36/50\n",
      "1/1 [==============================] - 0s 23ms/step - loss: 1.7980 - mse: 1.7980 - val_loss: 3.1106 - val_mse: 3.1106\n",
      "Epoch 37/50\n",
      "1/1 [==============================] - 0s 20ms/step - loss: 1.5355 - mse: 1.5355 - val_loss: 2.7817 - val_mse: 2.7817\n",
      "Epoch 38/50\n",
      "1/1 [==============================] - 0s 17ms/step - loss: 1.3271 - mse: 1.3271 - val_loss: 2.4922 - val_mse: 2.4922\n",
      "Epoch 39/50\n",
      "1/1 [==============================] - 0s 16ms/step - loss: 1.1768 - mse: 1.1768 - val_loss: 2.2451 - val_mse: 2.2451\n",
      "Epoch 40/50\n",
      "1/1 [==============================] - 0s 16ms/step - loss: 1.0848 - mse: 1.0847 - val_loss: 2.0418 - val_mse: 2.0418\n",
      "Epoch 41/50\n",
      "1/1 [==============================] - 0s 19ms/step - loss: 1.0487 - mse: 1.0486 - val_loss: 1.8837 - val_mse: 1.8837\n",
      "Epoch 42/50\n",
      "1/1 [==============================] - 0s 18ms/step - loss: 1.0597 - mse: 1.0597 - val_loss: 1.7683 - val_mse: 1.7683\n",
      "Epoch 43/50\n",
      "1/1 [==============================] - 0s 15ms/step - loss: 1.1050 - mse: 1.1050 - val_loss: 1.6895 - val_mse: 1.6895\n",
      "Epoch 44/50\n",
      "1/1 [==============================] - 0s 17ms/step - loss: 1.1660 - mse: 1.1659 - val_loss: 1.6402 - val_mse: 1.6401\n",
      "Epoch 45/50\n",
      "1/1 [==============================] - 0s 17ms/step - loss: 1.2224 - mse: 1.2223 - val_loss: 1.6130 - val_mse: 1.6129\n",
      "Epoch 46/50\n",
      "1/1 [==============================] - 0s 15ms/step - loss: 1.2570 - mse: 1.2570 - val_loss: 1.6015 - val_mse: 1.6014\n",
      "Epoch 47/50\n",
      "1/1 [==============================] - 0s 17ms/step - loss: 1.2596 - mse: 1.2595 - val_loss: 1.6014 - val_mse: 1.6014\n",
      "Epoch 48/50\n",
      "1/1 [==============================] - 0s 15ms/step - loss: 1.2281 - mse: 1.2281 - val_loss: 1.6105 - val_mse: 1.6105\n",
      "Epoch 49/50\n",
      "1/1 [==============================] - 0s 16ms/step - loss: 1.1674 - mse: 1.1674 - val_loss: 1.6288 - val_mse: 1.6288\n",
      "Epoch 50/50\n",
      "1/1 [==============================] - 0s 17ms/step - loss: 1.0858 - mse: 1.0857 - val_loss: 1.6568 - val_mse: 1.6567\n"
     ]
    }
   ],
   "source": [
    "# DeepFM 定义、配置、训练\n",
    "model = DeepFM(linear_feature_columns, dnn_feature_columns, task='regression')\n",
    "model.compile(\"adam\", \"mse\", metrics=['mse'], )\n",
    "history = model.fit(train_model_input, train[target].values, batch_size=128, epochs=50, verbose=True, validation_split=0.2,)"
   ]
  },
  {
   "cell_type": "code",
   "execution_count": 8,
   "metadata": {},
   "outputs": [],
   "source": [
    "# 使用DeepFM进行预测\n",
    "pred_ans = model.predict(test_model_input, batch_size=256)"
   ]
  },
  {
   "cell_type": "code",
   "execution_count": 9,
   "metadata": {},
   "outputs": [
    {
     "name": "stdout",
     "output_type": "stream",
     "text": [
      "test RMSE 1.1779218989389746\n"
     ]
    }
   ],
   "source": [
    "# 输出RMSE或MSE\n",
    "mse = round(mean_squared_error(test[target].values, pred_ans), 4)          # 从第四位小数，四舍五入\n",
    "rmse = mse ** 0.5\n",
    "print(\"test RMSE\", rmse)"
   ]
  }
 ],
 "metadata": {
  "kernelspec": {
   "display_name": "Python 3",
   "language": "python",
   "name": "python3"
  },
  "language_info": {
   "codemirror_mode": {
    "name": "ipython",
    "version": 3
   },
   "file_extension": ".py",
   "mimetype": "text/x-python",
   "name": "python",
   "nbconvert_exporter": "python",
   "pygments_lexer": "ipython3",
   "version": "3.6.8rc1"
  }
 },
 "nbformat": 4,
 "nbformat_minor": 4
}
