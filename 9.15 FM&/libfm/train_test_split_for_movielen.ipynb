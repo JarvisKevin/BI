{
 "cells": [
  {
   "cell_type": "code",
   "execution_count": 1,
   "metadata": {},
   "outputs": [],
   "source": [
    "import pandas as pd\n",
    "import random"
   ]
  },
  {
   "cell_type": "code",
   "execution_count": 2,
   "metadata": {},
   "outputs": [
    {
     "data": {
      "text/html": [
       "<div>\n",
       "<style scoped>\n",
       "    .dataframe tbody tr th:only-of-type {\n",
       "        vertical-align: middle;\n",
       "    }\n",
       "\n",
       "    .dataframe tbody tr th {\n",
       "        vertical-align: top;\n",
       "    }\n",
       "\n",
       "    .dataframe thead th {\n",
       "        text-align: right;\n",
       "    }\n",
       "</style>\n",
       "<table border=\"1\" class=\"dataframe\">\n",
       "  <thead>\n",
       "    <tr style=\"text-align: right;\">\n",
       "      <th></th>\n",
       "      <th>userId</th>\n",
       "      <th>movieId</th>\n",
       "      <th>rating</th>\n",
       "    </tr>\n",
       "  </thead>\n",
       "  <tbody>\n",
       "    <tr>\n",
       "      <th>0</th>\n",
       "      <td>1</td>\n",
       "      <td>2</td>\n",
       "      <td>3.5</td>\n",
       "    </tr>\n",
       "    <tr>\n",
       "      <th>1</th>\n",
       "      <td>1</td>\n",
       "      <td>29</td>\n",
       "      <td>3.5</td>\n",
       "    </tr>\n",
       "    <tr>\n",
       "      <th>2</th>\n",
       "      <td>1</td>\n",
       "      <td>32</td>\n",
       "      <td>3.5</td>\n",
       "    </tr>\n",
       "    <tr>\n",
       "      <th>3</th>\n",
       "      <td>1</td>\n",
       "      <td>47</td>\n",
       "      <td>3.5</td>\n",
       "    </tr>\n",
       "    <tr>\n",
       "      <th>4</th>\n",
       "      <td>1</td>\n",
       "      <td>50</td>\n",
       "      <td>3.5</td>\n",
       "    </tr>\n",
       "  </tbody>\n",
       "</table>\n",
       "</div>"
      ],
      "text/plain": [
       "   userId  movieId  rating\n",
       "0       1        2     3.5\n",
       "1       1       29     3.5\n",
       "2       1       32     3.5\n",
       "3       1       47     3.5\n",
       "4       1       50     3.5"
      ]
     },
     "execution_count": 2,
     "metadata": {},
     "output_type": "execute_result"
    }
   ],
   "source": [
    "data = pd.read_csv('ratings.csv')\n",
    "data.drop(columns='timestamp',inplace=True)\n",
    "data.head()"
   ]
  },
  {
   "cell_type": "code",
   "execution_count": 3,
   "metadata": {},
   "outputs": [
    {
     "name": "stdout",
     "output_type": "stream",
     "text": [
      "User数量： 7120\n",
      "Movie数量： 14026\n"
     ]
    }
   ],
   "source": [
    "# user数量\n",
    "print('User数量：',data.userId.unique().shape[0])\n",
    "# movie数量\n",
    "print('Movie数量：',data.movieId.unique().shape[0])"
   ]
  },
  {
   "cell_type": "code",
   "execution_count": 4,
   "metadata": {},
   "outputs": [],
   "source": [
    "# 以字典记录每个用户对各个电影的评分\n",
    "# {User1：{Movie1：rating1，Movie2：rating2, ...}, User2：{ }, ... }\n",
    "user_movie_rating = dict() \n",
    "for i in range(data.shape[0]):\n",
    "    userid = data.iloc[i,0]\n",
    "    movieid = data.iloc[i,1]\n",
    "    rating = data.iloc[i,2]\n",
    "    user_movie_rating.setdefault(userid, {})\n",
    "    user_movie_rating[userid].setdefault(movieid, rating)"
   ]
  },
  {
   "cell_type": "code",
   "execution_count": 5,
   "metadata": {},
   "outputs": [],
   "source": [
    "def train_test_split(user_movie_rating, ratio=0.2, random_seed=666):\n",
    "    train_data = dict()\n",
    "    test_data = dict()\n",
    "    random.seed(random_seed)\n",
    "    for user in user_movie_rating.keys():\n",
    "        for movie, rating in user_movie_rating[user].items():\n",
    "            if random.random()<ratio:\n",
    "                test_data.setdefault(user, {})\n",
    "                test_data[user][movie] = rating\n",
    "            else:\n",
    "                train_data.setdefault(user, {})\n",
    "                train_data[user][movie] = rating\n",
    "    return train_data, test_data"
   ]
  },
  {
   "cell_type": "code",
   "execution_count": 6,
   "metadata": {},
   "outputs": [],
   "source": [
    "def dic_to_csv(dic, mode='train'):\n",
    "    '''\n",
    "    dic: train_dic or test_dic\n",
    "    mode: str, 'train' or 'test'\n",
    "    '''\n",
    "    ratings = []\n",
    "    for user in dic.keys():\n",
    "        for movie, rating in dic[user].items():\n",
    "            temp = [user, movie, rating]\n",
    "            ratings.append(temp)        \n",
    "    df = pd.DataFrame(ratings, columns=data.columns)\n",
    "    df.to_csv(mode + '.csv', header=False, index=False)      # 注意：转换libsvm格式时不需要表头和索引！！！\n",
    "    return None"
   ]
  },
  {
   "cell_type": "code",
   "execution_count": 7,
   "metadata": {},
   "outputs": [],
   "source": [
    "train_data, test_data = train_test_split(user_movie_rating, ratio=0.2, random_seed=666)\n",
    "dic_to_csv(train_data, mode='train')\n",
    "dic_to_csv(test_data, mode='test')"
   ]
  }
 ],
 "metadata": {
  "kernelspec": {
   "display_name": "Python 3",
   "language": "python",
   "name": "python3"
  },
  "language_info": {
   "codemirror_mode": {
    "name": "ipython",
    "version": 3
   },
   "file_extension": ".py",
   "mimetype": "text/x-python",
   "name": "python",
   "nbconvert_exporter": "python",
   "pygments_lexer": "ipython3",
   "version": "3.6.8rc1"
  }
 },
 "nbformat": 4,
 "nbformat_minor": 4
}
