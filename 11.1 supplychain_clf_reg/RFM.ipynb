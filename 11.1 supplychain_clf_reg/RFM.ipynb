{
 "cells": [
  {
   "cell_type": "markdown",
   "metadata": {},
   "source": [
    "* RFM用户分层（分位数）\n",
    "* 根据地区划分支付方式"
   ]
  },
  {
   "cell_type": "markdown",
   "metadata": {},
   "source": [
    "RFM分层"
   ]
  },
  {
   "cell_type": "code",
   "execution_count": 74,
   "metadata": {},
   "outputs": [],
   "source": [
    "import pandas as pd\n",
    "pd.options.display.max_columns=46"
   ]
  },
  {
   "cell_type": "code",
   "execution_count": 75,
   "metadata": {},
   "outputs": [],
   "source": [
    "import pickle\n",
    "with open('eda.pkl', 'rb') as f:\n",
    "    data = pickle.load(f)"
   ]
  },
  {
   "cell_type": "markdown",
   "metadata": {},
   "source": [
    "用户分层，对象：用户 custoum_id\n",
    "* R Recency           order date\n",
    "* F Frequency         groupby .count()\n",
    "* M Money             Order Item Product Price\n"
   ]
  },
  {
   "cell_type": "code",
   "execution_count": 76,
   "metadata": {},
   "outputs": [
    {
     "data": {
      "text/html": [
       "<div>\n",
       "<style scoped>\n",
       "    .dataframe tbody tr th:only-of-type {\n",
       "        vertical-align: middle;\n",
       "    }\n",
       "\n",
       "    .dataframe tbody tr th {\n",
       "        vertical-align: top;\n",
       "    }\n",
       "\n",
       "    .dataframe thead th {\n",
       "        text-align: right;\n",
       "    }\n",
       "</style>\n",
       "<table border=\"1\" class=\"dataframe\">\n",
       "  <thead>\n",
       "    <tr style=\"text-align: right;\">\n",
       "      <th></th>\n",
       "      <th>Type</th>\n",
       "      <th>Days for shipping (real)</th>\n",
       "      <th>Days for shipment (scheduled)</th>\n",
       "      <th>Benefit per order</th>\n",
       "      <th>Sales per customer</th>\n",
       "      <th>Delivery Status</th>\n",
       "      <th>Late_delivery_risk</th>\n",
       "      <th>Category Id</th>\n",
       "      <th>Category Name</th>\n",
       "      <th>Customer City</th>\n",
       "      <th>Customer Country</th>\n",
       "      <th>Customer Fname</th>\n",
       "      <th>Customer Id</th>\n",
       "      <th>Customer Lname</th>\n",
       "      <th>Customer Segment</th>\n",
       "      <th>Customer State</th>\n",
       "      <th>Customer Street</th>\n",
       "      <th>Department Id</th>\n",
       "      <th>Department Name</th>\n",
       "      <th>Latitude</th>\n",
       "      <th>Longitude</th>\n",
       "      <th>Market</th>\n",
       "      <th>Order City</th>\n",
       "      <th>Order Country</th>\n",
       "      <th>order date (DateOrders)</th>\n",
       "      <th>Order Id</th>\n",
       "      <th>Order Item Discount</th>\n",
       "      <th>Order Item Discount Rate</th>\n",
       "      <th>Order Item Profit Ratio</th>\n",
       "      <th>Order Item Quantity</th>\n",
       "      <th>Sales</th>\n",
       "      <th>Order Profit Per Order</th>\n",
       "      <th>Order Region</th>\n",
       "      <th>Order State</th>\n",
       "      <th>Order Status</th>\n",
       "      <th>Product Name</th>\n",
       "      <th>Product Price</th>\n",
       "      <th>shipping date (DateOrders)</th>\n",
       "      <th>Shipping Mode</th>\n",
       "      <th>Customer FullName</th>\n",
       "      <th>order_year</th>\n",
       "      <th>order_month</th>\n",
       "      <th>order_week_day</th>\n",
       "      <th>order_hour</th>\n",
       "      <th>order_month_year</th>\n",
       "    </tr>\n",
       "  </thead>\n",
       "  <tbody>\n",
       "    <tr>\n",
       "      <th>0</th>\n",
       "      <td>DEBIT</td>\n",
       "      <td>3</td>\n",
       "      <td>4</td>\n",
       "      <td>91.250000</td>\n",
       "      <td>314.640015</td>\n",
       "      <td>Advance shipping</td>\n",
       "      <td>0</td>\n",
       "      <td>73</td>\n",
       "      <td>Sporting Goods</td>\n",
       "      <td>Caguas</td>\n",
       "      <td>Puerto Rico</td>\n",
       "      <td>Cally</td>\n",
       "      <td>20755</td>\n",
       "      <td>Holloway</td>\n",
       "      <td>Consumer</td>\n",
       "      <td>PR</td>\n",
       "      <td>5365 Noble Nectar Island</td>\n",
       "      <td>2</td>\n",
       "      <td>Fitness</td>\n",
       "      <td>18.251453</td>\n",
       "      <td>-66.037056</td>\n",
       "      <td>Pacific Asia</td>\n",
       "      <td>Bekasi</td>\n",
       "      <td>Indonesia</td>\n",
       "      <td>2018-01-31 22:56:00</td>\n",
       "      <td>77202</td>\n",
       "      <td>13.110000</td>\n",
       "      <td>0.04</td>\n",
       "      <td>0.29</td>\n",
       "      <td>1</td>\n",
       "      <td>327.75</td>\n",
       "      <td>91.250000</td>\n",
       "      <td>Southeast Asia</td>\n",
       "      <td>Java Occidental</td>\n",
       "      <td>COMPLETE</td>\n",
       "      <td>Smart watch</td>\n",
       "      <td>327.75</td>\n",
       "      <td>2018-02-03 22:56:00</td>\n",
       "      <td>Standard Class</td>\n",
       "      <td>CallyHolloway</td>\n",
       "      <td>2018</td>\n",
       "      <td>1</td>\n",
       "      <td>2</td>\n",
       "      <td>22</td>\n",
       "      <td>2018-01</td>\n",
       "    </tr>\n",
       "    <tr>\n",
       "      <th>1</th>\n",
       "      <td>TRANSFER</td>\n",
       "      <td>5</td>\n",
       "      <td>4</td>\n",
       "      <td>-249.089996</td>\n",
       "      <td>311.359985</td>\n",
       "      <td>Late delivery</td>\n",
       "      <td>1</td>\n",
       "      <td>73</td>\n",
       "      <td>Sporting Goods</td>\n",
       "      <td>Caguas</td>\n",
       "      <td>Puerto Rico</td>\n",
       "      <td>Irene</td>\n",
       "      <td>19492</td>\n",
       "      <td>Luna</td>\n",
       "      <td>Consumer</td>\n",
       "      <td>PR</td>\n",
       "      <td>2679 Rustic Loop</td>\n",
       "      <td>2</td>\n",
       "      <td>Fitness</td>\n",
       "      <td>18.279451</td>\n",
       "      <td>-66.037064</td>\n",
       "      <td>Pacific Asia</td>\n",
       "      <td>Bikaner</td>\n",
       "      <td>India</td>\n",
       "      <td>2018-01-13 12:27:00</td>\n",
       "      <td>75939</td>\n",
       "      <td>16.389999</td>\n",
       "      <td>0.05</td>\n",
       "      <td>-0.80</td>\n",
       "      <td>1</td>\n",
       "      <td>327.75</td>\n",
       "      <td>-249.089996</td>\n",
       "      <td>South Asia</td>\n",
       "      <td>Rajastán</td>\n",
       "      <td>PENDING</td>\n",
       "      <td>Smart watch</td>\n",
       "      <td>327.75</td>\n",
       "      <td>2018-01-18 12:27:00</td>\n",
       "      <td>Standard Class</td>\n",
       "      <td>IreneLuna</td>\n",
       "      <td>2018</td>\n",
       "      <td>1</td>\n",
       "      <td>5</td>\n",
       "      <td>12</td>\n",
       "      <td>2018-01</td>\n",
       "    </tr>\n",
       "    <tr>\n",
       "      <th>2</th>\n",
       "      <td>CASH</td>\n",
       "      <td>4</td>\n",
       "      <td>4</td>\n",
       "      <td>-247.779999</td>\n",
       "      <td>309.720001</td>\n",
       "      <td>Shipping on time</td>\n",
       "      <td>0</td>\n",
       "      <td>73</td>\n",
       "      <td>Sporting Goods</td>\n",
       "      <td>San Jose</td>\n",
       "      <td>EE. UU.</td>\n",
       "      <td>Gillian</td>\n",
       "      <td>19491</td>\n",
       "      <td>Maldonado</td>\n",
       "      <td>Consumer</td>\n",
       "      <td>CA</td>\n",
       "      <td>8510 Round Bear Gate</td>\n",
       "      <td>2</td>\n",
       "      <td>Fitness</td>\n",
       "      <td>37.292233</td>\n",
       "      <td>-121.881279</td>\n",
       "      <td>Pacific Asia</td>\n",
       "      <td>Bikaner</td>\n",
       "      <td>India</td>\n",
       "      <td>2018-01-13 12:06:00</td>\n",
       "      <td>75938</td>\n",
       "      <td>18.030001</td>\n",
       "      <td>0.06</td>\n",
       "      <td>-0.80</td>\n",
       "      <td>1</td>\n",
       "      <td>327.75</td>\n",
       "      <td>-247.779999</td>\n",
       "      <td>South Asia</td>\n",
       "      <td>Rajastán</td>\n",
       "      <td>CLOSED</td>\n",
       "      <td>Smart watch</td>\n",
       "      <td>327.75</td>\n",
       "      <td>2018-01-17 12:06:00</td>\n",
       "      <td>Standard Class</td>\n",
       "      <td>GillianMaldonado</td>\n",
       "      <td>2018</td>\n",
       "      <td>1</td>\n",
       "      <td>5</td>\n",
       "      <td>12</td>\n",
       "      <td>2018-01</td>\n",
       "    </tr>\n",
       "    <tr>\n",
       "      <th>3</th>\n",
       "      <td>DEBIT</td>\n",
       "      <td>3</td>\n",
       "      <td>4</td>\n",
       "      <td>22.860001</td>\n",
       "      <td>304.809998</td>\n",
       "      <td>Advance shipping</td>\n",
       "      <td>0</td>\n",
       "      <td>73</td>\n",
       "      <td>Sporting Goods</td>\n",
       "      <td>Los Angeles</td>\n",
       "      <td>EE. UU.</td>\n",
       "      <td>Tana</td>\n",
       "      <td>19490</td>\n",
       "      <td>Tate</td>\n",
       "      <td>Home Office</td>\n",
       "      <td>CA</td>\n",
       "      <td>3200 Amber Bend</td>\n",
       "      <td>2</td>\n",
       "      <td>Fitness</td>\n",
       "      <td>34.125946</td>\n",
       "      <td>-118.291016</td>\n",
       "      <td>Pacific Asia</td>\n",
       "      <td>Townsville</td>\n",
       "      <td>Australia</td>\n",
       "      <td>2018-01-13 11:45:00</td>\n",
       "      <td>75937</td>\n",
       "      <td>22.940001</td>\n",
       "      <td>0.07</td>\n",
       "      <td>0.08</td>\n",
       "      <td>1</td>\n",
       "      <td>327.75</td>\n",
       "      <td>22.860001</td>\n",
       "      <td>Oceania</td>\n",
       "      <td>Queensland</td>\n",
       "      <td>COMPLETE</td>\n",
       "      <td>Smart watch</td>\n",
       "      <td>327.75</td>\n",
       "      <td>2018-01-16 11:45:00</td>\n",
       "      <td>Standard Class</td>\n",
       "      <td>TanaTate</td>\n",
       "      <td>2018</td>\n",
       "      <td>1</td>\n",
       "      <td>5</td>\n",
       "      <td>11</td>\n",
       "      <td>2018-01</td>\n",
       "    </tr>\n",
       "    <tr>\n",
       "      <th>4</th>\n",
       "      <td>PAYMENT</td>\n",
       "      <td>2</td>\n",
       "      <td>4</td>\n",
       "      <td>134.210007</td>\n",
       "      <td>298.250000</td>\n",
       "      <td>Advance shipping</td>\n",
       "      <td>0</td>\n",
       "      <td>73</td>\n",
       "      <td>Sporting Goods</td>\n",
       "      <td>Caguas</td>\n",
       "      <td>Puerto Rico</td>\n",
       "      <td>Orli</td>\n",
       "      <td>19489</td>\n",
       "      <td>Hendricks</td>\n",
       "      <td>Corporate</td>\n",
       "      <td>PR</td>\n",
       "      <td>8671 Iron Anchor Corners</td>\n",
       "      <td>2</td>\n",
       "      <td>Fitness</td>\n",
       "      <td>18.253769</td>\n",
       "      <td>-66.037048</td>\n",
       "      <td>Pacific Asia</td>\n",
       "      <td>Townsville</td>\n",
       "      <td>Australia</td>\n",
       "      <td>2018-01-13 11:24:00</td>\n",
       "      <td>75936</td>\n",
       "      <td>29.500000</td>\n",
       "      <td>0.09</td>\n",
       "      <td>0.45</td>\n",
       "      <td>1</td>\n",
       "      <td>327.75</td>\n",
       "      <td>134.210007</td>\n",
       "      <td>Oceania</td>\n",
       "      <td>Queensland</td>\n",
       "      <td>PENDING_PAYMENT</td>\n",
       "      <td>Smart watch</td>\n",
       "      <td>327.75</td>\n",
       "      <td>2018-01-15 11:24:00</td>\n",
       "      <td>Standard Class</td>\n",
       "      <td>OrliHendricks</td>\n",
       "      <td>2018</td>\n",
       "      <td>1</td>\n",
       "      <td>5</td>\n",
       "      <td>11</td>\n",
       "      <td>2018-01</td>\n",
       "    </tr>\n",
       "  </tbody>\n",
       "</table>\n",
       "</div>"
      ],
      "text/plain": [
       "       Type  Days for shipping (real)  Days for shipment (scheduled)  \\\n",
       "0     DEBIT                         3                              4   \n",
       "1  TRANSFER                         5                              4   \n",
       "2      CASH                         4                              4   \n",
       "3     DEBIT                         3                              4   \n",
       "4   PAYMENT                         2                              4   \n",
       "\n",
       "   Benefit per order  Sales per customer   Delivery Status  \\\n",
       "0          91.250000          314.640015  Advance shipping   \n",
       "1        -249.089996          311.359985     Late delivery   \n",
       "2        -247.779999          309.720001  Shipping on time   \n",
       "3          22.860001          304.809998  Advance shipping   \n",
       "4         134.210007          298.250000  Advance shipping   \n",
       "\n",
       "   Late_delivery_risk  Category Id   Category Name Customer City  \\\n",
       "0                   0           73  Sporting Goods        Caguas   \n",
       "1                   1           73  Sporting Goods        Caguas   \n",
       "2                   0           73  Sporting Goods      San Jose   \n",
       "3                   0           73  Sporting Goods   Los Angeles   \n",
       "4                   0           73  Sporting Goods        Caguas   \n",
       "\n",
       "  Customer Country Customer Fname  Customer Id Customer Lname  \\\n",
       "0      Puerto Rico          Cally        20755       Holloway   \n",
       "1      Puerto Rico          Irene        19492           Luna   \n",
       "2          EE. UU.        Gillian        19491      Maldonado   \n",
       "3          EE. UU.           Tana        19490           Tate   \n",
       "4      Puerto Rico           Orli        19489      Hendricks   \n",
       "\n",
       "  Customer Segment Customer State           Customer Street  Department Id  \\\n",
       "0         Consumer             PR  5365 Noble Nectar Island              2   \n",
       "1         Consumer             PR          2679 Rustic Loop              2   \n",
       "2         Consumer             CA      8510 Round Bear Gate              2   \n",
       "3      Home Office             CA           3200 Amber Bend              2   \n",
       "4        Corporate             PR  8671 Iron Anchor Corners              2   \n",
       "\n",
       "  Department Name   Latitude   Longitude        Market  Order City  \\\n",
       "0         Fitness  18.251453  -66.037056  Pacific Asia      Bekasi   \n",
       "1         Fitness  18.279451  -66.037064  Pacific Asia     Bikaner   \n",
       "2         Fitness  37.292233 -121.881279  Pacific Asia     Bikaner   \n",
       "3         Fitness  34.125946 -118.291016  Pacific Asia  Townsville   \n",
       "4         Fitness  18.253769  -66.037048  Pacific Asia  Townsville   \n",
       "\n",
       "  Order Country order date (DateOrders)  Order Id  Order Item Discount  \\\n",
       "0     Indonesia     2018-01-31 22:56:00     77202            13.110000   \n",
       "1         India     2018-01-13 12:27:00     75939            16.389999   \n",
       "2         India     2018-01-13 12:06:00     75938            18.030001   \n",
       "3     Australia     2018-01-13 11:45:00     75937            22.940001   \n",
       "4     Australia     2018-01-13 11:24:00     75936            29.500000   \n",
       "\n",
       "   Order Item Discount Rate  Order Item Profit Ratio  Order Item Quantity  \\\n",
       "0                      0.04                     0.29                    1   \n",
       "1                      0.05                    -0.80                    1   \n",
       "2                      0.06                    -0.80                    1   \n",
       "3                      0.07                     0.08                    1   \n",
       "4                      0.09                     0.45                    1   \n",
       "\n",
       "    Sales  Order Profit Per Order    Order Region      Order State  \\\n",
       "0  327.75               91.250000  Southeast Asia  Java Occidental   \n",
       "1  327.75             -249.089996      South Asia         Rajastán   \n",
       "2  327.75             -247.779999      South Asia         Rajastán   \n",
       "3  327.75               22.860001         Oceania       Queensland   \n",
       "4  327.75              134.210007         Oceania       Queensland   \n",
       "\n",
       "      Order Status  Product Name  Product Price shipping date (DateOrders)  \\\n",
       "0         COMPLETE  Smart watch          327.75        2018-02-03 22:56:00   \n",
       "1          PENDING  Smart watch          327.75        2018-01-18 12:27:00   \n",
       "2           CLOSED  Smart watch          327.75        2018-01-17 12:06:00   \n",
       "3         COMPLETE  Smart watch          327.75        2018-01-16 11:45:00   \n",
       "4  PENDING_PAYMENT  Smart watch          327.75        2018-01-15 11:24:00   \n",
       "\n",
       "    Shipping Mode Customer FullName  order_year  order_month  order_week_day  \\\n",
       "0  Standard Class     CallyHolloway        2018            1               2   \n",
       "1  Standard Class         IreneLuna        2018            1               5   \n",
       "2  Standard Class  GillianMaldonado        2018            1               5   \n",
       "3  Standard Class          TanaTate        2018            1               5   \n",
       "4  Standard Class     OrliHendricks        2018            1               5   \n",
       "\n",
       "   order_hour order_month_year  \n",
       "0          22          2018-01  \n",
       "1          12          2018-01  \n",
       "2          12          2018-01  \n",
       "3          11          2018-01  \n",
       "4          11          2018-01  "
      ]
     },
     "execution_count": 76,
     "metadata": {},
     "output_type": "execute_result"
    }
   ],
   "source": [
    "data.head()"
   ]
  },
  {
   "cell_type": "markdown",
   "metadata": {},
   "source": [
    "data['order date (DateOrders)'].max()为整个数据的最后一笔订单，因此R recency计算的是基于这个时间的近期。"
   ]
  },
  {
   "cell_type": "code",
   "execution_count": 77,
   "metadata": {},
   "outputs": [],
   "source": [
    "temp = pd.DatetimeIndex(data['order date (DateOrders)'])"
   ]
  },
  {
   "attachments": {
    "6c82e787-bc21-4e7b-a34c-1e6e601ca990.png": {
     "image/png": "[encoded data removed]"
    }
   },
   "cell_type": "markdown",
   "metadata": {},
   "source": [
    "![image.png](attachment:6c82e787-bc21-4e7b-a34c-1e6e601ca990.png)"
   ]
  },
  {
   "cell_type": "markdown",
   "metadata": {},
   "source": [
    "#### 确定现在的时间"
   ]
  },
  {
   "cell_type": "code",
   "execution_count": 78,
   "metadata": {},
   "outputs": [
    {
     "data": {
      "text/plain": [
       "datetime.datetime(2018, 2, 1, 0, 0)"
      ]
     },
     "execution_count": 78,
     "metadata": {},
     "output_type": "execute_result"
    }
   ],
   "source": [
    "import datetime\n",
    "present = datetime.datetime(2018,2,1)\n",
    "present"
   ]
  },
  {
   "cell_type": "code",
   "execution_count": 83,
   "metadata": {},
   "outputs": [
    {
     "data": {
      "text/plain": [
       "0           0\n",
       "1          18\n",
       "2          18\n",
       "3          18\n",
       "4          18\n",
       "         ... \n",
       "180514    746\n",
       "180515    746\n",
       "180516    747\n",
       "180517    747\n",
       "180518    747\n",
       "Name: R_Value, Length: 180519, dtype: int64"
      ]
     },
     "execution_count": 83,
     "metadata": {},
     "output_type": "execute_result"
    }
   ],
   "source": [
    "data['R_Value'] = (present-temp).days\n",
    "data['R_Value']"
   ]
  },
  {
   "cell_type": "markdown",
   "metadata": {},
   "source": [
    "RFM"
   ]
  },
  {
   "cell_type": "code",
   "execution_count": 84,
   "metadata": {},
   "outputs": [
    {
     "data": {
      "text/html": [
       "<div>\n",
       "<style scoped>\n",
       "    .dataframe tbody tr th:only-of-type {\n",
       "        vertical-align: middle;\n",
       "    }\n",
       "\n",
       "    .dataframe tbody tr th {\n",
       "        vertical-align: top;\n",
       "    }\n",
       "\n",
       "    .dataframe thead th {\n",
       "        text-align: right;\n",
       "    }\n",
       "</style>\n",
       "<table border=\"1\" class=\"dataframe\">\n",
       "  <thead>\n",
       "    <tr style=\"text-align: right;\">\n",
       "      <th></th>\n",
       "      <th>R_Value</th>\n",
       "      <th>Order Id</th>\n",
       "      <th>Sales</th>\n",
       "    </tr>\n",
       "    <tr>\n",
       "      <th>Customer Id</th>\n",
       "      <th></th>\n",
       "      <th></th>\n",
       "      <th></th>\n",
       "    </tr>\n",
       "  </thead>\n",
       "  <tbody>\n",
       "    <tr>\n",
       "      <th>1</th>\n",
       "      <td>792</td>\n",
       "      <td>1</td>\n",
       "      <td>499.950012</td>\n",
       "    </tr>\n",
       "    <tr>\n",
       "      <th>2</th>\n",
       "      <td>136</td>\n",
       "      <td>10</td>\n",
       "      <td>1819.730034</td>\n",
       "    </tr>\n",
       "    <tr>\n",
       "      <th>3</th>\n",
       "      <td>229</td>\n",
       "      <td>18</td>\n",
       "      <td>3537.680094</td>\n",
       "    </tr>\n",
       "    <tr>\n",
       "      <th>4</th>\n",
       "      <td>380</td>\n",
       "      <td>14</td>\n",
       "      <td>1719.630030</td>\n",
       "    </tr>\n",
       "    <tr>\n",
       "      <th>5</th>\n",
       "      <td>457</td>\n",
       "      <td>7</td>\n",
       "      <td>1274.750023</td>\n",
       "    </tr>\n",
       "    <tr>\n",
       "      <th>...</th>\n",
       "      <td>...</td>\n",
       "      <td>...</td>\n",
       "      <td>...</td>\n",
       "    </tr>\n",
       "    <tr>\n",
       "      <th>20753</th>\n",
       "      <td>0</td>\n",
       "      <td>1</td>\n",
       "      <td>215.820007</td>\n",
       "    </tr>\n",
       "    <tr>\n",
       "      <th>20754</th>\n",
       "      <td>0</td>\n",
       "      <td>1</td>\n",
       "      <td>215.820007</td>\n",
       "    </tr>\n",
       "    <tr>\n",
       "      <th>20755</th>\n",
       "      <td>0</td>\n",
       "      <td>1</td>\n",
       "      <td>327.750000</td>\n",
       "    </tr>\n",
       "    <tr>\n",
       "      <th>20756</th>\n",
       "      <td>0</td>\n",
       "      <td>1</td>\n",
       "      <td>11.540000</td>\n",
       "    </tr>\n",
       "    <tr>\n",
       "      <th>20757</th>\n",
       "      <td>0</td>\n",
       "      <td>1</td>\n",
       "      <td>39.750000</td>\n",
       "    </tr>\n",
       "  </tbody>\n",
       "</table>\n",
       "<p>20652 rows × 3 columns</p>\n",
       "</div>"
      ],
      "text/plain": [
       "             R_Value  Order Id        Sales\n",
       "Customer Id                                \n",
       "1                792         1   499.950012\n",
       "2                136        10  1819.730034\n",
       "3                229        18  3537.680094\n",
       "4                380        14  1719.630030\n",
       "5                457         7  1274.750023\n",
       "...              ...       ...          ...\n",
       "20753              0         1   215.820007\n",
       "20754              0         1   215.820007\n",
       "20755              0         1   327.750000\n",
       "20756              0         1    11.540000\n",
       "20757              0         1    39.750000\n",
       "\n",
       "[20652 rows x 3 columns]"
      ]
     },
     "execution_count": 84,
     "metadata": {},
     "output_type": "execute_result"
    }
   ],
   "source": [
    "customer_seg = data.groupby('Customer Id').agg({'R_Value': lambda x:x.min(),\n",
    "                                                 'Order Id': lambda x:len(x),\n",
    "                                                 'Sales': lambda x:x.sum()})\n",
    "customer_seg"
   ]
  },
  {
   "cell_type": "code",
   "execution_count": 85,
   "metadata": {},
   "outputs": [],
   "source": [
    "customer_seg.rename(columns={'Order Id':'F_Value',\n",
    "                      'Sales': 'M_Value'},inplace=True)"
   ]
  },
  {
   "cell_type": "code",
   "execution_count": 86,
   "metadata": {},
   "outputs": [
    {
     "data": {
      "text/html": [
       "<div>\n",
       "<style scoped>\n",
       "    .dataframe tbody tr th:only-of-type {\n",
       "        vertical-align: middle;\n",
       "    }\n",
       "\n",
       "    .dataframe tbody tr th {\n",
       "        vertical-align: top;\n",
       "    }\n",
       "\n",
       "    .dataframe thead th {\n",
       "        text-align: right;\n",
       "    }\n",
       "</style>\n",
       "<table border=\"1\" class=\"dataframe\">\n",
       "  <thead>\n",
       "    <tr style=\"text-align: right;\">\n",
       "      <th></th>\n",
       "      <th>R_Value</th>\n",
       "      <th>F_Value</th>\n",
       "      <th>M_Value</th>\n",
       "    </tr>\n",
       "    <tr>\n",
       "      <th>Customer Id</th>\n",
       "      <th></th>\n",
       "      <th></th>\n",
       "      <th></th>\n",
       "    </tr>\n",
       "  </thead>\n",
       "  <tbody>\n",
       "    <tr>\n",
       "      <th>1</th>\n",
       "      <td>792</td>\n",
       "      <td>1</td>\n",
       "      <td>499.950012</td>\n",
       "    </tr>\n",
       "    <tr>\n",
       "      <th>2</th>\n",
       "      <td>136</td>\n",
       "      <td>10</td>\n",
       "      <td>1819.730034</td>\n",
       "    </tr>\n",
       "    <tr>\n",
       "      <th>3</th>\n",
       "      <td>229</td>\n",
       "      <td>18</td>\n",
       "      <td>3537.680094</td>\n",
       "    </tr>\n",
       "    <tr>\n",
       "      <th>4</th>\n",
       "      <td>380</td>\n",
       "      <td>14</td>\n",
       "      <td>1719.630030</td>\n",
       "    </tr>\n",
       "    <tr>\n",
       "      <th>5</th>\n",
       "      <td>457</td>\n",
       "      <td>7</td>\n",
       "      <td>1274.750023</td>\n",
       "    </tr>\n",
       "    <tr>\n",
       "      <th>...</th>\n",
       "      <td>...</td>\n",
       "      <td>...</td>\n",
       "      <td>...</td>\n",
       "    </tr>\n",
       "    <tr>\n",
       "      <th>20753</th>\n",
       "      <td>0</td>\n",
       "      <td>1</td>\n",
       "      <td>215.820007</td>\n",
       "    </tr>\n",
       "    <tr>\n",
       "      <th>20754</th>\n",
       "      <td>0</td>\n",
       "      <td>1</td>\n",
       "      <td>215.820007</td>\n",
       "    </tr>\n",
       "    <tr>\n",
       "      <th>20755</th>\n",
       "      <td>0</td>\n",
       "      <td>1</td>\n",
       "      <td>327.750000</td>\n",
       "    </tr>\n",
       "    <tr>\n",
       "      <th>20756</th>\n",
       "      <td>0</td>\n",
       "      <td>1</td>\n",
       "      <td>11.540000</td>\n",
       "    </tr>\n",
       "    <tr>\n",
       "      <th>20757</th>\n",
       "      <td>0</td>\n",
       "      <td>1</td>\n",
       "      <td>39.750000</td>\n",
       "    </tr>\n",
       "  </tbody>\n",
       "</table>\n",
       "<p>20652 rows × 3 columns</p>\n",
       "</div>"
      ],
      "text/plain": [
       "             R_Value  F_Value      M_Value\n",
       "Customer Id                               \n",
       "1                792        1   499.950012\n",
       "2                136       10  1819.730034\n",
       "3                229       18  3537.680094\n",
       "4                380       14  1719.630030\n",
       "5                457        7  1274.750023\n",
       "...              ...      ...          ...\n",
       "20753              0        1   215.820007\n",
       "20754              0        1   215.820007\n",
       "20755              0        1   327.750000\n",
       "20756              0        1    11.540000\n",
       "20757              0        1    39.750000\n",
       "\n",
       "[20652 rows x 3 columns]"
      ]
     },
     "execution_count": 86,
     "metadata": {},
     "output_type": "execute_result"
    }
   ],
   "source": [
    "customer_seg"
   ]
  },
  {
   "cell_type": "markdown",
   "metadata": {},
   "source": [
    "为什么要分桶，你看1123天没来买东西的人和772天没来买的人有区别吗？几乎没有吧，那就不需要区别对待，我感觉可以四分位，然后再对重要的位置四分位，就是后面的不影响，就不用细分，前面的可以按周分，一周 两周 三周 接着两个月 半年 一年等等"
   ]
  },
  {
   "cell_type": "markdown",
   "metadata": {},
   "source": [
    "#### 求分位数"
   ]
  },
  {
   "cell_type": "code",
   "execution_count": 87,
   "metadata": {},
   "outputs": [
    {
     "data": {
      "text/html": [
       "<div>\n",
       "<style scoped>\n",
       "    .dataframe tbody tr th:only-of-type {\n",
       "        vertical-align: middle;\n",
       "    }\n",
       "\n",
       "    .dataframe tbody tr th {\n",
       "        vertical-align: top;\n",
       "    }\n",
       "\n",
       "    .dataframe thead th {\n",
       "        text-align: right;\n",
       "    }\n",
       "</style>\n",
       "<table border=\"1\" class=\"dataframe\">\n",
       "  <thead>\n",
       "    <tr style=\"text-align: right;\">\n",
       "      <th></th>\n",
       "      <th>R_Value</th>\n",
       "      <th>F_Value</th>\n",
       "      <th>M_Value</th>\n",
       "    </tr>\n",
       "  </thead>\n",
       "  <tbody>\n",
       "    <tr>\n",
       "      <th>0.25</th>\n",
       "      <td>75.0</td>\n",
       "      <td>1.0</td>\n",
       "      <td>293.040008</td>\n",
       "    </tr>\n",
       "    <tr>\n",
       "      <th>0.50</th>\n",
       "      <td>159.0</td>\n",
       "      <td>7.0</td>\n",
       "      <td>1499.825033</td>\n",
       "    </tr>\n",
       "    <tr>\n",
       "      <th>0.75</th>\n",
       "      <td>307.0</td>\n",
       "      <td>15.0</td>\n",
       "      <td>2915.880065</td>\n",
       "    </tr>\n",
       "  </tbody>\n",
       "</table>\n",
       "</div>"
      ],
      "text/plain": [
       "      R_Value  F_Value      M_Value\n",
       "0.25     75.0      1.0   293.040008\n",
       "0.50    159.0      7.0  1499.825033\n",
       "0.75    307.0     15.0  2915.880065"
      ]
     },
     "execution_count": 87,
     "metadata": {},
     "output_type": "execute_result"
    }
   ],
   "source": [
    "quantiles = customer_seg.quantile(q=[0.25,0.5,0.75])\n",
    "quantiles"
   ]
  },
  {
   "cell_type": "code",
   "execution_count": 88,
   "metadata": {},
   "outputs": [
    {
     "data": {
      "text/plain": [
       "{'R_Value': {0.25: 75.0, 0.5: 159.0, 0.75: 307.0},\n",
       " 'F_Value': {0.25: 1.0, 0.5: 7.0, 0.75: 15.0},\n",
       " 'M_Value': {0.25: 293.0400085, 0.5: 1499.82503324, 0.75: 2915.8800654175}}"
      ]
     },
     "execution_count": 88,
     "metadata": {},
     "output_type": "execute_result"
    }
   ],
   "source": [
    "quantiles = quantiles.to_dict()\n",
    "quantiles"
   ]
  },
  {
   "cell_type": "code",
   "execution_count": 89,
   "metadata": {},
   "outputs": [],
   "source": [
    "# Recency 越小越好！！！，返回数值越高\n",
    "def R_Score(data, b, quantile):\n",
    "    '''b为quantitle中的key'''\n",
    "    if data <= quantile[b][0.25]:\n",
    "        return 4\n",
    "    if (data > quantile[b][0.25]) & (data <= quantile[b][0.5]):\n",
    "        return 3\n",
    "    if (data > quantile[b][0.5]) & (data <= quantile[b][0.75]):\n",
    "        return 2\n",
    "    if (data > quantile[b][0.75]):\n",
    "        return 1\n",
    "    \n",
    "def FM_Score(data, b, quantile):\n",
    "    if data <= quantile[b][0.25]:\n",
    "        return 1\n",
    "    if (data > quantile[b][0.25]) & (data <= quantile[b][0.5]):\n",
    "        return 2\n",
    "    if (data > quantile[b][0.5]) & (data <= quantile[b][0.75]):\n",
    "        return 3\n",
    "    if (data > quantile[b][0.75]):\n",
    "        return 4"
   ]
  },
  {
   "cell_type": "code",
   "execution_count": 90,
   "metadata": {},
   "outputs": [
    {
     "data": {
      "text/plain": [
       "Index(['R_Value', 'F_Value', 'M_Value'], dtype='object')"
      ]
     },
     "execution_count": 90,
     "metadata": {},
     "output_type": "execute_result"
    }
   ],
   "source": [
    "customer_seg.columns"
   ]
  },
  {
   "cell_type": "code",
   "execution_count": 91,
   "metadata": {},
   "outputs": [],
   "source": [
    "customer_seg['R_Score'] = customer_seg['R_Value'].apply(R_Score, args=('R_Value', quantiles))\n",
    "customer_seg['F_Score'] = customer_seg['F_Value'].apply(FM_Score, args=('F_Value', quantiles))\n",
    "customer_seg['M_Score'] = customer_seg['M_Value'].apply(FM_Score, args=('M_Value', quantiles))"
   ]
  },
  {
   "cell_type": "code",
   "execution_count": 92,
   "metadata": {},
   "outputs": [],
   "source": [
    "def customer_label(data):\n",
    "    # 虽然每个层面分了四级1234，但画图方便的话，就分高低嘛，12为低，34为高，RFM共8个象限\n",
    "    if (data['R_Score'] > 2) & (data['F_Score'] > 2) & (data['M_Score'] > 2):\n",
    "        return '重要价值用户'\n",
    "    if (data['R_Score'] > 2) & (data['F_Score'] <= 2) & (data['M_Score'] > 2):\n",
    "        return '重要发展用户'\n",
    "    if (data['R_Score'] <= 2) & (data['F_Score'] > 2) & (data['M_Score'] > 2):\n",
    "        return '重要保持用户'\n",
    "    if (data['R_Score'] <= 2) & (data['F_Score'] <= 2) & (data['M_Score'] > 2):\n",
    "        return '重要挽留用户'\n",
    "    \n",
    "    if (data['R_Score'] > 2) & (data['F_Score'] > 2) & (data['M_Score'] <= 2):\n",
    "        return '一般价值用户'\n",
    "    if (data['R_Score'] > 2) & (data['F_Score'] <= 2) & (data['M_Score'] <= 2):\n",
    "        return '一般发展用户'\n",
    "    if (data['R_Score'] <= 2) & (data['F_Score'] > 2) & (data['M_Score'] <= 2):\n",
    "        return '一般保持用户'\n",
    "    if (data['R_Score'] <= 2) & (data['F_Score'] <= 2) & (data['M_Score'] <= 2):\n",
    "        return '一般挽留用户'"
   ]
  },
  {
   "cell_type": "markdown",
   "metadata": {},
   "source": [
    "#### 记忆点：\n",
    "* axis=1，1比较瘦，因此‘最终’得到的是列，反推回去，是以行为单位处理数据\n",
    "* axis=0, 0比较胖，‘最终’得到的是行，因此，以列为单位处理数据\n",
    "\n",
    "* 类似以‘最终’结果来记忆的还有TP和FP，即后者为预测值\n",
    "* T‘P’,F‘P’,后面都是P,即代表预测值为正的，那TP:预测值正确的，真正; FP:预测值错误的，假正，实际为负\n",
    "* T‘N’,F‘N’,后面是N,即代表预测为负，TN真的负,FN假的负，实际为正。"
   ]
  },
  {
   "cell_type": "code",
   "execution_count": 93,
   "metadata": {},
   "outputs": [],
   "source": [
    "customer_seg['Customer_Segmentation'] = customer_seg.apply(customer_label, axis=1)"
   ]
  },
  {
   "cell_type": "code",
   "execution_count": 94,
   "metadata": {},
   "outputs": [
    {
     "data": {
      "text/html": [
       "<div>\n",
       "<style scoped>\n",
       "    .dataframe tbody tr th:only-of-type {\n",
       "        vertical-align: middle;\n",
       "    }\n",
       "\n",
       "    .dataframe tbody tr th {\n",
       "        vertical-align: top;\n",
       "    }\n",
       "\n",
       "    .dataframe thead th {\n",
       "        text-align: right;\n",
       "    }\n",
       "</style>\n",
       "<table border=\"1\" class=\"dataframe\">\n",
       "  <thead>\n",
       "    <tr style=\"text-align: right;\">\n",
       "      <th></th>\n",
       "      <th>R_Value</th>\n",
       "      <th>F_Value</th>\n",
       "      <th>M_Value</th>\n",
       "      <th>R_Score</th>\n",
       "      <th>F_Score</th>\n",
       "      <th>M_Score</th>\n",
       "      <th>Customer_Segmentation</th>\n",
       "    </tr>\n",
       "    <tr>\n",
       "      <th>Customer Id</th>\n",
       "      <th></th>\n",
       "      <th></th>\n",
       "      <th></th>\n",
       "      <th></th>\n",
       "      <th></th>\n",
       "      <th></th>\n",
       "      <th></th>\n",
       "    </tr>\n",
       "  </thead>\n",
       "  <tbody>\n",
       "    <tr>\n",
       "      <th>1</th>\n",
       "      <td>792</td>\n",
       "      <td>1</td>\n",
       "      <td>499.950012</td>\n",
       "      <td>1</td>\n",
       "      <td>1</td>\n",
       "      <td>2</td>\n",
       "      <td>一般挽留用户</td>\n",
       "    </tr>\n",
       "    <tr>\n",
       "      <th>2</th>\n",
       "      <td>136</td>\n",
       "      <td>10</td>\n",
       "      <td>1819.730034</td>\n",
       "      <td>3</td>\n",
       "      <td>3</td>\n",
       "      <td>3</td>\n",
       "      <td>重要价值用户</td>\n",
       "    </tr>\n",
       "    <tr>\n",
       "      <th>3</th>\n",
       "      <td>229</td>\n",
       "      <td>18</td>\n",
       "      <td>3537.680094</td>\n",
       "      <td>2</td>\n",
       "      <td>4</td>\n",
       "      <td>4</td>\n",
       "      <td>重要保持用户</td>\n",
       "    </tr>\n",
       "    <tr>\n",
       "      <th>4</th>\n",
       "      <td>380</td>\n",
       "      <td>14</td>\n",
       "      <td>1719.630030</td>\n",
       "      <td>1</td>\n",
       "      <td>3</td>\n",
       "      <td>3</td>\n",
       "      <td>重要保持用户</td>\n",
       "    </tr>\n",
       "    <tr>\n",
       "      <th>5</th>\n",
       "      <td>457</td>\n",
       "      <td>7</td>\n",
       "      <td>1274.750023</td>\n",
       "      <td>1</td>\n",
       "      <td>2</td>\n",
       "      <td>2</td>\n",
       "      <td>一般挽留用户</td>\n",
       "    </tr>\n",
       "    <tr>\n",
       "      <th>...</th>\n",
       "      <td>...</td>\n",
       "      <td>...</td>\n",
       "      <td>...</td>\n",
       "      <td>...</td>\n",
       "      <td>...</td>\n",
       "      <td>...</td>\n",
       "      <td>...</td>\n",
       "    </tr>\n",
       "    <tr>\n",
       "      <th>20753</th>\n",
       "      <td>0</td>\n",
       "      <td>1</td>\n",
       "      <td>215.820007</td>\n",
       "      <td>4</td>\n",
       "      <td>1</td>\n",
       "      <td>1</td>\n",
       "      <td>一般发展用户</td>\n",
       "    </tr>\n",
       "    <tr>\n",
       "      <th>20754</th>\n",
       "      <td>0</td>\n",
       "      <td>1</td>\n",
       "      <td>215.820007</td>\n",
       "      <td>4</td>\n",
       "      <td>1</td>\n",
       "      <td>1</td>\n",
       "      <td>一般发展用户</td>\n",
       "    </tr>\n",
       "    <tr>\n",
       "      <th>20755</th>\n",
       "      <td>0</td>\n",
       "      <td>1</td>\n",
       "      <td>327.750000</td>\n",
       "      <td>4</td>\n",
       "      <td>1</td>\n",
       "      <td>2</td>\n",
       "      <td>一般发展用户</td>\n",
       "    </tr>\n",
       "    <tr>\n",
       "      <th>20756</th>\n",
       "      <td>0</td>\n",
       "      <td>1</td>\n",
       "      <td>11.540000</td>\n",
       "      <td>4</td>\n",
       "      <td>1</td>\n",
       "      <td>1</td>\n",
       "      <td>一般发展用户</td>\n",
       "    </tr>\n",
       "    <tr>\n",
       "      <th>20757</th>\n",
       "      <td>0</td>\n",
       "      <td>1</td>\n",
       "      <td>39.750000</td>\n",
       "      <td>4</td>\n",
       "      <td>1</td>\n",
       "      <td>1</td>\n",
       "      <td>一般发展用户</td>\n",
       "    </tr>\n",
       "  </tbody>\n",
       "</table>\n",
       "<p>20652 rows × 7 columns</p>\n",
       "</div>"
      ],
      "text/plain": [
       "             R_Value  F_Value      M_Value  R_Score  F_Score  M_Score  \\\n",
       "Customer Id                                                             \n",
       "1                792        1   499.950012        1        1        2   \n",
       "2                136       10  1819.730034        3        3        3   \n",
       "3                229       18  3537.680094        2        4        4   \n",
       "4                380       14  1719.630030        1        3        3   \n",
       "5                457        7  1274.750023        1        2        2   \n",
       "...              ...      ...          ...      ...      ...      ...   \n",
       "20753              0        1   215.820007        4        1        1   \n",
       "20754              0        1   215.820007        4        1        1   \n",
       "20755              0        1   327.750000        4        1        2   \n",
       "20756              0        1    11.540000        4        1        1   \n",
       "20757              0        1    39.750000        4        1        1   \n",
       "\n",
       "            Customer_Segmentation  \n",
       "Customer Id                        \n",
       "1                          一般挽留用户  \n",
       "2                          重要价值用户  \n",
       "3                          重要保持用户  \n",
       "4                          重要保持用户  \n",
       "5                          一般挽留用户  \n",
       "...                           ...  \n",
       "20753                      一般发展用户  \n",
       "20754                      一般发展用户  \n",
       "20755                      一般发展用户  \n",
       "20756                      一般发展用户  \n",
       "20757                      一般发展用户  \n",
       "\n",
       "[20652 rows x 7 columns]"
      ]
     },
     "execution_count": 94,
     "metadata": {},
     "output_type": "execute_result"
    }
   ],
   "source": [
    "customer_seg"
   ]
  },
  {
   "cell_type": "code",
   "execution_count": 95,
   "metadata": {},
   "outputs": [
    {
     "data": {
      "text/plain": [
       "一般发展用户    8027\n",
       "重要保持用户    7771\n",
       "一般挽留用户    1854\n",
       "重要价值用户    1821\n",
       "重要发展用户     474\n",
       "一般保持用户     405\n",
       "重要挽留用户     260\n",
       "一般价值用户      40\n",
       "Name: Customer_Segmentation, dtype: int64"
      ]
     },
     "execution_count": 95,
     "metadata": {},
     "output_type": "execute_result"
    }
   ],
   "source": [
    "customer_seg.Customer_Segmentation.value_counts()"
   ]
  },
  {
   "cell_type": "markdown",
   "metadata": {},
   "source": [
    "### 显示不同地区的支付类型情况 "
   ]
  },
  {
   "cell_type": "code",
   "execution_count": 96,
   "metadata": {},
   "outputs": [
    {
     "data": {
      "text/plain": [
       "DEBIT       69295\n",
       "TRANSFER    49883\n",
       "PAYMENT     41725\n",
       "CASH        19616\n",
       "Name: Type, dtype: int64"
      ]
     },
     "execution_count": 96,
     "metadata": {},
     "output_type": "execute_result"
    }
   ],
   "source": [
    "# 支付类型\n",
    "data.Type.value_counts()"
   ]
  },
  {
   "cell_type": "code",
   "execution_count": 97,
   "metadata": {},
   "outputs": [
    {
     "data": {
      "text/plain": [
       "Central America    28341\n",
       "Western Europe     27109\n",
       "South America      14935\n",
       "Oceania            10148\n",
       "Northern Europe     9792\n",
       "Southeast Asia      9539\n",
       "Southern Europe     9431\n",
       "Caribbean           8318\n",
       "West of USA         7993\n",
       "South Asia          7731\n",
       "Eastern Asia        7280\n",
       "East of USA         6915\n",
       "West Asia           6009\n",
       "US Center           5887\n",
       "South of  USA       4045\n",
       "Eastern Europe      3920\n",
       "West Africa         3696\n",
       "North Africa        3232\n",
       "East Africa         1852\n",
       "Central Africa      1677\n",
       "Southern Africa     1157\n",
       "Canada               959\n",
       "Central Asia         553\n",
       "Name: Order Region, dtype: int64"
      ]
     },
     "execution_count": 97,
     "metadata": {},
     "output_type": "execute_result"
    }
   ],
   "source": [
    "# 地区\n",
    "data['Order Region'].value_counts()"
   ]
  },
  {
   "cell_type": "code",
   "execution_count": 98,
   "metadata": {},
   "outputs": [],
   "source": [
    "type1 = data[data['Type'] == 'DEBIT']\n",
    "type2 = data[data['Type'] == 'TRANSFER']\n",
    "type3 = data[data['Type'] == 'PAYMENT']\n",
    "type4 = data[data['Type'] == 'CASH']"
   ]
  },
  {
   "cell_type": "code",
   "execution_count": 99,
   "metadata": {},
   "outputs": [
    {
     "data": {
      "image/png": "[encoded data removed]",
      "text/plain": [
       "<Figure size 1440x864 with 1 Axes>"
      ]
     },
     "metadata": {
      "needs_background": "light"
     },
     "output_type": "display_data"
    }
   ],
   "source": [
    "import numpy as np\n",
    "import matplotlib.pyplot as plt\n",
    "fig,ax = plt.subplots(figsize=(20,12))\n",
    "\n",
    "# 由于有四个支付类型，再加上一个区域之间的间隔，就是5个内容，因此平均下来宽度是0.2\n",
    "# 其实这里有个bug,每种支付类型中的地区排序不一样的话，就错位了，\n",
    "\n",
    "\n",
    "type1_region = type1['Order Region'].value_counts() # 得到keys为region,values为该region该支付类型数量\n",
    "region_num = len(type1_region.keys())\n",
    "bar_width = 0.2\n",
    "index= np.arange(region_num)    #######list(range(region))\n",
    "count = type1_region.values\n",
    "plt.bar(index+bar_width*0, count, bar_width,color='b',label='DEBIT')\n",
    "\n",
    "type2_region = type2['Order Region'].value_counts() # 得到keys为region,values为该region该支付类型数量\n",
    "region = len(type2_region.keys())\n",
    "count = type2_region.values\n",
    "plt.bar(index+bar_width*1, count, bar_width,color='r',label='TRANSFER')\n",
    "\n",
    "type3_region = type3['Order Region'].value_counts() # 得到keys为region,values为该region该支付类型数量\n",
    "region = len(type3_region.keys())\n",
    "count = type3_region.values\n",
    "plt.bar(index+bar_width*2, count, bar_width,color='y',label='PAYMENT')\n",
    "\n",
    "type4_region = type4['Order Region'].value_counts() # 得到keys为region,values为该region该支付类型数量\n",
    "region = len(type4_region.keys())\n",
    "count = type4_region.values\n",
    "plt.bar(index+bar_width*3, count, bar_width, color='g', label='CASH')\n",
    "\n",
    "#plt.bar(index+bar_width*4, )\n",
    "\n",
    "plt.xticks(index,list(type1_region.keys()),rotation=45)\n",
    "\n",
    "plt.xlabel('Pay Type for Different Region')\n",
    "plt.ylabel('Number')\n",
    "plt.legend()\n",
    "plt.show()"
   ]
  },
  {
   "cell_type": "markdown",
   "metadata": {},
   "source": [
    "### 这样太整齐了。。。"
   ]
  },
  {
   "cell_type": "markdown",
   "metadata": {},
   "source": [
    "### 果然，Bug实现了"
   ]
  },
  {
   "cell_type": "code",
   "execution_count": 100,
   "metadata": {},
   "outputs": [
    {
     "data": {
      "text/html": [
       "<div>\n",
       "<style scoped>\n",
       "    .dataframe tbody tr th:only-of-type {\n",
       "        vertical-align: middle;\n",
       "    }\n",
       "\n",
       "    .dataframe tbody tr th {\n",
       "        vertical-align: top;\n",
       "    }\n",
       "\n",
       "    .dataframe thead th {\n",
       "        text-align: right;\n",
       "    }\n",
       "</style>\n",
       "<table border=\"1\" class=\"dataframe\">\n",
       "  <thead>\n",
       "    <tr style=\"text-align: right;\">\n",
       "      <th></th>\n",
       "      <th>0</th>\n",
       "      <th>1</th>\n",
       "      <th>2</th>\n",
       "      <th>3</th>\n",
       "      <th>4</th>\n",
       "      <th>5</th>\n",
       "      <th>6</th>\n",
       "      <th>7</th>\n",
       "      <th>8</th>\n",
       "      <th>9</th>\n",
       "      <th>10</th>\n",
       "      <th>11</th>\n",
       "      <th>12</th>\n",
       "      <th>13</th>\n",
       "      <th>14</th>\n",
       "      <th>15</th>\n",
       "      <th>16</th>\n",
       "      <th>17</th>\n",
       "      <th>18</th>\n",
       "      <th>19</th>\n",
       "      <th>20</th>\n",
       "      <th>21</th>\n",
       "      <th>22</th>\n",
       "    </tr>\n",
       "  </thead>\n",
       "  <tbody>\n",
       "    <tr>\n",
       "      <th>DEBIT</th>\n",
       "      <td>Central America</td>\n",
       "      <td>Western Europe</td>\n",
       "      <td>South America</td>\n",
       "      <td>Oceania</td>\n",
       "      <td>Northern Europe</td>\n",
       "      <td>Southern Europe</td>\n",
       "      <td>Southeast Asia</td>\n",
       "      <td>West of USA</td>\n",
       "      <td>Caribbean</td>\n",
       "      <td>South Asia</td>\n",
       "      <td>East of USA</td>\n",
       "      <td>Eastern Asia</td>\n",
       "      <td>US Center</td>\n",
       "      <td>West Asia</td>\n",
       "      <td>Eastern Europe</td>\n",
       "      <td>South of  USA</td>\n",
       "      <td>West Africa</td>\n",
       "      <td>North Africa</td>\n",
       "      <td>East Africa</td>\n",
       "      <td>Central Africa</td>\n",
       "      <td>Southern Africa</td>\n",
       "      <td>Canada</td>\n",
       "      <td>Central Asia</td>\n",
       "    </tr>\n",
       "    <tr>\n",
       "      <th>TRANSFER</th>\n",
       "      <td>Central America</td>\n",
       "      <td>Western Europe</td>\n",
       "      <td>South America</td>\n",
       "      <td>Northern Europe</td>\n",
       "      <td>Oceania</td>\n",
       "      <td>Southeast Asia</td>\n",
       "      <td>Southern Europe</td>\n",
       "      <td>Caribbean</td>\n",
       "      <td>West of USA</td>\n",
       "      <td>South Asia</td>\n",
       "      <td>Eastern Asia</td>\n",
       "      <td>East of USA</td>\n",
       "      <td>West Asia</td>\n",
       "      <td>US Center</td>\n",
       "      <td>South of  USA</td>\n",
       "      <td>Eastern Europe</td>\n",
       "      <td>West Africa</td>\n",
       "      <td>North Africa</td>\n",
       "      <td>East Africa</td>\n",
       "      <td>Central Africa</td>\n",
       "      <td>Canada</td>\n",
       "      <td>Southern Africa</td>\n",
       "      <td>Central Asia</td>\n",
       "    </tr>\n",
       "    <tr>\n",
       "      <th>PAYMENT</th>\n",
       "      <td>Western Europe</td>\n",
       "      <td>Central America</td>\n",
       "      <td>South America</td>\n",
       "      <td>Oceania</td>\n",
       "      <td>Southeast Asia</td>\n",
       "      <td>Northern Europe</td>\n",
       "      <td>Southern Europe</td>\n",
       "      <td>Caribbean</td>\n",
       "      <td>South Asia</td>\n",
       "      <td>Eastern Asia</td>\n",
       "      <td>West of USA</td>\n",
       "      <td>East of USA</td>\n",
       "      <td>West Asia</td>\n",
       "      <td>US Center</td>\n",
       "      <td>South of  USA</td>\n",
       "      <td>Eastern Europe</td>\n",
       "      <td>West Africa</td>\n",
       "      <td>North Africa</td>\n",
       "      <td>East Africa</td>\n",
       "      <td>Central Africa</td>\n",
       "      <td>Southern Africa</td>\n",
       "      <td>Canada</td>\n",
       "      <td>Central Asia</td>\n",
       "    </tr>\n",
       "    <tr>\n",
       "      <th>CASH</th>\n",
       "      <td>Central America</td>\n",
       "      <td>Western Europe</td>\n",
       "      <td>South America</td>\n",
       "      <td>Southern Europe</td>\n",
       "      <td>Oceania</td>\n",
       "      <td>Northern Europe</td>\n",
       "      <td>Southeast Asia</td>\n",
       "      <td>Caribbean</td>\n",
       "      <td>West of USA</td>\n",
       "      <td>East of USA</td>\n",
       "      <td>Eastern Asia</td>\n",
       "      <td>South Asia</td>\n",
       "      <td>West Asia</td>\n",
       "      <td>US Center</td>\n",
       "      <td>Eastern Europe</td>\n",
       "      <td>South of  USA</td>\n",
       "      <td>West Africa</td>\n",
       "      <td>North Africa</td>\n",
       "      <td>Central Africa</td>\n",
       "      <td>East Africa</td>\n",
       "      <td>Canada</td>\n",
       "      <td>Southern Africa</td>\n",
       "      <td>Central Asia</td>\n",
       "    </tr>\n",
       "  </tbody>\n",
       "</table>\n",
       "</div>"
      ],
      "text/plain": [
       "                       0                1              2                3   \\\n",
       "DEBIT     Central America   Western Europe  South America          Oceania   \n",
       "TRANSFER  Central America   Western Europe  South America  Northern Europe   \n",
       "PAYMENT    Western Europe  Central America  South America          Oceania   \n",
       "CASH      Central America   Western Europe  South America  Southern Europe   \n",
       "\n",
       "                       4                5                6             7   \\\n",
       "DEBIT     Northern Europe  Southern Europe   Southeast Asia  West of USA    \n",
       "TRANSFER          Oceania   Southeast Asia  Southern Europe     Caribbean   \n",
       "PAYMENT    Southeast Asia  Northern Europe  Southern Europe     Caribbean   \n",
       "CASH              Oceania  Northern Europe   Southeast Asia     Caribbean   \n",
       "\n",
       "                    8             9             10            11          12  \\\n",
       "DEBIT        Caribbean    South Asia   East of USA  Eastern Asia  US Center    \n",
       "TRANSFER  West of USA     South Asia  Eastern Asia   East of USA   West Asia   \n",
       "PAYMENT     South Asia  Eastern Asia  West of USA    East of USA   West Asia   \n",
       "CASH      West of USA    East of USA  Eastern Asia    South Asia   West Asia   \n",
       "\n",
       "                  13              14              15           16  \\\n",
       "DEBIT      West Asia  Eastern Europe  South of  USA   West Africa   \n",
       "TRANSFER  US Center   South of  USA   Eastern Europe  West Africa   \n",
       "PAYMENT   US Center   South of  USA   Eastern Europe  West Africa   \n",
       "CASH      US Center   Eastern Europe  South of  USA   West Africa   \n",
       "\n",
       "                    17              18              19               20  \\\n",
       "DEBIT     North Africa     East Africa  Central Africa  Southern Africa   \n",
       "TRANSFER  North Africa     East Africa  Central Africa           Canada   \n",
       "PAYMENT   North Africa     East Africa  Central Africa  Southern Africa   \n",
       "CASH      North Africa  Central Africa     East Africa           Canada   \n",
       "\n",
       "                       21            22  \n",
       "DEBIT              Canada  Central Asia  \n",
       "TRANSFER  Southern Africa  Central Asia  \n",
       "PAYMENT            Canada  Central Asia  \n",
       "CASH      Southern Africa  Central Asia  "
      ]
     },
     "execution_count": 100,
     "metadata": {},
     "output_type": "execute_result"
    }
   ],
   "source": [
    "region_stat = pd.DataFrame([type1_region.keys(),type2_region.keys(),type3_region.keys(),type4_region.keys()],\n",
    "                          index=['DEBIT', 'TRANSFER', 'PAYMENT','CASH'])\n",
    "region_stat"
   ]
  },
  {
   "cell_type": "markdown",
   "metadata": {},
   "source": [
    "#### 每种支付方式的地区排列都是不同的"
   ]
  },
  {
   "cell_type": "code",
   "execution_count": 101,
   "metadata": {},
   "outputs": [],
   "source": [
    "### 那怎么改？？？"
   ]
  },
  {
   "cell_type": "markdown",
   "metadata": {},
   "source": [
    "### sns.countplot"
   ]
  },
  {
   "cell_type": "code",
   "execution_count": 102,
   "metadata": {},
   "outputs": [
    {
     "data": {
      "image/png": "[encoded data removed]",
      "text/plain": [
       "<Figure size 1440x864 with 1 Axes>"
      ]
     },
     "metadata": {
      "needs_background": "light"
     },
     "output_type": "display_data"
    }
   ],
   "source": [
    "import seaborn as sns\n",
    "fig,ax = plt.subplots(figsize=(20,12))\n",
    "sns.countplot(x='Order Region', \n",
    "              hue='Type',\n",
    "              data=data,\n",
    "              order=data['Order Region'].value_counts().keys(),      # order 排序，\n",
    "              hue_order=data['Type'].value_counts().keys())          # hue_order 排序\n",
    "plt.xticks(rotation='45')\n",
    "plt.show()"
   ]
  },
  {
   "attachments": {
    "cbdfb6eb-afda-4da1-af76-8f89432f6d6b.png": {
     "image/png": "[encoded data removed]"
    }
   },
   "cell_type": "markdown",
   "metadata": {},
   "source": [
    "### 分析：\n",
    "* 在Central America地区交易次数最多，有钱！\n",
    "* 而DEBIT是所有地区中使用最多的支付方式，现金最少\n",
    "* ![image.png](attachment:cbdfb6eb-afda-4da1-af76-8f89432f6d6b.png)\n",
    "* 分布差不多\n"
   ]
  },
  {
   "cell_type": "markdown",
   "metadata": {},
   "source": [
    "#### 负收益探索"
   ]
  },
  {
   "cell_type": "code",
   "execution_count": 103,
   "metadata": {},
   "outputs": [
    {
     "data": {
      "text/html": [
       "<div>\n",
       "<style scoped>\n",
       "    .dataframe tbody tr th:only-of-type {\n",
       "        vertical-align: middle;\n",
       "    }\n",
       "\n",
       "    .dataframe tbody tr th {\n",
       "        vertical-align: top;\n",
       "    }\n",
       "\n",
       "    .dataframe thead th {\n",
       "        text-align: right;\n",
       "    }\n",
       "</style>\n",
       "<table border=\"1\" class=\"dataframe\">\n",
       "  <thead>\n",
       "    <tr style=\"text-align: right;\">\n",
       "      <th></th>\n",
       "      <th>Type</th>\n",
       "      <th>Days for shipping (real)</th>\n",
       "      <th>Days for shipment (scheduled)</th>\n",
       "      <th>Benefit per order</th>\n",
       "      <th>Sales per customer</th>\n",
       "      <th>Delivery Status</th>\n",
       "      <th>Late_delivery_risk</th>\n",
       "      <th>Category Id</th>\n",
       "      <th>Category Name</th>\n",
       "      <th>Customer City</th>\n",
       "      <th>Customer Country</th>\n",
       "      <th>Customer Fname</th>\n",
       "      <th>Customer Id</th>\n",
       "      <th>Customer Lname</th>\n",
       "      <th>Customer Segment</th>\n",
       "      <th>Customer State</th>\n",
       "      <th>Customer Street</th>\n",
       "      <th>Department Id</th>\n",
       "      <th>Department Name</th>\n",
       "      <th>Latitude</th>\n",
       "      <th>Longitude</th>\n",
       "      <th>Market</th>\n",
       "      <th>Order City</th>\n",
       "      <th>Order Country</th>\n",
       "      <th>order date (DateOrders)</th>\n",
       "      <th>Order Id</th>\n",
       "      <th>Order Item Discount</th>\n",
       "      <th>Order Item Discount Rate</th>\n",
       "      <th>Order Item Profit Ratio</th>\n",
       "      <th>Order Item Quantity</th>\n",
       "      <th>Sales</th>\n",
       "      <th>Order Profit Per Order</th>\n",
       "      <th>Order Region</th>\n",
       "      <th>Order State</th>\n",
       "      <th>Order Status</th>\n",
       "      <th>Product Name</th>\n",
       "      <th>Product Price</th>\n",
       "      <th>shipping date (DateOrders)</th>\n",
       "      <th>Shipping Mode</th>\n",
       "      <th>Customer FullName</th>\n",
       "      <th>order_year</th>\n",
       "      <th>order_month</th>\n",
       "      <th>order_week_day</th>\n",
       "      <th>order_hour</th>\n",
       "      <th>order_month_year</th>\n",
       "      <th>R_Value</th>\n",
       "    </tr>\n",
       "  </thead>\n",
       "  <tbody>\n",
       "    <tr>\n",
       "      <th>1</th>\n",
       "      <td>TRANSFER</td>\n",
       "      <td>5</td>\n",
       "      <td>4</td>\n",
       "      <td>-249.089996</td>\n",
       "      <td>311.359985</td>\n",
       "      <td>Late delivery</td>\n",
       "      <td>1</td>\n",
       "      <td>73</td>\n",
       "      <td>Sporting Goods</td>\n",
       "      <td>Caguas</td>\n",
       "      <td>Puerto Rico</td>\n",
       "      <td>Irene</td>\n",
       "      <td>19492</td>\n",
       "      <td>Luna</td>\n",
       "      <td>Consumer</td>\n",
       "      <td>PR</td>\n",
       "      <td>2679 Rustic Loop</td>\n",
       "      <td>2</td>\n",
       "      <td>Fitness</td>\n",
       "      <td>18.279451</td>\n",
       "      <td>-66.037064</td>\n",
       "      <td>Pacific Asia</td>\n",
       "      <td>Bikaner</td>\n",
       "      <td>India</td>\n",
       "      <td>2018-01-13 12:27:00</td>\n",
       "      <td>75939</td>\n",
       "      <td>16.389999</td>\n",
       "      <td>0.05</td>\n",
       "      <td>-0.80</td>\n",
       "      <td>1</td>\n",
       "      <td>327.75</td>\n",
       "      <td>-249.089996</td>\n",
       "      <td>South Asia</td>\n",
       "      <td>Rajastán</td>\n",
       "      <td>PENDING</td>\n",
       "      <td>Smart watch</td>\n",
       "      <td>327.75</td>\n",
       "      <td>2018-01-18 12:27:00</td>\n",
       "      <td>Standard Class</td>\n",
       "      <td>IreneLuna</td>\n",
       "      <td>2018</td>\n",
       "      <td>1</td>\n",
       "      <td>5</td>\n",
       "      <td>12</td>\n",
       "      <td>2018-01</td>\n",
       "      <td>18</td>\n",
       "    </tr>\n",
       "    <tr>\n",
       "      <th>2</th>\n",
       "      <td>CASH</td>\n",
       "      <td>4</td>\n",
       "      <td>4</td>\n",
       "      <td>-247.779999</td>\n",
       "      <td>309.720001</td>\n",
       "      <td>Shipping on time</td>\n",
       "      <td>0</td>\n",
       "      <td>73</td>\n",
       "      <td>Sporting Goods</td>\n",
       "      <td>San Jose</td>\n",
       "      <td>EE. UU.</td>\n",
       "      <td>Gillian</td>\n",
       "      <td>19491</td>\n",
       "      <td>Maldonado</td>\n",
       "      <td>Consumer</td>\n",
       "      <td>CA</td>\n",
       "      <td>8510 Round Bear Gate</td>\n",
       "      <td>2</td>\n",
       "      <td>Fitness</td>\n",
       "      <td>37.292233</td>\n",
       "      <td>-121.881279</td>\n",
       "      <td>Pacific Asia</td>\n",
       "      <td>Bikaner</td>\n",
       "      <td>India</td>\n",
       "      <td>2018-01-13 12:06:00</td>\n",
       "      <td>75938</td>\n",
       "      <td>18.030001</td>\n",
       "      <td>0.06</td>\n",
       "      <td>-0.80</td>\n",
       "      <td>1</td>\n",
       "      <td>327.75</td>\n",
       "      <td>-247.779999</td>\n",
       "      <td>South Asia</td>\n",
       "      <td>Rajastán</td>\n",
       "      <td>CLOSED</td>\n",
       "      <td>Smart watch</td>\n",
       "      <td>327.75</td>\n",
       "      <td>2018-01-17 12:06:00</td>\n",
       "      <td>Standard Class</td>\n",
       "      <td>GillianMaldonado</td>\n",
       "      <td>2018</td>\n",
       "      <td>1</td>\n",
       "      <td>5</td>\n",
       "      <td>12</td>\n",
       "      <td>2018-01</td>\n",
       "      <td>18</td>\n",
       "    </tr>\n",
       "    <tr>\n",
       "      <th>15</th>\n",
       "      <td>DEBIT</td>\n",
       "      <td>2</td>\n",
       "      <td>1</td>\n",
       "      <td>-259.579987</td>\n",
       "      <td>324.470001</td>\n",
       "      <td>Late delivery</td>\n",
       "      <td>1</td>\n",
       "      <td>73</td>\n",
       "      <td>Sporting Goods</td>\n",
       "      <td>Caguas</td>\n",
       "      <td>Puerto Rico</td>\n",
       "      <td>Sade</td>\n",
       "      <td>19478</td>\n",
       "      <td>Lancaster</td>\n",
       "      <td>Corporate</td>\n",
       "      <td>PR</td>\n",
       "      <td>257 Harvest Close</td>\n",
       "      <td>2</td>\n",
       "      <td>Fitness</td>\n",
       "      <td>18.284050</td>\n",
       "      <td>-66.037056</td>\n",
       "      <td>Pacific Asia</td>\n",
       "      <td>Sangli</td>\n",
       "      <td>India</td>\n",
       "      <td>2018-01-13 07:33:00</td>\n",
       "      <td>75925</td>\n",
       "      <td>3.280000</td>\n",
       "      <td>0.01</td>\n",
       "      <td>-0.80</td>\n",
       "      <td>1</td>\n",
       "      <td>327.75</td>\n",
       "      <td>-259.579987</td>\n",
       "      <td>South Asia</td>\n",
       "      <td>Maharashtra</td>\n",
       "      <td>COMPLETE</td>\n",
       "      <td>Smart watch</td>\n",
       "      <td>327.75</td>\n",
       "      <td>2018-01-15 07:33:00</td>\n",
       "      <td>First Class</td>\n",
       "      <td>SadeLancaster</td>\n",
       "      <td>2018</td>\n",
       "      <td>1</td>\n",
       "      <td>5</td>\n",
       "      <td>7</td>\n",
       "      <td>2018-01</td>\n",
       "      <td>18</td>\n",
       "    </tr>\n",
       "    <tr>\n",
       "      <th>16</th>\n",
       "      <td>PAYMENT</td>\n",
       "      <td>5</td>\n",
       "      <td>2</td>\n",
       "      <td>-246.360001</td>\n",
       "      <td>321.200012</td>\n",
       "      <td>Late delivery</td>\n",
       "      <td>1</td>\n",
       "      <td>73</td>\n",
       "      <td>Sporting Goods</td>\n",
       "      <td>Canovanas</td>\n",
       "      <td>Puerto Rico</td>\n",
       "      <td>Brynne</td>\n",
       "      <td>19477</td>\n",
       "      <td>Giles</td>\n",
       "      <td>Corporate</td>\n",
       "      <td>PR</td>\n",
       "      <td>7342 Hazy Beacon Park</td>\n",
       "      <td>2</td>\n",
       "      <td>Fitness</td>\n",
       "      <td>18.395790</td>\n",
       "      <td>-65.872887</td>\n",
       "      <td>Pacific Asia</td>\n",
       "      <td>Seúl</td>\n",
       "      <td>Corea del Sur</td>\n",
       "      <td>2018-01-13 07:12:00</td>\n",
       "      <td>75924</td>\n",
       "      <td>6.560000</td>\n",
       "      <td>0.02</td>\n",
       "      <td>-0.77</td>\n",
       "      <td>1</td>\n",
       "      <td>327.75</td>\n",
       "      <td>-246.360001</td>\n",
       "      <td>Eastern Asia</td>\n",
       "      <td>Seúl</td>\n",
       "      <td>PENDING_PAYMENT</td>\n",
       "      <td>Smart watch</td>\n",
       "      <td>327.75</td>\n",
       "      <td>2018-01-18 07:12:00</td>\n",
       "      <td>Second Class</td>\n",
       "      <td>BrynneGiles</td>\n",
       "      <td>2018</td>\n",
       "      <td>1</td>\n",
       "      <td>5</td>\n",
       "      <td>7</td>\n",
       "      <td>2018-01</td>\n",
       "      <td>18</td>\n",
       "    </tr>\n",
       "    <tr>\n",
       "      <th>28</th>\n",
       "      <td>DEBIT</td>\n",
       "      <td>3</td>\n",
       "      <td>4</td>\n",
       "      <td>-17.139999</td>\n",
       "      <td>272.029999</td>\n",
       "      <td>Advance shipping</td>\n",
       "      <td>0</td>\n",
       "      <td>73</td>\n",
       "      <td>Sporting Goods</td>\n",
       "      <td>Roseville</td>\n",
       "      <td>EE. UU.</td>\n",
       "      <td>Evelyn</td>\n",
       "      <td>19465</td>\n",
       "      <td>Kelly</td>\n",
       "      <td>Corporate</td>\n",
       "      <td>MI</td>\n",
       "      <td>3931 Gentle Ramp</td>\n",
       "      <td>2</td>\n",
       "      <td>Fitness</td>\n",
       "      <td>41.868862</td>\n",
       "      <td>-84.573654</td>\n",
       "      <td>Pacific Asia</td>\n",
       "      <td>Guilin</td>\n",
       "      <td>China</td>\n",
       "      <td>2018-01-13 03:00:00</td>\n",
       "      <td>75912</td>\n",
       "      <td>55.720001</td>\n",
       "      <td>0.17</td>\n",
       "      <td>-0.06</td>\n",
       "      <td>1</td>\n",
       "      <td>327.75</td>\n",
       "      <td>-17.139999</td>\n",
       "      <td>Eastern Asia</td>\n",
       "      <td>Guangxi</td>\n",
       "      <td>COMPLETE</td>\n",
       "      <td>Smart watch</td>\n",
       "      <td>327.75</td>\n",
       "      <td>2018-01-16 03:00:00</td>\n",
       "      <td>Standard Class</td>\n",
       "      <td>EvelynKelly</td>\n",
       "      <td>2018</td>\n",
       "      <td>1</td>\n",
       "      <td>5</td>\n",
       "      <td>3</td>\n",
       "      <td>2018-01</td>\n",
       "      <td>18</td>\n",
       "    </tr>\n",
       "  </tbody>\n",
       "</table>\n",
       "</div>"
      ],
      "text/plain": [
       "        Type  Days for shipping (real)  Days for shipment (scheduled)  \\\n",
       "1   TRANSFER                         5                              4   \n",
       "2       CASH                         4                              4   \n",
       "15     DEBIT                         2                              1   \n",
       "16   PAYMENT                         5                              2   \n",
       "28     DEBIT                         3                              4   \n",
       "\n",
       "    Benefit per order  Sales per customer   Delivery Status  \\\n",
       "1         -249.089996          311.359985     Late delivery   \n",
       "2         -247.779999          309.720001  Shipping on time   \n",
       "15        -259.579987          324.470001     Late delivery   \n",
       "16        -246.360001          321.200012     Late delivery   \n",
       "28         -17.139999          272.029999  Advance shipping   \n",
       "\n",
       "    Late_delivery_risk  Category Id   Category Name Customer City  \\\n",
       "1                    1           73  Sporting Goods        Caguas   \n",
       "2                    0           73  Sporting Goods      San Jose   \n",
       "15                   1           73  Sporting Goods        Caguas   \n",
       "16                   1           73  Sporting Goods     Canovanas   \n",
       "28                   0           73  Sporting Goods     Roseville   \n",
       "\n",
       "   Customer Country Customer Fname  Customer Id Customer Lname  \\\n",
       "1       Puerto Rico          Irene        19492           Luna   \n",
       "2           EE. UU.        Gillian        19491      Maldonado   \n",
       "15      Puerto Rico           Sade        19478      Lancaster   \n",
       "16      Puerto Rico         Brynne        19477          Giles   \n",
       "28          EE. UU.         Evelyn        19465          Kelly   \n",
       "\n",
       "   Customer Segment Customer State        Customer Street  Department Id  \\\n",
       "1          Consumer             PR       2679 Rustic Loop              2   \n",
       "2          Consumer             CA   8510 Round Bear Gate              2   \n",
       "15        Corporate             PR      257 Harvest Close              2   \n",
       "16        Corporate             PR  7342 Hazy Beacon Park              2   \n",
       "28        Corporate             MI       3931 Gentle Ramp              2   \n",
       "\n",
       "   Department Name   Latitude   Longitude        Market Order City  \\\n",
       "1          Fitness  18.279451  -66.037064  Pacific Asia    Bikaner   \n",
       "2          Fitness  37.292233 -121.881279  Pacific Asia    Bikaner   \n",
       "15         Fitness  18.284050  -66.037056  Pacific Asia     Sangli   \n",
       "16         Fitness  18.395790  -65.872887  Pacific Asia       Seúl   \n",
       "28         Fitness  41.868862  -84.573654  Pacific Asia     Guilin   \n",
       "\n",
       "    Order Country order date (DateOrders)  Order Id  Order Item Discount  \\\n",
       "1           India     2018-01-13 12:27:00     75939            16.389999   \n",
       "2           India     2018-01-13 12:06:00     75938            18.030001   \n",
       "15          India     2018-01-13 07:33:00     75925             3.280000   \n",
       "16  Corea del Sur     2018-01-13 07:12:00     75924             6.560000   \n",
       "28          China     2018-01-13 03:00:00     75912            55.720001   \n",
       "\n",
       "    Order Item Discount Rate  Order Item Profit Ratio  Order Item Quantity  \\\n",
       "1                       0.05                    -0.80                    1   \n",
       "2                       0.06                    -0.80                    1   \n",
       "15                      0.01                    -0.80                    1   \n",
       "16                      0.02                    -0.77                    1   \n",
       "28                      0.17                    -0.06                    1   \n",
       "\n",
       "     Sales  Order Profit Per Order  Order Region  Order State  \\\n",
       "1   327.75             -249.089996    South Asia     Rajastán   \n",
       "2   327.75             -247.779999    South Asia     Rajastán   \n",
       "15  327.75             -259.579987    South Asia  Maharashtra   \n",
       "16  327.75             -246.360001  Eastern Asia         Seúl   \n",
       "28  327.75              -17.139999  Eastern Asia      Guangxi   \n",
       "\n",
       "       Order Status  Product Name  Product Price shipping date (DateOrders)  \\\n",
       "1           PENDING  Smart watch          327.75        2018-01-18 12:27:00   \n",
       "2            CLOSED  Smart watch          327.75        2018-01-17 12:06:00   \n",
       "15         COMPLETE  Smart watch          327.75        2018-01-15 07:33:00   \n",
       "16  PENDING_PAYMENT  Smart watch          327.75        2018-01-18 07:12:00   \n",
       "28         COMPLETE  Smart watch          327.75        2018-01-16 03:00:00   \n",
       "\n",
       "     Shipping Mode Customer FullName  order_year  order_month  order_week_day  \\\n",
       "1   Standard Class         IreneLuna        2018            1               5   \n",
       "2   Standard Class  GillianMaldonado        2018            1               5   \n",
       "15     First Class     SadeLancaster        2018            1               5   \n",
       "16    Second Class       BrynneGiles        2018            1               5   \n",
       "28  Standard Class       EvelynKelly        2018            1               5   \n",
       "\n",
       "    order_hour order_month_year  R_Value  \n",
       "1           12          2018-01       18  \n",
       "2           12          2018-01       18  \n",
       "15           7          2018-01       18  \n",
       "16           7          2018-01       18  \n",
       "28           3          2018-01       18  "
      ]
     },
     "execution_count": 103,
     "metadata": {},
     "output_type": "execute_result"
    }
   ],
   "source": [
    "# 收益为负\n",
    "loss = data[data['Benefit per order'] < 0]\n",
    "loss.head()"
   ]
  },
  {
   "cell_type": "code",
   "execution_count": 104,
   "metadata": {},
   "outputs": [],
   "source": [
    "# Top10的负收益类别？"
   ]
  },
  {
   "cell_type": "code",
   "execution_count": 105,
   "metadata": {},
   "outputs": [
    {
     "data": {
      "image/png": "[encoded data removed]",
      "text/plain": [
       "<Figure size 864x576 with 1 Axes>"
      ]
     },
     "metadata": {
      "needs_background": "light"
     },
     "output_type": "display_data"
    }
   ],
   "source": [
    "# 类别\n",
    "loss_top10_category = loss['Category Name'].value_counts().nlargest(10)\n",
    "loss_top10_category.plot.bar(figsize=(12,8), color='blue', title='Top10 Category in loss')\n",
    "plt.xticks(np.arange(10), loss_top10_category.keys(), rotation=45)\n",
    "plt.xlabel('Category Name')\n",
    "plt.show()"
   ]
  },
  {
   "cell_type": "markdown",
   "metadata": {},
   "source": [
    "* Cleats是最容易出现负收益的产品类型"
   ]
  },
  {
   "cell_type": "markdown",
   "metadata": {},
   "source": [
    "那金额呢，哪个产品损失的总金额更多"
   ]
  },
  {
   "cell_type": "code",
   "execution_count": 106,
   "metadata": {},
   "outputs": [
    {
     "data": {
      "text/plain": [
       "Category Name\n",
       "Fishing                 1.283536e+06\n",
       "Cleats                  8.231231e+05\n",
       "Camping & Hiking        7.769482e+05\n",
       "Cardio Equipment        6.912014e+05\n",
       "Water Sports            5.859708e+05\n",
       "Women's Apparel         5.834000e+05\n",
       "Indoor/Outdoor Games    5.463314e+05\n",
       "Men's Footwear          5.419283e+05\n",
       "Shop By Sport           2.606566e+05\n",
       "Computers               1.095000e+05\n",
       "Name: Sales, dtype: float64"
      ]
     },
     "execution_count": 106,
     "metadata": {},
     "output_type": "execute_result"
    }
   ],
   "source": [
    "loss_amount_category = loss.groupby('Category Name')['Sales'].sum().nlargest(10)\n",
    "loss_amount_category"
   ]
  },
  {
   "cell_type": "code",
   "execution_count": 107,
   "metadata": {},
   "outputs": [
    {
     "data": {
      "image/png": "[encoded data removed]",
      "text/plain": [
       "<Figure size 720x576 with 1 Axes>"
      ]
     },
     "metadata": {
      "needs_background": "light"
     },
     "output_type": "display_data"
    }
   ],
   "source": [
    "loss_amount_category.plot.bar(figsize=(10,8), color='green', title='Top10_loss_amount_category')\n",
    "plt.xticks(rotation=45)\n",
    "plt.show()"
   ]
  },
  {
   "cell_type": "markdown",
   "metadata": {},
   "source": [
    "* 虽然Fishing负收益订单少，但损失的金额多呀，-->单价高！！！"
   ]
  },
  {
   "cell_type": "code",
   "execution_count": 108,
   "metadata": {},
   "outputs": [],
   "source": [
    "# 显示Top10的负收益地区，负收益订单最多的地区"
   ]
  },
  {
   "cell_type": "markdown",
   "metadata": {},
   "source": [
    " 这只是负收益订单笔数"
   ]
  },
  {
   "cell_type": "code",
   "execution_count": 109,
   "metadata": {},
   "outputs": [
    {
     "data": {
      "text/plain": [
       "Central America    5268\n",
       "Western Europe     5104\n",
       "South America      2754\n",
       "Oceania            1944\n",
       "Northern Europe    1809\n",
       "Southeast Asia     1790\n",
       "Southern Europe    1734\n",
       "Caribbean          1566\n",
       "West of USA        1511\n",
       "South Asia         1469\n",
       "Name: Order Region, dtype: int64"
      ]
     },
     "execution_count": 109,
     "metadata": {},
     "output_type": "execute_result"
    }
   ],
   "source": [
    "loss_top10_region = loss['Order Region'].value_counts().nlargest(10)\n",
    "loss_top10_region"
   ]
  },
  {
   "cell_type": "code",
   "execution_count": 110,
   "metadata": {},
   "outputs": [
    {
     "data": {
      "image/png": "[encoded data removed]",
      "text/plain": [
       "<Figure size 864x576 with 1 Axes>"
      ]
     },
     "metadata": {
      "needs_background": "light"
     },
     "output_type": "display_data"
    }
   ],
   "source": [
    "loss_top10_region.plot.bar(figsize=(12,8), title='loss_top10_region')\n",
    "plt.xticks(np.arange(10), loss_top10_region.keys(), rotation=45)\n",
    "plt.xlabel('Region')\n",
    "plt.show()"
   ]
  },
  {
   "cell_type": "code",
   "execution_count": 111,
   "metadata": {},
   "outputs": [
    {
     "data": {
      "text/plain": [
       "6870172.041295439"
      ]
     },
     "execution_count": 111,
     "metadata": {},
     "output_type": "execute_result"
    }
   ],
   "source": [
    "# 总损失\n",
    "loss.Sales.sum()"
   ]
  },
  {
   "cell_type": "code",
   "execution_count": 112,
   "metadata": {},
   "outputs": [
    {
     "data": {
      "text/plain": [
       "-3883547.345768667"
      ]
     },
     "execution_count": 112,
     "metadata": {},
     "output_type": "execute_result"
    }
   ],
   "source": [
    "loss['Benefit per order'].sum()"
   ]
  },
  {
   "cell_type": "code",
   "execution_count": 113,
   "metadata": {},
   "outputs": [],
   "source": [
    "# 对于每个地区总损失的排序呢？钱重要嘛，不是订单数"
   ]
  },
  {
   "cell_type": "markdown",
   "metadata": {},
   "source": [
    " 负收益订单额度"
   ]
  },
  {
   "cell_type": "code",
   "execution_count": 114,
   "metadata": {},
   "outputs": [
    {
     "data": {
      "text/plain": [
       "Order Region\n",
       "Western Europe     1.120912e+06\n",
       "Central America    1.049633e+06\n",
       "South America      5.414282e+05\n",
       "Northern Europe    4.023718e+05\n",
       "Oceania            3.900111e+05\n",
       "Southern Europe    3.764023e+05\n",
       "Southeast Asia     3.519799e+05\n",
       "Caribbean          3.075977e+05\n",
       "South Asia         2.960052e+05\n",
       "West of USA        2.951724e+05\n",
       "Name: Sales, dtype: float64"
      ]
     },
     "execution_count": 114,
     "metadata": {},
     "output_type": "execute_result"
    }
   ],
   "source": [
    "loss_amount_region = loss.groupby('Order Region')['Sales'].sum().nlargest(10)\n",
    "loss_amount_region"
   ]
  },
  {
   "cell_type": "code",
   "execution_count": 115,
   "metadata": {},
   "outputs": [
    {
     "data": {
      "image/png": "[encoded data removed]",
      "text/plain": [
       "<Figure size 864x576 with 1 Axes>"
      ]
     },
     "metadata": {
      "needs_background": "light"
     },
     "output_type": "display_data"
    }
   ],
   "source": [
    "loss_amount_region.plot.bar(figsize=(12,8), color='b', title='Top10_loss_amount_region')\n",
    "plt.xticks(np.arange(10), loss_amount_region.keys(), rotation=45)\n",
    "plt.xlabel('Region')\n",
    "plt.show()"
   ]
  },
  {
   "cell_type": "code",
   "execution_count": 116,
   "metadata": {},
   "outputs": [],
   "source": [
    "# 交易类型"
   ]
  },
  {
   "cell_type": "code",
   "execution_count": 117,
   "metadata": {},
   "outputs": [
    {
     "data": {
      "text/plain": [
       "COMPLETE           59491\n",
       "PENDING_PAYMENT    39832\n",
       "PROCESSING         21902\n",
       "PENDING            20227\n",
       "CLOSED             19616\n",
       "ON_HOLD             9804\n",
       "SUSPECTED_FRAUD     4062\n",
       "CANCELED            3692\n",
       "PAYMENT_REVIEW      1893\n",
       "Name: Order Status, dtype: int64"
      ]
     },
     "execution_count": 117,
     "metadata": {},
     "output_type": "execute_result"
    }
   ],
   "source": [
    "data['Order Status'].value_counts()"
   ]
  },
  {
   "cell_type": "code",
   "execution_count": 118,
   "metadata": {},
   "outputs": [],
   "source": [
    "# 负收益 欺诈交易 哪种支付方式"
   ]
  },
  {
   "cell_type": "code",
   "execution_count": 119,
   "metadata": {},
   "outputs": [
    {
     "data": {
      "text/plain": [
       "TRANSFER    793\n",
       "Name: Type, dtype: int64"
      ]
     },
     "execution_count": 119,
     "metadata": {},
     "output_type": "execute_result"
    }
   ],
   "source": [
    "loss[loss['Order Status'] == 'SUSPECTED_FRAUD']['Type'].value_counts()"
   ]
  },
  {
   "cell_type": "code",
   "execution_count": 120,
   "metadata": {},
   "outputs": [
    {
     "data": {
      "text/plain": [
       "TRANSFER    4062\n",
       "Name: Type, dtype: int64"
      ]
     },
     "execution_count": 120,
     "metadata": {},
     "output_type": "execute_result"
    }
   ],
   "source": [
    "data[data['Order Status'] == 'SUSPECTED_FRAUD']['Type'].value_counts()"
   ]
  },
  {
   "cell_type": "markdown",
   "metadata": {},
   "source": [
    "#### 负收益，欺诈交易的唯一赞助商：Transfer"
   ]
  },
  {
   "cell_type": "code",
   "execution_count": 121,
   "metadata": {},
   "outputs": [],
   "source": [
    "# 不同地区的欺诈交易情况"
   ]
  },
  {
   "cell_type": "code",
   "execution_count": 122,
   "metadata": {},
   "outputs": [
    {
     "data": {
      "text/plain": [
       "Western Europe     140\n",
       "Central America    117\n",
       "South America       62\n",
       "Southern Europe     53\n",
       "Oceania             51\n",
       "West of USA         50\n",
       "Caribbean           43\n",
       "Southeast Asia      34\n",
       "Northern Europe     32\n",
       "West Asia           31\n",
       "Name: Order Region, dtype: int64"
      ]
     },
     "execution_count": 122,
     "metadata": {},
     "output_type": "execute_result"
    }
   ],
   "source": [
    "loss_suspect_region = loss[loss['Order Status'] == 'SUSPECTED_FRAUD']['Order Region'].value_counts().nlargest(10)\n",
    "loss_suspect_region"
   ]
  },
  {
   "cell_type": "code",
   "execution_count": 123,
   "metadata": {},
   "outputs": [],
   "source": [
    "# loss_suspect_region = data[data['Order Status'] == 'SUSPECTED_FRAUD']['Order Region'].value_counts().nlargest(10)\n",
    "# loss_suspect_region"
   ]
  },
  {
   "cell_type": "code",
   "execution_count": 124,
   "metadata": {},
   "outputs": [
    {
     "data": {
      "image/png": "[encoded data removed]",
      "text/plain": [
       "<Figure size 864x576 with 1 Axes>"
      ]
     },
     "metadata": {
      "needs_background": "light"
     },
     "output_type": "display_data"
    }
   ],
   "source": [
    "loss_suspect_region.plot.bar(figsize=(12,8), color='b', title='Top10_loss_suspect_region')\n",
    "plt.xticks(np.arange(10), loss_suspect_region.keys(), rotation=45)\n",
    "plt.xlabel('Region')\n",
    "plt.show()"
   ]
  },
  {
   "cell_type": "markdown",
   "metadata": {},
   "source": [
    "### 是否只有负收益的才存在欺诈呢？"
   ]
  },
  {
   "cell_type": "code",
   "execution_count": 125,
   "metadata": {},
   "outputs": [
    {
     "name": "stdout",
     "output_type": "stream",
     "text": [
      "4062笔欺诈订单中，存在793笔负收益\n"
     ]
    }
   ],
   "source": [
    "fraud_benefit = data[data['Order Status'] == 'SUSPECTED_FRAUD']['Benefit per order']\n",
    "print('{}笔欺诈订单中，存在{}笔负收益'.format(fraud_benefit.shape[0], (fraud_benefit<0).sum()))"
   ]
  },
  {
   "cell_type": "code",
   "execution_count": 126,
   "metadata": {},
   "outputs": [],
   "source": [
    "# 欺诈交易前十的商品类别\n",
    "# 由于...地区欺诈交易最多，因此在一个商品类别中用堆积条形图显示出。。。地区"
   ]
  },
  {
   "cell_type": "markdown",
   "metadata": {},
   "source": [
    "Western Europe"
   ]
  },
  {
   "cell_type": "code",
   "execution_count": 127,
   "metadata": {},
   "outputs": [
    {
     "data": {
      "image/png": "[encoded data removed]",
      "text/plain": [
       "<Figure size 432x288 with 1 Axes>"
      ]
     },
     "metadata": {
      "needs_background": "light"
     },
     "output_type": "display_data"
    }
   ],
   "source": [
    "# 显示欺诈交易最多的\n",
    "fraud = loss[loss['Order Status'] == 'SUSPECTED_FRAUD']\n",
    "fraud_region = loss[(loss['Order Status'] == 'SUSPECTED_FRAUD') & (loss['Order Region']=='Western Europe')]\n",
    "fraud['Category Name'].value_counts().nlargest(10).plot.bar(color='y')\n",
    "fraud_region['Category Name'].value_counts().nlargest(10).plot.bar(color='g')\n",
    "plt.xticks(rotation=45)\n",
    "plt.xlabel('fjakfklaflajlf')\n",
    "plt.show()"
   ]
  },
  {
   "cell_type": "code",
   "execution_count": 128,
   "metadata": {},
   "outputs": [],
   "source": [
    "# 探索Top10 风险客户"
   ]
  },
  {
   "cell_type": "code",
   "execution_count": 129,
   "metadata": {},
   "outputs": [
    {
     "data": {
      "text/plain": [
       "Customer FullName\n",
       "MarySmith         492040.119906\n",
       "JohnSmith          16329.909922\n",
       "RobertSmith        15096.430089\n",
       "JamesSmith         14078.999984\n",
       "JenniferSmith      12314.469988\n",
       "DavidSmith         11920.599983\n",
       "AndrewSmith        11862.719886\n",
       "ElizabethSmith     11587.040039\n",
       "WilliamSmith       10861.869961\n",
       "SamanthaSmith       8549.610013\n",
       "Name: Benefit per order, dtype: float64"
      ]
     },
     "execution_count": 129,
     "metadata": {},
     "output_type": "execute_result"
    }
   ],
   "source": [
    "# 根据用户名聚合，计算负收益中，Benefit per order\n",
    "abs(loss.groupby('Customer FullName')['Benefit per order'].sum()).nlargest(10)"
   ]
  },
  {
   "cell_type": "code",
   "execution_count": 130,
   "metadata": {},
   "outputs": [
    {
     "data": {
      "text/plain": [
       "Customer FullName\n",
       "MarySmith         880883.107128\n",
       "RobertSmith        28124.980511\n",
       "JohnSmith          25733.010449\n",
       "JamesSmith         24699.390564\n",
       "DavidSmith         23289.060406\n",
       "ElizabethSmith     19565.670380\n",
       "WilliamSmith       18383.150396\n",
       "JenniferSmith      17990.710274\n",
       "AndrewSmith        17918.060425\n",
       "MichaelSmith       17289.050339\n",
       "Name: Sales, dtype: float64"
      ]
     },
     "execution_count": 130,
     "metadata": {},
     "output_type": "execute_result"
    }
   ],
   "source": [
    "# 根据用户名聚合，计算负收益中，他们的Sales\n",
    "loss.groupby('Customer FullName')['Sales'].sum().nlargest(10)"
   ]
  },
  {
   "cell_type": "markdown",
   "metadata": {},
   "source": [
    "* Smith好名字"
   ]
  },
  {
   "cell_type": "code",
   "execution_count": 133,
   "metadata": {},
   "outputs": [],
   "source": [
    "data.drop(columns='R_Value', inplace=True)"
   ]
  },
  {
   "cell_type": "code",
   "execution_count": 134,
   "metadata": {},
   "outputs": [],
   "source": [
    "import pickle\n",
    "with open('data.pkl', 'wb') as f:\n",
    "    pickle.dump(data, f)"
   ]
  }
 ],
 "metadata": {
  "kernelspec": {
   "display_name": "Python 3",
   "language": "python",
   "name": "python3"
  },
  "language_info": {
   "codemirror_mode": {
    "name": "ipython",
    "version": 3
   },
   "file_extension": ".py",
   "mimetype": "text/x-python",
   "name": "python",
   "nbconvert_exporter": "python",
   "pygments_lexer": "ipython3",
   "version": "3.7.3"
  }
 },
 "nbformat": 4,
 "nbformat_minor": 4
}
