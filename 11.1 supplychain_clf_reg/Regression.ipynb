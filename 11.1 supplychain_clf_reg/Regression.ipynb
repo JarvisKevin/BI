{
 "cells": [
  {
   "cell_type": "code",
   "execution_count": 1,
   "metadata": {},
   "outputs": [],
   "source": [
    "import pickle\n",
    "import pandas as pd\n",
    "import seaborn as sns\n",
    "import matplotlib.pyplot as plt\n",
    "pd.options.display.max_columns=55"
   ]
  },
  {
   "cell_type": "code",
   "execution_count": 2,
   "metadata": {},
   "outputs": [],
   "source": [
    "with open('data_preprocessed.pkl', 'rb') as f:\n",
    "    data=pickle.load(f)"
   ]
  },
  {
   "cell_type": "code",
   "execution_count": 3,
   "metadata": {},
   "outputs": [
    {
     "data": {
      "text/html": [
       "<div>\n",
       "<style scoped>\n",
       "    .dataframe tbody tr th:only-of-type {\n",
       "        vertical-align: middle;\n",
       "    }\n",
       "\n",
       "    .dataframe tbody tr th {\n",
       "        vertical-align: top;\n",
       "    }\n",
       "\n",
       "    .dataframe thead th {\n",
       "        text-align: right;\n",
       "    }\n",
       "</style>\n",
       "<table border=\"1\" class=\"dataframe\">\n",
       "  <thead>\n",
       "    <tr style=\"text-align: right;\">\n",
       "      <th></th>\n",
       "      <th>Type</th>\n",
       "      <th>Days for shipping (real)</th>\n",
       "      <th>Days for shipment (scheduled)</th>\n",
       "      <th>Benefit per order</th>\n",
       "      <th>Delivery Status</th>\n",
       "      <th>Late_delivery_risk</th>\n",
       "      <th>Category Id</th>\n",
       "      <th>Category Name</th>\n",
       "      <th>Customer City</th>\n",
       "      <th>Customer Country</th>\n",
       "      <th>Customer Id</th>\n",
       "      <th>Customer Lname</th>\n",
       "      <th>Customer Segment</th>\n",
       "      <th>Customer State</th>\n",
       "      <th>Customer Street</th>\n",
       "      <th>Department Id</th>\n",
       "      <th>Department Name</th>\n",
       "      <th>Latitude</th>\n",
       "      <th>Longitude</th>\n",
       "      <th>Market</th>\n",
       "      <th>Order City</th>\n",
       "      <th>Order Country</th>\n",
       "      <th>Order Id</th>\n",
       "      <th>Order Item Discount</th>\n",
       "      <th>Order Item Discount Rate</th>\n",
       "      <th>Order Item Profit Ratio</th>\n",
       "      <th>Order Item Quantity</th>\n",
       "      <th>Sales</th>\n",
       "      <th>Order Region</th>\n",
       "      <th>Order State</th>\n",
       "      <th>Order Status</th>\n",
       "      <th>Product Name</th>\n",
       "      <th>Product Price</th>\n",
       "      <th>Shipping Mode</th>\n",
       "      <th>Customer FullName</th>\n",
       "      <th>order_month</th>\n",
       "      <th>order_week_day</th>\n",
       "      <th>order_hour</th>\n",
       "    </tr>\n",
       "  </thead>\n",
       "  <tbody>\n",
       "    <tr>\n",
       "      <th>0</th>\n",
       "      <td>DEBIT</td>\n",
       "      <td>3</td>\n",
       "      <td>4</td>\n",
       "      <td>91.250000</td>\n",
       "      <td>Advance shipping</td>\n",
       "      <td>0</td>\n",
       "      <td>73</td>\n",
       "      <td>Sporting Goods</td>\n",
       "      <td>Caguas</td>\n",
       "      <td>Puerto Rico</td>\n",
       "      <td>20755</td>\n",
       "      <td>Holloway</td>\n",
       "      <td>Consumer</td>\n",
       "      <td>PR</td>\n",
       "      <td>5365 Noble Nectar Island</td>\n",
       "      <td>2</td>\n",
       "      <td>Fitness</td>\n",
       "      <td>18.251453</td>\n",
       "      <td>-66.037056</td>\n",
       "      <td>Pacific Asia</td>\n",
       "      <td>Bekasi</td>\n",
       "      <td>Indonesia</td>\n",
       "      <td>77202</td>\n",
       "      <td>13.110000</td>\n",
       "      <td>0.04</td>\n",
       "      <td>0.29</td>\n",
       "      <td>1</td>\n",
       "      <td>327.75</td>\n",
       "      <td>Southeast Asia</td>\n",
       "      <td>Java Occidental</td>\n",
       "      <td>COMPLETE</td>\n",
       "      <td>Smart watch</td>\n",
       "      <td>327.75</td>\n",
       "      <td>Standard Class</td>\n",
       "      <td>CallyHolloway</td>\n",
       "      <td>1</td>\n",
       "      <td>2</td>\n",
       "      <td>22</td>\n",
       "    </tr>\n",
       "    <tr>\n",
       "      <th>1</th>\n",
       "      <td>TRANSFER</td>\n",
       "      <td>5</td>\n",
       "      <td>4</td>\n",
       "      <td>-249.089996</td>\n",
       "      <td>Late delivery</td>\n",
       "      <td>1</td>\n",
       "      <td>73</td>\n",
       "      <td>Sporting Goods</td>\n",
       "      <td>Caguas</td>\n",
       "      <td>Puerto Rico</td>\n",
       "      <td>19492</td>\n",
       "      <td>Luna</td>\n",
       "      <td>Consumer</td>\n",
       "      <td>PR</td>\n",
       "      <td>2679 Rustic Loop</td>\n",
       "      <td>2</td>\n",
       "      <td>Fitness</td>\n",
       "      <td>18.279451</td>\n",
       "      <td>-66.037064</td>\n",
       "      <td>Pacific Asia</td>\n",
       "      <td>Bikaner</td>\n",
       "      <td>India</td>\n",
       "      <td>75939</td>\n",
       "      <td>16.389999</td>\n",
       "      <td>0.05</td>\n",
       "      <td>-0.80</td>\n",
       "      <td>1</td>\n",
       "      <td>327.75</td>\n",
       "      <td>South Asia</td>\n",
       "      <td>Rajastán</td>\n",
       "      <td>PENDING</td>\n",
       "      <td>Smart watch</td>\n",
       "      <td>327.75</td>\n",
       "      <td>Standard Class</td>\n",
       "      <td>IreneLuna</td>\n",
       "      <td>1</td>\n",
       "      <td>5</td>\n",
       "      <td>12</td>\n",
       "    </tr>\n",
       "    <tr>\n",
       "      <th>2</th>\n",
       "      <td>CASH</td>\n",
       "      <td>4</td>\n",
       "      <td>4</td>\n",
       "      <td>-247.779999</td>\n",
       "      <td>Shipping on time</td>\n",
       "      <td>0</td>\n",
       "      <td>73</td>\n",
       "      <td>Sporting Goods</td>\n",
       "      <td>San Jose</td>\n",
       "      <td>EE. UU.</td>\n",
       "      <td>19491</td>\n",
       "      <td>Maldonado</td>\n",
       "      <td>Consumer</td>\n",
       "      <td>CA</td>\n",
       "      <td>8510 Round Bear Gate</td>\n",
       "      <td>2</td>\n",
       "      <td>Fitness</td>\n",
       "      <td>37.292233</td>\n",
       "      <td>-121.881279</td>\n",
       "      <td>Pacific Asia</td>\n",
       "      <td>Bikaner</td>\n",
       "      <td>India</td>\n",
       "      <td>75938</td>\n",
       "      <td>18.030001</td>\n",
       "      <td>0.06</td>\n",
       "      <td>-0.80</td>\n",
       "      <td>1</td>\n",
       "      <td>327.75</td>\n",
       "      <td>South Asia</td>\n",
       "      <td>Rajastán</td>\n",
       "      <td>CLOSED</td>\n",
       "      <td>Smart watch</td>\n",
       "      <td>327.75</td>\n",
       "      <td>Standard Class</td>\n",
       "      <td>GillianMaldonado</td>\n",
       "      <td>1</td>\n",
       "      <td>5</td>\n",
       "      <td>12</td>\n",
       "    </tr>\n",
       "    <tr>\n",
       "      <th>3</th>\n",
       "      <td>DEBIT</td>\n",
       "      <td>3</td>\n",
       "      <td>4</td>\n",
       "      <td>22.860001</td>\n",
       "      <td>Advance shipping</td>\n",
       "      <td>0</td>\n",
       "      <td>73</td>\n",
       "      <td>Sporting Goods</td>\n",
       "      <td>Los Angeles</td>\n",
       "      <td>EE. UU.</td>\n",
       "      <td>19490</td>\n",
       "      <td>Tate</td>\n",
       "      <td>Home Office</td>\n",
       "      <td>CA</td>\n",
       "      <td>3200 Amber Bend</td>\n",
       "      <td>2</td>\n",
       "      <td>Fitness</td>\n",
       "      <td>34.125946</td>\n",
       "      <td>-118.291016</td>\n",
       "      <td>Pacific Asia</td>\n",
       "      <td>Townsville</td>\n",
       "      <td>Australia</td>\n",
       "      <td>75937</td>\n",
       "      <td>22.940001</td>\n",
       "      <td>0.07</td>\n",
       "      <td>0.08</td>\n",
       "      <td>1</td>\n",
       "      <td>327.75</td>\n",
       "      <td>Oceania</td>\n",
       "      <td>Queensland</td>\n",
       "      <td>COMPLETE</td>\n",
       "      <td>Smart watch</td>\n",
       "      <td>327.75</td>\n",
       "      <td>Standard Class</td>\n",
       "      <td>TanaTate</td>\n",
       "      <td>1</td>\n",
       "      <td>5</td>\n",
       "      <td>11</td>\n",
       "    </tr>\n",
       "    <tr>\n",
       "      <th>4</th>\n",
       "      <td>PAYMENT</td>\n",
       "      <td>2</td>\n",
       "      <td>4</td>\n",
       "      <td>134.210007</td>\n",
       "      <td>Advance shipping</td>\n",
       "      <td>0</td>\n",
       "      <td>73</td>\n",
       "      <td>Sporting Goods</td>\n",
       "      <td>Caguas</td>\n",
       "      <td>Puerto Rico</td>\n",
       "      <td>19489</td>\n",
       "      <td>Hendricks</td>\n",
       "      <td>Corporate</td>\n",
       "      <td>PR</td>\n",
       "      <td>8671 Iron Anchor Corners</td>\n",
       "      <td>2</td>\n",
       "      <td>Fitness</td>\n",
       "      <td>18.253769</td>\n",
       "      <td>-66.037048</td>\n",
       "      <td>Pacific Asia</td>\n",
       "      <td>Townsville</td>\n",
       "      <td>Australia</td>\n",
       "      <td>75936</td>\n",
       "      <td>29.500000</td>\n",
       "      <td>0.09</td>\n",
       "      <td>0.45</td>\n",
       "      <td>1</td>\n",
       "      <td>327.75</td>\n",
       "      <td>Oceania</td>\n",
       "      <td>Queensland</td>\n",
       "      <td>PENDING_PAYMENT</td>\n",
       "      <td>Smart watch</td>\n",
       "      <td>327.75</td>\n",
       "      <td>Standard Class</td>\n",
       "      <td>OrliHendricks</td>\n",
       "      <td>1</td>\n",
       "      <td>5</td>\n",
       "      <td>11</td>\n",
       "    </tr>\n",
       "  </tbody>\n",
       "</table>\n",
       "</div>"
      ],
      "text/plain": [
       "       Type  Days for shipping (real)  Days for shipment (scheduled)  \\\n",
       "0     DEBIT                         3                              4   \n",
       "1  TRANSFER                         5                              4   \n",
       "2      CASH                         4                              4   \n",
       "3     DEBIT                         3                              4   \n",
       "4   PAYMENT                         2                              4   \n",
       "\n",
       "   Benefit per order   Delivery Status  Late_delivery_risk  Category Id  \\\n",
       "0          91.250000  Advance shipping                   0           73   \n",
       "1        -249.089996     Late delivery                   1           73   \n",
       "2        -247.779999  Shipping on time                   0           73   \n",
       "3          22.860001  Advance shipping                   0           73   \n",
       "4         134.210007  Advance shipping                   0           73   \n",
       "\n",
       "    Category Name Customer City Customer Country  Customer Id Customer Lname  \\\n",
       "0  Sporting Goods        Caguas      Puerto Rico        20755       Holloway   \n",
       "1  Sporting Goods        Caguas      Puerto Rico        19492           Luna   \n",
       "2  Sporting Goods      San Jose          EE. UU.        19491      Maldonado   \n",
       "3  Sporting Goods   Los Angeles          EE. UU.        19490           Tate   \n",
       "4  Sporting Goods        Caguas      Puerto Rico        19489      Hendricks   \n",
       "\n",
       "  Customer Segment Customer State           Customer Street  Department Id  \\\n",
       "0         Consumer             PR  5365 Noble Nectar Island              2   \n",
       "1         Consumer             PR          2679 Rustic Loop              2   \n",
       "2         Consumer             CA      8510 Round Bear Gate              2   \n",
       "3      Home Office             CA           3200 Amber Bend              2   \n",
       "4        Corporate             PR  8671 Iron Anchor Corners              2   \n",
       "\n",
       "  Department Name   Latitude   Longitude        Market  Order City  \\\n",
       "0         Fitness  18.251453  -66.037056  Pacific Asia      Bekasi   \n",
       "1         Fitness  18.279451  -66.037064  Pacific Asia     Bikaner   \n",
       "2         Fitness  37.292233 -121.881279  Pacific Asia     Bikaner   \n",
       "3         Fitness  34.125946 -118.291016  Pacific Asia  Townsville   \n",
       "4         Fitness  18.253769  -66.037048  Pacific Asia  Townsville   \n",
       "\n",
       "  Order Country  Order Id  Order Item Discount  Order Item Discount Rate  \\\n",
       "0     Indonesia     77202            13.110000                      0.04   \n",
       "1         India     75939            16.389999                      0.05   \n",
       "2         India     75938            18.030001                      0.06   \n",
       "3     Australia     75937            22.940001                      0.07   \n",
       "4     Australia     75936            29.500000                      0.09   \n",
       "\n",
       "   Order Item Profit Ratio  Order Item Quantity   Sales    Order Region  \\\n",
       "0                     0.29                    1  327.75  Southeast Asia   \n",
       "1                    -0.80                    1  327.75      South Asia   \n",
       "2                    -0.80                    1  327.75      South Asia   \n",
       "3                     0.08                    1  327.75         Oceania   \n",
       "4                     0.45                    1  327.75         Oceania   \n",
       "\n",
       "       Order State     Order Status  Product Name  Product Price  \\\n",
       "0  Java Occidental         COMPLETE  Smart watch          327.75   \n",
       "1         Rajastán          PENDING  Smart watch          327.75   \n",
       "2         Rajastán           CLOSED  Smart watch          327.75   \n",
       "3       Queensland         COMPLETE  Smart watch          327.75   \n",
       "4       Queensland  PENDING_PAYMENT  Smart watch          327.75   \n",
       "\n",
       "    Shipping Mode Customer FullName  order_month  order_week_day  order_hour  \n",
       "0  Standard Class     CallyHolloway            1               2          22  \n",
       "1  Standard Class         IreneLuna            1               5          12  \n",
       "2  Standard Class  GillianMaldonado            1               5          12  \n",
       "3  Standard Class          TanaTate            1               5          11  \n",
       "4  Standard Class     OrliHendricks            1               5          11  "
      ]
     },
     "execution_count": 3,
     "metadata": {},
     "output_type": "execute_result"
    }
   ],
   "source": [
    "data.head()"
   ]
  },
  {
   "cell_type": "code",
   "execution_count": 4,
   "metadata": {},
   "outputs": [
    {
     "name": "stdout",
     "output_type": "stream",
     "text": [
      "Days for shipping (real) 7\n",
      "Days for shipment (scheduled) 4\n",
      "Benefit per order 21998\n",
      "Late_delivery_risk 2\n",
      "Category Id 51\n",
      "Customer Id 20652\n",
      "Department Id 11\n",
      "Latitude 11250\n",
      "Longitude 4487\n",
      "Order Id 65752\n",
      "Order Item Discount 1017\n",
      "Order Item Discount Rate 18\n",
      "Order Item Profit Ratio 162\n",
      "Order Item Quantity 5\n",
      "Sales 193\n",
      "Product Price 75\n",
      "order_month 12\n",
      "order_week_day 7\n",
      "order_hour 24\n"
     ]
    }
   ],
   "source": [
    "# 查看数值类型的取值\n",
    "# 怎么这么整齐？？？\n",
    "num_cols = data.select_dtypes(exclude='object').columns\n",
    "for col in num_cols:\n",
    "    print(col, len(data[col].value_counts()))"
   ]
  },
  {
   "cell_type": "code",
   "execution_count": 5,
   "metadata": {},
   "outputs": [
    {
     "data": {
      "text/plain": [
       "0.5491610301408716"
      ]
     },
     "execution_count": 5,
     "metadata": {},
     "output_type": "execute_result"
    }
   ],
   "source": [
    "# Sales 和 Product Price是不一样的\n",
    "(data['Sales']==data['Product Price']).sum() / data.shape[0]"
   ]
  },
  {
   "cell_type": "code",
   "execution_count": 6,
   "metadata": {},
   "outputs": [
    {
     "name": "stdout",
     "output_type": "stream",
     "text": [
      "Type 4\n",
      "Delivery Status 4\n",
      "Category Name 50\n",
      "Customer City 563\n",
      "Customer Country 2\n",
      "Customer Lname 1110\n",
      "Customer Segment 3\n",
      "Customer State 46\n",
      "Customer Street 7458\n",
      "Department Name 11\n",
      "Market 5\n",
      "Order City 3597\n",
      "Order Country 164\n",
      "Order Region 23\n",
      "Order State 1089\n",
      "Order Status 9\n",
      "Product Name 118\n",
      "Shipping Mode 4\n",
      "Customer FullName 14033\n",
      "['Type', 'Delivery Status', 'Customer Country', 'Customer Segment', 'Market', 'Shipping Mode']\n",
      "['Category Name', 'Customer City', 'Customer Lname', 'Customer State', 'Customer Street', 'Department Name', 'Order City', 'Order Country', 'Order Region', 'Order State', 'Order Status', 'Product Name', 'Customer FullName']\n"
     ]
    }
   ],
   "source": [
    "# 查看object type的特征有几种取值\n",
    "one_hot_cols = []                         # 取值少于5的做one hot encode\n",
    "label_encode_cols = []                    # 否则 label encode\n",
    "for i in data.select_dtypes('object').columns:\n",
    "    value_ = len(data[i].value_counts())\n",
    "    if value_ <= 5:\n",
    "        one_hot_cols.append(i)\n",
    "    else :\n",
    "        label_encode_cols.append(i)\n",
    "    print(i, value_)\n",
    "print(one_hot_cols)\n",
    "print(label_encode_cols)"
   ]
  },
  {
   "cell_type": "code",
   "execution_count": 7,
   "metadata": {},
   "outputs": [],
   "source": [
    "def col_split(data):\n",
    "    # 数字类型和类别类型\n",
    "    num_cols = data.select_dtypes(exclude='object').columns.tolist()\n",
    "\n",
    "    one_hot_cols = []                         # 取值少于5的做one hot encode\n",
    "    label_encode_cols = []                    # 否则 label encode\n",
    "    for i in data.select_dtypes('object').columns:\n",
    "        value_ = len(data[i].value_counts())\n",
    "        if value_ <= 5:\n",
    "            one_hot_cols.append(i)\n",
    "        else :\n",
    "            label_encode_cols.append(i)\n",
    "    return num_cols, label_encode_cols, one_hot_cols"
   ]
  },
  {
   "cell_type": "markdown",
   "metadata": {},
   "source": [
    "#### 销量预测 字段Sales"
   ]
  },
  {
   "cell_type": "code",
   "execution_count": 8,
   "metadata": {},
   "outputs": [
    {
     "data": {
      "text/plain": [
       "Index(['Type', 'Days for shipping (real)', 'Days for shipment (scheduled)',\n",
       "       'Benefit per order', 'Delivery Status', 'Late_delivery_risk',\n",
       "       'Category Id', 'Category Name', 'Customer City', 'Customer Country',\n",
       "       'Customer Id', 'Customer Lname', 'Customer Segment', 'Customer State',\n",
       "       'Customer Street', 'Department Id', 'Department Name', 'Latitude',\n",
       "       'Longitude', 'Market', 'Order City', 'Order Country', 'Order Id',\n",
       "       'Order Item Discount', 'Order Item Discount Rate',\n",
       "       'Order Item Profit Ratio', 'Order Item Quantity', 'Sales',\n",
       "       'Order Region', 'Order State', 'Order Status', 'Product Name',\n",
       "       'Product Price', 'Shipping Mode', 'Customer FullName', 'order_month',\n",
       "       'order_week_day', 'order_hour'],\n",
       "      dtype='object')"
      ]
     },
     "execution_count": 8,
     "metadata": {},
     "output_type": "execute_result"
    }
   ],
   "source": [
    "data.columns"
   ]
  },
  {
   "cell_type": "code",
   "execution_count": 9,
   "metadata": {},
   "outputs": [],
   "source": [
    "sales_x = data.loc[:, data.columns != 'Sales']\n",
    "sales_y = data['Sales']"
   ]
  },
  {
   "cell_type": "code",
   "execution_count": 10,
   "metadata": {},
   "outputs": [
    {
     "data": {
      "text/plain": [
       "((180519, 37), (180519,))"
      ]
     },
     "execution_count": 10,
     "metadata": {},
     "output_type": "execute_result"
    }
   ],
   "source": [
    "sales_x.shape, sales_y.shape"
   ]
  },
  {
   "cell_type": "markdown",
   "metadata": {},
   "source": [
    "##### 订单数量预测 Order Item Quantity"
   ]
  },
  {
   "cell_type": "code",
   "execution_count": 11,
   "metadata": {},
   "outputs": [],
   "source": [
    "quantity_x = data.loc[:, data.columns != 'Order Item Quantity']\n",
    "quantity_y = data['Order Item Quantity']"
   ]
  },
  {
   "cell_type": "code",
   "execution_count": 12,
   "metadata": {},
   "outputs": [
    {
     "data": {
      "text/plain": [
       "((180519, 37), (180519,))"
      ]
     },
     "execution_count": 12,
     "metadata": {},
     "output_type": "execute_result"
    }
   ],
   "source": [
    "quantity_x.shape, quantity_y.shape"
   ]
  },
  {
   "cell_type": "markdown",
   "metadata": {},
   "source": [
    "#### 预处理"
   ]
  },
  {
   "cell_type": "code",
   "execution_count": 13,
   "metadata": {},
   "outputs": [],
   "source": [
    "from sklearn.preprocessing import MinMaxScaler, LabelEncoder\n",
    "\n",
    "def data_scale(data, label_encode_cols, num_cols):\n",
    "    for i in label_encode_cols:\n",
    "        lbe = LabelEncoder()\n",
    "        data[i] = lbe.fit_transform(data[i])\n",
    "\n",
    "    mns = MinMaxScaler()\n",
    "    data[num_cols] = mns.fit_transform(data[num_cols])\n",
    "\n",
    "    ## 剩下的，get_dummies\n",
    "    data = pd.get_dummies(data)\n",
    "    return data"
   ]
  },
  {
   "cell_type": "markdown",
   "metadata": {},
   "source": [
    "#### 思考：做完labelencode后需不需要scaler???FullName有一万多种类，那量纲相对于数值类型(已做归一化)的就相差很大。"
   ]
  },
  {
   "cell_type": "code",
   "execution_count": 14,
   "metadata": {},
   "outputs": [],
   "source": [
    "# def data_scale_(data, label_encode_cols, num_cols):\n",
    "#     for i in label_encode_cols:\n",
    "#         lbe = LabelEncoder()\n",
    "#         data[i] = lbe.fit_transform(data[i])\n",
    "    \n",
    "#     #### label_encode_cols也做minmaxscale\n",
    "#     num_cols.extend(label_encode_cols)\n",
    "    \n",
    "#     mns = MinMaxScaler()\n",
    "#     data[num_cols] = mns.fit_transform(data[num_cols])\n",
    "\n",
    "#     ## 剩下的，get_dummies\n",
    "#     data = pd.get_dummies(data)\n",
    "#     return data\n",
    "\n",
    "# 效果不太好"
   ]
  },
  {
   "cell_type": "code",
   "execution_count": 15,
   "metadata": {},
   "outputs": [
    {
     "name": "stderr",
     "output_type": "stream",
     "text": [
      "d:\\python\\lib\\site-packages\\ipykernel_launcher.py:6: SettingWithCopyWarning: \n",
      "A value is trying to be set on a copy of a slice from a DataFrame.\n",
      "Try using .loc[row_indexer,col_indexer] = value instead\n",
      "\n",
      "See the caveats in the documentation: https://pandas.pydata.org/pandas-docs/stable/user_guide/indexing.html#returning-a-view-versus-a-copy\n",
      "  \n",
      "d:\\python\\lib\\site-packages\\ipykernel_launcher.py:9: SettingWithCopyWarning: \n",
      "A value is trying to be set on a copy of a slice from a DataFrame.\n",
      "Try using .loc[row_indexer,col_indexer] = value instead\n",
      "\n",
      "See the caveats in the documentation: https://pandas.pydata.org/pandas-docs/stable/user_guide/indexing.html#returning-a-view-versus-a-copy\n",
      "  if __name__ == '__main__':\n",
      "d:\\python\\lib\\site-packages\\pandas\\core\\indexing.py:1736: SettingWithCopyWarning: \n",
      "A value is trying to be set on a copy of a slice from a DataFrame.\n",
      "Try using .loc[row_indexer,col_indexer] = value instead\n",
      "\n",
      "See the caveats in the documentation: https://pandas.pydata.org/pandas-docs/stable/user_guide/indexing.html#returning-a-view-versus-a-copy\n",
      "  isetter(loc, value[:, i].tolist())\n",
      "d:\\python\\lib\\site-packages\\ipykernel_launcher.py:6: SettingWithCopyWarning: \n",
      "A value is trying to be set on a copy of a slice from a DataFrame.\n",
      "Try using .loc[row_indexer,col_indexer] = value instead\n",
      "\n",
      "See the caveats in the documentation: https://pandas.pydata.org/pandas-docs/stable/user_guide/indexing.html#returning-a-view-versus-a-copy\n",
      "  \n",
      "d:\\python\\lib\\site-packages\\ipykernel_launcher.py:9: SettingWithCopyWarning: \n",
      "A value is trying to be set on a copy of a slice from a DataFrame.\n",
      "Try using .loc[row_indexer,col_indexer] = value instead\n",
      "\n",
      "See the caveats in the documentation: https://pandas.pydata.org/pandas-docs/stable/user_guide/indexing.html#returning-a-view-versus-a-copy\n",
      "  if __name__ == '__main__':\n",
      "d:\\python\\lib\\site-packages\\pandas\\core\\indexing.py:1736: SettingWithCopyWarning: \n",
      "A value is trying to be set on a copy of a slice from a DataFrame.\n",
      "Try using .loc[row_indexer,col_indexer] = value instead\n",
      "\n",
      "See the caveats in the documentation: https://pandas.pydata.org/pandas-docs/stable/user_guide/indexing.html#returning-a-view-versus-a-copy\n",
      "  isetter(loc, value[:, i].tolist())\n"
     ]
    }
   ],
   "source": [
    "num_cols, label_encode_cols, one_hot_cols = col_split(data=sales_x)\n",
    "sales_x = data_scale(sales_x, label_encode_cols=label_encode_cols, num_cols=num_cols)\n",
    "\n",
    "num_cols, label_encode_cols, one_hot_cols = col_split(data=quantity_x)\n",
    "quantity_x = data_scale(quantity_x, label_encode_cols=label_encode_cols, num_cols=num_cols)"
   ]
  },
  {
   "cell_type": "markdown",
   "metadata": {},
   "source": [
    "#### 回归用不了StratifiedKFold"
   ]
  },
  {
   "cell_type": "code",
   "execution_count": 16,
   "metadata": {},
   "outputs": [],
   "source": [
    "from sklearn.model_selection import train_test_split, KFold\n",
    "from sklearn.metrics import classification_report, mean_squared_error, mean_absolute_error\n",
    "\n",
    "# 切分训练集和测试集\n",
    "# 将训练集再利用KFold切分成训练集和验证集，得到K个模型，并分别对测试集进行预测，以各模型的mse设置K个模型的权重\n",
    "\n",
    "def training(model, data, label, n):\n",
    "    prediction=[]\n",
    "    mae_list = []\n",
    "    # 切分训练集测试集\n",
    "    x_train, x_test, y_train, y_test = train_test_split(data,label,test_size=0.2)\n",
    "    \n",
    "     # 用Kfold验证，并根据mse进行模型融合\n",
    "    kf = KFold(n_splits=5)\n",
    "    for train_index, val_index in kf.split(x_train):\n",
    "        train_x, val_x = x_train.iloc[train_index], x_train.iloc[val_index]\n",
    "        train_y, val_y = y_train.iloc[train_index], y_train.iloc[val_index]\n",
    "        # 模型训练\n",
    "        model.fit(train_x, train_y)\n",
    "        # 验证\n",
    "        y_pred = model.predict(val_x)\n",
    "        mae = mean_absolute_error(val_y, y_pred)\n",
    "        mae_list.append(mae) # 根据验证集得到每个模型的权重(基于mse)\n",
    "        \n",
    "        # 模型预测\n",
    "        pred = model.predict(x_test)\n",
    "        prediction.append(pred)\n",
    "\n",
    "    # 均分。     根据mse进行模型融合还要学习\n",
    "    w = 1/5\n",
    "    prediction =  sum(prediction) * w      # [(1-mae_list[i]/sum(mae_list))*prediction[i] for i in range(n)]\n",
    "    #print(prediction)\n",
    "\n",
    "    print('MAE:',mean_absolute_error(y_test, prediction))  \n",
    "    print('RMSE:', mean_squared_error(y_test, prediction)**0.5)\n",
    "\n",
    "    ## 全量\n",
    "#     model.fit(x_train, y_train)\n",
    "#     prediction = model.predict(x_test)\n",
    "#     print('MAE:',mean_absolute_error(y_test, prediction))  \n",
    "#     print('RMSE:', mean_squared_error(y_test, prediction)**0.5)\n",
    "\n",
    "    return None"
   ]
  },
  {
   "cell_type": "code",
   "execution_count": 17,
   "metadata": {},
   "outputs": [
    {
     "name": "stdout",
     "output_type": "stream",
     "text": [
      "Sales Prediction!!!\n",
      "MAE: 0.0110378864053228\n",
      "RMSE: 0.11830005272842355\n",
      "Quantity Prediction!!!\n",
      "MAE: 3.3884218638259715e-05\n",
      "RMSE: 0.00017499026575619006\n"
     ]
    }
   ],
   "source": [
    "from xgboost import XGBRegressor\n",
    "xgb_reg = XGBRegressor()\n",
    "print('Sales Prediction!!!')\n",
    "training(xgb_reg, sales_x, sales_y, n=5)\n",
    "print('Quantity Prediction!!!')\n",
    "training(xgb_reg, quantity_x, quantity_y, n=5)"
   ]
  },
  {
   "cell_type": "code",
   "execution_count": null,
   "metadata": {},
   "outputs": [],
   "source": [
    "\n",
    "\n"
   ]
  }
 ],
 "metadata": {
  "kernelspec": {
   "display_name": "Python 3",
   "language": "python",
   "name": "python3"
  },
  "language_info": {
   "codemirror_mode": {
    "name": "ipython",
    "version": 3
   },
   "file_extension": ".py",
   "mimetype": "text/x-python",
   "name": "python",
   "nbconvert_exporter": "python",
   "pygments_lexer": "ipython3",
   "version": "3.7.3"
  }
 },
 "nbformat": 4,
 "nbformat_minor": 4
}
