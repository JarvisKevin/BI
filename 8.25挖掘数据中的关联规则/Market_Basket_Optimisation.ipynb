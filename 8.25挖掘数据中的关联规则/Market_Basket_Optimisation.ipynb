{
 "cells": [
  {
   "cell_type": "code",
   "execution_count": 1,
   "metadata": {},
   "outputs": [],
   "source": [
    "import pandas as pd"
   ]
  },
  {
   "cell_type": "code",
   "execution_count": 2,
   "metadata": {},
   "outputs": [
    {
     "data": {
      "text/html": [
       "<div>\n",
       "<style scoped>\n",
       "    .dataframe tbody tr th:only-of-type {\n",
       "        vertical-align: middle;\n",
       "    }\n",
       "\n",
       "    .dataframe tbody tr th {\n",
       "        vertical-align: top;\n",
       "    }\n",
       "\n",
       "    .dataframe thead th {\n",
       "        text-align: right;\n",
       "    }\n",
       "</style>\n",
       "<table border=\"1\" class=\"dataframe\">\n",
       "  <thead>\n",
       "    <tr style=\"text-align: right;\">\n",
       "      <th></th>\n",
       "      <th>0</th>\n",
       "    </tr>\n",
       "  </thead>\n",
       "  <tbody>\n",
       "    <tr>\n",
       "      <th>0</th>\n",
       "      <td>shrimp,almonds,avocado,vegetables mix,green gr...</td>\n",
       "    </tr>\n",
       "    <tr>\n",
       "      <th>1</th>\n",
       "      <td>burgers,meatballs,eggs</td>\n",
       "    </tr>\n",
       "    <tr>\n",
       "      <th>2</th>\n",
       "      <td>chutney</td>\n",
       "    </tr>\n",
       "    <tr>\n",
       "      <th>3</th>\n",
       "      <td>turkey,avocado</td>\n",
       "    </tr>\n",
       "    <tr>\n",
       "      <th>4</th>\n",
       "      <td>mineral water,milk,energy bar,whole wheat rice...</td>\n",
       "    </tr>\n",
       "    <tr>\n",
       "      <th>...</th>\n",
       "      <td>...</td>\n",
       "    </tr>\n",
       "    <tr>\n",
       "      <th>7496</th>\n",
       "      <td>butter,light mayo,fresh bread</td>\n",
       "    </tr>\n",
       "    <tr>\n",
       "      <th>7497</th>\n",
       "      <td>burgers,frozen vegetables,eggs,french fries,ma...</td>\n",
       "    </tr>\n",
       "    <tr>\n",
       "      <th>7498</th>\n",
       "      <td>chicken</td>\n",
       "    </tr>\n",
       "    <tr>\n",
       "      <th>7499</th>\n",
       "      <td>escalope,green tea</td>\n",
       "    </tr>\n",
       "    <tr>\n",
       "      <th>7500</th>\n",
       "      <td>eggs,frozen smoothie,yogurt cake,low fat yogurt</td>\n",
       "    </tr>\n",
       "  </tbody>\n",
       "</table>\n",
       "<p>7501 rows × 1 columns</p>\n",
       "</div>"
      ],
      "text/plain": [
       "                                                      0\n",
       "0     shrimp,almonds,avocado,vegetables mix,green gr...\n",
       "1                                burgers,meatballs,eggs\n",
       "2                                               chutney\n",
       "3                                        turkey,avocado\n",
       "4     mineral water,milk,energy bar,whole wheat rice...\n",
       "...                                                 ...\n",
       "7496                      butter,light mayo,fresh bread\n",
       "7497  burgers,frozen vegetables,eggs,french fries,ma...\n",
       "7498                                            chicken\n",
       "7499                                 escalope,green tea\n",
       "7500    eggs,frozen smoothie,yogurt cake,low fat yogurt\n",
       "\n",
       "[7501 rows x 1 columns]"
      ]
     },
     "execution_count": 2,
     "metadata": {},
     "output_type": "execute_result"
    }
   ],
   "source": [
    "# 读取数据，制表符'\\t'作为分割符\n",
    "data = pd.read_csv('Market_Basket_Optimisation.csv',header=None,sep='\\t')\n",
    "data"
   ]
  },
  {
   "cell_type": "code",
   "execution_count": 3,
   "metadata": {},
   "outputs": [],
   "source": [
    "def rule1():\n",
    "    print('利用efficient apriori挖掘频繁项集')\n",
    "    from efficient_apriori import apriori as effi_apriori\n",
    "    \n",
    "    transaction_for_effi_apriori = list(data[0].str.split(','))      # 转换transaction列表\n",
    "    \n",
    "    effi_itemsets, effi_rules = effi_apriori(transaction_for_effi_apriori, min_support=0.05, min_confidence=0.05)\n",
    "    print('-'*20, '频繁项集', '-'*20)\n",
    "    print(effi_itemsets)\n",
    "    print('-'*20, '关联规则', '-'*20)\n",
    "    print(effi_rules)"
   ]
  },
  {
   "cell_type": "code",
   "execution_count": 4,
   "metadata": {},
   "outputs": [],
   "source": [
    "def rule2():\n",
    "    print('利用mlxtend.frequent_patterns的apriori挖掘频繁项集')\n",
    "    from mlxtend.frequent_patterns import apriori as fp_apriori, association_rules\n",
    "    \n",
    "    transaction_for_fp_apriori = data[0].str.get_dummies(sep=',')    # 转换成onehot形式的transaction列表\n",
    "    \n",
    "    fp_itemsets = fp_apriori(transaction_for_fp_apriori, min_support=0.05, use_colnames=True)\n",
    "    fp_itemsets = fp_itemsets.sort_values(by='support', ascending=False)\n",
    "    fp_rules = association_rules(fp_itemsets, metric='lift', min_threshold=1.1)\n",
    "    fp_rules = fp_rules.sort_values(by='lift', ascending=False)\n",
    "    print('-'*20, '频繁项集', '-'*20)\n",
    "    print(fp_itemsets)\n",
    "    print('-'*20, '关联规则', '-'*20)\n",
    "    print(fp_rules)"
   ]
  },
  {
   "cell_type": "code",
   "execution_count": 5,
   "metadata": {},
   "outputs": [
    {
     "name": "stdout",
     "output_type": "stream",
     "text": [
      "利用efficient apriori挖掘频繁项集\n",
      "-------------------- 频繁项集 --------------------\n",
      "{1: {('mineral water',): 1788, ('shrimp',): 536, ('green tea',): 991, ('olive oil',): 494, ('frozen smoothie',): 475, ('low fat yogurt',): 574, ('eggs',): 1348, ('burgers',): 654, ('turkey',): 469, ('milk',): 972, ('whole wheat rice',): 439, ('french fries',): 1282, ('soup',): 379, ('frozen vegetables',): 715, ('spaghetti',): 1306, ('cookies',): 603, ('cooking oil',): 383, ('chocolate',): 1229, ('chicken',): 450, ('tomatoes',): 513, ('pancakes',): 713, ('grated cheese',): 393, ('ground beef',): 737, ('escalope',): 595, ('cake',): 608}, 2: {('eggs', 'mineral water'): 382, ('mineral water', 'spaghetti'): 448, ('chocolate', 'mineral water'): 395}}\n",
      "-------------------- 关联规则 --------------------\n",
      "[{mineral water} -> {eggs}, {eggs} -> {mineral water}, {spaghetti} -> {mineral water}, {mineral water} -> {spaghetti}, {mineral water} -> {chocolate}, {chocolate} -> {mineral water}]\n"
     ]
    }
   ],
   "source": [
    "rule1()"
   ]
  },
  {
   "cell_type": "code",
   "execution_count": 6,
   "metadata": {},
   "outputs": [
    {
     "name": "stdout",
     "output_type": "stream",
     "text": [
      "利用mlxtend.frequent_patterns的apriori挖掘频繁项集\n",
      "-------------------- 频繁项集 --------------------\n",
      "     support                    itemsets\n",
      "16  0.238368             (mineral water)\n",
      "6   0.179709                      (eggs)\n",
      "21  0.174110                 (spaghetti)\n",
      "8   0.170911              (french fries)\n",
      "3   0.163845                 (chocolate)\n",
      "12  0.132116                 (green tea)\n",
      "15  0.129583                      (milk)\n",
      "13  0.098254               (ground beef)\n",
      "10  0.095321         (frozen vegetables)\n",
      "18  0.095054                  (pancakes)\n",
      "0   0.087188                   (burgers)\n",
      "1   0.081056                      (cake)\n",
      "4   0.080389                   (cookies)\n",
      "7   0.079323                  (escalope)\n",
      "14  0.076523            (low fat yogurt)\n",
      "19  0.071457                    (shrimp)\n",
      "22  0.068391                  (tomatoes)\n",
      "17  0.065858                 (olive oil)\n",
      "9   0.063325           (frozen smoothie)\n",
      "23  0.062525                    (turkey)\n",
      "2   0.059992                   (chicken)\n",
      "27  0.059725  (spaghetti, mineral water)\n",
      "24  0.058526          (whole wheat rice)\n",
      "25  0.052660  (chocolate, mineral water)\n",
      "11  0.052393             (grated cheese)\n",
      "5   0.051060               (cooking oil)\n",
      "26  0.050927       (eggs, mineral water)\n",
      "20  0.050527                      (soup)\n",
      "-------------------- 关联规则 --------------------\n",
      "       antecedents      consequents  antecedent support  consequent support  \\\n",
      "0      (spaghetti)  (mineral water)            0.174110            0.238368   \n",
      "1  (mineral water)      (spaghetti)            0.238368            0.174110   \n",
      "2      (chocolate)  (mineral water)            0.163845            0.238368   \n",
      "3  (mineral water)      (chocolate)            0.238368            0.163845   \n",
      "4           (eggs)  (mineral water)            0.179709            0.238368   \n",
      "5  (mineral water)           (eggs)            0.238368            0.179709   \n",
      "\n",
      "    support  confidence      lift  leverage  conviction  \n",
      "0  0.059725    0.343032  1.439085  0.018223    1.159314  \n",
      "1  0.059725    0.250559  1.439085  0.018223    1.102008  \n",
      "2  0.052660    0.321400  1.348332  0.013604    1.122357  \n",
      "3  0.052660    0.220917  1.348332  0.013604    1.073256  \n",
      "4  0.050927    0.283383  1.188845  0.008090    1.062815  \n",
      "5  0.050927    0.213647  1.188845  0.008090    1.043158  \n"
     ]
    }
   ],
   "source": [
    "rule2()"
   ]
  }
 ],
 "metadata": {
  "kernelspec": {
   "display_name": "Python 3",
   "language": "python",
   "name": "python3"
  },
  "language_info": {
   "codemirror_mode": {
    "name": "ipython",
    "version": 3
   },
   "file_extension": ".py",
   "mimetype": "text/x-python",
   "name": "python",
   "nbconvert_exporter": "python",
   "pygments_lexer": "ipython3",
   "version": "3.6.8rc1"
  }
 },
 "nbformat": 4,
 "nbformat_minor": 4
}
