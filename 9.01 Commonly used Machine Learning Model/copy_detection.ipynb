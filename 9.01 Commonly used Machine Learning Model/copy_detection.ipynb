{
 "cells": [
  {
   "cell_type": "markdown",
   "metadata": {},
   "source": [
    "### 文本抄袭自动检测分析:\n",
    "#### 如果你是某新闻单位工作人员（这里假设source=新华社），为了防止其他媒体抄袭你的文章，你打算做一个抄袭自动检测分析的工具\n",
    "#### 1）定义可能抄袭的文章来源\n",
    "#### 2）与原文对比定位抄袭的地方\n",
    "#### 原始数据：sqlResult.csv，共计89611篇\n",
    "#### 从数据库导出的文章，字段包括：id, author, source, content, feature, title, url\n",
    "#### 常用中文停用词：chinese_stopwords.txt"
   ]
  },
  {
   "cell_type": "code",
   "execution_count": 1,
   "metadata": {},
   "outputs": [],
   "source": [
    "import pandas as pd\n",
    "import jieba\n",
    "import matplotlib.pyplot as plt"
   ]
  },
  {
   "cell_type": "code",
   "execution_count": 2,
   "metadata": {},
   "outputs": [
    {
     "data": {
      "text/plain": [
       "(89611, 7)"
      ]
     },
     "execution_count": 2,
     "metadata": {},
     "output_type": "execute_result"
    }
   ],
   "source": [
    "# 数据读取\n",
    "news = pd.read_csv('sqlResult.csv', encoding='gb18030')\n",
    "news.shape"
   ]
  },
  {
   "cell_type": "code",
   "execution_count": 3,
   "metadata": {},
   "outputs": [
    {
     "data": {
      "text/plain": [
       "(87052, 7)"
      ]
     },
     "execution_count": 3,
     "metadata": {},
     "output_type": "execute_result"
    }
   ],
   "source": [
    "# 去除source 和content 相关的缺失值\n",
    "news.dropna(subset=['content','source'], axis=0, inplace=True)\n",
    "news.shape"
   ]
  },
  {
   "cell_type": "code",
   "execution_count": 4,
   "metadata": {},
   "outputs": [],
   "source": [
    "# 停用词列表\n",
    "stopwords = open('chinese_stopwords.txt', mode='r', encoding='utf-8').read() \n",
    "stopwords_list = stopwords.split('\\n')"
   ]
  },
  {
   "cell_type": "code",
   "execution_count": 5,
   "metadata": {},
   "outputs": [],
   "source": [
    "def split_word(text):\n",
    "    '''\n",
    "    输入text:str。每一条新闻报道\n",
    "    输出result:str。分词后的结果\n",
    "    1. 先将初级的' ' '\\n' '\\r'去掉\n",
    "    2. 再做jieba分词\n",
    "    3. 利用停用词筛选\n",
    "    '''\n",
    "    text = text.replace(' ', '').replace('\\\\n', '').replace('\\n', '').replace('\\r', '')\n",
    "    result = ' '.join(str(word) for word in jieba.lcut(text) if str(word) not in stopwords_list)\n",
    "    return result"
   ]
  },
  {
   "cell_type": "code",
   "execution_count": 6,
   "metadata": {},
   "outputs": [
    {
     "name": "stderr",
     "output_type": "stream",
     "text": [
      "Building prefix dict from the default dictionary ...\n",
      "Loading model from cache C:\\Users\\Jarvis\\AppData\\Local\\Temp\\jieba.cache\n",
      "Loading model cost 0.634 seconds.\n",
      "Prefix dict has been built successfully.\n"
     ]
    }
   ],
   "source": [
    "# 对全量样本进行分词\n",
    "corpus = list(map(split_word, news.content))"
   ]
  },
  {
   "cell_type": "code",
   "execution_count": 7,
   "metadata": {},
   "outputs": [],
   "source": [
    "# TFIDF\n",
    "from sklearn.feature_extraction.text import TfidfTransformer, CountVectorizer\n",
    "countvectorizer = CountVectorizer(encoding='gb18030', min_df=0.015)\n",
    "tfidftransformer = TfidfTransformer()\n",
    "countvector = countvectorizer.fit_transform(corpus)\n",
    "tfidf = tfidftransformer.fit_transform(countvector)"
   ]
  },
  {
   "cell_type": "code",
   "execution_count": 8,
   "metadata": {},
   "outputs": [
    {
     "data": {
      "text/plain": [
       "87052"
      ]
     },
     "execution_count": 8,
     "metadata": {},
     "output_type": "execute_result"
    }
   ],
   "source": [
    "# 新华社label\n",
    "label = list(map(lambda source: 1 if '新华社' in str(source) else 0, news.source))\n",
    "len(label)"
   ]
  },
  {
   "cell_type": "markdown",
   "metadata": {},
   "source": [
    "#### 利用分类完成抄袭检查"
   ]
  },
  {
   "cell_type": "code",
   "execution_count": 9,
   "metadata": {},
   "outputs": [],
   "source": [
    "from sklearn.model_selection import train_test_split\n",
    "from sklearn.metrics import accuracy_score, precision_score, recall_score\n",
    "from sklearn.tree import DecisionTreeClassifier\n",
    "from sklearn.naive_bayes import MultinomialNB"
   ]
  },
  {
   "cell_type": "code",
   "execution_count": 10,
   "metadata": {},
   "outputs": [],
   "source": [
    "# 数据集切分\n",
    "x_train, x_test, y_train, y_test = train_test_split(tfidf.toarray(), label, test_size=0.3)"
   ]
  },
  {
   "cell_type": "code",
   "execution_count": 11,
   "metadata": {},
   "outputs": [],
   "source": [
    "def CART():\n",
    "    model = DecisionTreeClassifier()\n",
    "    model.fit(x_train, y_train)\n",
    "    y_pred  = model.predict(x_test)\n",
    "    print('准确率：', accuracy_score(y_test, y_pred))\n",
    "    print('精确率：', precision_score(y_test, y_pred))\n",
    "    print('召回率：', recall_score(y_test, y_pred))\n",
    "    return model"
   ]
  },
  {
   "cell_type": "code",
   "execution_count": 12,
   "metadata": {},
   "outputs": [
    {
     "name": "stdout",
     "output_type": "stream",
     "text": [
      "准确率： 0.9854495328534232\n",
      "精确率： 0.9906261875606975\n",
      "召回率： 0.9933104703840129\n"
     ]
    }
   ],
   "source": [
    "# 模型训练\n",
    "model = CART()"
   ]
  },
  {
   "cell_type": "code",
   "execution_count": 13,
   "metadata": {},
   "outputs": [],
   "source": [
    "# 全量分类\n",
    "prediction = model.predict(tfidf.toarray())"
   ]
  },
  {
   "cell_type": "code",
   "execution_count": 14,
   "metadata": {},
   "outputs": [],
   "source": [
    "# 对比标签与预测值\n",
    "compare_news_df = pd.DataFrame({'label':label,'prediction':prediction})"
   ]
  },
  {
   "cell_type": "code",
   "execution_count": 15,
   "metadata": {},
   "outputs": [
    {
     "name": "stdout",
     "output_type": "stream",
     "text": [
      "新华社文章数量： 78674\n"
     ]
    }
   ],
   "source": [
    "# 新华社文章的index\n",
    "xinhuashe_news_index = compare_news_df[compare_news_df.label==1].index\n",
    "print('新华社文章数量：',len(xinhuashe_news_index))"
   ]
  },
  {
   "cell_type": "code",
   "execution_count": 16,
   "metadata": {},
   "outputs": [
    {
     "name": "stdout",
     "output_type": "stream",
     "text": [
      "抄袭文章数量： 317\n"
     ]
    }
   ],
   "source": [
    "# 抄袭文章的index，分类结果为1，标签为0的文章为抄袭\n",
    "copy_news_index = compare_news_df[(compare_news_df['label']==0) & (compare_news_df['prediction']==1)].index\n",
    "print('抄袭文章数量：',len(copy_news_index))"
   ]
  },
  {
   "cell_type": "markdown",
   "metadata": {},
   "source": [
    "#### 利用聚类完成抄袭检测"
   ]
  },
  {
   "cell_type": "code",
   "execution_count": 17,
   "metadata": {},
   "outputs": [],
   "source": [
    "from sklearn.preprocessing import Normalizer\n",
    "from sklearn.cluster import KMeans\n",
    "\n",
    "# 由于KMeans聚类计算的是欧氏距离，因此需要normalize对tfidf得出来的向量做转换（余弦距离-->欧氏距离）\n",
    "norm = Normalizer()\n",
    "tfidf_ = norm.fit_transform(tfidf.toarray())\n",
    "\n",
    "# 利用手肘法选择超参数K\n",
    "inertias = []\n",
    "for k in range(1,20):\n",
    "    kmeans = KMeans(n_clusters=k)\n",
    "    k_label  = kmeans.fit_predict(tfidf_)\n",
    "    inertias.append(kmeans.inertia_)"
   ]
  },
  {
   "cell_type": "code",
   "execution_count": 19,
   "metadata": {},
   "outputs": [
    {
     "data": {
      "image/png": "[encoded data removed]",
      "text/plain": [
       "<Figure size 360x360 with 1 Axes>"
      ]
     },
     "metadata": {
      "needs_background": "light"
     },
     "output_type": "display_data"
    }
   ],
   "source": [
    "# 绘制 K-inertias 曲线\n",
    "x = range(1,20)\n",
    "y = inertias\n",
    "plt.figure(figsize=(5,5))\n",
    "plt.grid()\n",
    "plt.axis('on')\n",
    "plt.plot(x,y)\n",
    "plt.show()"
   ]
  },
  {
   "cell_type": "code",
   "execution_count": 20,
   "metadata": {},
   "outputs": [],
   "source": [
    "# 可以看到 K>=4后 kmeans.inertia_的变化幅度逐渐下降\n",
    "kmeans = KMeans(n_clusters=4)\n",
    "k_label  = kmeans.fit_predict(tfidf_)"
   ]
  },
  {
   "cell_type": "code",
   "execution_count": 21,
   "metadata": {},
   "outputs": [],
   "source": [
    "# id到class的映射{1:class???, 2:class???, ..., 87054:class???}\n",
    "id_class = {id:class_ for id, class_ in enumerate(k_label)}              \n",
    "\n",
    "# class到id的映射，这里只考虑新华社的id.\n",
    "from collections import defaultdict\n",
    "class_id = defaultdict(set)\n",
    "\n",
    "for index, class_ in id_class.items():                                    \n",
    "    # 只统计新华社发布的class_id\n",
    "    if index in xinhuashe_news_index.tolist():\n",
    "        class_id[class_].add(index)     "
   ]
  },
  {
   "cell_type": "code",
   "execution_count": 22,
   "metadata": {},
   "outputs": [
    {
     "name": "stdout",
     "output_type": "stream",
     "text": [
      "每个类中包含新华社的文章： [(0, {46928}), (1, {9365}), (2, {7920}), (3, {14461})]\n"
     ]
    }
   ],
   "source": [
    "# 查看每个类别中，新华社的文章数\n",
    "xinhuashe_class_count = defaultdict(set)\n",
    "for class_, ids in class_id.items():\n",
    "    xinhuashe_class_count[class_].add(len(ids)) \n",
    "print('每个类中包含新华社的文章：',sorted(xinhuashe_class_count.items(), key=lambda x: x[0]))"
   ]
  },
  {
   "cell_type": "code",
   "execution_count": 23,
   "metadata": {},
   "outputs": [],
   "source": [
    "from sklearn.metrics.pairwise import cosine_similarity\n",
    "# 根据相似度查找相似的文章\n",
    "def find_similar_text(cpindex, N=10):\n",
    "    # 将cpindex的文章在其所属的类别C中，与所有新华社的文章做相似度分析\n",
    "    dist_dict = {i: cosine_similarity(tfidf[cpindex], tfidf[i]) for i in class_id[id_class[cpindex]]}       \n",
    "    # TopN排序\n",
    "    return sorted(dist_dict.items(), key=lambda x:-x[1][0])[:N]                             "
   ]
  },
  {
   "cell_type": "code",
   "execution_count": 24,
   "metadata": {},
   "outputs": [
    {
     "name": "stdout",
     "output_type": "stream",
     "text": [
      "相似度排序： [(3134, array([[0.96849062]])), (63509, array([[0.94643337]])), (29439, array([[0.94283553]])), (3218, array([[0.87622788]])), (29613, array([[0.86938324]])), (29886, array([[0.8617495]])), (29775, array([[0.853973]])), (64044, array([[0.85277972]])), (63972, array([[0.73656506]])), (63973, array([[0.73656506]]))]\n"
     ]
    }
   ],
   "source": [
    "cpindex = 3352\n",
    "\n",
    "assert cpindex not in xinhuashe_news_index, '这篇文章来自新华社'\n",
    "\n",
    "similar_list = find_similar_text(cpindex)\n",
    "print('相似度排序：',similar_list)"
   ]
  },
  {
   "cell_type": "code",
   "execution_count": 25,
   "metadata": {},
   "outputs": [
    {
     "name": "stdout",
     "output_type": "stream",
     "text": [
      "怀疑抄袭：\n",
      " 　　中国5月份56座城市新建商品住宅价格环比上涨，4月份为58座上涨。5月份15个一线和热点二线城市房地产市场基本稳定，5月份房地产调控政策效果继续显现。\n",
      "　　统计局：15个一线和热点二线城市房价同比涨幅全部回落\n",
      "　　国家统计局城市司高级统计师刘建伟解读5月份房价数据\n",
      "　　5月份一二线城市房价平均涨幅继续回落\n",
      "　　国家统计局今日发布了2017年5月份70个大中城市住宅销售价格统计数据。对此，国家统计局城市司高级统计师刘建伟进行了解读。\n",
      "　　一、15个一线和热点二线城市新建商品住宅价格同比涨幅全部回落、9个城市环比下降或持平\n",
      "　　5月份，因地制宜、因城施策的房地产调控政策效果继续显现，15个一线和热点二线城市房地产市场基本稳定。从同比看，15个城市新建商品住宅价格涨幅均比上月回落，回落幅度在0.5至6.4个百分点之间。从环比看，9个城市新建商品住宅价格下降或持平；5个城市涨幅在0.5%以内。\n",
      "　　二、70个大中城市中一二线城市房价同比涨幅持续回落\n",
      "　　5月份，70个城市中新建商品住宅和二手住宅价格同比涨幅比上月回落的城市分别有29和18个。其中，一二线城市同比涨幅回落尤其明显。据测算，一线城市新建商品住宅和二手住宅价格同比涨幅均连续8个月回落，5月份比4月份分别回落2.2和1.7个百分点；二线城市新建商品住宅和二手住宅价格同比涨幅分别连续6个月和4个月回落，5月份比4月份分别回落0.8和0.5个百分点。\n",
      "　　三、70个大中城市中房价环比下降及涨幅回落城市个数均有所增加\n",
      "　　5月份，70个城市中新建商品住宅价格环比下降的城市有9个，比上月增加1个；涨幅回落的城市有26个，比上月增加3个。二手住宅价格环比下降的城市有7个，比上月增加2个；涨幅回落的城市有30个，比上月增加8个。\n",
      "\n",
      "\n",
      "\n",
      "相似的原文：\n",
      " 　　国家统计局19日发布数据，5月份，15个一线和热点二线城市新建商品住宅价格同比涨幅全部回落，其中9个城市环比下降或持平。这9个价格环比下降或持平的城市为：北京、上海、南京、杭州、合肥、福州、郑州、深圳、成都。\n",
      "　　“5月份，因地制宜、因城施策的房地产调控政策效果继续显现，15个一线和热点二线城市房地产市场基本稳定。”国家统计局城市司高级统计师刘建伟说，从同比看，15个城市新建商品住宅价格涨幅均比上月回落，回落幅度在0.5至6.4个百分点之间。从环比看，9个城市新建商品住宅价格下降或持平；5个城市涨幅在0.5%以内。\n",
      "　　国家统计局当天还发布了5月份70个大中城市住宅销售价格统计数据。刘建伟介绍，5月份，70个大中城市中新建商品住宅和二手住宅价格同比涨幅比上月回落的城市分别有29和18个。其中，一二线城市同比涨幅回落尤其明显。据测算，一线城市新建商品住宅和二手住宅价格同比涨幅均连续8个月回落，5月份比4月份分别回落2.2和1.7个百分点；二线城市新建商品住宅和二手住宅价格同比涨幅分别连续6个月和4个月回落，5月份比4月份分别回落0.8和0.5个百分点。\n",
      "　　此外，70个大中城市中房价环比下降及涨幅回落城市个数均有所增加。统计显示，5月份，70个大中城市中新建商品住宅价格环比下降的城市有9个，比上月增加1个；涨幅回落的城市有26个，比上月增加3个。二手住宅价格环比下降的城市有7个，比上月增加2个；涨幅回落的城市有30个，比上月增加8个。\n",
      "\n"
     ]
    }
   ],
   "source": [
    "print('怀疑抄袭：\\n', news.iloc[cpindex].content)\n",
    "# 找一篇相似的文章\n",
    "similar2 = similar_list[0][0]\n",
    "print('\\n')\n",
    "print('相似的原文：\\n', news.iloc[similar2].content)"
   ]
  }
 ],
 "metadata": {
  "kernelspec": {
   "display_name": "Python 3",
   "language": "python",
   "name": "python3"
  },
  "language_info": {
   "codemirror_mode": {
    "name": "ipython",
    "version": 3
   },
   "file_extension": ".py",
   "mimetype": "text/x-python",
   "name": "python",
   "nbconvert_exporter": "python",
   "pygments_lexer": "ipython3",
   "version": "3.6.8rc1"
  }
 },
 "nbformat": 4,
 "nbformat_minor": 4
}
