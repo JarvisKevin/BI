{
 "cells": [
  {
   "cell_type": "code",
   "execution_count": 1,
   "metadata": {},
   "outputs": [],
   "source": [
    "import pandas as pd\n",
    "import multiprocessing\n",
    "import deepctr\n",
    "from deepctr.models import WDL\n",
    "from deepctr.feature_column import SparseFeat, DenseFeat, get_feature_names\n",
    "from sklearn.model_selection import cross_validate, train_test_split\n",
    "from sklearn.preprocessing import LabelEncoder, MinMaxScaler, StandardScaler\n",
    "from sklearn.metrics import mean_squared_error"
   ]
  },
  {
   "cell_type": "code",
   "execution_count": 2,
   "metadata": {},
   "outputs": [
    {
     "data": {
      "text/html": [
       "<div>\n",
       "<style scoped>\n",
       "    .dataframe tbody tr th:only-of-type {\n",
       "        vertical-align: middle;\n",
       "    }\n",
       "\n",
       "    .dataframe tbody tr th {\n",
       "        vertical-align: top;\n",
       "    }\n",
       "\n",
       "    .dataframe thead th {\n",
       "        text-align: right;\n",
       "    }\n",
       "</style>\n",
       "<table border=\"1\" class=\"dataframe\">\n",
       "  <thead>\n",
       "    <tr style=\"text-align: right;\">\n",
       "      <th></th>\n",
       "      <th>userId</th>\n",
       "      <th>movieId</th>\n",
       "      <th>rating</th>\n",
       "      <th>timestamp</th>\n",
       "    </tr>\n",
       "  </thead>\n",
       "  <tbody>\n",
       "    <tr>\n",
       "      <th>0</th>\n",
       "      <td>1</td>\n",
       "      <td>2</td>\n",
       "      <td>3.5</td>\n",
       "      <td>1112486027</td>\n",
       "    </tr>\n",
       "    <tr>\n",
       "      <th>1</th>\n",
       "      <td>1</td>\n",
       "      <td>29</td>\n",
       "      <td>3.5</td>\n",
       "      <td>1112484676</td>\n",
       "    </tr>\n",
       "    <tr>\n",
       "      <th>2</th>\n",
       "      <td>1</td>\n",
       "      <td>32</td>\n",
       "      <td>3.5</td>\n",
       "      <td>1112484819</td>\n",
       "    </tr>\n",
       "    <tr>\n",
       "      <th>3</th>\n",
       "      <td>1</td>\n",
       "      <td>47</td>\n",
       "      <td>3.5</td>\n",
       "      <td>1112484727</td>\n",
       "    </tr>\n",
       "    <tr>\n",
       "      <th>4</th>\n",
       "      <td>1</td>\n",
       "      <td>50</td>\n",
       "      <td>3.5</td>\n",
       "      <td>1112484580</td>\n",
       "    </tr>\n",
       "  </tbody>\n",
       "</table>\n",
       "</div>"
      ],
      "text/plain": [
       "   userId  movieId  rating   timestamp\n",
       "0       1        2     3.5  1112486027\n",
       "1       1       29     3.5  1112484676\n",
       "2       1       32     3.5  1112484819\n",
       "3       1       47     3.5  1112484727\n",
       "4       1       50     3.5  1112484580"
      ]
     },
     "execution_count": 2,
     "metadata": {},
     "output_type": "execute_result"
    }
   ],
   "source": [
    "# data load\n",
    "data = pd.read_csv('../ratings.csv')\n",
    "data.head()"
   ]
  },
  {
   "cell_type": "code",
   "execution_count": 3,
   "metadata": {},
   "outputs": [
    {
     "name": "stdout",
     "output_type": "stream",
     "text": [
      "<class 'pandas.core.frame.DataFrame'>\n",
      "RangeIndex: 1048575 entries, 0 to 1048574\n",
      "Data columns (total 4 columns):\n",
      " #   Column     Non-Null Count    Dtype  \n",
      "---  ------     --------------    -----  \n",
      " 0   userId     1048575 non-null  int64  \n",
      " 1   movieId    1048575 non-null  int64  \n",
      " 2   rating     1048575 non-null  float64\n",
      " 3   timestamp  1048575 non-null  int64  \n",
      "dtypes: float64(1), int64(3)\n",
      "memory usage: 32.0 MB\n"
     ]
    }
   ],
   "source": [
    "# data information\n",
    "data.info()"
   ]
  },
  {
   "cell_type": "code",
   "execution_count": 4,
   "metadata": {},
   "outputs": [],
   "source": [
    "# features\n",
    "sparse_features = ['userId', 'movieId', 'timestamp']\n",
    "dense_features = []\n",
    "target = ['rating']\n",
    "\n",
    "# generate feature columns\n",
    "sparse_feature_columns = [SparseFeat(name, vocabulary_size=data[name].nunique(), embedding_dim=4) for name in sparse_features]\n",
    "dense_feature_columns = [DenseFeat(name, dimension=4) for name in dense_features]\n",
    "\n",
    "linear_feature_columns = sparse_feature_columns + dense_feature_columns\n",
    "deep_feature_columns = sparse_feature_columns + dense_feature_columns\n",
    "\n",
    "fixlen_feature_columns = linear_feature_columns + deep_feature_columns\n",
    "\n",
    "feature_names = get_feature_names(fixlen_feature_columns)"
   ]
  },
  {
   "cell_type": "code",
   "execution_count": 5,
   "metadata": {},
   "outputs": [
    {
     "data": {
      "text/plain": [
       "['userId', 'movieId', 'timestamp']"
      ]
     },
     "execution_count": 5,
     "metadata": {},
     "output_type": "execute_result"
    }
   ],
   "source": [
    "feature_names"
   ]
  },
  {
   "cell_type": "code",
   "execution_count": 6,
   "metadata": {},
   "outputs": [],
   "source": [
    "# data normalize\n",
    "# sparse data\n",
    "for name in sparse_features:\n",
    "    lbe = LabelEncoder()\n",
    "    data[name] = lbe.fit_transform(data[name])\n",
    "\n",
    "# dense data\n",
    "# ss = StandardScaler()\n",
    "# mms = MinMaxScaler()\n",
    "# data[dense_features] = ss.fit_transform(data[dense_features])"
   ]
  },
  {
   "cell_type": "code",
   "execution_count": 7,
   "metadata": {},
   "outputs": [],
   "source": [
    "# generate model input\n",
    "x_train, x_test, y_train, y_test = train_test_split(data[feature_names], data[target], test_size=0.2)\n",
    "\n",
    "train_model_input  = {name: x_train[name].values for name in feature_names}\n",
    "test_model_input = {name: x_test[name].values for name in feature_names}"
   ]
  },
  {
   "cell_type": "code",
   "execution_count": 8,
   "metadata": {},
   "outputs": [],
   "source": [
    "# model\n",
    "WD = WDL(linear_feature_columns=linear_feature_columns, \n",
    "         dnn_feature_columns=deep_feature_columns,\n",
    "         dnn_hidden_units=(128,128),\n",
    "         seed=2020,\n",
    "         dnn_dropout=0.2,\n",
    "         dnn_activation='relu',\n",
    "         task='regression')                               # l2正则项用默认值\n",
    "\n",
    "WD.compile(optimizer='adam', loss='mse', metrics=['mse'])"
   ]
  },
  {
   "cell_type": "code",
   "execution_count": 15,
   "metadata": {},
   "outputs": [
    {
     "name": "stdout",
     "output_type": "stream",
     "text": [
      "2622/2622 [==============================] - 98s 37ms/step - loss: 0.3399 - mse: 0.3062 - val_loss: 0.8175 - val_mse: 0.7826\n"
     ]
    }
   ],
   "source": [
    "history = WD.fit(train_model_input, y_train, batch_size=256, epochs=1, verbose=True, validation_split=0.2, workers=multiprocessing.cpu_count(), )"
   ]
  },
  {
   "cell_type": "code",
   "execution_count": 16,
   "metadata": {},
   "outputs": [],
   "source": [
    "prediction = WD.predict(test_model_input)"
   ]
  },
  {
   "cell_type": "code",
   "execution_count": 17,
   "metadata": {},
   "outputs": [
    {
     "name": "stdout",
     "output_type": "stream",
     "text": [
      "RMSE: 0.8879752248796134\n"
     ]
    }
   ],
   "source": [
    "mse = round((mean_squared_error(y_test, prediction)),4)\n",
    "rmse = mse ** 0.5\n",
    "print('RMSE:',rmse)"
   ]
  }
 ],
 "metadata": {
  "kernelspec": {
   "display_name": "Python 3",
   "language": "python",
   "name": "python3"
  },
  "language_info": {
   "codemirror_mode": {
    "name": "ipython",
    "version": 3
   },
   "file_extension": ".py",
   "mimetype": "text/x-python",
   "name": "python",
   "nbconvert_exporter": "python",
   "pygments_lexer": "ipython3",
   "version": "3.6.8rc1"
  }
 },
 "nbformat": 4,
 "nbformat_minor": 4
}
