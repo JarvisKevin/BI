{
 "cells": [
  {
   "cell_type": "markdown",
   "metadata": {},
   "source": [
    "### 步骤：\n",
    "* 1. 数据可视化，查看违约率，各数据分布，以及有无缺失值\n",
    "* 2. 分桶，qcut, cut\n",
    "* 3. 计算WOE,IV，筛选变量\n",
    "* 4. 利用LR模型进行预测\n",
    "* 5. 构造评分卡模型进行预测，两个假设一个类比\n",
    "* 6. 对比总结"
   ]
  },
  {
   "cell_type": "code",
   "execution_count": 95,
   "metadata": {},
   "outputs": [],
   "source": [
    "# Thinking\n",
    "# 分桶是不是要train test一起分才可以？\n",
    "# Yes,不然pcut的时候，test和train的桶就不统一了"
   ]
  },
  {
   "cell_type": "code",
   "execution_count": 96,
   "metadata": {},
   "outputs": [],
   "source": [
    "import pandas as pd\n",
    "import numpy as np\n",
    "import warnings"
   ]
  },
  {
   "cell_type": "code",
   "execution_count": 97,
   "metadata": {},
   "outputs": [],
   "source": [
    "warnings.filterwarnings('ignore')"
   ]
  },
  {
   "cell_type": "code",
   "execution_count": 98,
   "metadata": {},
   "outputs": [
    {
     "data": {
      "text/html": [
       "<div>\n",
       "<style scoped>\n",
       "    .dataframe tbody tr th:only-of-type {\n",
       "        vertical-align: middle;\n",
       "    }\n",
       "\n",
       "    .dataframe tbody tr th {\n",
       "        vertical-align: top;\n",
       "    }\n",
       "\n",
       "    .dataframe thead th {\n",
       "        text-align: right;\n",
       "    }\n",
       "</style>\n",
       "<table border=\"1\" class=\"dataframe\">\n",
       "  <thead>\n",
       "    <tr style=\"text-align: right;\">\n",
       "      <th></th>\n",
       "      <th>Unnamed: 0</th>\n",
       "      <th>SeriousDlqin2yrs</th>\n",
       "      <th>RevolvingUtilizationOfUnsecuredLines</th>\n",
       "      <th>age</th>\n",
       "      <th>NumberOfTime30-59DaysPastDueNotWorse</th>\n",
       "      <th>DebtRatio</th>\n",
       "      <th>MonthlyIncome</th>\n",
       "      <th>NumberOfOpenCreditLinesAndLoans</th>\n",
       "      <th>NumberOfTimes90DaysLate</th>\n",
       "      <th>NumberRealEstateLoansOrLines</th>\n",
       "      <th>NumberOfTime60-89DaysPastDueNotWorse</th>\n",
       "      <th>NumberOfDependents</th>\n",
       "    </tr>\n",
       "  </thead>\n",
       "  <tbody>\n",
       "    <tr>\n",
       "      <th>0</th>\n",
       "      <td>1</td>\n",
       "      <td>1</td>\n",
       "      <td>0.766127</td>\n",
       "      <td>45</td>\n",
       "      <td>2</td>\n",
       "      <td>0.802982</td>\n",
       "      <td>9120.0</td>\n",
       "      <td>13</td>\n",
       "      <td>0</td>\n",
       "      <td>6</td>\n",
       "      <td>0</td>\n",
       "      <td>2.0</td>\n",
       "    </tr>\n",
       "    <tr>\n",
       "      <th>1</th>\n",
       "      <td>2</td>\n",
       "      <td>0</td>\n",
       "      <td>0.957151</td>\n",
       "      <td>40</td>\n",
       "      <td>0</td>\n",
       "      <td>0.121876</td>\n",
       "      <td>2600.0</td>\n",
       "      <td>4</td>\n",
       "      <td>0</td>\n",
       "      <td>0</td>\n",
       "      <td>0</td>\n",
       "      <td>1.0</td>\n",
       "    </tr>\n",
       "    <tr>\n",
       "      <th>2</th>\n",
       "      <td>3</td>\n",
       "      <td>0</td>\n",
       "      <td>0.658180</td>\n",
       "      <td>38</td>\n",
       "      <td>1</td>\n",
       "      <td>0.085113</td>\n",
       "      <td>3042.0</td>\n",
       "      <td>2</td>\n",
       "      <td>1</td>\n",
       "      <td>0</td>\n",
       "      <td>0</td>\n",
       "      <td>0.0</td>\n",
       "    </tr>\n",
       "    <tr>\n",
       "      <th>3</th>\n",
       "      <td>4</td>\n",
       "      <td>0</td>\n",
       "      <td>0.233810</td>\n",
       "      <td>30</td>\n",
       "      <td>0</td>\n",
       "      <td>0.036050</td>\n",
       "      <td>3300.0</td>\n",
       "      <td>5</td>\n",
       "      <td>0</td>\n",
       "      <td>0</td>\n",
       "      <td>0</td>\n",
       "      <td>0.0</td>\n",
       "    </tr>\n",
       "    <tr>\n",
       "      <th>4</th>\n",
       "      <td>5</td>\n",
       "      <td>0</td>\n",
       "      <td>0.907239</td>\n",
       "      <td>49</td>\n",
       "      <td>1</td>\n",
       "      <td>0.024926</td>\n",
       "      <td>63588.0</td>\n",
       "      <td>7</td>\n",
       "      <td>0</td>\n",
       "      <td>1</td>\n",
       "      <td>0</td>\n",
       "      <td>0.0</td>\n",
       "    </tr>\n",
       "  </tbody>\n",
       "</table>\n",
       "</div>"
      ],
      "text/plain": [
       "   Unnamed: 0  SeriousDlqin2yrs  RevolvingUtilizationOfUnsecuredLines  age  \\\n",
       "0           1                 1                              0.766127   45   \n",
       "1           2                 0                              0.957151   40   \n",
       "2           3                 0                              0.658180   38   \n",
       "3           4                 0                              0.233810   30   \n",
       "4           5                 0                              0.907239   49   \n",
       "\n",
       "   NumberOfTime30-59DaysPastDueNotWorse  DebtRatio  MonthlyIncome  \\\n",
       "0                                     2   0.802982         9120.0   \n",
       "1                                     0   0.121876         2600.0   \n",
       "2                                     1   0.085113         3042.0   \n",
       "3                                     0   0.036050         3300.0   \n",
       "4                                     1   0.024926        63588.0   \n",
       "\n",
       "   NumberOfOpenCreditLinesAndLoans  NumberOfTimes90DaysLate  \\\n",
       "0                               13                        0   \n",
       "1                                4                        0   \n",
       "2                                2                        1   \n",
       "3                                5                        0   \n",
       "4                                7                        0   \n",
       "\n",
       "   NumberRealEstateLoansOrLines  NumberOfTime60-89DaysPastDueNotWorse  \\\n",
       "0                             6                                     0   \n",
       "1                             0                                     0   \n",
       "2                             0                                     0   \n",
       "3                             0                                     0   \n",
       "4                             1                                     0   \n",
       "\n",
       "   NumberOfDependents  \n",
       "0                 2.0  \n",
       "1                 1.0  \n",
       "2                 0.0  \n",
       "3                 0.0  \n",
       "4                 0.0  "
      ]
     },
     "execution_count": 98,
     "metadata": {},
     "output_type": "execute_result"
    }
   ],
   "source": [
    "train = pd.read_csv('../score_card/cs-training.csv')\n",
    "train.head()"
   ]
  },
  {
   "cell_type": "code",
   "execution_count": 99,
   "metadata": {},
   "outputs": [],
   "source": [
    "test = pd.read_csv('../score_card/cs-test.csv')"
   ]
  },
  {
   "cell_type": "code",
   "execution_count": 100,
   "metadata": {},
   "outputs": [],
   "source": [
    "#test.head()"
   ]
  },
  {
   "cell_type": "code",
   "execution_count": 101,
   "metadata": {},
   "outputs": [],
   "source": [
    "# 去除没用的Unnamed\n",
    "train.drop(columns=train.columns[0], inplace=True)\n",
    "test.drop(columns=test.columns[0], inplace=True)"
   ]
  },
  {
   "cell_type": "markdown",
   "metadata": {},
   "source": [
    "#### 标签"
   ]
  },
  {
   "cell_type": "code",
   "execution_count": 102,
   "metadata": {},
   "outputs": [
    {
     "data": {
      "text/plain": [
       "<matplotlib.axes._subplots.AxesSubplot at 0x1451ea94c18>"
      ]
     },
     "execution_count": 102,
     "metadata": {},
     "output_type": "execute_result"
    },
    {
     "data": {
      "image/png": "[encoded data removed]",
      "text/plain": [
       "<Figure size 432x288 with 1 Axes>"
      ]
     },
     "metadata": {
      "needs_background": "light"
     },
     "output_type": "display_data"
    }
   ],
   "source": [
    "# 查看SeriousDlqin2yrs，违约率\n",
    "train.SeriousDlqin2yrs.value_counts().plot(kind='bar')"
   ]
  },
  {
   "cell_type": "code",
   "execution_count": 103,
   "metadata": {},
   "outputs": [
    {
     "data": {
      "text/plain": [
       "0.06684"
      ]
     },
     "execution_count": 103,
     "metadata": {},
     "output_type": "execute_result"
    }
   ],
   "source": [
    "# 违约率\n",
    "train.SeriousDlqin2yrs.value_counts()[1]/train.SeriousDlqin2yrs.value_counts().sum()"
   ]
  },
  {
   "cell_type": "code",
   "execution_count": 104,
   "metadata": {},
   "outputs": [
    {
     "data": {
      "text/plain": [
       "0.07162758798062498"
      ]
     },
     "execution_count": 104,
     "metadata": {},
     "output_type": "execute_result"
    }
   ],
   "source": [
    "odds = train.SeriousDlqin2yrs.value_counts()[1]/train.SeriousDlqin2yrs.value_counts()[0]\n",
    "odds"
   ]
  },
  {
   "cell_type": "markdown",
   "metadata": {},
   "source": [
    "#### 缺失值"
   ]
  },
  {
   "cell_type": "code",
   "execution_count": 105,
   "metadata": {},
   "outputs": [
    {
     "name": "stdout",
     "output_type": "stream",
     "text": [
      "<class 'pandas.core.frame.DataFrame'>\n",
      "RangeIndex: 150000 entries, 0 to 149999\n",
      "Data columns (total 11 columns):\n",
      " #   Column                                Non-Null Count   Dtype  \n",
      "---  ------                                --------------   -----  \n",
      " 0   SeriousDlqin2yrs                      150000 non-null  int64  \n",
      " 1   RevolvingUtilizationOfUnsecuredLines  150000 non-null  float64\n",
      " 2   age                                   150000 non-null  int64  \n",
      " 3   NumberOfTime30-59DaysPastDueNotWorse  150000 non-null  int64  \n",
      " 4   DebtRatio                             150000 non-null  float64\n",
      " 5   MonthlyIncome                         120269 non-null  float64\n",
      " 6   NumberOfOpenCreditLinesAndLoans       150000 non-null  int64  \n",
      " 7   NumberOfTimes90DaysLate               150000 non-null  int64  \n",
      " 8   NumberRealEstateLoansOrLines          150000 non-null  int64  \n",
      " 9   NumberOfTime60-89DaysPastDueNotWorse  150000 non-null  int64  \n",
      " 10  NumberOfDependents                    146076 non-null  float64\n",
      "dtypes: float64(4), int64(7)\n",
      "memory usage: 12.6 MB\n"
     ]
    }
   ],
   "source": [
    "# MonthlyIncome, NumberOfDependents存在缺失值\n",
    "train.info()"
   ]
  },
  {
   "cell_type": "code",
   "execution_count": 106,
   "metadata": {},
   "outputs": [
    {
     "name": "stdout",
     "output_type": "stream",
     "text": [
      "<class 'pandas.core.frame.DataFrame'>\n",
      "RangeIndex: 101503 entries, 0 to 101502\n",
      "Data columns (total 11 columns):\n",
      " #   Column                                Non-Null Count   Dtype  \n",
      "---  ------                                --------------   -----  \n",
      " 0   SeriousDlqin2yrs                      0 non-null       float64\n",
      " 1   RevolvingUtilizationOfUnsecuredLines  101503 non-null  float64\n",
      " 2   age                                   101503 non-null  int64  \n",
      " 3   NumberOfTime30-59DaysPastDueNotWorse  101503 non-null  int64  \n",
      " 4   DebtRatio                             101503 non-null  float64\n",
      " 5   MonthlyIncome                         81400 non-null   float64\n",
      " 6   NumberOfOpenCreditLinesAndLoans       101503 non-null  int64  \n",
      " 7   NumberOfTimes90DaysLate               101503 non-null  int64  \n",
      " 8   NumberRealEstateLoansOrLines          101503 non-null  int64  \n",
      " 9   NumberOfTime60-89DaysPastDueNotWorse  101503 non-null  int64  \n",
      " 10  NumberOfDependents                    98877 non-null   float64\n",
      "dtypes: float64(5), int64(6)\n",
      "memory usage: 8.5 MB\n"
     ]
    }
   ],
   "source": [
    "# test中也一样\n",
    "test.info()"
   ]
  },
  {
   "cell_type": "code",
   "execution_count": 107,
   "metadata": {},
   "outputs": [
    {
     "data": {
      "text/plain": [
       "5000.0     2757\n",
       "4000.0     2106\n",
       "6000.0     1934\n",
       "3000.0     1758\n",
       "0.0        1634\n",
       "           ... \n",
       "3847.0        1\n",
       "10113.0       1\n",
       "14210.0       1\n",
       "13023.0       1\n",
       "1037.0        1\n",
       "Name: MonthlyIncome, Length: 13594, dtype: int64"
      ]
     },
     "execution_count": 107,
     "metadata": {},
     "output_type": "execute_result"
    }
   ],
   "source": [
    "# 查看这两列的情况\n",
    "train.MonthlyIncome.value_counts()"
   ]
  },
  {
   "cell_type": "code",
   "execution_count": 108,
   "metadata": {},
   "outputs": [
    {
     "data": {
      "text/plain": [
       "<matplotlib.axes._subplots.AxesSubplot at 0x1451f5bb198>"
      ]
     },
     "execution_count": 108,
     "metadata": {},
     "output_type": "execute_result"
    },
    {
     "data": {
      "image/png": "[encoded data removed]",
      "text/plain": [
       "<Figure size 432x288 with 1 Axes>"
      ]
     },
     "metadata": {
      "needs_background": "light"
     },
     "output_type": "display_data"
    }
   ],
   "source": [
    "# 大部分人还是低收入，只有极少数高收入人群\n",
    "train.MonthlyIncome.plot(kind='hist')"
   ]
  },
  {
   "cell_type": "code",
   "execution_count": 109,
   "metadata": {},
   "outputs": [
    {
     "name": "stdout",
     "output_type": "stream",
     "text": [
      "均值： 6670.221237392844\n",
      "中位数： 5400.0\n"
     ]
    }
   ],
   "source": [
    "# 由于数据分布呈左偏，均值被少部分的高收入人群给拉高，大于中位数，因此这里以中位数填充缺失值\n",
    "print('均值：', train.MonthlyIncome.mean())\n",
    "print('中位数：',train.MonthlyIncome.median())"
   ]
  },
  {
   "cell_type": "code",
   "execution_count": 110,
   "metadata": {},
   "outputs": [],
   "source": [
    "# 训练集\n",
    "train.MonthlyIncome.fillna(train.MonthlyIncome.median(), inplace=True)"
   ]
  },
  {
   "cell_type": "code",
   "execution_count": 111,
   "metadata": {},
   "outputs": [],
   "source": [
    "# 测试集\n",
    "test.MonthlyIncome.fillna(train.MonthlyIncome.median(), inplace=True)"
   ]
  },
  {
   "cell_type": "code",
   "execution_count": 112,
   "metadata": {},
   "outputs": [
    {
     "data": {
      "text/plain": [
       "0"
      ]
     },
     "execution_count": 112,
     "metadata": {},
     "output_type": "execute_result"
    }
   ],
   "source": [
    "train.MonthlyIncome.isna().sum()"
   ]
  },
  {
   "cell_type": "markdown",
   "metadata": {},
   "source": [
    "###### 对于NumberOfDependents，家庭受养人数"
   ]
  },
  {
   "cell_type": "code",
   "execution_count": 113,
   "metadata": {},
   "outputs": [
    {
     "data": {
      "text/plain": [
       "0.0     86902\n",
       "1.0     26316\n",
       "2.0     19522\n",
       "3.0      9483\n",
       "4.0      2862\n",
       "5.0       746\n",
       "6.0       158\n",
       "7.0        51\n",
       "8.0        24\n",
       "9.0         5\n",
       "10.0        5\n",
       "13.0        1\n",
       "20.0        1\n",
       "Name: NumberOfDependents, dtype: int64"
      ]
     },
     "execution_count": 113,
     "metadata": {},
     "output_type": "execute_result"
    }
   ],
   "source": [
    "train.NumberOfDependents.value_counts()"
   ]
  },
  {
   "cell_type": "code",
   "execution_count": 114,
   "metadata": {},
   "outputs": [
    {
     "data": {
      "text/plain": [
       "<matplotlib.axes._subplots.AxesSubplot at 0x1451f624588>"
      ]
     },
     "execution_count": 114,
     "metadata": {},
     "output_type": "execute_result"
    },
    {
     "data": {
      "image/png": "[encoded data removed]",
      "text/plain": [
       "<Figure size 432x288 with 1 Axes>"
      ]
     },
     "metadata": {
      "needs_background": "light"
     },
     "output_type": "display_data"
    }
   ],
   "source": [
    "train.NumberOfDependents.plot(kind='hist')"
   ]
  },
  {
   "cell_type": "code",
   "execution_count": 115,
   "metadata": {},
   "outputs": [
    {
     "name": "stdout",
     "output_type": "stream",
     "text": [
      "均值： 0.7572222678605657\n",
      "中位数： 0.0\n"
     ]
    }
   ],
   "source": [
    "# 大部分还是自己生活呢\n",
    "print('均值：', train.NumberOfDependents.mean())\n",
    "print('中位数：',train.NumberOfDependents.median())"
   ]
  },
  {
   "cell_type": "code",
   "execution_count": 116,
   "metadata": {},
   "outputs": [],
   "source": [
    "# 训练集\n",
    "train.NumberOfDependents.fillna(train.MonthlyIncome.median(), inplace=True)"
   ]
  },
  {
   "cell_type": "code",
   "execution_count": 117,
   "metadata": {},
   "outputs": [],
   "source": [
    "# 测试集\n",
    "test.NumberOfDependents.fillna(train.MonthlyIncome.median(), inplace=True)"
   ]
  },
  {
   "cell_type": "code",
   "execution_count": 118,
   "metadata": {},
   "outputs": [
    {
     "data": {
      "text/plain": [
       "0"
      ]
     },
     "execution_count": 118,
     "metadata": {},
     "output_type": "execute_result"
    }
   ],
   "source": [
    "train.MonthlyIncome.isna().sum()"
   ]
  },
  {
   "cell_type": "markdown",
   "metadata": {},
   "source": [
    "#### 变量分桶\n",
    "* age [-math.inf, 25, 40, 50, 60, 70, math.inf]\n",
    "* NumberOfDependents 家属人数 [-math.inf,2,4,6,8,10,math.inf]\n",
    "* NumberOfTime30-59DaysPastDueNotWorse，NumberOfTime60-89DaysPastDueNotWorse，NumberOfTimes90DaysLate三种逾期</b>\n",
    " [-math.inf,1,2,3,4,5,6,7,8,9,math.inf]\n",
    "* 其余字段 RevolvingUtilizationOfUnsecuredLines, DebtRatio, MonthlyIncome, NumberOfOpenCreditLinesAndLoans, NumberRealEstateLoansOrLines 分五段 qcut(data, q=5)"
   ]
  },
  {
   "cell_type": "code",
   "execution_count": 119,
   "metadata": {},
   "outputs": [],
   "source": [
    "import math"
   ]
  },
  {
   "cell_type": "code",
   "execution_count": 120,
   "metadata": {},
   "outputs": [],
   "source": [
    "split_point = train.shape[0]\n",
    "whole_data = train.append(test)"
   ]
  },
  {
   "cell_type": "code",
   "execution_count": 121,
   "metadata": {},
   "outputs": [],
   "source": [
    "whole_data['age'] = pd.cut(whole_data.age, [-math.inf, 25, 40, 50, 60, 70, math.inf])\n",
    "whole_data['NumberOfDependents'] = pd.cut(whole_data.NumberOfDependents, [-math.inf,2,4,6,8,10,math.inf])\n",
    "\n",
    "whole_data['NumberOfTime30-59DaysPastDueNotWorse'] = pd.cut(whole_data['NumberOfTime30-59DaysPastDueNotWorse'], [-math.inf,1,2,3,4,5,6,7,8,9,math.inf])\n",
    "whole_data['NumberOfTime60-89DaysPastDueNotWorse'] = pd.cut(whole_data['NumberOfTime60-89DaysPastDueNotWorse'], [-math.inf,1,2,3,4,5,6,7,8,9,math.inf])\n",
    "whole_data['NumberOfTimes90DaysLate'] = pd.cut(whole_data['NumberOfTimes90DaysLate'], [-math.inf,1,2,3,4,5,6,7,8,9,math.inf])\n",
    "\n",
    "whole_data.RevolvingUtilizationOfUnsecuredLines = pd.qcut(whole_data.RevolvingUtilizationOfUnsecuredLines , q=5, duplicates='drop')\n",
    "whole_data.DebtRatio = pd.qcut(whole_data.DebtRatio , q=5, duplicates='drop')\n",
    "whole_data.MonthlyIncome = pd.qcut(whole_data.MonthlyIncome , q=5, duplicates='drop')\n",
    "whole_data.NumberOfOpenCreditLinesAndLoans = pd.qcut(whole_data.NumberOfOpenCreditLinesAndLoans , q=5, duplicates='drop')\n",
    "whole_data.NumberRealEstateLoansOrLines = pd.qcut(whole_data.NumberRealEstateLoansOrLines , q=5, duplicates='drop')"
   ]
  },
  {
   "cell_type": "code",
   "execution_count": 122,
   "metadata": {},
   "outputs": [],
   "source": [
    "# 学这个startswith的用法\n",
    "# # 统计分箱字段，以bin_开头\n",
    "# bin_cols = [c for c in df_train.columns.values if c.startswith('bin_')]\n",
    "# bin_cols"
   ]
  },
  {
   "cell_type": "markdown",
   "metadata": {},
   "source": [
    "##### pd.qcut 得注意一个参数duplicates='drop'，\n",
    "* 因为有时候用频次来划分边界是会造成两个桶存在同一个取值，比如1000个数中0占了900个，1占100个，如果按q=2,分两个桶，则会500个0为桶1，400个1和100个0为桶2，这就会造成混乱，数值1到底是哪个桶？因此我们将其进行合并。。。\n",
    "* 但合并也有不合理得地方，那就按规则来分吧"
   ]
  },
  {
   "cell_type": "markdown",
   "metadata": {},
   "source": [
    "##### 那train和test是不是要合并后再分桶呢？\n",
    "##### 按规则分的可以不用，但按频率分应该要合并后再分桶"
   ]
  },
  {
   "cell_type": "code",
   "execution_count": 123,
   "metadata": {},
   "outputs": [],
   "source": [
    "train = whole_data.iloc[:split_point,:]\n",
    "test = whole_data.iloc[split_point:,:]"
   ]
  },
  {
   "cell_type": "markdown",
   "metadata": {},
   "source": [
    "#### 计算每个特征的WOE，IV"
   ]
  },
  {
   "cell_type": "code",
   "execution_count": 124,
   "metadata": {},
   "outputs": [
    {
     "data": {
      "text/html": [
       "<div>\n",
       "<style scoped>\n",
       "    .dataframe tbody tr th:only-of-type {\n",
       "        vertical-align: middle;\n",
       "    }\n",
       "\n",
       "    .dataframe tbody tr th {\n",
       "        vertical-align: top;\n",
       "    }\n",
       "\n",
       "    .dataframe thead th {\n",
       "        text-align: right;\n",
       "    }\n",
       "</style>\n",
       "<table border=\"1\" class=\"dataframe\">\n",
       "  <thead>\n",
       "    <tr style=\"text-align: right;\">\n",
       "      <th></th>\n",
       "      <th>SeriousDlqin2yrs</th>\n",
       "      <th>RevolvingUtilizationOfUnsecuredLines</th>\n",
       "      <th>age</th>\n",
       "      <th>NumberOfTime30-59DaysPastDueNotWorse</th>\n",
       "      <th>DebtRatio</th>\n",
       "      <th>MonthlyIncome</th>\n",
       "      <th>NumberOfOpenCreditLinesAndLoans</th>\n",
       "      <th>NumberOfTimes90DaysLate</th>\n",
       "      <th>NumberRealEstateLoansOrLines</th>\n",
       "      <th>NumberOfTime60-89DaysPastDueNotWorse</th>\n",
       "      <th>NumberOfDependents</th>\n",
       "    </tr>\n",
       "  </thead>\n",
       "  <tbody>\n",
       "    <tr>\n",
       "      <th>0</th>\n",
       "      <td>1.0</td>\n",
       "      <td>(0.702, 50708.0]</td>\n",
       "      <td>(40.0, 50.0]</td>\n",
       "      <td>(1.0, 2.0]</td>\n",
       "      <td>(0.466, 3.908]</td>\n",
       "      <td>(8233.0, 7727000.0]</td>\n",
       "      <td>(12.0, 85.0]</td>\n",
       "      <td>(-inf, 1.0]</td>\n",
       "      <td>(2.0, 54.0]</td>\n",
       "      <td>(-inf, 1.0]</td>\n",
       "      <td>(-inf, 2.0]</td>\n",
       "    </tr>\n",
       "    <tr>\n",
       "      <th>1</th>\n",
       "      <td>0.0</td>\n",
       "      <td>(0.702, 50708.0]</td>\n",
       "      <td>(25.0, 40.0]</td>\n",
       "      <td>(-inf, 1.0]</td>\n",
       "      <td>(-0.001, 0.133]</td>\n",
       "      <td>(-0.001, 3400.0]</td>\n",
       "      <td>(-0.001, 4.0]</td>\n",
       "      <td>(-inf, 1.0]</td>\n",
       "      <td>(-0.001, 1.0]</td>\n",
       "      <td>(-inf, 1.0]</td>\n",
       "      <td>(-inf, 2.0]</td>\n",
       "    </tr>\n",
       "    <tr>\n",
       "      <th>2</th>\n",
       "      <td>0.0</td>\n",
       "      <td>(0.271, 0.702]</td>\n",
       "      <td>(25.0, 40.0]</td>\n",
       "      <td>(-inf, 1.0]</td>\n",
       "      <td>(-0.001, 0.133]</td>\n",
       "      <td>(-0.001, 3400.0]</td>\n",
       "      <td>(-0.001, 4.0]</td>\n",
       "      <td>(-inf, 1.0]</td>\n",
       "      <td>(-0.001, 1.0]</td>\n",
       "      <td>(-inf, 1.0]</td>\n",
       "      <td>(-inf, 2.0]</td>\n",
       "    </tr>\n",
       "    <tr>\n",
       "      <th>3</th>\n",
       "      <td>0.0</td>\n",
       "      <td>(0.083, 0.271]</td>\n",
       "      <td>(25.0, 40.0]</td>\n",
       "      <td>(-inf, 1.0]</td>\n",
       "      <td>(-0.001, 0.133]</td>\n",
       "      <td>(-0.001, 3400.0]</td>\n",
       "      <td>(4.0, 6.0]</td>\n",
       "      <td>(-inf, 1.0]</td>\n",
       "      <td>(-0.001, 1.0]</td>\n",
       "      <td>(-inf, 1.0]</td>\n",
       "      <td>(-inf, 2.0]</td>\n",
       "    </tr>\n",
       "    <tr>\n",
       "      <th>4</th>\n",
       "      <td>0.0</td>\n",
       "      <td>(0.702, 50708.0]</td>\n",
       "      <td>(40.0, 50.0]</td>\n",
       "      <td>(-inf, 1.0]</td>\n",
       "      <td>(-0.001, 0.133]</td>\n",
       "      <td>(8233.0, 7727000.0]</td>\n",
       "      <td>(6.0, 9.0]</td>\n",
       "      <td>(-inf, 1.0]</td>\n",
       "      <td>(-0.001, 1.0]</td>\n",
       "      <td>(-inf, 1.0]</td>\n",
       "      <td>(-inf, 2.0]</td>\n",
       "    </tr>\n",
       "  </tbody>\n",
       "</table>\n",
       "</div>"
      ],
      "text/plain": [
       "   SeriousDlqin2yrs RevolvingUtilizationOfUnsecuredLines           age  \\\n",
       "0               1.0                     (0.702, 50708.0]  (40.0, 50.0]   \n",
       "1               0.0                     (0.702, 50708.0]  (25.0, 40.0]   \n",
       "2               0.0                       (0.271, 0.702]  (25.0, 40.0]   \n",
       "3               0.0                       (0.083, 0.271]  (25.0, 40.0]   \n",
       "4               0.0                     (0.702, 50708.0]  (40.0, 50.0]   \n",
       "\n",
       "  NumberOfTime30-59DaysPastDueNotWorse        DebtRatio        MonthlyIncome  \\\n",
       "0                           (1.0, 2.0]   (0.466, 3.908]  (8233.0, 7727000.0]   \n",
       "1                          (-inf, 1.0]  (-0.001, 0.133]     (-0.001, 3400.0]   \n",
       "2                          (-inf, 1.0]  (-0.001, 0.133]     (-0.001, 3400.0]   \n",
       "3                          (-inf, 1.0]  (-0.001, 0.133]     (-0.001, 3400.0]   \n",
       "4                          (-inf, 1.0]  (-0.001, 0.133]  (8233.0, 7727000.0]   \n",
       "\n",
       "  NumberOfOpenCreditLinesAndLoans NumberOfTimes90DaysLate  \\\n",
       "0                    (12.0, 85.0]             (-inf, 1.0]   \n",
       "1                   (-0.001, 4.0]             (-inf, 1.0]   \n",
       "2                   (-0.001, 4.0]             (-inf, 1.0]   \n",
       "3                      (4.0, 6.0]             (-inf, 1.0]   \n",
       "4                      (6.0, 9.0]             (-inf, 1.0]   \n",
       "\n",
       "  NumberRealEstateLoansOrLines NumberOfTime60-89DaysPastDueNotWorse  \\\n",
       "0                  (2.0, 54.0]                          (-inf, 1.0]   \n",
       "1                (-0.001, 1.0]                          (-inf, 1.0]   \n",
       "2                (-0.001, 1.0]                          (-inf, 1.0]   \n",
       "3                (-0.001, 1.0]                          (-inf, 1.0]   \n",
       "4                (-0.001, 1.0]                          (-inf, 1.0]   \n",
       "\n",
       "  NumberOfDependents  \n",
       "0        (-inf, 2.0]  \n",
       "1        (-inf, 2.0]  \n",
       "2        (-inf, 2.0]  \n",
       "3        (-inf, 2.0]  \n",
       "4        (-inf, 2.0]  "
      ]
     },
     "execution_count": 124,
     "metadata": {},
     "output_type": "execute_result"
    }
   ],
   "source": [
    "train.head()"
   ]
  },
  {
   "cell_type": "code",
   "execution_count": 125,
   "metadata": {},
   "outputs": [],
   "source": [
    "# 放一个临时值，计算各特征各标签的数量\n",
    "train['count'] = 1"
   ]
  },
  {
   "cell_type": "code",
   "execution_count": 126,
   "metadata": {},
   "outputs": [
    {
     "data": {
      "text/plain": [
       "['RevolvingUtilizationOfUnsecuredLines',\n",
       " 'age',\n",
       " 'NumberOfTime30-59DaysPastDueNotWorse',\n",
       " 'DebtRatio',\n",
       " 'MonthlyIncome',\n",
       " 'NumberOfOpenCreditLinesAndLoans',\n",
       " 'NumberOfTimes90DaysLate',\n",
       " 'NumberRealEstateLoansOrLines',\n",
       " 'NumberOfTime60-89DaysPastDueNotWorse',\n",
       " 'NumberOfDependents']"
      ]
     },
     "execution_count": 126,
     "metadata": {},
     "output_type": "execute_result"
    }
   ],
   "source": [
    "train.columns.tolist()[1:-1]"
   ]
  },
  {
   "cell_type": "code",
   "execution_count": 132,
   "metadata": {},
   "outputs": [
    {
     "name": "stdout",
     "output_type": "stream",
     "text": [
      "\n",
      "RevolvingUtilizationOfUnsecuredLines的IV值为：0.5270952658076192\n",
      "\n",
      "age的IV值为：0.10630739209281985\n",
      "\n",
      "NumberOfTime30-59DaysPastDueNotWorse的IV值为：0.3406105523141427\n",
      "\n",
      "DebtRatio的IV值为：0.03194889657494044\n",
      "特征DebtRatio的IV小于0.1，droping...\n",
      "\n",
      "MonthlyIncome的IV值为：0.028130802154365364\n",
      "特征MonthlyIncome的IV小于0.1，droping...\n",
      "\n",
      "NumberOfOpenCreditLinesAndLoans的IV值为：0.02500753746836124\n",
      "特征NumberOfOpenCreditLinesAndLoans的IV小于0.1，droping...\n",
      "\n",
      "NumberOfTimes90DaysLate的IV值为：0.37470365850920745\n",
      "\n",
      "NumberRealEstateLoansOrLines的IV值为：0.006035388120960453\n",
      "特征NumberRealEstateLoansOrLines的IV小于0.1，droping...\n",
      "\n",
      "NumberOfTime60-89DaysPastDueNotWorse的IV值为：0.20329806205744644\n",
      "\n",
      "NumberOfDependents的IV值为：0.009196548559156475\n",
      "特征NumberOfDependents的IV小于0.1，droping...\n",
      "Wall time: 594 ms\n"
     ]
    }
   ],
   "source": [
    "%%time\n",
    "# 遍历每一个feature(除了第一个label,和最后一个count)\n",
    "for col in train.columns.tolist()[1:-1]:\n",
    "    \n",
    "    feat = train.groupby([col, 'SeriousDlqin2yrs'], as_index=False)['count'].count()\n",
    "    # 每个桶的总数\n",
    "    sum = feat.groupby(col, as_index=False)['count'].sum()\n",
    "\n",
    "    # 坏样本数\n",
    "    bad = feat[feat.SeriousDlqin2yrs==1][sum.columns]\n",
    "    bad['count']= bad['count'].apply(lambda x: 0 if str(x)=='nan' else x)\n",
    "    bad.rename(columns={'count':'bad'}, inplace=True)\n",
    "\n",
    "    # 好样本数\n",
    "    good = feat[feat.SeriousDlqin2yrs==0][sum.columns]\n",
    "    good['count']= good['count'].apply(lambda x: 0 if str(x)=='nan' else x)\n",
    "    good.rename(columns={'count':'good'}, inplace=True)\n",
    "\n",
    "    WOE = sum.merge(good, on=col).merge(bad, on=col)\n",
    "\n",
    "    # 该桶好/坏的占比\n",
    "    WOE['good_rate'] = WOE['good']/WOE['count']\n",
    "    WOE['bad_rate'] = WOE['bad']/WOE['count']\n",
    "\n",
    "    # 好/坏占总的好/坏的比例\n",
    "    WOE['margin_good_rate'] = WOE.good/WOE.good.sum()\n",
    "    WOE['margin_bad_rate'] = WOE.bad/WOE.bad.sum()\n",
    "    \n",
    "    # 其中NumberOfTime60-89DaysPastDueNotWorse存在bad为0的情况，因此需要用log1p避免结果为inf\n",
    "    WOE['WOE'] = np.log1p(WOE['margin_bad_rate']/WOE['margin_good_rate'])\n",
    "\n",
    "    # WOE 只考虑的乘除，嘿嘿，不够全面，来个加减吧\n",
    "    WOE['IV'] = (WOE['margin_bad_rate']-WOE['margin_good_rate']) * WOE['WOE']\n",
    "    WOE = WOE[[col, 'WOE', 'IV']]\n",
    "\n",
    "    # 每一列的总和，最主要是IV值\n",
    "    WOE.loc['sum'] = ['sum'] + WOE.sum(axis=0).values.tolist()\n",
    "\n",
    "    # 判断IV值是否小于0.1, 如果小于0.1则跳过\n",
    "    IV = WOE.IV['sum']\n",
    "    print('\\n{}的IV值为：{}'.format(col, IV))\n",
    "    if IV<0.1:\n",
    "        print('Dropt...')\n",
    "        train.drop(columns=col, inplace=True)\n",
    "        test.drop(columns=col, inplace=True)\n",
    "        continue\n",
    "    print('Saved...')\n",
    "        \n",
    "    # 桶和WOE的对应关系\n",
    "    transform_list = WOE.set_index(col)['WOE'] #, inplace=True)\n",
    "    # 将RevolvingUtilizationOfUnsecuredLines转换成WOE编码\n",
    "    train.loc[:,col]= train.loc[:,col].apply(lambda x: transform_list.loc[x])\n",
    "    \n",
    "    # 测试集\n",
    "    test.loc[:,col]= test.loc[:,col].apply(lambda x: transform_list.loc[x])"
   ]
  },
  {
   "cell_type": "code",
   "execution_count": 133,
   "metadata": {},
   "outputs": [],
   "source": [
    "train.drop(columns='count', inplace=True)"
   ]
  },
  {
   "cell_type": "code",
   "execution_count": 134,
   "metadata": {},
   "outputs": [
    {
     "data": {
      "text/plain": [
       "SeriousDlqin2yrs                        0\n",
       "RevolvingUtilizationOfUnsecuredLines    0\n",
       "age                                     0\n",
       "NumberOfTime30-59DaysPastDueNotWorse    0\n",
       "NumberOfTimes90DaysLate                 0\n",
       "NumberOfTime60-89DaysPastDueNotWorse    0\n",
       "dtype: int64"
      ]
     },
     "execution_count": 134,
     "metadata": {},
     "output_type": "execute_result"
    }
   ],
   "source": [
    "train.isna().sum()"
   ]
  },
  {
   "cell_type": "markdown",
   "metadata": {},
   "source": [
    "#### 切分验证集"
   ]
  },
  {
   "cell_type": "code",
   "execution_count": 135,
   "metadata": {},
   "outputs": [],
   "source": [
    "y_train = train.SeriousDlqin2yrs.values\n",
    "x_train = train.drop(columns = 'SeriousDlqin2yrs').values"
   ]
  },
  {
   "cell_type": "code",
   "execution_count": 136,
   "metadata": {},
   "outputs": [],
   "source": [
    "x_test = test.drop(columns = 'SeriousDlqin2yrs').values"
   ]
  },
  {
   "cell_type": "markdown",
   "metadata": {},
   "source": [
    "#### Thinking: WOE还要不要做归一化呢？ \n",
    "* A: 结果差不多"
   ]
  },
  {
   "cell_type": "code",
   "execution_count": 137,
   "metadata": {},
   "outputs": [],
   "source": [
    "# from sklearn.preprocessing import StandardScaler\n",
    "# ss = StandardScaler()\n",
    "# x_train_ss = ss.fit_transform(x_train)\n",
    "# x_test_ss = ss.transform(x_test)\n",
    "\n",
    "# from sklearn.model_selection import train_test_split\n",
    "#x_train_ss, x_val_ss, y_train, y_val = train_test_split(x_train_ss, y_train, test_size=0.2, random_state=33)"
   ]
  },
  {
   "cell_type": "code",
   "execution_count": 138,
   "metadata": {},
   "outputs": [],
   "source": [
    "from sklearn.model_selection import train_test_split\n",
    "x_train, x_val, y_train, y_val = train_test_split(x_train, y_train, test_size=0.2, random_state=33)"
   ]
  },
  {
   "cell_type": "code",
   "execution_count": 139,
   "metadata": {},
   "outputs": [],
   "source": [
    "# 利用LR模型预测 \n",
    "from sklearn.linear_model import LogisticRegression\n",
    "from sklearn.metrics import accuracy_score, roc_auc_score\n",
    "lr = LogisticRegression(random_state=33)"
   ]
  },
  {
   "cell_type": "code",
   "execution_count": 140,
   "metadata": {},
   "outputs": [
    {
     "data": {
      "text/plain": [
       "LogisticRegression(C=1.0, class_weight=None, dual=False, fit_intercept=True,\n",
       "          intercept_scaling=1, max_iter=100, multi_class='warn',\n",
       "          n_jobs=None, penalty='l2', random_state=33, solver='warn',\n",
       "          tol=0.0001, verbose=0, warm_start=False)"
      ]
     },
     "execution_count": 140,
     "metadata": {},
     "output_type": "execute_result"
    }
   ],
   "source": [
    "lr.fit(x_train, y_train)"
   ]
  },
  {
   "cell_type": "code",
   "execution_count": 141,
   "metadata": {},
   "outputs": [
    {
     "name": "stdout",
     "output_type": "stream",
     "text": [
      "ACC: 0.9364333333333333\n",
      "ROC: 0.7787691092695656\n"
     ]
    }
   ],
   "source": [
    "y_pred = lr.predict(x_val)\n",
    "print('ACC:', accuracy_score(y_pred, y_val))\n",
    "print('ROC:', roc_auc_score(y_pred, y_val))"
   ]
  },
  {
   "cell_type": "markdown",
   "metadata": {},
   "source": [
    "* 本项目主要利用WOE和IV来衡量特征变量的预测能力，或者说特征变量的特征区分度。并对原特征进行WOE编码，代替原特征输入模型，再者，剔除IV<0.1的特征，避免数据冗余。通过实验可以得出只利用筛选后的特征比无脑地将全量特征喂给模型更有效。"
   ]
  },
  {
   "attachments": {
    "c751f8f4-f698-4405-93bf-215fa5d0a692.png": {
     "image/png": "[encoded data removed]"
    }
   },
   "cell_type": "markdown",
   "metadata": {},
   "source": [
    "![image.png](attachment:c751f8f4-f698-4405-93bf-215fa5d0a692.png)"
   ]
  },
  {
   "cell_type": "markdown",
   "metadata": {},
   "source": [
    "##### Thinking :\n",
    "* WOE依赖于对原始特征的分箱操作，这个分箱并没有明确的理论指导，更多的是对业务的理解，譬如，年龄多大是青年、中年、老年，不同时代，人的寿命长短不一，划分的界限也不一样，因此，分箱是一个不太可控的因素。由于分箱的不准确，或者偏差较大，边界问题等，可能会导致IV值<0.1，最终导致该变量被丢弃。因此应该多尝试，多理解业务场景，这样更有利于我们对边界的定义。"
   ]
  }
 ],
 "metadata": {
  "kernelspec": {
   "display_name": "Python 3",
   "language": "python",
   "name": "python3"
  },
  "language_info": {
   "codemirror_mode": {
    "name": "ipython",
    "version": 3
   },
   "file_extension": ".py",
   "mimetype": "text/x-python",
   "name": "python",
   "nbconvert_exporter": "python",
   "pygments_lexer": "ipython3",
   "version": "3.6.8rc1"
  }
 },
 "nbformat": 4,
 "nbformat_minor": 4
}
