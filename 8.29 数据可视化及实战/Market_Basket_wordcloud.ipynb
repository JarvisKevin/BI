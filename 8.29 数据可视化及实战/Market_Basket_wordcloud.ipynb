{
 "cells": [
  {
   "cell_type": "code",
   "execution_count": 83,
   "metadata": {},
   "outputs": [],
   "source": [
    "# 相关库导入\n",
    "import pandas as pd\n",
    "import matplotlib.pyplot as plt\n",
    "from wordcloud import WordCloud\n",
    "from nltk.tokenize import word_tokenize"
   ]
  },
  {
   "cell_type": "code",
   "execution_count": 84,
   "metadata": {},
   "outputs": [
    {
     "data": {
      "text/html": [
       "<div>\n",
       "<style scoped>\n",
       "    .dataframe tbody tr th:only-of-type {\n",
       "        vertical-align: middle;\n",
       "    }\n",
       "\n",
       "    .dataframe tbody tr th {\n",
       "        vertical-align: top;\n",
       "    }\n",
       "\n",
       "    .dataframe thead th {\n",
       "        text-align: right;\n",
       "    }\n",
       "</style>\n",
       "<table border=\"1\" class=\"dataframe\">\n",
       "  <thead>\n",
       "    <tr style=\"text-align: right;\">\n",
       "      <th></th>\n",
       "      <th>0</th>\n",
       "    </tr>\n",
       "  </thead>\n",
       "  <tbody>\n",
       "    <tr>\n",
       "      <th>0</th>\n",
       "      <td>shrimp,almonds,avocado,vegetables mix,green gr...</td>\n",
       "    </tr>\n",
       "    <tr>\n",
       "      <th>1</th>\n",
       "      <td>burgers,meatballs,eggs</td>\n",
       "    </tr>\n",
       "    <tr>\n",
       "      <th>2</th>\n",
       "      <td>chutney</td>\n",
       "    </tr>\n",
       "    <tr>\n",
       "      <th>3</th>\n",
       "      <td>turkey,avocado</td>\n",
       "    </tr>\n",
       "    <tr>\n",
       "      <th>4</th>\n",
       "      <td>mineral water,milk,energy bar,whole wheat rice...</td>\n",
       "    </tr>\n",
       "  </tbody>\n",
       "</table>\n",
       "</div>"
      ],
      "text/plain": [
       "                                                   0\n",
       "0  shrimp,almonds,avocado,vegetables mix,green gr...\n",
       "1                             burgers,meatballs,eggs\n",
       "2                                            chutney\n",
       "3                                     turkey,avocado\n",
       "4  mineral water,milk,energy bar,whole wheat rice..."
      ]
     },
     "execution_count": 84,
     "metadata": {},
     "output_type": "execute_result"
    }
   ],
   "source": [
    "# 数据读取\n",
    "Market_Basket = pd.read_csv('Market_Basket_Optimisation.csv', header=None, sep='\\t')\n",
    "Market_Basket.head()"
   ]
  },
  {
   "cell_type": "code",
   "execution_count": 85,
   "metadata": {},
   "outputs": [
    {
     "name": "stdout",
     "output_type": "stream",
     "text": [
      "[['shrimp', 'almonds', 'avocado', 'vegetables mix', 'green grapes', 'whole weat flour', 'yams', 'cottage cheese', 'energy drink', 'tomato juice', 'low fat yogurt', 'green tea', 'honey', 'salad', 'mineral water', 'salmon', 'antioxydant juice', 'frozen smoothie', 'spinach', 'olive oil'], ['burgers', 'meatballs', 'eggs'], ['chutney'], ['turkey', 'avocado'], ['mineral water', 'milk', 'energy bar', 'whole wheat rice', 'green tea']]\n"
     ]
    }
   ],
   "source": [
    "# 生成一个订单列表 transactions\n",
    "transactions = list(Market_Basket[0].str.split(','))\n",
    "\n",
    "# 前五个订单\n",
    "print(transactions[0:5])      "
   ]
  },
  {
   "cell_type": "code",
   "execution_count": 86,
   "metadata": {},
   "outputs": [
    {
     "name": "stdout",
     "output_type": "stream",
     "text": [
      "['shrimp', 'almonds', 'avocado', 'vegetables mix', 'green grapes', 'whole weat flour', 'yams', 'cottage cheese', 'energy drink', 'tomato juice', 'low fat yogurt', 'green tea', 'honey', 'salad', 'mineral water', 'salmon', 'antioxydant juice', 'frozen smoothie', 'spinach', 'olive oil', 'burgers', 'meatballs', 'eggs', 'chutney', 'turkey', 'avocado', 'mineral water', 'milk', 'energy bar', 'whole wheat rice', 'green tea']\n"
     ]
    }
   ],
   "source": [
    "# 将所有订单的商品放到Items列表中\n",
    "Items=[]\n",
    "for Item in transactions:\n",
    "    Items += Item\n",
    "\n",
    "# 前31个商品\n",
    "print(Items[0:31])"
   ]
  },
  {
   "cell_type": "code",
   "execution_count": 93,
   "metadata": {},
   "outputs": [
    {
     "name": "stdout",
     "output_type": "stream",
     "text": [
      "['shrimp', 'almonds', 'avocado', 'vegetables_mix', 'green_grapes', 'whole_weat_flour', 'yams', 'cottage_cheese', 'energy_drink', 'tomato_juice', 'low_fat_yogurt', 'green_tea', 'honey', 'salad', 'mineral_water', 'salmon', 'antioxydant_juice', 'frozen_smoothie', 'spinach', 'olive_oil', 'burgers', 'meatballs', 'eggs', 'chutney', 'turkey', 'avocado', 'mineral_water', 'milk', 'energy_bar', 'whole_wheat_rice', 'green_tea']\n"
     ]
    }
   ],
   "source": [
    "# 由于接下来按照空格分词，因此需要将'vegetables mix'这样多个单词表示单个商品的样本，\n",
    "# 用'_'先拼接起来，避免最后分开计算'vegetables'和'mix'的词频\n",
    "for i, u in enumerate(Market_Basket_str):\n",
    "    Items[i] = Items[i].replace(' ', '_')\n",
    "\n",
    "# 前31个商品\n",
    "print(Items[0:31])"
   ]
  },
  {
   "cell_type": "code",
   "execution_count": 94,
   "metadata": {},
   "outputs": [],
   "source": [
    "def Top_N(data=Items, N=10):\n",
    "    '''\n",
    "    输入商品列表Items，返回数量最多的前N个Item\n",
    "    '''\n",
    "    df_topN = pd.DataFrame(data, columns=['Item']).value_counts()[:N]\n",
    "    return df_topN"
   ]
  },
  {
   "cell_type": "code",
   "execution_count": 95,
   "metadata": {},
   "outputs": [],
   "source": [
    "def remove_stop_word(stop_words, x):\n",
    "    '''\n",
    "    stop_words: list，停用词列表；\n",
    "    x: str.\n",
    "    '''\n",
    "    for stop_word in stop_words:\n",
    "        x.replace(stop_word, ' ')\n",
    "    return x"
   ]
  },
  {
   "cell_type": "code",
   "execution_count": 105,
   "metadata": {},
   "outputs": [],
   "source": [
    "def create_wordcloud(stop_words, text):\n",
    "    '''\n",
    "    生成词云\n",
    "    '''\n",
    "    text = remove_stop_word(stop_words, text)\n",
    "    cut_word = ' '.join(word_tokenize(text))        \n",
    "    \n",
    "    # 创建WordCloud实例\n",
    "    wc = WordCloud(max_words=10,                  \n",
    "                   height=300, \n",
    "                   width=400, \n",
    "                   collocations=False)      \n",
    "    wordcloud = wc.generate(cut_word)\n",
    "    \n",
    "    plt.imshow(wordcloud)\n",
    "    plt.axis('off')\n",
    "    plt.show()"
   ]
  },
  {
   "cell_type": "code",
   "execution_count": 106,
   "metadata": {},
   "outputs": [
    {
     "data": {
      "image/png": "[encoded data removed]",
      "text/plain": [
       "<Figure size 432x288 with 1 Axes>"
      ]
     },
     "metadata": {
      "needs_background": "light"
     },
     "output_type": "display_data"
    }
   ],
   "source": [
    "stopwords = ['food', 'The']\n",
    "create_wordcloud(stopwords, ' '.join(Items))"
   ]
  },
  {
   "cell_type": "code",
   "execution_count": 107,
   "metadata": {},
   "outputs": [
    {
     "data": {
      "text/plain": [
       "Item             \n",
       "mineral_water        1788\n",
       "eggs                 1348\n",
       "spaghetti            1306\n",
       "french_fries         1282\n",
       "chocolate            1230\n",
       "green_tea             991\n",
       "milk                  972\n",
       "ground_beef           737\n",
       "frozen_vegetables     715\n",
       "pancakes              713\n",
       "dtype: int64"
      ]
     },
     "execution_count": 107,
     "metadata": {},
     "output_type": "execute_result"
    }
   ],
   "source": [
    "Top_N(Items, 10)"
   ]
  },
  {
   "cell_type": "code",
   "execution_count": null,
   "metadata": {},
   "outputs": [],
   "source": []
  }
 ],
 "metadata": {
  "kernelspec": {
   "display_name": "Python 3",
   "language": "python",
   "name": "python3"
  },
  "language_info": {
   "codemirror_mode": {
    "name": "ipython",
    "version": 3
   },
   "file_extension": ".py",
   "mimetype": "text/x-python",
   "name": "python",
   "nbconvert_exporter": "python",
   "pygments_lexer": "ipython3",
   "version": "3.6.8rc1"
  }
 },
 "nbformat": 4,
 "nbformat_minor": 4
}
