{
 "cells": [
  {
   "cell_type": "markdown",
   "metadata": {},
   "source": [
    "### 本项目为新闻文本分类，利用基于LSTM的TextRNN对十个类别的新闻文本进行分类，实验环境为：Tesla P100"
   ]
  },
  {
   "cell_type": "code",
   "execution_count": 1,
   "metadata": {},
   "outputs": [],
   "source": [
    "import numpy as np\n",
    "import time\n",
    "from tqdm import tqdm\n",
    "import tensorflow.contrib.keras as kr\n",
    "\n",
    "import torch \n",
    "import torch.nn as nn\n",
    "from torch.utils.data import TensorDataset, DataLoader\n",
    "import torch.optim as optim"
   ]
  },
  {
   "cell_type": "code",
   "execution_count": 2,
   "metadata": {},
   "outputs": [],
   "source": [
    "# 读取分类目录，固定\n",
    "def read_category():\n",
    "    categories = ['体育', '财经', '房产', '家居', '教育', '科技', '时尚', '时政', '游戏', '娱乐']\n",
    "    categories = [x for x in categories]\n",
    "    cat_to_id = dict(zip(categories, range(len(categories)))) \n",
    "    return categories, cat_to_id"
   ]
  },
  {
   "cell_type": "code",
   "execution_count": 3,
   "metadata": {},
   "outputs": [],
   "source": [
    "categories, cat_to_id = read_category()"
   ]
  },
  {
   "cell_type": "code",
   "execution_count": 4,
   "metadata": {},
   "outputs": [],
   "source": [
    "# 读取词汇表\n",
    "def read_vocab(vocab_dir):\n",
    "    with open(vocab_dir, 'r', encoding='utf-8', errors='ignore') as fp:\n",
    "        words = [_.strip() for _ in fp.readlines()]\n",
    "    word_to_id = dict(zip(words, range(len(words))))\n",
    "    return words, word_to_id"
   ]
  },
  {
   "cell_type": "code",
   "execution_count": 5,
   "metadata": {},
   "outputs": [],
   "source": [
    "words, word_to_id = read_vocab('cnews.vocab.txt')"
   ]
  },
  {
   "cell_type": "code",
   "execution_count": 6,
   "metadata": {},
   "outputs": [
    {
     "data": {
      "text/plain": [
       "5000"
      ]
     },
     "execution_count": 6,
     "metadata": {},
     "output_type": "execute_result"
    }
   ],
   "source": [
    "vocab_size = len(words)\n",
    "vocab_size"
   ]
  },
  {
   "cell_type": "code",
   "execution_count": 7,
   "metadata": {},
   "outputs": [],
   "source": [
    "# 将文件转换为id表示\n",
    "def process_file(filename, word_to_id, cat_to_id, max_length=600):\n",
    "    contents, labels = [], []\n",
    "    with open(filename, 'r', encoding='utf-8', errors='ignore') as f:\n",
    "        for line in f:\n",
    "            try:\n",
    "                label, content = line.strip().split('\\t')\n",
    "                if content:\n",
    "                    contents.append(list(content))\n",
    "                    labels.append(label)\n",
    "            except:\n",
    "                pass\n",
    "    data_id, label_id = [], []\n",
    "    for i in range(len(contents)):\n",
    "        data_id.append([word_to_id[x] for x in contents[i] if x in word_to_id])#将每句话id化 \n",
    "        label_id.append(cat_to_id[labels[i]])#每句话对应的类别的id\n",
    "    \n",
    "    # # 使用keras提供的pad_sequences来将文本pad为固定长度\n",
    "    x_pad = kr.preprocessing.sequence.pad_sequences(data_id, max_length)\n",
    "    y_pad = kr.utils.to_categorical(label_id, num_classes=len(cat_to_id))  # 将标签转换为one-hot表示\n",
    "    #\n",
    "    return x_pad, y_pad"
   ]
  },
  {
   "cell_type": "code",
   "execution_count": 8,
   "metadata": {},
   "outputs": [],
   "source": [
    "x_train, y_train = process_file('./cnews.train.txt', word_to_id, cat_to_id)\n",
    "x_val, y_val = process_file('./cnews.val.txt', word_to_id, cat_to_id)\n",
    "x_test, y_test = process_file('./cnews.test.txt', word_to_id, cat_to_id)"
   ]
  },
  {
   "cell_type": "code",
   "execution_count": 11,
   "metadata": {},
   "outputs": [
    {
     "name": "stdout",
     "output_type": "stream",
     "text": [
      "(50000, 600) (50000, 10)\n",
      "(5000, 600) (5000, 10)\n",
      "(10000, 600) (10000, 10)\n"
     ]
    }
   ],
   "source": [
    "print(x_train.shape, y_train.shape)\n",
    "print(x_val.shape, y_val.shape)\n",
    "print(x_test.shape, y_test.shape)"
   ]
  },
  {
   "cell_type": "code",
   "execution_count": 12,
   "metadata": {},
   "outputs": [],
   "source": [
    "# from_numpy\n",
    "x_train, y_train = torch.from_numpy(x_train), torch.from_numpy(y_train)\n",
    "x_val, y_val= torch.from_numpy(x_val), torch.from_numpy(y_val)\n",
    "x_test, y_test= torch.from_numpy(x_test), torch.from_numpy(y_test)"
   ]
  },
  {
   "cell_type": "code",
   "execution_count": 13,
   "metadata": {},
   "outputs": [],
   "source": [
    "# 转换LongTensor\n",
    "x_train, y_train = x_train.type(torch.LongTensor), y_train.type(torch.LongTensor)\n",
    "x_val, y_val= x_val.type(torch.LongTensor), y_val.type(torch.LongTensor)\n",
    "x_test, y_test= x_test.type(torch.LongTensor), y_test.type(torch.LongTensor)"
   ]
  },
  {
   "cell_type": "code",
   "execution_count": 14,
   "metadata": {},
   "outputs": [],
   "source": [
    "# 超参数\n",
    "Batch_size=512\n",
    "Learning_rate = 0.01\n",
    "Epoch=50\n",
    "Theshold = 10\n",
    "\n",
    "device = torch.device('cuda:0' if torch.cuda.is_available else 'cpu')"
   ]
  },
  {
   "cell_type": "code",
   "execution_count": 15,
   "metadata": {},
   "outputs": [],
   "source": [
    "# 封装\n",
    "train = TensorDataset(x_train.to(device), y_train.to(device))\n",
    "val = TensorDataset(x_val.to(device), y_val.to(device))\n",
    "test = TensorDataset(x_test.to(device), y_test.to(device))"
   ]
  },
  {
   "cell_type": "code",
   "execution_count": 16,
   "metadata": {},
   "outputs": [],
   "source": [
    "# 分批\n",
    "train_loader = DataLoader(train, batch_size=Batch_size, shuffle=True)\n",
    "val_loader = DataLoader(val, batch_size=Batch_size, shuffle=True)\n",
    "test_loader = DataLoader(test, batch_size=Batch_size, shuffle=True)"
   ]
  },
  {
   "cell_type": "code",
   "execution_count": 17,
   "metadata": {
    "scrolled": true
   },
   "outputs": [
    {
     "data": {
      "text/plain": [
       "TextRNN(\n",
       "  (embedding): Embedding(5000, 128)\n",
       "  (rnn): LSTM(128, 256, num_layers=2, bidirectional=True)\n",
       "  (f1): Sequential(\n",
       "    (0): Linear(in_features=256, out_features=128, bias=True)\n",
       "    (1): Dropout(p=0.8, inplace=False)\n",
       "    (2): ReLU()\n",
       "  )\n",
       "  (f2): Sequential(\n",
       "    (0): Linear(in_features=128, out_features=10, bias=True)\n",
       "    (1): Softmax(dim=None)\n",
       "  )\n",
       ")"
      ]
     },
     "execution_count": 17,
     "metadata": {},
     "output_type": "execute_result"
    }
   ],
   "source": [
    "from model_LSTM import TextRNN\n",
    "model = TextRNN()\n",
    "model.to(device)"
   ]
  },
  {
   "cell_type": "code",
   "execution_count": 18,
   "metadata": {},
   "outputs": [],
   "source": [
    "# 配置训练\n",
    "optimizer = optim.Adam(model.parameters(), lr=Learning_rate)\n",
    "criterien = nn.CrossEntropyLoss()"
   ]
  },
  {
   "cell_type": "code",
   "execution_count": 19,
   "metadata": {},
   "outputs": [],
   "source": [
    "def val(model, val_loader):\n",
    "    # 验证函数\n",
    "    with torch.no_grad():\n",
    "        model.eval()\n",
    "        loss_counts = 0\n",
    "        for i,(x,y) in enumerate(val_loader): \n",
    "            y_pred = model(x)\n",
    "            loss = criterien(y_pred, torch.max(y, axis=1).indices)\n",
    "            loss_counts += loss\n",
    "        loss_counts /= (i+1)\n",
    "        return loss_counts"
   ]
  },
  {
   "cell_type": "code",
   "execution_count": 20,
   "metadata": {
    "scrolled": false
   },
   "outputs": [
    {
     "name": "stderr",
     "output_type": "stream",
     "text": [
      "0it [00:00, ?it/s]d:\\programs\\python\\python36\\lib\\site-packages\\torch\\nn\\modules\\container.py:117: UserWarning: Implicit dimension choice for softmax has been deprecated. Change the call to include dim=X as an argument.\n",
      "  input = module(input)\n",
      "98it [05:17,  3.24s/it]\n",
      "0it [00:00, ?it/s]"
     ]
    },
    {
     "name": "stdout",
     "output_type": "stream",
     "text": [
      "Epoch: 0 Train_loss: 2.116887092590332 Val_loss: 2.115765333175659 Eta: 320.30424404144287\n"
     ]
    },
    {
     "name": "stderr",
     "output_type": "stream",
     "text": [
      "98it [05:16,  3.23s/it]\n",
      "0it [00:00, ?it/s]"
     ]
    },
    {
     "name": "stdout",
     "output_type": "stream",
     "text": [
      "Epoch: 1 Train_loss: 2.0902795791625977 Val_loss: 2.1036536693573 Eta: 319.34046363830566\n"
     ]
    },
    {
     "name": "stderr",
     "output_type": "stream",
     "text": [
      "98it [05:16,  3.23s/it]\n",
      "0it [00:00, ?it/s]"
     ]
    },
    {
     "name": "stdout",
     "output_type": "stream",
     "text": [
      "Epoch: 2 Train_loss: 2.1007728576660156 Val_loss: 2.1001336574554443 Eta: 319.80886006355286\n"
     ]
    },
    {
     "name": "stderr",
     "output_type": "stream",
     "text": [
      "98it [05:16,  3.23s/it]\n",
      "0it [00:00, ?it/s]"
     ]
    },
    {
     "name": "stdout",
     "output_type": "stream",
     "text": [
      "Epoch: 3 Train_loss: 2.108156442642212 Val_loss: 2.1106765270233154 Eta: 319.44072341918945\n"
     ]
    },
    {
     "name": "stderr",
     "output_type": "stream",
     "text": [
      "98it [05:16,  3.23s/it]\n",
      "0it [00:00, ?it/s]"
     ]
    },
    {
     "name": "stdout",
     "output_type": "stream",
     "text": [
      "Epoch: 4 Train_loss: 2.0712621212005615 Val_loss: 2.1058876514434814 Eta: 319.64994621276855\n"
     ]
    },
    {
     "name": "stderr",
     "output_type": "stream",
     "text": [
      "98it [05:17,  3.24s/it]\n",
      "0it [00:00, ?it/s]"
     ]
    },
    {
     "name": "stdout",
     "output_type": "stream",
     "text": [
      "Epoch: 5 Train_loss: 2.100489377975464 Val_loss: 2.107815980911255 Eta: 319.8712944984436\n"
     ]
    },
    {
     "name": "stderr",
     "output_type": "stream",
     "text": [
      "98it [05:16,  3.23s/it]\n",
      "0it [00:00, ?it/s]"
     ]
    },
    {
     "name": "stdout",
     "output_type": "stream",
     "text": [
      "Epoch: 6 Train_loss: 2.0218071937561035 Val_loss: 2.109494924545288 Eta: 319.4960844516754\n"
     ]
    },
    {
     "name": "stderr",
     "output_type": "stream",
     "text": [
      "98it [05:16,  3.23s/it]\n",
      "0it [00:00, ?it/s]"
     ]
    },
    {
     "name": "stdout",
     "output_type": "stream",
     "text": [
      "Epoch: 7 Train_loss: 2.101105213165283 Val_loss: 2.107860565185547 Eta: 319.71619939804077\n"
     ]
    },
    {
     "name": "stderr",
     "output_type": "stream",
     "text": [
      "98it [05:17,  3.24s/it]\n",
      "0it [00:00, ?it/s]"
     ]
    },
    {
     "name": "stdout",
     "output_type": "stream",
     "text": [
      "Epoch: 8 Train_loss: 2.104611873626709 Val_loss: 2.106818914413452 Eta: 320.1677086353302\n"
     ]
    },
    {
     "name": "stderr",
     "output_type": "stream",
     "text": [
      "98it [05:19,  3.26s/it]\n",
      "0it [00:00, ?it/s]"
     ]
    },
    {
     "name": "stdout",
     "output_type": "stream",
     "text": [
      "Epoch: 9 Train_loss: 2.0502917766571045 Val_loss: 2.1060903072357178 Eta: 322.32800364494324\n"
     ]
    },
    {
     "name": "stderr",
     "output_type": "stream",
     "text": [
      "98it [05:19,  3.26s/it]\n",
      "0it [00:00, ?it/s]"
     ]
    },
    {
     "name": "stdout",
     "output_type": "stream",
     "text": [
      "Epoch: 10 Train_loss: 2.076555013656616 Val_loss: 2.102710723876953 Eta: 322.2515938282013\n"
     ]
    },
    {
     "name": "stderr",
     "output_type": "stream",
     "text": [
      "98it [05:28,  3.36s/it]\n",
      "0it [00:00, ?it/s]"
     ]
    },
    {
     "name": "stdout",
     "output_type": "stream",
     "text": [
      "Epoch: 11 Train_loss: 2.1127536296844482 Val_loss: 2.10030198097229 Eta: 331.67942094802856\n"
     ]
    },
    {
     "name": "stderr",
     "output_type": "stream",
     "text": [
      "98it [05:19,  3.26s/it]\n"
     ]
    },
    {
     "name": "stdout",
     "output_type": "stream",
     "text": [
      "Epoch: 12 Train_loss: 2.070709228515625 Val_loss: 2.1065433025360107 Eta: 321.7263207435608\n",
      "Early_stopping on12...\n"
     ]
    }
   ],
   "source": [
    "count = 0                            # 计数器，记录val_loss不下降的次数\n",
    "val_min = float('inf')               # 初始化最小val_loss\n",
    " \n",
    "loss_curse = []                      # 记录train loss\n",
    "val_loss_curse=[]                    # 记录val loss\n",
    "val_loss_per_epoch = []\n",
    "\n",
    "for epoch in range(Epoch):\n",
    "    start_time = time.time()\n",
    "    for i,(x,y) in tqdm(enumerate(train_loader)):\n",
    "        model.train()\n",
    "        y_pred = model(x)\n",
    "        loss = criterien(y_pred, torch.max(y, axis=1).indices)\n",
    "        \n",
    "        loss_curse.append(loss.item())\n",
    "        \n",
    "        optimizer.zero_grad()\n",
    "        loss.backward()\n",
    "        optimizer.step()\n",
    "        \n",
    "        # 验证\n",
    "        val_loss = val(model, val_loader)\n",
    "        val_loss_curse.append(val_loss)\n",
    "        \n",
    "    \n",
    "    \n",
    "    # 每一个epoch,验证一次，看val_loss, 下降则保存模型，若不下降则。。。early_stopping\n",
    "    val_loss = val(model, val_loader)\n",
    "    val_loss_per_epoch.append(val_loss)\n",
    "    \n",
    "    print('Epoch:', epoch, 'Train_loss:', loss.item(), 'Val_loss:', val_loss.item(), 'Eta:', time.time()-start_time)\n",
    "    \n",
    "    if val_loss <= val_min:\n",
    "        count = 0\n",
    "        val_min = val_loss\n",
    "        torch.save(model, str(epoch)+'_Lstm.pt')\n",
    "    else:\n",
    "        count += 1\n",
    "        if count >= Theshold:\n",
    "            print('Early_stopping on' + str(epoch) + '...')\n",
    "            torch.save(model, 'Last' + str(epoch) + '_Lstm.pt')\n",
    "            break\n",
    "        else:\n",
    "            continue"
   ]
  },
  {
   "cell_type": "code",
   "execution_count": 24,
   "metadata": {},
   "outputs": [
    {
     "data": {
      "image/png": "[encoded data removed]",
      "text/plain": [
       "<Figure size 720x576 with 1 Axes>"
      ]
     },
     "metadata": {
      "needs_background": "light"
     },
     "output_type": "display_data"
    }
   ],
   "source": [
    "# 绘制学习曲线\n",
    "import matplotlib.pyplot as plt\n",
    "plt.figure(figsize=(10,8))\n",
    "plt.plot(range(len(loss_curse)), loss_curse, c='b')\n",
    "plt.plot(range(len(val_loss_curse)), val_loss_curse, c='r')\n",
    "plt.legend(['train_loss', 'val_loss'])\n",
    "plt.show()"
   ]
  },
  {
   "cell_type": "code",
   "execution_count": 22,
   "metadata": {},
   "outputs": [
    {
     "name": "stderr",
     "output_type": "stream",
     "text": [
      "d:\\programs\\python\\python36\\lib\\site-packages\\torch\\nn\\modules\\container.py:117: UserWarning: Implicit dimension choice for softmax has been deprecated. Change the call to include dim=X as an argument.\n",
      "  input = module(input)\n"
     ]
    },
    {
     "name": "stdout",
     "output_type": "stream",
     "text": [
      "accuracy 0.39486443014705885\n"
     ]
    }
   ],
   "source": [
    "# 测试\n",
    "with torch.no_grad():\n",
    "    model = torch.load('Last' + str(epoch) + '_Lstm.pt')\n",
    "    model.eval()\n",
    "    \n",
    "    result = []\n",
    "    acc = 0\n",
    "    loss_counts = 0\n",
    "    for i,(x,y) in enumerate(test_loader): \n",
    "        y_pred = model(x)\n",
    "        y = torch.max(y, axis=1).indices\n",
    "        loss = criterien(y_pred, y)\n",
    "        loss_counts += loss.item()\n",
    "        acc += (torch.max(y_pred.cpu(), axis=1).indices == y.cpu()).sum().numpy() / y.shape[0]\n",
    "        accuracy = acc/(i+1)\n",
    "        result.append(y_pred)\n",
    "    acc /= len(test_loader)\n",
    "    loss_counts /= len(test_loader)\n",
    "    print('accuracy',acc)"
   ]
  }
 ],
 "metadata": {
  "kernelspec": {
   "display_name": "Python 3",
   "language": "python",
   "name": "python3"
  },
  "language_info": {
   "codemirror_mode": {
    "name": "ipython",
    "version": 3
   },
   "file_extension": ".py",
   "mimetype": "text/x-python",
   "name": "python",
   "nbconvert_exporter": "python",
   "pygments_lexer": "ipython3",
   "version": "3.6.8"
  }
 },
 "nbformat": 4,
 "nbformat_minor": 4
}
