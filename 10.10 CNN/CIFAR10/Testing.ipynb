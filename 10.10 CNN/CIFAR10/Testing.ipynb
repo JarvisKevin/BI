{
 "cells": [
  {
   "cell_type": "markdown",
   "metadata": {},
   "source": [
    "## 测试部分"
   ]
  },
  {
   "cell_type": "code",
   "execution_count": 1,
   "metadata": {},
   "outputs": [],
   "source": [
    "import torch\n",
    "import torchvision\n",
    "import torchvision.datasets as datasets\n",
    "import torchvision.transforms as transforms\n",
    "from torch.utils.data import DataLoader\n",
    "from efficientnet_pytorch import EfficientNet\n",
    "\n",
    "transform = transforms.Compose([\n",
    "    transforms.Resize((224,224)),\n",
    "    transforms.ToTensor()\n",
    "])\n",
    "\n",
    "test_data = datasets.CIFAR10('./data/cifar-10-python/', transform = transform, train=False)\n",
    "test_loader = DataLoader(test_data, batch_size=128)"
   ]
  },
  {
   "cell_type": "code",
   "execution_count": 2,
   "metadata": {},
   "outputs": [
    {
     "name": "stdout",
     "output_type": "stream",
     "text": [
      "Loaded pretrained weights for efficientnet-b0\n",
      "testing......\n",
      "10000测试图像 准确率:96.5600%\n"
     ]
    }
   ],
   "source": [
    "net = EfficientNet.from_pretrained('efficientnet-b0')\n",
    "net._fc.out_features=10\n",
    "net = torch.load('./EfficientNet-b019.pt')\n",
    "\n",
    "device = torch.device('cuda:1')\n",
    "\n",
    "\n",
    "# testing\n",
    "print('testing......')\n",
    "# 测试\n",
    "with torch.no_grad():\n",
    "    net.eval()\n",
    "    correct = 0\n",
    "    total = 0\n",
    "\n",
    "    for data in test_loader:\n",
    "        images, labels = data\n",
    "        images, labels = images.to(device), labels.to(device)\n",
    "        out = net(images)\n",
    "        _, predicted = torch.max(out.data, 1)           # 输出是10个数，分别代表每一类的概率。(max_value, index)=torch.max(input,dim)\n",
    "        total += labels.size(0)\n",
    "        correct += (predicted == labels).sum().item()\n",
    "\n",
    "    #输出识别准确率\n",
    "    print('10000测试图像 准确率:{:.4f}%'.format(100 * correct / total))"
   ]
  },
  {
   "cell_type": "markdown",
   "metadata": {},
   "source": [
    "#### Densenet121"
   ]
  },
  {
   "cell_type": "code",
   "execution_count": 3,
   "metadata": {},
   "outputs": [
    {
     "name": "stdout",
     "output_type": "stream",
     "text": [
      "testing......\n",
      "10000测试图像 准确率:95.9800%\n"
     ]
    }
   ],
   "source": [
    "net = torchvision.models.densenet121()\n",
    "net.classifier.out_features = 10\n",
    "net = torch.load('./DenseNet121_19.pt')\n",
    "\n",
    "device = torch.device('cuda:0')\n",
    "\n",
    "\n",
    "# testing\n",
    "print('testing......')\n",
    "# 测试\n",
    "with torch.no_grad():\n",
    "    net.eval()\n",
    "    correct = 0\n",
    "    total = 0\n",
    "\n",
    "    for data in test_loader:\n",
    "        images, labels = data\n",
    "        images, labels = images.to(device), labels.to(device)\n",
    "        out = net(images)\n",
    "        _, predicted = torch.max(out.data, 1)           # 输出是10个数，分别代表每一类的概率。(max_value, index)=torch.max(input,dim)\n",
    "        total += labels.size(0)\n",
    "        correct += (predicted == labels).sum().item()\n",
    "\n",
    "    #输出识别准确率\n",
    "    print('10000测试图像 准确率:{:.4f}%'.format(100 * correct / total))"
   ]
  },
  {
   "cell_type": "markdown",
   "metadata": {},
   "source": [
    "#### Resnet50"
   ]
  },
  {
   "cell_type": "code",
   "execution_count": 5,
   "metadata": {},
   "outputs": [
    {
     "name": "stdout",
     "output_type": "stream",
     "text": [
      "testing......\n",
      "10000测试图像 准确率:93.3500%\n"
     ]
    }
   ],
   "source": [
    "net = torchvision.models.resnet50()\n",
    "net.fc.out_features = 10\n",
    "net = torch.load('./resnet50_19.pt')\n",
    "\n",
    "device = torch.device('cuda:1')\n",
    "\n",
    "# testing\n",
    "print('testing......')\n",
    "# 测试\n",
    "with torch.no_grad():\n",
    "    net.eval()\n",
    "    correct = 0\n",
    "    total = 0\n",
    "\n",
    "    for data in test_loader:\n",
    "        images, labels = data\n",
    "        images, labels = images.to(device), labels.to(device)\n",
    "        out = net(images)\n",
    "        _, predicted = torch.max(out.data, 1)           # 输出是10个数，分别代表每一类的概率。(max_value, index)=torch.max(input,dim)\n",
    "        total += labels.size(0)\n",
    "        correct += (predicted == labels).sum().item()\n",
    "\n",
    "    #输出识别准确率\n",
    "    print('10000测试图像 准确率:{:.4f}%'.format(100 * correct / total))"
   ]
  },
  {
   "cell_type": "code",
   "execution_count": null,
   "metadata": {},
   "outputs": [],
   "source": []
  }
 ],
 "metadata": {
  "kernelspec": {
   "display_name": "Python 3",
   "language": "python",
   "name": "python3"
  },
  "language_info": {
   "codemirror_mode": {
    "name": "ipython",
    "version": 3
   },
   "file_extension": ".py",
   "mimetype": "text/x-python",
   "name": "python",
   "nbconvert_exporter": "python",
   "pygments_lexer": "ipython3",
   "version": "3.6.8"
  }
 },
 "nbformat": 4,
 "nbformat_minor": 4
}
