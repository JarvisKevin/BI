{
 "cells": [
  {
   "cell_type": "code",
   "execution_count": 1,
   "metadata": {},
   "outputs": [],
   "source": [
    "import numpy as np\n",
    "import pandas as pd\n",
    "import seaborn as sns\n",
    "import matplotlib.pyplot as plt"
   ]
  },
  {
   "cell_type": "code",
   "execution_count": 2,
   "metadata": {},
   "outputs": [
    {
     "data": {
      "text/html": [
       "<div>\n",
       "<style scoped>\n",
       "    .dataframe tbody tr th:only-of-type {\n",
       "        vertical-align: middle;\n",
       "    }\n",
       "\n",
       "    .dataframe tbody tr th {\n",
       "        vertical-align: top;\n",
       "    }\n",
       "\n",
       "    .dataframe thead th {\n",
       "        text-align: right;\n",
       "    }\n",
       "</style>\n",
       "<table border=\"1\" class=\"dataframe\">\n",
       "  <thead>\n",
       "    <tr style=\"text-align: right;\">\n",
       "      <th></th>\n",
       "      <th>Type</th>\n",
       "      <th>Days for shipping (real)</th>\n",
       "      <th>Days for shipment (scheduled)</th>\n",
       "      <th>Benefit per order</th>\n",
       "      <th>Sales per customer</th>\n",
       "      <th>Delivery Status</th>\n",
       "      <th>Late_delivery_risk</th>\n",
       "      <th>Category Id</th>\n",
       "      <th>Category Name</th>\n",
       "      <th>Customer City</th>\n",
       "      <th>...</th>\n",
       "      <th>Order Zipcode</th>\n",
       "      <th>Product Card Id</th>\n",
       "      <th>Product Category Id</th>\n",
       "      <th>Product Description</th>\n",
       "      <th>Product Image</th>\n",
       "      <th>Product Name</th>\n",
       "      <th>Product Price</th>\n",
       "      <th>Product Status</th>\n",
       "      <th>shipping date (DateOrders)</th>\n",
       "      <th>Shipping Mode</th>\n",
       "    </tr>\n",
       "  </thead>\n",
       "  <tbody>\n",
       "    <tr>\n",
       "      <th>0</th>\n",
       "      <td>DEBIT</td>\n",
       "      <td>3</td>\n",
       "      <td>4</td>\n",
       "      <td>91.250000</td>\n",
       "      <td>314.640015</td>\n",
       "      <td>Advance shipping</td>\n",
       "      <td>0</td>\n",
       "      <td>73</td>\n",
       "      <td>Sporting Goods</td>\n",
       "      <td>Caguas</td>\n",
       "      <td>...</td>\n",
       "      <td>NaN</td>\n",
       "      <td>1360</td>\n",
       "      <td>73</td>\n",
       "      <td>NaN</td>\n",
       "      <td>http://images.acmesports.sports/Smart+watch</td>\n",
       "      <td>Smart watch</td>\n",
       "      <td>327.75</td>\n",
       "      <td>0</td>\n",
       "      <td>2/3/2018 22:56</td>\n",
       "      <td>Standard Class</td>\n",
       "    </tr>\n",
       "    <tr>\n",
       "      <th>1</th>\n",
       "      <td>TRANSFER</td>\n",
       "      <td>5</td>\n",
       "      <td>4</td>\n",
       "      <td>-249.089996</td>\n",
       "      <td>311.359985</td>\n",
       "      <td>Late delivery</td>\n",
       "      <td>1</td>\n",
       "      <td>73</td>\n",
       "      <td>Sporting Goods</td>\n",
       "      <td>Caguas</td>\n",
       "      <td>...</td>\n",
       "      <td>NaN</td>\n",
       "      <td>1360</td>\n",
       "      <td>73</td>\n",
       "      <td>NaN</td>\n",
       "      <td>http://images.acmesports.sports/Smart+watch</td>\n",
       "      <td>Smart watch</td>\n",
       "      <td>327.75</td>\n",
       "      <td>0</td>\n",
       "      <td>1/18/2018 12:27</td>\n",
       "      <td>Standard Class</td>\n",
       "    </tr>\n",
       "    <tr>\n",
       "      <th>2</th>\n",
       "      <td>CASH</td>\n",
       "      <td>4</td>\n",
       "      <td>4</td>\n",
       "      <td>-247.779999</td>\n",
       "      <td>309.720001</td>\n",
       "      <td>Shipping on time</td>\n",
       "      <td>0</td>\n",
       "      <td>73</td>\n",
       "      <td>Sporting Goods</td>\n",
       "      <td>San Jose</td>\n",
       "      <td>...</td>\n",
       "      <td>NaN</td>\n",
       "      <td>1360</td>\n",
       "      <td>73</td>\n",
       "      <td>NaN</td>\n",
       "      <td>http://images.acmesports.sports/Smart+watch</td>\n",
       "      <td>Smart watch</td>\n",
       "      <td>327.75</td>\n",
       "      <td>0</td>\n",
       "      <td>1/17/2018 12:06</td>\n",
       "      <td>Standard Class</td>\n",
       "    </tr>\n",
       "    <tr>\n",
       "      <th>3</th>\n",
       "      <td>DEBIT</td>\n",
       "      <td>3</td>\n",
       "      <td>4</td>\n",
       "      <td>22.860001</td>\n",
       "      <td>304.809998</td>\n",
       "      <td>Advance shipping</td>\n",
       "      <td>0</td>\n",
       "      <td>73</td>\n",
       "      <td>Sporting Goods</td>\n",
       "      <td>Los Angeles</td>\n",
       "      <td>...</td>\n",
       "      <td>NaN</td>\n",
       "      <td>1360</td>\n",
       "      <td>73</td>\n",
       "      <td>NaN</td>\n",
       "      <td>http://images.acmesports.sports/Smart+watch</td>\n",
       "      <td>Smart watch</td>\n",
       "      <td>327.75</td>\n",
       "      <td>0</td>\n",
       "      <td>1/16/2018 11:45</td>\n",
       "      <td>Standard Class</td>\n",
       "    </tr>\n",
       "    <tr>\n",
       "      <th>4</th>\n",
       "      <td>PAYMENT</td>\n",
       "      <td>2</td>\n",
       "      <td>4</td>\n",
       "      <td>134.210007</td>\n",
       "      <td>298.250000</td>\n",
       "      <td>Advance shipping</td>\n",
       "      <td>0</td>\n",
       "      <td>73</td>\n",
       "      <td>Sporting Goods</td>\n",
       "      <td>Caguas</td>\n",
       "      <td>...</td>\n",
       "      <td>NaN</td>\n",
       "      <td>1360</td>\n",
       "      <td>73</td>\n",
       "      <td>NaN</td>\n",
       "      <td>http://images.acmesports.sports/Smart+watch</td>\n",
       "      <td>Smart watch</td>\n",
       "      <td>327.75</td>\n",
       "      <td>0</td>\n",
       "      <td>1/15/2018 11:24</td>\n",
       "      <td>Standard Class</td>\n",
       "    </tr>\n",
       "  </tbody>\n",
       "</table>\n",
       "<p>5 rows × 53 columns</p>\n",
       "</div>"
      ],
      "text/plain": [
       "       Type  Days for shipping (real)  Days for shipment (scheduled)  \\\n",
       "0     DEBIT                         3                              4   \n",
       "1  TRANSFER                         5                              4   \n",
       "2      CASH                         4                              4   \n",
       "3     DEBIT                         3                              4   \n",
       "4   PAYMENT                         2                              4   \n",
       "\n",
       "   Benefit per order  Sales per customer   Delivery Status  \\\n",
       "0          91.250000          314.640015  Advance shipping   \n",
       "1        -249.089996          311.359985     Late delivery   \n",
       "2        -247.779999          309.720001  Shipping on time   \n",
       "3          22.860001          304.809998  Advance shipping   \n",
       "4         134.210007          298.250000  Advance shipping   \n",
       "\n",
       "   Late_delivery_risk  Category Id   Category Name Customer City  ...  \\\n",
       "0                   0           73  Sporting Goods        Caguas  ...   \n",
       "1                   1           73  Sporting Goods        Caguas  ...   \n",
       "2                   0           73  Sporting Goods      San Jose  ...   \n",
       "3                   0           73  Sporting Goods   Los Angeles  ...   \n",
       "4                   0           73  Sporting Goods        Caguas  ...   \n",
       "\n",
       "  Order Zipcode Product Card Id Product Category Id  Product Description  \\\n",
       "0           NaN            1360                  73                  NaN   \n",
       "1           NaN            1360                  73                  NaN   \n",
       "2           NaN            1360                  73                  NaN   \n",
       "3           NaN            1360                  73                  NaN   \n",
       "4           NaN            1360                  73                  NaN   \n",
       "\n",
       "                                  Product Image  Product Name Product Price  \\\n",
       "0  http://images.acmesports.sports/Smart+watch   Smart watch         327.75   \n",
       "1  http://images.acmesports.sports/Smart+watch   Smart watch         327.75   \n",
       "2  http://images.acmesports.sports/Smart+watch   Smart watch         327.75   \n",
       "3  http://images.acmesports.sports/Smart+watch   Smart watch         327.75   \n",
       "4  http://images.acmesports.sports/Smart+watch   Smart watch         327.75   \n",
       "\n",
       "  Product Status shipping date (DateOrders)   Shipping Mode  \n",
       "0              0             2/3/2018 22:56  Standard Class  \n",
       "1              0            1/18/2018 12:27  Standard Class  \n",
       "2              0            1/17/2018 12:06  Standard Class  \n",
       "3              0            1/16/2018 11:45  Standard Class  \n",
       "4              0            1/15/2018 11:24  Standard Class  \n",
       "\n",
       "[5 rows x 53 columns]"
      ]
     },
     "execution_count": 2,
     "metadata": {},
     "output_type": "execute_result"
    }
   ],
   "source": [
    "# 读取数据\n",
    "dataset = pd.read_csv('SupplyChain.csv', encoding='unicode_escape')\n",
    "dataset.head()"
   ]
  },
  {
   "cell_type": "code",
   "execution_count": 3,
   "metadata": {},
   "outputs": [
    {
     "data": {
      "text/plain": [
       "(180519, 53)"
      ]
     },
     "execution_count": 3,
     "metadata": {},
     "output_type": "execute_result"
    }
   ],
   "source": [
    "dataset.shape"
   ]
  },
  {
   "cell_type": "code",
   "execution_count": 4,
   "metadata": {},
   "outputs": [
    {
     "data": {
      "text/plain": [
       "Customer Lname              8\n",
       "Customer Zipcode            3\n",
       "Order Zipcode          155679\n",
       "Product Description    180519\n",
       "dtype: int64"
      ]
     },
     "execution_count": 4,
     "metadata": {},
     "output_type": "execute_result"
    }
   ],
   "source": [
    "# 查看缺失值\n",
    "temp = dataset.isna().sum()\n",
    "temp[temp>0]"
   ]
  },
  {
   "cell_type": "markdown",
   "metadata": {},
   "source": [
    "##### Customer Name"
   ]
  },
  {
   "cell_type": "code",
   "execution_count": 5,
   "metadata": {},
   "outputs": [
    {
     "data": {
      "text/plain": [
       "8"
      ]
     },
     "execution_count": 5,
     "metadata": {},
     "output_type": "execute_result"
    }
   ],
   "source": [
    "# 我们把全名做出来\n",
    "dataset['Customer FullName'] = dataset['Customer Fname'] + dataset['Customer Lname']\n",
    "dataset['Customer FullName'].isna().sum()"
   ]
  },
  {
   "cell_type": "code",
   "execution_count": 6,
   "metadata": {},
   "outputs": [],
   "source": [
    "# 还是会有nan，那就将他用‘-’代替\n",
    "dataset['Customer Lname'].fillna('-', inplace=True)"
   ]
  },
  {
   "cell_type": "code",
   "execution_count": 7,
   "metadata": {},
   "outputs": [
    {
     "data": {
      "text/plain": [
       "0"
      ]
     },
     "execution_count": 7,
     "metadata": {},
     "output_type": "execute_result"
    }
   ],
   "source": [
    "dataset['Customer FullName'] = dataset['Customer Fname'] + dataset['Customer Lname']\n",
    "dataset['Customer FullName'].isna().sum()"
   ]
  },
  {
   "cell_type": "markdown",
   "metadata": {},
   "source": [
    "##### 'Customer Zipcode' 用户所在邮编"
   ]
  },
  {
   "cell_type": "code",
   "execution_count": 8,
   "metadata": {},
   "outputs": [
    {
     "data": {
      "text/plain": [
       "35704   NaN\n",
       "46440   NaN\n",
       "82511   NaN\n",
       "Name: Customer Zipcode, dtype: float64"
      ]
     },
     "execution_count": 8,
     "metadata": {},
     "output_type": "execute_result"
    }
   ],
   "source": [
    "dataset['Customer Zipcode'][dataset['Customer Zipcode'].isna()]"
   ]
  },
  {
   "cell_type": "markdown",
   "metadata": {},
   "source": [
    "##### 还有'用户所在街道'的特征，这两个特征大概率是线性相关的，没必要两个都保留"
   ]
  },
  {
   "cell_type": "code",
   "execution_count": 9,
   "metadata": {},
   "outputs": [
    {
     "data": {
      "text/plain": [
       "('Elk Grove', 'Elk Grove', 'El Monte')"
      ]
     },
     "execution_count": 9,
     "metadata": {},
     "output_type": "execute_result"
    }
   ],
   "source": [
    "# 前两个的街道相同\n",
    "dataset['Customer Street'][35704], dataset['Customer Street'][46440], dataset['Customer Street'][82511]"
   ]
  },
  {
   "cell_type": "code",
   "execution_count": 10,
   "metadata": {},
   "outputs": [
    {
     "data": {
      "text/plain": [
       "35704   NaN\n",
       "46440   NaN\n",
       "Name: Customer Zipcode, dtype: float64"
      ]
     },
     "execution_count": 10,
     "metadata": {},
     "output_type": "execute_result"
    }
   ],
   "source": [
    "# Elk Grove只有这两个样本，且Zipcode都缺失，只能自己补充\n",
    "dataset[dataset['Customer Street'] == 'Elk Grove']['Customer Zipcode']"
   ]
  },
  {
   "cell_type": "code",
   "execution_count": 11,
   "metadata": {},
   "outputs": [
    {
     "data": {
      "text/plain": [
       "82511   NaN\n",
       "Name: Customer Zipcode, dtype: float64"
      ]
     },
     "execution_count": 11,
     "metadata": {},
     "output_type": "execute_result"
    }
   ],
   "source": [
    "# El Monte同理\n",
    "dataset[dataset['Customer Street'] == 'El Monte']['Customer Zipcode']"
   ]
  },
  {
   "cell_type": "code",
   "execution_count": 12,
   "metadata": {},
   "outputs": [],
   "source": [
    "# 用1 和 2 分别填充\n",
    "dataset.loc[35704, 'Customer Zipcode'] = 1\n",
    "dataset.loc[46440, 'Customer Zipcode'] = 1\n",
    "dataset.loc[82511, 'Customer Zipcode'] = 2"
   ]
  },
  {
   "cell_type": "code",
   "execution_count": 13,
   "metadata": {},
   "outputs": [
    {
     "data": {
      "text/plain": [
       "82511    2.0\n",
       "Name: Customer Zipcode, dtype: float64"
      ]
     },
     "execution_count": 13,
     "metadata": {},
     "output_type": "execute_result"
    }
   ],
   "source": [
    "# 查看填充后的结果\n",
    "dataset[dataset['Customer Street'] == 'Elk Grove']['Customer Zipcode']\n",
    "dataset[dataset['Customer Street'] == 'El Monte']['Customer Zipcode']"
   ]
  },
  {
   "cell_type": "markdown",
   "metadata": {},
   "source": [
    "##### Order Zipcode订单邮编          155679个缺失，\n",
    "##### 由于有‘订单所在州’这个特征，那邮编应该可以去掉\n",
    "##### Product Description商品描述    180519 这是全nan呀"
   ]
  },
  {
   "cell_type": "code",
   "execution_count": 14,
   "metadata": {},
   "outputs": [
    {
     "data": {
      "text/plain": [
       "(180519, 52)"
      ]
     },
     "execution_count": 14,
     "metadata": {},
     "output_type": "execute_result"
    }
   ],
   "source": [
    "dataset.drop(columns=['Order Zipcode', 'Product Description'], inplace=True)\n",
    "dataset.shape"
   ]
  },
  {
   "cell_type": "code",
   "execution_count": 15,
   "metadata": {},
   "outputs": [
    {
     "name": "stdout",
     "output_type": "stream",
     "text": [
      "<class 'pandas.core.frame.DataFrame'>\n",
      "RangeIndex: 180519 entries, 0 to 180518\n",
      "Data columns (total 52 columns):\n",
      " #   Column                         Non-Null Count   Dtype  \n",
      "---  ------                         --------------   -----  \n",
      " 0   Type                           180519 non-null  object \n",
      " 1   Days for shipping (real)       180519 non-null  int64  \n",
      " 2   Days for shipment (scheduled)  180519 non-null  int64  \n",
      " 3   Benefit per order              180519 non-null  float64\n",
      " 4   Sales per customer             180519 non-null  float64\n",
      " 5   Delivery Status                180519 non-null  object \n",
      " 6   Late_delivery_risk             180519 non-null  int64  \n",
      " 7   Category Id                    180519 non-null  int64  \n",
      " 8   Category Name                  180519 non-null  object \n",
      " 9   Customer City                  180519 non-null  object \n",
      " 10  Customer Country               180519 non-null  object \n",
      " 11  Customer Email                 180519 non-null  object \n",
      " 12  Customer Fname                 180519 non-null  object \n",
      " 13  Customer Id                    180519 non-null  int64  \n",
      " 14  Customer Lname                 180519 non-null  object \n",
      " 15  Customer Password              180519 non-null  object \n",
      " 16  Customer Segment               180519 non-null  object \n",
      " 17  Customer State                 180519 non-null  object \n",
      " 18  Customer Street                180519 non-null  object \n",
      " 19  Customer Zipcode               180519 non-null  float64\n",
      " 20  Department Id                  180519 non-null  int64  \n",
      " 21  Department Name                180519 non-null  object \n",
      " 22  Latitude                       180519 non-null  float64\n",
      " 23  Longitude                      180519 non-null  float64\n",
      " 24  Market                         180519 non-null  object \n",
      " 25  Order City                     180519 non-null  object \n",
      " 26  Order Country                  180519 non-null  object \n",
      " 27  Order Customer Id              180519 non-null  int64  \n",
      " 28  order date (DateOrders)        180519 non-null  object \n",
      " 29  Order Id                       180519 non-null  int64  \n",
      " 30  Order Item Cardprod Id         180519 non-null  int64  \n",
      " 31  Order Item Discount            180519 non-null  float64\n",
      " 32  Order Item Discount Rate       180519 non-null  float64\n",
      " 33  Order Item Id                  180519 non-null  int64  \n",
      " 34  Order Item Product Price       180519 non-null  float64\n",
      " 35  Order Item Profit Ratio        180519 non-null  float64\n",
      " 36  Order Item Quantity            180519 non-null  int64  \n",
      " 37  Sales                          180519 non-null  float64\n",
      " 38  Order Item Total               180519 non-null  float64\n",
      " 39  Order Profit Per Order         180519 non-null  float64\n",
      " 40  Order Region                   180519 non-null  object \n",
      " 41  Order State                    180519 non-null  object \n",
      " 42  Order Status                   180519 non-null  object \n",
      " 43  Product Card Id                180519 non-null  int64  \n",
      " 44  Product Category Id            180519 non-null  int64  \n",
      " 45  Product Image                  180519 non-null  object \n",
      " 46  Product Name                   180519 non-null  object \n",
      " 47  Product Price                  180519 non-null  float64\n",
      " 48  Product Status                 180519 non-null  int64  \n",
      " 49  shipping date (DateOrders)     180519 non-null  object \n",
      " 50  Shipping Mode                  180519 non-null  object \n",
      " 51  Customer FullName              180519 non-null  object \n",
      "dtypes: float64(13), int64(14), object(25)\n",
      "memory usage: 71.6+ MB\n"
     ]
    }
   ],
   "source": [
    "dataset.info()"
   ]
  },
  {
   "cell_type": "code",
   "execution_count": 16,
   "metadata": {},
   "outputs": [
    {
     "data": {
      "text/html": [
       "<div>\n",
       "<style scoped>\n",
       "    .dataframe tbody tr th:only-of-type {\n",
       "        vertical-align: middle;\n",
       "    }\n",
       "\n",
       "    .dataframe tbody tr th {\n",
       "        vertical-align: top;\n",
       "    }\n",
       "\n",
       "    .dataframe thead th {\n",
       "        text-align: right;\n",
       "    }\n",
       "</style>\n",
       "<table border=\"1\" class=\"dataframe\">\n",
       "  <thead>\n",
       "    <tr style=\"text-align: right;\">\n",
       "      <th></th>\n",
       "      <th>Days for shipping (real)</th>\n",
       "      <th>Days for shipment (scheduled)</th>\n",
       "      <th>Benefit per order</th>\n",
       "      <th>Sales per customer</th>\n",
       "      <th>Late_delivery_risk</th>\n",
       "      <th>Category Id</th>\n",
       "      <th>Customer Id</th>\n",
       "      <th>Customer Zipcode</th>\n",
       "      <th>Department Id</th>\n",
       "      <th>Latitude</th>\n",
       "      <th>...</th>\n",
       "      <th>Order Item Product Price</th>\n",
       "      <th>Order Item Profit Ratio</th>\n",
       "      <th>Order Item Quantity</th>\n",
       "      <th>Sales</th>\n",
       "      <th>Order Item Total</th>\n",
       "      <th>Order Profit Per Order</th>\n",
       "      <th>Product Card Id</th>\n",
       "      <th>Product Category Id</th>\n",
       "      <th>Product Price</th>\n",
       "      <th>Product Status</th>\n",
       "    </tr>\n",
       "  </thead>\n",
       "  <tbody>\n",
       "    <tr>\n",
       "      <th>count</th>\n",
       "      <td>180519.000000</td>\n",
       "      <td>180519.000000</td>\n",
       "      <td>180519.000000</td>\n",
       "      <td>180519.000000</td>\n",
       "      <td>180519.000000</td>\n",
       "      <td>180519.000000</td>\n",
       "      <td>180519.000000</td>\n",
       "      <td>180519.000000</td>\n",
       "      <td>180519.000000</td>\n",
       "      <td>180519.000000</td>\n",
       "      <td>...</td>\n",
       "      <td>180519.000000</td>\n",
       "      <td>180519.000000</td>\n",
       "      <td>180519.000000</td>\n",
       "      <td>180519.000000</td>\n",
       "      <td>180519.000000</td>\n",
       "      <td>180519.000000</td>\n",
       "      <td>180519.000000</td>\n",
       "      <td>180519.000000</td>\n",
       "      <td>180519.000000</td>\n",
       "      <td>180519.0</td>\n",
       "    </tr>\n",
       "    <tr>\n",
       "      <th>mean</th>\n",
       "      <td>3.497654</td>\n",
       "      <td>2.931847</td>\n",
       "      <td>21.974989</td>\n",
       "      <td>183.107609</td>\n",
       "      <td>0.548291</td>\n",
       "      <td>31.851451</td>\n",
       "      <td>6691.379495</td>\n",
       "      <td>35920.529972</td>\n",
       "      <td>5.443460</td>\n",
       "      <td>29.719955</td>\n",
       "      <td>...</td>\n",
       "      <td>141.232550</td>\n",
       "      <td>0.120647</td>\n",
       "      <td>2.127638</td>\n",
       "      <td>203.772096</td>\n",
       "      <td>183.107609</td>\n",
       "      <td>21.974989</td>\n",
       "      <td>692.509764</td>\n",
       "      <td>31.851451</td>\n",
       "      <td>141.232550</td>\n",
       "      <td>0.0</td>\n",
       "    </tr>\n",
       "    <tr>\n",
       "      <th>std</th>\n",
       "      <td>1.623722</td>\n",
       "      <td>1.374449</td>\n",
       "      <td>104.433526</td>\n",
       "      <td>120.043670</td>\n",
       "      <td>0.497664</td>\n",
       "      <td>15.640064</td>\n",
       "      <td>4162.918106</td>\n",
       "      <td>37542.434733</td>\n",
       "      <td>1.629246</td>\n",
       "      <td>9.813646</td>\n",
       "      <td>...</td>\n",
       "      <td>139.732492</td>\n",
       "      <td>0.466796</td>\n",
       "      <td>1.453451</td>\n",
       "      <td>132.273077</td>\n",
       "      <td>120.043670</td>\n",
       "      <td>104.433526</td>\n",
       "      <td>336.446807</td>\n",
       "      <td>15.640064</td>\n",
       "      <td>139.732492</td>\n",
       "      <td>0.0</td>\n",
       "    </tr>\n",
       "    <tr>\n",
       "      <th>min</th>\n",
       "      <td>0.000000</td>\n",
       "      <td>0.000000</td>\n",
       "      <td>-4274.979980</td>\n",
       "      <td>7.490000</td>\n",
       "      <td>0.000000</td>\n",
       "      <td>2.000000</td>\n",
       "      <td>1.000000</td>\n",
       "      <td>1.000000</td>\n",
       "      <td>2.000000</td>\n",
       "      <td>-33.937553</td>\n",
       "      <td>...</td>\n",
       "      <td>9.990000</td>\n",
       "      <td>-2.750000</td>\n",
       "      <td>1.000000</td>\n",
       "      <td>9.990000</td>\n",
       "      <td>7.490000</td>\n",
       "      <td>-4274.979980</td>\n",
       "      <td>19.000000</td>\n",
       "      <td>2.000000</td>\n",
       "      <td>9.990000</td>\n",
       "      <td>0.0</td>\n",
       "    </tr>\n",
       "    <tr>\n",
       "      <th>25%</th>\n",
       "      <td>2.000000</td>\n",
       "      <td>2.000000</td>\n",
       "      <td>7.000000</td>\n",
       "      <td>104.379997</td>\n",
       "      <td>0.000000</td>\n",
       "      <td>18.000000</td>\n",
       "      <td>3258.500000</td>\n",
       "      <td>725.000000</td>\n",
       "      <td>4.000000</td>\n",
       "      <td>18.265432</td>\n",
       "      <td>...</td>\n",
       "      <td>50.000000</td>\n",
       "      <td>0.080000</td>\n",
       "      <td>1.000000</td>\n",
       "      <td>119.980003</td>\n",
       "      <td>104.379997</td>\n",
       "      <td>7.000000</td>\n",
       "      <td>403.000000</td>\n",
       "      <td>18.000000</td>\n",
       "      <td>50.000000</td>\n",
       "      <td>0.0</td>\n",
       "    </tr>\n",
       "    <tr>\n",
       "      <th>50%</th>\n",
       "      <td>3.000000</td>\n",
       "      <td>4.000000</td>\n",
       "      <td>31.520000</td>\n",
       "      <td>163.990005</td>\n",
       "      <td>1.000000</td>\n",
       "      <td>29.000000</td>\n",
       "      <td>6457.000000</td>\n",
       "      <td>19380.000000</td>\n",
       "      <td>5.000000</td>\n",
       "      <td>33.144863</td>\n",
       "      <td>...</td>\n",
       "      <td>59.990002</td>\n",
       "      <td>0.270000</td>\n",
       "      <td>1.000000</td>\n",
       "      <td>199.919998</td>\n",
       "      <td>163.990005</td>\n",
       "      <td>31.520000</td>\n",
       "      <td>627.000000</td>\n",
       "      <td>29.000000</td>\n",
       "      <td>59.990002</td>\n",
       "      <td>0.0</td>\n",
       "    </tr>\n",
       "    <tr>\n",
       "      <th>75%</th>\n",
       "      <td>5.000000</td>\n",
       "      <td>4.000000</td>\n",
       "      <td>64.800003</td>\n",
       "      <td>247.399994</td>\n",
       "      <td>1.000000</td>\n",
       "      <td>45.000000</td>\n",
       "      <td>9779.000000</td>\n",
       "      <td>78207.000000</td>\n",
       "      <td>7.000000</td>\n",
       "      <td>39.279617</td>\n",
       "      <td>...</td>\n",
       "      <td>199.990005</td>\n",
       "      <td>0.360000</td>\n",
       "      <td>3.000000</td>\n",
       "      <td>299.950012</td>\n",
       "      <td>247.399994</td>\n",
       "      <td>64.800003</td>\n",
       "      <td>1004.000000</td>\n",
       "      <td>45.000000</td>\n",
       "      <td>199.990005</td>\n",
       "      <td>0.0</td>\n",
       "    </tr>\n",
       "    <tr>\n",
       "      <th>max</th>\n",
       "      <td>6.000000</td>\n",
       "      <td>4.000000</td>\n",
       "      <td>911.799988</td>\n",
       "      <td>1939.989990</td>\n",
       "      <td>1.000000</td>\n",
       "      <td>76.000000</td>\n",
       "      <td>20757.000000</td>\n",
       "      <td>99205.000000</td>\n",
       "      <td>12.000000</td>\n",
       "      <td>48.781933</td>\n",
       "      <td>...</td>\n",
       "      <td>1999.989990</td>\n",
       "      <td>0.500000</td>\n",
       "      <td>5.000000</td>\n",
       "      <td>1999.989990</td>\n",
       "      <td>1939.989990</td>\n",
       "      <td>911.799988</td>\n",
       "      <td>1363.000000</td>\n",
       "      <td>76.000000</td>\n",
       "      <td>1999.989990</td>\n",
       "      <td>0.0</td>\n",
       "    </tr>\n",
       "  </tbody>\n",
       "</table>\n",
       "<p>8 rows × 27 columns</p>\n",
       "</div>"
      ],
      "text/plain": [
       "       Days for shipping (real)  Days for shipment (scheduled)  \\\n",
       "count             180519.000000                  180519.000000   \n",
       "mean                   3.497654                       2.931847   \n",
       "std                    1.623722                       1.374449   \n",
       "min                    0.000000                       0.000000   \n",
       "25%                    2.000000                       2.000000   \n",
       "50%                    3.000000                       4.000000   \n",
       "75%                    5.000000                       4.000000   \n",
       "max                    6.000000                       4.000000   \n",
       "\n",
       "       Benefit per order  Sales per customer  Late_delivery_risk  \\\n",
       "count      180519.000000       180519.000000       180519.000000   \n",
       "mean           21.974989          183.107609            0.548291   \n",
       "std           104.433526          120.043670            0.497664   \n",
       "min         -4274.979980            7.490000            0.000000   \n",
       "25%             7.000000          104.379997            0.000000   \n",
       "50%            31.520000          163.990005            1.000000   \n",
       "75%            64.800003          247.399994            1.000000   \n",
       "max           911.799988         1939.989990            1.000000   \n",
       "\n",
       "         Category Id    Customer Id  Customer Zipcode  Department Id  \\\n",
       "count  180519.000000  180519.000000     180519.000000  180519.000000   \n",
       "mean       31.851451    6691.379495      35920.529972       5.443460   \n",
       "std        15.640064    4162.918106      37542.434733       1.629246   \n",
       "min         2.000000       1.000000          1.000000       2.000000   \n",
       "25%        18.000000    3258.500000        725.000000       4.000000   \n",
       "50%        29.000000    6457.000000      19380.000000       5.000000   \n",
       "75%        45.000000    9779.000000      78207.000000       7.000000   \n",
       "max        76.000000   20757.000000      99205.000000      12.000000   \n",
       "\n",
       "            Latitude  ...  Order Item Product Price  Order Item Profit Ratio  \\\n",
       "count  180519.000000  ...             180519.000000            180519.000000   \n",
       "mean       29.719955  ...                141.232550                 0.120647   \n",
       "std         9.813646  ...                139.732492                 0.466796   \n",
       "min       -33.937553  ...                  9.990000                -2.750000   \n",
       "25%        18.265432  ...                 50.000000                 0.080000   \n",
       "50%        33.144863  ...                 59.990002                 0.270000   \n",
       "75%        39.279617  ...                199.990005                 0.360000   \n",
       "max        48.781933  ...               1999.989990                 0.500000   \n",
       "\n",
       "       Order Item Quantity          Sales  Order Item Total  \\\n",
       "count        180519.000000  180519.000000     180519.000000   \n",
       "mean              2.127638     203.772096        183.107609   \n",
       "std               1.453451     132.273077        120.043670   \n",
       "min               1.000000       9.990000          7.490000   \n",
       "25%               1.000000     119.980003        104.379997   \n",
       "50%               1.000000     199.919998        163.990005   \n",
       "75%               3.000000     299.950012        247.399994   \n",
       "max               5.000000    1999.989990       1939.989990   \n",
       "\n",
       "       Order Profit Per Order  Product Card Id  Product Category Id  \\\n",
       "count           180519.000000    180519.000000        180519.000000   \n",
       "mean                21.974989       692.509764            31.851451   \n",
       "std                104.433526       336.446807            15.640064   \n",
       "min              -4274.979980        19.000000             2.000000   \n",
       "25%                  7.000000       403.000000            18.000000   \n",
       "50%                 31.520000       627.000000            29.000000   \n",
       "75%                 64.800003      1004.000000            45.000000   \n",
       "max                911.799988      1363.000000            76.000000   \n",
       "\n",
       "       Product Price  Product Status  \n",
       "count  180519.000000        180519.0  \n",
       "mean      141.232550             0.0  \n",
       "std       139.732492             0.0  \n",
       "min         9.990000             0.0  \n",
       "25%        50.000000             0.0  \n",
       "50%        59.990002             0.0  \n",
       "75%       199.990005             0.0  \n",
       "max      1999.989990             0.0  \n",
       "\n",
       "[8 rows x 27 columns]"
      ]
     },
     "execution_count": 16,
     "metadata": {},
     "output_type": "execute_result"
    }
   ],
   "source": [
    "dataset.describe()"
   ]
  },
  {
   "cell_type": "code",
   "execution_count": 17,
   "metadata": {},
   "outputs": [
    {
     "data": {
      "text/plain": [
       "Days for shipping (real)             1.623722\n",
       "Days for shipment (scheduled)        1.374449\n",
       "Benefit per order                  104.433526\n",
       "Sales per customer                 120.043670\n",
       "Late_delivery_risk                   0.497664\n",
       "Category Id                         15.640064\n",
       "Customer Id                       4162.918106\n",
       "Customer Zipcode                 37542.434733\n",
       "Department Id                        1.629246\n",
       "Latitude                             9.813646\n",
       "Longitude                           21.433241\n",
       "Order Customer Id                 4162.918106\n",
       "Order Id                         21045.379569\n",
       "Order Item Cardprod Id             336.446807\n",
       "Order Item Discount                 21.800901\n",
       "Order Item Discount Rate             0.070415\n",
       "Order Item Id                    52111.490959\n",
       "Order Item Product Price           139.732492\n",
       "Order Item Profit Ratio              0.466796\n",
       "Order Item Quantity                  1.453451\n",
       "Sales                              132.273077\n",
       "Order Item Total                   120.043670\n",
       "Order Profit Per Order             104.433526\n",
       "Product Card Id                    336.446807\n",
       "Product Category Id                 15.640064\n",
       "Product Price                      139.732492\n",
       "Product Status                       0.000000\n",
       "Name: std, dtype: float64"
      ]
     },
     "execution_count": 17,
     "metadata": {},
     "output_type": "execute_result"
    }
   ],
   "source": [
    "dataset.describe().loc['std']"
   ]
  },
  {
   "cell_type": "code",
   "execution_count": 18,
   "metadata": {},
   "outputs": [
    {
     "data": {
      "text/plain": [
       "0    180519\n",
       "Name: Product Status, dtype: int64"
      ]
     },
     "execution_count": 18,
     "metadata": {},
     "output_type": "execute_result"
    }
   ],
   "source": [
    "# 发现Product Status全为零\n",
    "dataset['Product Status'].value_counts()"
   ]
  },
  {
   "cell_type": "code",
   "execution_count": 19,
   "metadata": {},
   "outputs": [],
   "source": [
    "dataset.drop(columns=['Product Status'], inplace=True)"
   ]
  },
  {
   "cell_type": "code",
   "execution_count": 20,
   "metadata": {},
   "outputs": [],
   "source": [
    "# 查看 object 类型特征\n",
    "cat_cols = list(dataset.select_dtypes('object').columns)\n",
    "num_cols = [i  for i in dataset.columns if i not in cat_cols]"
   ]
  },
  {
   "cell_type": "code",
   "execution_count": 21,
   "metadata": {},
   "outputs": [],
   "source": [
    "# 数值特征热力图呈现\n",
    "# cor = dataset[num_cols].corr()\n",
    "# plt.figure(figsize=(20,20))\n",
    "# sns.heatmap(cor, annot=True)"
   ]
  },
  {
   "cell_type": "code",
   "execution_count": 22,
   "metadata": {},
   "outputs": [
    {
     "name": "stdout",
     "output_type": "stream",
     "text": [
      "DEBIT       69295\n",
      "TRANSFER    49883\n",
      "PAYMENT     41725\n",
      "CASH        19616\n",
      "Name: Type, dtype: int64\n",
      "\n",
      "\n",
      "Late delivery        98977\n",
      "Advance shipping     41592\n",
      "Shipping on time     32196\n",
      "Shipping canceled     7754\n",
      "Name: Delivery Status, dtype: int64\n",
      "\n",
      "\n",
      "Cleats                  24551\n",
      "Men's Footwear          22246\n",
      "Women's Apparel         21035\n",
      "Indoor/Outdoor Games    19298\n",
      "Fishing                 17325\n",
      "Water Sports            15540\n",
      "Camping & Hiking        13729\n",
      "Cardio Equipment        12487\n",
      "Shop By Sport           10984\n",
      "Electronics              3156\n",
      "Accessories              1780\n",
      "Golf Balls               1475\n",
      "Girls' Apparel           1201\n",
      "Golf Gloves              1070\n",
      "Trade-In                  974\n",
      "Video Games               838\n",
      "Children's Clothing       652\n",
      "Women's Clothing          650\n",
      "Baseball & Softball       632\n",
      "Hockey                    614\n",
      "Cameras                   592\n",
      "Toys                      529\n",
      "Golf Shoes                524\n",
      "Pet Supplies              492\n",
      "Crafts                    484\n",
      "Garden                    484\n",
      "DVDs                      483\n",
      "Computers                 442\n",
      "Golf Apparel              441\n",
      "Hunting & Shooting        440\n",
      "Music                     434\n",
      "Consumer Electronics      431\n",
      "Boxing & MMA              423\n",
      "Books                     405\n",
      "Kids' Golf Clubs          384\n",
      "Health and Beauty         362\n",
      "Sporting Goods            357\n",
      "Lacrosse                  343\n",
      "Tennis & Racquet          328\n",
      "Fitness Accessories       309\n",
      "Men's Golf Clubs          283\n",
      "CDs                       271\n",
      "Men's Clothing            208\n",
      "Baby                      207\n",
      "Women's Golf Clubs        181\n",
      "Soccer                    138\n",
      "Strength Training         111\n",
      "As Seen on  TV!            68\n",
      "Basketball                 67\n",
      "Golf Bags & Carts          61\n",
      "Name: Category Name, dtype: int64\n",
      "\n",
      "\n",
      "Caguas         66770\n",
      "Chicago         3885\n",
      "Los Angeles     3417\n",
      "Brooklyn        3412\n",
      "New York        1816\n",
      "               ...  \n",
      "Bartlett          25\n",
      "Ponce             22\n",
      "Malden            22\n",
      "Freehold          13\n",
      "CA                 3\n",
      "Name: Customer City, Length: 563, dtype: int64\n",
      "\n",
      "\n",
      "EE. UU.        111146\n",
      "Puerto Rico     69373\n",
      "Name: Customer Country, dtype: int64\n",
      "\n",
      "\n",
      "XXXXXXXXX    180519\n",
      "Name: Customer Email, dtype: int64\n",
      "\n",
      "\n",
      "Mary         65150\n",
      "James         1835\n",
      "Robert        1759\n",
      "Michael       1680\n",
      "David         1625\n",
      "             ...  \n",
      "Deysi            1\n",
      "Brie             1\n",
      "Ray              1\n",
      "BlueOneal        1\n",
      "Larisa           1\n",
      "Name: Customer Fname, Length: 782, dtype: int64\n",
      "\n",
      "\n",
      "Smith        64104\n",
      "Johnson        989\n",
      "Brown          909\n",
      "Williams       869\n",
      "Jones          859\n",
      "             ...  \n",
      "Guevara          1\n",
      "Cash             1\n",
      "Mclaughli        1\n",
      "Holden           1\n",
      "Dill             1\n",
      "Name: Customer Lname, Length: 1110, dtype: int64\n",
      "\n",
      "\n",
      "XXXXXXXXX    180519\n",
      "Name: Customer Password, dtype: int64\n",
      "\n",
      "\n",
      "Consumer       93504\n",
      "Corporate      54789\n",
      "Home Office    32226\n",
      "Name: Customer Segment, dtype: int64\n",
      "\n",
      "\n",
      "PR       69373\n",
      "CA       29223\n",
      "NY       11327\n",
      "TX        9103\n",
      "IL        7631\n",
      "FL        5456\n",
      "OH        4095\n",
      "PA        3824\n",
      "MI        3804\n",
      "NJ        3191\n",
      "AZ        3026\n",
      "GA        2503\n",
      "MD        2415\n",
      "NC        1992\n",
      "CO        1914\n",
      "VA        1849\n",
      "OR        1668\n",
      "MA        1607\n",
      "TN        1582\n",
      "NV        1440\n",
      "MO        1354\n",
      "HI        1248\n",
      "CT        1094\n",
      "UT         968\n",
      "NM         949\n",
      "LA         948\n",
      "WA         920\n",
      "WI         850\n",
      "MN         672\n",
      "SC         665\n",
      "IN         581\n",
      "DC         579\n",
      "KY         487\n",
      "KS         458\n",
      "DE         269\n",
      "RI         243\n",
      "WV         241\n",
      "OK         232\n",
      "ND         215\n",
      "ID         167\n",
      "AR         164\n",
      "MT          87\n",
      "IA          67\n",
      "AL          35\n",
      "95758        2\n",
      "91732        1\n",
      "Name: Customer State, dtype: int64\n",
      "\n",
      "\n",
      "9126 Wishing Expressway     122\n",
      "4388 Burning Goose Ridge    117\n",
      "4720 Noble Hills Wynd       116\n",
      "2878 Hazy Wagon  Thicket    113\n",
      "398 Emerald Grove           109\n",
      "                           ... \n",
      "4788 Gentle Wynd              1\n",
      "690 Cozy Meadow               1\n",
      "5477 Thunder Campus           1\n",
      "9518 Old Corner               1\n",
      "5763 Crystal Alley            1\n",
      "Name: Customer Street, Length: 7458, dtype: int64\n",
      "\n",
      "\n",
      "Fan Shop              66861\n",
      "Apparel               48998\n",
      "Golf                  33220\n",
      "Footwear              14525\n",
      "Outdoors               9686\n",
      "Fitness                2479\n",
      "Discs Shop             2026\n",
      "Technology             1465\n",
      "Pet Shop                492\n",
      "Book Shop               405\n",
      "Health and Beauty       362\n",
      "Name: Department Name, dtype: int64\n",
      "\n",
      "\n",
      "LATAM           51594\n",
      "Europe          50252\n",
      "Pacific Asia    41260\n",
      "USCA            25799\n",
      "Africa          11614\n",
      "Name: Market, dtype: int64\n",
      "\n",
      "\n",
      "Santo Domingo     2211\n",
      "New York City     2202\n",
      "Los Angeles       1845\n",
      "Tegucigalpa       1783\n",
      "Managua           1682\n",
      "                  ... \n",
      "Siping               1\n",
      "Ashqelon             1\n",
      "Missoula             1\n",
      "Samalut              1\n",
      "Upplands Väsby       1\n",
      "Name: Order City, Length: 3597, dtype: int64\n",
      "\n",
      "\n",
      "Estados Unidos       24840\n",
      "Francia              13222\n",
      "México               13172\n",
      "Alemania              9564\n",
      "Australia             8497\n",
      "                     ...  \n",
      "Kuwait                   2\n",
      "Guinea Ecuatorial        2\n",
      "Sáhara Occidental        2\n",
      "Serbia                   1\n",
      "Burundi                  1\n",
      "Name: Order Country, Length: 164, dtype: int64\n",
      "\n",
      "\n",
      "8/16/2016 9:51     5\n",
      "9/29/2016 19:15    5\n",
      "9/14/2015 17:51    5\n",
      "8/7/2015 17:12     5\n",
      "10/1/2017 2:26     5\n",
      "                  ..\n",
      "3/8/2016 21:28     1\n",
      "6/21/2015 19:33    1\n",
      "11/13/2015 0:36    1\n",
      "7/19/2015 12:51    1\n",
      "9/22/2017 6:50     1\n",
      "Name: order date (DateOrders), Length: 65752, dtype: int64\n",
      "\n",
      "\n",
      "Central America    28341\n",
      "Western Europe     27109\n",
      "South America      14935\n",
      "Oceania            10148\n",
      "Northern Europe     9792\n",
      "Southeast Asia      9539\n",
      "Southern Europe     9431\n",
      "Caribbean           8318\n",
      "West of USA         7993\n",
      "South Asia          7731\n",
      "Eastern Asia        7280\n",
      "East of USA         6915\n",
      "West Asia           6009\n",
      "US Center           5887\n",
      "South of  USA       4045\n",
      "Eastern Europe      3920\n",
      "West Africa         3696\n",
      "North Africa        3232\n",
      "East Africa         1852\n",
      "Central Africa      1677\n",
      "Southern Africa     1157\n",
      "Canada               959\n",
      "Central Asia         553\n",
      "Name: Order Region, dtype: int64\n",
      "\n",
      "\n",
      "Inglaterra                     6722\n",
      "California                     4966\n",
      "Isla de Francia                4580\n",
      "Renania del Norte-Westfalia    3303\n",
      "San Salvador                   3055\n",
      "                               ... \n",
      "Iringa                            1\n",
      "Buyumbura Mairie                  1\n",
      "Serbia Central                    1\n",
      "Savanes                           1\n",
      "Mashonalandia Occidental          1\n",
      "Name: Order State, Length: 1089, dtype: int64\n",
      "\n",
      "\n",
      "COMPLETE           59491\n",
      "PENDING_PAYMENT    39832\n",
      "PROCESSING         21902\n",
      "PENDING            20227\n",
      "CLOSED             19616\n",
      "ON_HOLD             9804\n",
      "SUSPECTED_FRAUD     4062\n",
      "CANCELED            3692\n",
      "PAYMENT_REVIEW      1893\n",
      "Name: Order Status, dtype: int64\n",
      "\n",
      "\n",
      "http://images.acmesports.sports/Perfect+Fitness+Perfect+Rip+Deck                                 24515\n",
      "http://images.acmesports.sports/Nike+Men%27s+CJ+Elite+2+TD+Football+Cleat                        22246\n",
      "http://images.acmesports.sports/Nike+Men%27s+Dri-FIT+Victory+Golf+Polo                           21035\n",
      "http://images.acmesports.sports/O%27Brien+Men%27s+Neoprene+Life+Vest                             19298\n",
      "http://images.acmesports.sports/Field+%26+Stream+Sportsman+16+Gun+Fire+Safe                      17325\n",
      "                                                                                                 ...  \n",
      "http://images.acmesports.sports/Stiga+Master+Series+ST3100+Competition+Indoor+Table+Tennis...       27\n",
      "http://images.acmesports.sports/SOLE+E35+Elliptical                                                 15\n",
      "http://images.acmesports.sports/Bushnell+Pro+X7+Jolt+Slope+Rangefinder                              11\n",
      "http://images.acmesports.sports/Bowflex+SelectTech+1090+Dumbbells                                   10\n",
      "http://images.acmesports.sports/SOLE+E25+Elliptical                                                 10\n",
      "Name: Product Image, Length: 118, dtype: int64\n",
      "\n",
      "\n",
      "Perfect Fitness Perfect Rip Deck                 24515\n",
      "Nike Men's CJ Elite 2 TD Football Cleat          22246\n",
      "Nike Men's Dri-FIT Victory Golf Polo             21035\n",
      "O'Brien Men's Neoprene Life Vest                 19298\n",
      "Field & Stream Sportsman 16 Gun Fire Safe        17325\n",
      "                                                 ...  \n",
      "Stiga Master Series ST3100 Competition Indoor       27\n",
      "SOLE E35 Elliptical                                 15\n",
      "Bushnell Pro X7 Jolt Slope Rangefinder              11\n",
      "SOLE E25 Elliptical                                 10\n",
      "Bowflex SelectTech 1090 Dumbbells                   10\n",
      "Name: Product Name, Length: 118, dtype: int64\n",
      "\n",
      "\n",
      "4/17/2015 22:16     10\n",
      "11/15/2016 13:45    10\n",
      "6/5/2017 12:25      10\n",
      "4/14/2017 4:26      10\n",
      "9/27/2015 20:28     10\n",
      "                    ..\n",
      "2/19/2015 17:06      1\n",
      "12/17/2015 10:33     1\n",
      "4/12/2017 9:00       1\n",
      "10/18/2017 1:33      1\n",
      "1/18/2018 16:18      1\n",
      "Name: shipping date (DateOrders), Length: 63701, dtype: int64\n",
      "\n",
      "\n",
      "Standard Class    107752\n",
      "Second Class       35216\n",
      "First Class        27814\n",
      "Same Day            9737\n",
      "Name: Shipping Mode, dtype: int64\n",
      "\n",
      "\n",
      "MarySmith           23884\n",
      "RobertSmith           744\n",
      "JamesSmith            726\n",
      "DavidSmith            723\n",
      "JohnSmith             645\n",
      "                    ...  \n",
      "MaxineFranklin          1\n",
      "DeannaLawson            1\n",
      "NoraDowns               1\n",
      "KiayadaWiggins          1\n",
      "CharissaWhitaker        1\n",
      "Name: Customer FullName, Length: 14033, dtype: int64\n",
      "\n",
      "\n"
     ]
    }
   ],
   "source": [
    "for i in cat_cols:\n",
    "    print(dataset[i].value_counts())\n",
    "    print('\\n')"
   ]
  },
  {
   "cell_type": "code",
   "execution_count": 23,
   "metadata": {},
   "outputs": [],
   "source": [
    "# 邮件和密码已隐去\n",
    "dataset.drop(columns=['Customer Email', 'Customer Password'],inplace=True)"
   ]
  },
  {
   "cell_type": "code",
   "execution_count": 24,
   "metadata": {},
   "outputs": [],
   "source": [
    "# 商品照片也没啥用\n",
    "dataset.drop(columns=['Product Image'], inplace=True)"
   ]
  },
  {
   "cell_type": "markdown",
   "metadata": {},
   "source": [
    "#### 时间特征"
   ]
  },
  {
   "cell_type": "code",
   "execution_count": 25,
   "metadata": {},
   "outputs": [
    {
     "data": {
      "text/plain": [
       "0        2018-01-31 22:56:00\n",
       "1        2018-01-13 12:27:00\n",
       "2        2018-01-13 12:06:00\n",
       "3        2018-01-13 11:45:00\n",
       "4        2018-01-13 11:24:00\n",
       "                 ...        \n",
       "180514   2016-01-16 03:40:00\n",
       "180515   2016-01-16 01:34:00\n",
       "180516   2016-01-15 21:00:00\n",
       "180517   2016-01-15 20:18:00\n",
       "180518   2016-01-15 18:54:00\n",
       "Name: order date (DateOrders), Length: 180519, dtype: datetime64[ns]"
      ]
     },
     "execution_count": 25,
     "metadata": {},
     "output_type": "execute_result"
    }
   ],
   "source": [
    "# 发现了一个时间特征 'order date (DateOrders)'订单下单日期 和 shipping date (DateOrders) 发货日期\n",
    "dataset['order date (DateOrders)'] = pd.to_datetime(dataset['order date (DateOrders)'], format='%m/%d/%Y %H:%M')\n",
    "dataset['order date (DateOrders)']"
   ]
  },
  {
   "cell_type": "code",
   "execution_count": 26,
   "metadata": {},
   "outputs": [
    {
     "data": {
      "text/plain": [
       "0        2018-02-03 22:56:00\n",
       "1        2018-01-18 12:27:00\n",
       "2        2018-01-17 12:06:00\n",
       "3        2018-01-16 11:45:00\n",
       "4        2018-01-15 11:24:00\n",
       "                 ...        \n",
       "180514   2016-01-20 03:40:00\n",
       "180515   2016-01-19 01:34:00\n",
       "180516   2016-01-20 21:00:00\n",
       "180517   2016-01-18 20:18:00\n",
       "180518   2016-01-19 18:54:00\n",
       "Name: shipping date (DateOrders), Length: 180519, dtype: datetime64[ns]"
      ]
     },
     "execution_count": 26,
     "metadata": {},
     "output_type": "execute_result"
    }
   ],
   "source": [
    "dataset['shipping date (DateOrders)'] = pd.to_datetime(dataset['shipping date (DateOrders)'], format='%m/%d/%Y %H:%M')\n",
    "dataset['shipping date (DateOrders)']"
   ]
  },
  {
   "cell_type": "code",
   "execution_count": 27,
   "metadata": {},
   "outputs": [],
   "source": [
    "# 有了'order date (DateOrders)'订单下单日期 和 shipping date (DateOrders) 发货日期\n",
    "# 还有 Days for shipping (real) 实际发货天数，Days for shipment (scheduled) 预计发货天数"
   ]
  },
  {
   "cell_type": "code",
   "execution_count": 28,
   "metadata": {},
   "outputs": [
    {
     "data": {
      "text/html": [
       "<div>\n",
       "<style scoped>\n",
       "    .dataframe tbody tr th:only-of-type {\n",
       "        vertical-align: middle;\n",
       "    }\n",
       "\n",
       "    .dataframe tbody tr th {\n",
       "        vertical-align: top;\n",
       "    }\n",
       "\n",
       "    .dataframe thead th {\n",
       "        text-align: right;\n",
       "    }\n",
       "</style>\n",
       "<table border=\"1\" class=\"dataframe\">\n",
       "  <thead>\n",
       "    <tr style=\"text-align: right;\">\n",
       "      <th></th>\n",
       "      <th>Days for shipping (real)</th>\n",
       "      <th>Days for shipment (scheduled)</th>\n",
       "    </tr>\n",
       "  </thead>\n",
       "  <tbody>\n",
       "    <tr>\n",
       "      <th>0</th>\n",
       "      <td>3</td>\n",
       "      <td>4</td>\n",
       "    </tr>\n",
       "    <tr>\n",
       "      <th>1</th>\n",
       "      <td>5</td>\n",
       "      <td>4</td>\n",
       "    </tr>\n",
       "    <tr>\n",
       "      <th>2</th>\n",
       "      <td>4</td>\n",
       "      <td>4</td>\n",
       "    </tr>\n",
       "    <tr>\n",
       "      <th>3</th>\n",
       "      <td>3</td>\n",
       "      <td>4</td>\n",
       "    </tr>\n",
       "    <tr>\n",
       "      <th>4</th>\n",
       "      <td>2</td>\n",
       "      <td>4</td>\n",
       "    </tr>\n",
       "    <tr>\n",
       "      <th>...</th>\n",
       "      <td>...</td>\n",
       "      <td>...</td>\n",
       "    </tr>\n",
       "    <tr>\n",
       "      <th>180514</th>\n",
       "      <td>4</td>\n",
       "      <td>4</td>\n",
       "    </tr>\n",
       "    <tr>\n",
       "      <th>180515</th>\n",
       "      <td>3</td>\n",
       "      <td>2</td>\n",
       "    </tr>\n",
       "    <tr>\n",
       "      <th>180516</th>\n",
       "      <td>5</td>\n",
       "      <td>4</td>\n",
       "    </tr>\n",
       "    <tr>\n",
       "      <th>180517</th>\n",
       "      <td>3</td>\n",
       "      <td>4</td>\n",
       "    </tr>\n",
       "    <tr>\n",
       "      <th>180518</th>\n",
       "      <td>4</td>\n",
       "      <td>4</td>\n",
       "    </tr>\n",
       "  </tbody>\n",
       "</table>\n",
       "<p>180519 rows × 2 columns</p>\n",
       "</div>"
      ],
      "text/plain": [
       "        Days for shipping (real)  Days for shipment (scheduled)\n",
       "0                              3                              4\n",
       "1                              5                              4\n",
       "2                              4                              4\n",
       "3                              3                              4\n",
       "4                              2                              4\n",
       "...                          ...                            ...\n",
       "180514                         4                              4\n",
       "180515                         3                              2\n",
       "180516                         5                              4\n",
       "180517                         3                              4\n",
       "180518                         4                              4\n",
       "\n",
       "[180519 rows x 2 columns]"
      ]
     },
     "execution_count": 28,
     "metadata": {},
     "output_type": "execute_result"
    }
   ],
   "source": [
    "# 订单下单日期\n",
    "dataset[['Days for shipping (real)', 'Days for shipment (scheduled)', ]]"
   ]
  },
  {
   "cell_type": "code",
   "execution_count": 29,
   "metadata": {},
   "outputs": [
    {
     "data": {
      "text/plain": [
       "0         3\n",
       "1         5\n",
       "2         4\n",
       "3         3\n",
       "4         2\n",
       "         ..\n",
       "180514    4\n",
       "180515    3\n",
       "180516    5\n",
       "180517    3\n",
       "180518    4\n",
       "Length: 180519, dtype: int64"
      ]
     },
     "execution_count": 29,
     "metadata": {},
     "output_type": "execute_result"
    }
   ],
   "source": [
    "(dataset['shipping date (DateOrders)'] - dataset['order date (DateOrders)']).dt.days"
   ]
  },
  {
   "cell_type": "code",
   "execution_count": 30,
   "metadata": {},
   "outputs": [
    {
     "data": {
      "text/plain": [
       "0         True\n",
       "1         True\n",
       "2         True\n",
       "3         True\n",
       "4         True\n",
       "          ... \n",
       "180514    True\n",
       "180515    True\n",
       "180516    True\n",
       "180517    True\n",
       "180518    True\n",
       "Length: 180519, dtype: bool"
      ]
     },
     "execution_count": 30,
     "metadata": {},
     "output_type": "execute_result"
    }
   ],
   "source": [
    "# 那其实发货时间-下单时间，就是真实的的发货天数\n",
    "(dataset['shipping date (DateOrders)'] - dataset['order date (DateOrders)']).dt.days == dataset['Days for shipping (real)']"
   ]
  },
  {
   "cell_type": "code",
   "execution_count": 31,
   "metadata": {},
   "outputs": [
    {
     "data": {
      "text/plain": [
       "4657"
      ]
     },
     "execution_count": 31,
     "metadata": {},
     "output_type": "execute_result"
    }
   ],
   "source": [
    "# 好吧，有4657个异常值，两者不相等。。。\n",
    "((dataset['shipping date (DateOrders)'] - dataset['order date (DateOrders)']).dt.days != dataset['Days for shipping (real)']).sum()"
   ]
  },
  {
   "cell_type": "code",
   "execution_count": 32,
   "metadata": {},
   "outputs": [
    {
     "data": {
      "text/plain": [
       "4423"
      ]
     },
     "execution_count": 32,
     "metadata": {},
     "output_type": "execute_result"
    }
   ],
   "source": [
    "# Late_delivery_risk发货是否延迟 应该等价于 实际发货天数-预计发货天数>0 则为1，否则为0\n",
    "\n",
    "(np.where((dataset['Days for shipping (real)'] - dataset['Days for shipment (scheduled)'])>0, 1, 0) != dataset['Late_delivery_risk']).sum()\n",
    "\n",
    "# 也有异常值"
   ]
  },
  {
   "cell_type": "markdown",
   "metadata": {},
   "source": [
    "#### 记得处理"
   ]
  },
  {
   "cell_type": "markdown",
   "metadata": {},
   "source": [
    "#### 按不同的Market 对 Sales per customer进行探索"
   ]
  },
  {
   "cell_type": "code",
   "execution_count": 33,
   "metadata": {},
   "outputs": [
    {
     "data": {
      "text/plain": [
       "LATAM           51594\n",
       "Europe          50252\n",
       "Pacific Asia    41260\n",
       "USCA            25799\n",
       "Africa          11614\n",
       "Name: Market, dtype: int64"
      ]
     },
     "execution_count": 33,
     "metadata": {},
     "output_type": "execute_result"
    }
   ],
   "source": [
    "dataset.Market.value_counts()"
   ]
  },
  {
   "cell_type": "code",
   "execution_count": 34,
   "metadata": {},
   "outputs": [
    {
     "data": {
      "text/plain": [
       "<AxesSubplot:title={'center':'Sales in different markets'}, xlabel='Market'>"
      ]
     },
     "execution_count": 34,
     "metadata": {},
     "output_type": "execute_result"
    },
    {
     "data": {
      "image/png": "[encoded data removed]",
      "text/plain": [
       "<Figure size 864x432 with 1 Axes>"
      ]
     },
     "metadata": {
      "needs_background": "light"
     },
     "output_type": "display_data"
    }
   ],
   "source": [
    "market = dataset.groupby('Market')\n",
    "market['Sales per customer'].sum().sort_values(ascending=False).plot.bar(figsize=(12,6), title='Sales in different markets')"
   ]
  },
  {
   "cell_type": "code",
   "execution_count": 35,
   "metadata": {},
   "outputs": [
    {
     "data": {
      "text/plain": [
       "<AxesSubplot:title={'center':'Sales in different order region'}, xlabel='Order Region'>"
      ]
     },
     "execution_count": 35,
     "metadata": {},
     "output_type": "execute_result"
    },
    {
     "data": {
      "image/png": "[encoded data removed]",
      "text/plain": [
       "<Figure size 864x432 with 1 Axes>"
      ]
     },
     "metadata": {
      "needs_background": "light"
     },
     "output_type": "display_data"
    }
   ],
   "source": [
    "# 基于Order Region\n",
    "order_region = dataset.groupby('Order Region')\n",
    "order_region['Sales per customer'].sum().sort_values(ascending=False).plot(kind='bar', figsize=(12,6), title='Sales in different order region')"
   ]
  },
  {
   "cell_type": "code",
   "execution_count": 36,
   "metadata": {},
   "outputs": [
    {
     "data": {
      "text/plain": [
       "<AxesSubplot:title={'center':'Sales in different category name'}, xlabel='Category Name'>"
      ]
     },
     "execution_count": 36,
     "metadata": {},
     "output_type": "execute_result"
    },
    {
     "data": {
      "image/png": "[encoded data removed]",
      "text/plain": [
       "<Figure size 1296x432 with 1 Axes>"
      ]
     },
     "metadata": {
      "needs_background": "light"
     },
     "output_type": "display_data"
    }
   ],
   "source": [
    "# 基于Category Name\n",
    "cat_name = dataset.groupby('Category Name')\n",
    "cat_name['Sales per customer'].sum().sort_values(ascending=False).plot.bar(figsize=(18,6), title='Sales in different category name')"
   ]
  },
  {
   "cell_type": "markdown",
   "metadata": {},
   "source": [
    "### 除了sum观察总的销售额以外，还可以用mean观察平均销售额"
   ]
  },
  {
   "cell_type": "code",
   "execution_count": 37,
   "metadata": {},
   "outputs": [],
   "source": [
    "# 按照不同的时间维度(年，月，星期，小时)的趋势\n",
    "# 创建时间戳索引"
   ]
  },
  {
   "cell_type": "code",
   "execution_count": 38,
   "metadata": {},
   "outputs": [
    {
     "data": {
      "text/plain": [
       "DatetimeIndex(['2018-01-31 22:56:00', '2018-01-13 12:27:00',\n",
       "               '2018-01-13 12:06:00', '2018-01-13 11:45:00',\n",
       "               '2018-01-13 11:24:00', '2018-01-13 11:03:00',\n",
       "               '2018-01-13 10:42:00', '2018-01-13 10:21:00',\n",
       "               '2018-01-13 10:00:00', '2018-01-13 09:39:00',\n",
       "               ...\n",
       "               '2016-01-16 06:49:00', '2016-01-16 06:49:00',\n",
       "               '2016-01-16 06:28:00', '2016-01-16 06:07:00',\n",
       "               '2016-01-16 05:04:00', '2016-01-16 03:40:00',\n",
       "               '2016-01-16 01:34:00', '2016-01-15 21:00:00',\n",
       "               '2016-01-15 20:18:00', '2016-01-15 18:54:00'],\n",
       "              dtype='datetime64[ns]', name='order date (DateOrders)', length=180519, freq=None)"
      ]
     },
     "execution_count": 38,
     "metadata": {},
     "output_type": "execute_result"
    }
   ],
   "source": [
    "temp = pd.DatetimeIndex(dataset['order date (DateOrders)'])\n",
    "temp"
   ]
  },
  {
   "cell_type": "markdown",
   "metadata": {},
   "source": [
    "#### 笔记：DatetimeIndex.to_period(freq),将DatetimeIndex转换乘PeriodIndex\n",
    "#### freq --> 'Y'年、 'M'月、 'D'日、 'H'时、 'T'分、 'S'秒 不区分大小写"
   ]
  },
  {
   "cell_type": "code",
   "execution_count": 39,
   "metadata": {},
   "outputs": [],
   "source": [
    "# temp.to_period('y')\n",
    "# temp.to_period('m')\n",
    "# temp.to_period('d')\n",
    "# temp.to_period('h')\n",
    "# temp.to_period('t')\n",
    "# temp.to_period('s')"
   ]
  },
  {
   "cell_type": "code",
   "execution_count": 40,
   "metadata": {},
   "outputs": [],
   "source": [
    "# 将年月日切分\n",
    "dataset['order_year'] = temp.year\n",
    "dataset['order_month'] = temp.month\n",
    "dataset['order_week_day'] = temp.weekday\n",
    "dataset['order_hour'] = temp.hour\n",
    "dataset['order_month_year'] = temp.to_period('m')"
   ]
  },
  {
   "cell_type": "code",
   "execution_count": 41,
   "metadata": {},
   "outputs": [
    {
     "data": {
      "text/html": [
       "<div>\n",
       "<style scoped>\n",
       "    .dataframe tbody tr th:only-of-type {\n",
       "        vertical-align: middle;\n",
       "    }\n",
       "\n",
       "    .dataframe tbody tr th {\n",
       "        vertical-align: top;\n",
       "    }\n",
       "\n",
       "    .dataframe thead th {\n",
       "        text-align: right;\n",
       "    }\n",
       "</style>\n",
       "<table border=\"1\" class=\"dataframe\">\n",
       "  <thead>\n",
       "    <tr style=\"text-align: right;\">\n",
       "      <th></th>\n",
       "      <th>order_year</th>\n",
       "      <th>order_month</th>\n",
       "      <th>order_week_day</th>\n",
       "      <th>order_hour</th>\n",
       "      <th>order_month_year</th>\n",
       "    </tr>\n",
       "  </thead>\n",
       "  <tbody>\n",
       "    <tr>\n",
       "      <th>0</th>\n",
       "      <td>2018</td>\n",
       "      <td>1</td>\n",
       "      <td>2</td>\n",
       "      <td>22</td>\n",
       "      <td>2018-01</td>\n",
       "    </tr>\n",
       "    <tr>\n",
       "      <th>1</th>\n",
       "      <td>2018</td>\n",
       "      <td>1</td>\n",
       "      <td>5</td>\n",
       "      <td>12</td>\n",
       "      <td>2018-01</td>\n",
       "    </tr>\n",
       "    <tr>\n",
       "      <th>2</th>\n",
       "      <td>2018</td>\n",
       "      <td>1</td>\n",
       "      <td>5</td>\n",
       "      <td>12</td>\n",
       "      <td>2018-01</td>\n",
       "    </tr>\n",
       "    <tr>\n",
       "      <th>3</th>\n",
       "      <td>2018</td>\n",
       "      <td>1</td>\n",
       "      <td>5</td>\n",
       "      <td>11</td>\n",
       "      <td>2018-01</td>\n",
       "    </tr>\n",
       "    <tr>\n",
       "      <th>4</th>\n",
       "      <td>2018</td>\n",
       "      <td>1</td>\n",
       "      <td>5</td>\n",
       "      <td>11</td>\n",
       "      <td>2018-01</td>\n",
       "    </tr>\n",
       "    <tr>\n",
       "      <th>...</th>\n",
       "      <td>...</td>\n",
       "      <td>...</td>\n",
       "      <td>...</td>\n",
       "      <td>...</td>\n",
       "      <td>...</td>\n",
       "    </tr>\n",
       "    <tr>\n",
       "      <th>180514</th>\n",
       "      <td>2016</td>\n",
       "      <td>1</td>\n",
       "      <td>5</td>\n",
       "      <td>3</td>\n",
       "      <td>2016-01</td>\n",
       "    </tr>\n",
       "    <tr>\n",
       "      <th>180515</th>\n",
       "      <td>2016</td>\n",
       "      <td>1</td>\n",
       "      <td>5</td>\n",
       "      <td>1</td>\n",
       "      <td>2016-01</td>\n",
       "    </tr>\n",
       "    <tr>\n",
       "      <th>180516</th>\n",
       "      <td>2016</td>\n",
       "      <td>1</td>\n",
       "      <td>4</td>\n",
       "      <td>21</td>\n",
       "      <td>2016-01</td>\n",
       "    </tr>\n",
       "    <tr>\n",
       "      <th>180517</th>\n",
       "      <td>2016</td>\n",
       "      <td>1</td>\n",
       "      <td>4</td>\n",
       "      <td>20</td>\n",
       "      <td>2016-01</td>\n",
       "    </tr>\n",
       "    <tr>\n",
       "      <th>180518</th>\n",
       "      <td>2016</td>\n",
       "      <td>1</td>\n",
       "      <td>4</td>\n",
       "      <td>18</td>\n",
       "      <td>2016-01</td>\n",
       "    </tr>\n",
       "  </tbody>\n",
       "</table>\n",
       "<p>180519 rows × 5 columns</p>\n",
       "</div>"
      ],
      "text/plain": [
       "        order_year  order_month  order_week_day  order_hour order_month_year\n",
       "0             2018            1               2          22          2018-01\n",
       "1             2018            1               5          12          2018-01\n",
       "2             2018            1               5          12          2018-01\n",
       "3             2018            1               5          11          2018-01\n",
       "4             2018            1               5          11          2018-01\n",
       "...            ...          ...             ...         ...              ...\n",
       "180514        2016            1               5           3          2016-01\n",
       "180515        2016            1               5           1          2016-01\n",
       "180516        2016            1               4          21          2016-01\n",
       "180517        2016            1               4          20          2016-01\n",
       "180518        2016            1               4          18          2016-01\n",
       "\n",
       "[180519 rows x 5 columns]"
      ]
     },
     "execution_count": 41,
     "metadata": {},
     "output_type": "execute_result"
    }
   ],
   "source": [
    "dataset[['order_year', 'order_month', 'order_week_day','order_hour','order_month_year']]"
   ]
  },
  {
   "cell_type": "code",
   "execution_count": 42,
   "metadata": {},
   "outputs": [
    {
     "data": {
      "text/plain": [
       "<AxesSubplot:title={'center':'Mean Sales in hour'}, xlabel='order_hour'>"
      ]
     },
     "execution_count": 42,
     "metadata": {},
     "output_type": "execute_result"
    },
    {
     "data": {
      "image/png": "[encoded data removed]",
      "text/plain": [
       "<Figure size 720x720 with 4 Axes>"
      ]
     },
     "metadata": {
      "needs_background": "light"
     },
     "output_type": "display_data"
    }
   ],
   "source": [
    "# 按不同时间维度对销售额进行探索\n",
    "plt.figure(figsize=(10,10))\n",
    "ax1 = plt.subplot(2,2,1)\n",
    "df_year = dataset.groupby('order_year')\n",
    "df_year['Sales'].mean().plot(kind='line', title='Mean Sales in years', ax=ax1)\n",
    "\n",
    "ax2 = plt.subplot(2,2,2)\n",
    "df_month = dataset.groupby('order_month')\n",
    "df_month['Sales'].mean().plot(kind='line', title='Mean Sales in month', ax=ax2)\n",
    "\n",
    "ax3 = plt.subplot(2,2,3)\n",
    "df_week_day = dataset.groupby('order_week_day')\n",
    "df_week_day['Sales'].mean().plot(kind='line', title='Mean Sales in week_day', ax=ax3)\n",
    "\n",
    "ax4 = plt.subplot(2,2,4)\n",
    "df_hour = dataset.groupby('order_hour')\n",
    "df_hour['Sales'].mean().plot(kind='line', title='Mean Sales in hour', ax=ax4)"
   ]
  },
  {
   "cell_type": "code",
   "execution_count": 43,
   "metadata": {},
   "outputs": [
    {
     "data": {
      "text/plain": [
       "0         327.750000\n",
       "1         327.750000\n",
       "2         327.750000\n",
       "3         327.750000\n",
       "4         327.750000\n",
       "             ...    \n",
       "180514    399.980011\n",
       "180515    399.980011\n",
       "180516    399.980011\n",
       "180517    399.980011\n",
       "180518    399.980011\n",
       "Name: Product Price, Length: 180519, dtype: float64"
      ]
     },
     "execution_count": 43,
     "metadata": {},
     "output_type": "execute_result"
    }
   ],
   "source": [
    "dataset['Product Price']"
   ]
  },
  {
   "cell_type": "code",
   "execution_count": 44,
   "metadata": {},
   "outputs": [
    {
     "data": {
      "text/plain": [
       "<AxesSubplot:xlabel='Product Price', ylabel='Sales per customer'>"
      ]
     },
     "execution_count": 44,
     "metadata": {},
     "output_type": "execute_result"
    },
    {
     "data": {
      "image/png": "[encoded data removed]",
      "text/plain": [
       "<Figure size 432x288 with 1 Axes>"
      ]
     },
     "metadata": {
      "needs_background": "light"
     },
     "output_type": "display_data"
    }
   ],
   "source": [
    "# 探索 Product Price与Sales per customer 相关性\n",
    "# 可以直接用scatter可视化\n",
    "dataset.plot(x='Product Price', y='Sales per customer',kind='scatter')"
   ]
  }
 ],
 "metadata": {
  "kernelspec": {
   "display_name": "Python 3",
   "language": "python",
   "name": "python3"
  },
  "language_info": {
   "codemirror_mode": {
    "name": "ipython",
    "version": 3
   },
   "file_extension": ".py",
   "mimetype": "text/x-python",
   "name": "python",
   "nbconvert_exporter": "python",
   "pygments_lexer": "ipython3",
   "version": "3.6.8rc1"
  }
 },
 "nbformat": 4,
 "nbformat_minor": 4
}
